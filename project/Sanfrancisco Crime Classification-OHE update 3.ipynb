{
 "cells": [
  {
   "cell_type": "code",
   "execution_count": 1,
   "metadata": {},
   "outputs": [],
   "source": [
    "%matplotlib inline\n",
    "\n",
    "import warnings\n",
    "warnings.filterwarnings('ignore')\n",
    "warnings.filterwarnings('ignore', category=DeprecationWarning)\n",
    "\n",
    "import pandas as pd\n",
    "pd.options.display.max_columns = 100\n",
    "\n",
    "from matplotlib import pyplot as plt\n",
    "import numpy as np\n",
    "\n",
    "import seaborn as sns\n",
    "sns.set(rc={'figure.figsize':(12,9)})\n",
    "import pylab as plot\n",
    "from sklearn import preprocessing\n",
    "from sklearn.model_selection import train_test_split\n",
    "from sklearn.metrics import log_loss,accuracy_score\n",
    "from sklearn.ensemble import AdaBoostClassifier\n",
    "from sklearn.ensemble import GradientBoostingClassifier"
   ]
  },
  {
   "cell_type": "code",
   "execution_count": 2,
   "metadata": {},
   "outputs": [],
   "source": [
    "from xgboost import XGBClassifier\n",
    "import xgboost as xgb"
   ]
  },
  {
   "cell_type": "code",
   "execution_count": 3,
   "metadata": {},
   "outputs": [],
   "source": [
    "#for scaling\n",
    "from sklearn.preprocessing import StandardScaler"
   ]
  },
  {
   "cell_type": "markdown",
   "metadata": {},
   "source": [
    "Importing training dataset"
   ]
  },
  {
   "cell_type": "code",
   "execution_count": 4,
   "metadata": {},
   "outputs": [],
   "source": [
    "data = pd.read_csv('./train.csv')"
   ]
  },
  {
   "cell_type": "code",
   "execution_count": 5,
   "metadata": {},
   "outputs": [
    {
     "name": "stdout",
     "output_type": "stream",
     "text": [
      "(867873, 10)\n"
     ]
    }
   ],
   "source": [
    "print(data.shape)"
   ]
  },
  {
   "cell_type": "code",
   "execution_count": 6,
   "metadata": {},
   "outputs": [
    {
     "data": {
      "text/plain": [
       "Index(['Dates', 'Category', 'Descript', 'DayOfWeek', 'PdDistrict',\n",
       "       'Resolution', 'Address', 'X', 'Y', 'Id'],\n",
       "      dtype='object')"
      ]
     },
     "execution_count": 6,
     "metadata": {},
     "output_type": "execute_result"
    }
   ],
   "source": [
    "data.columns"
   ]
  },
  {
   "cell_type": "markdown",
   "metadata": {},
   "source": [
    "Splitting the \"Dates\" into date and time"
   ]
  },
  {
   "cell_type": "code",
   "execution_count": 7,
   "metadata": {},
   "outputs": [],
   "source": [
    "df=data.head(18000)\n",
    "datetime=df.Dates.str.split(pat=\" \",expand=True)\n",
    "datetime.columns=['Date','Time']\n",
    "#datetime"
   ]
  },
  {
   "cell_type": "code",
   "execution_count": 8,
   "metadata": {},
   "outputs": [],
   "source": [
    "Date=datetime.Date.str.split(pat=\"-\",expand=True)\n",
    "Date.columns=['Year','Month','Day']\n",
    "\n",
    "Time=datetime.Time.str.split(pat=\":\",expand=True)\n",
    "Time.columns=['Hour','Minute','Second']"
   ]
  },
  {
   "cell_type": "markdown",
   "metadata": {},
   "source": [
    "Dropping the column of \"Dates\" and appending the dataframe \"datetime\""
   ]
  },
  {
   "cell_type": "code",
   "execution_count": 9,
   "metadata": {},
   "outputs": [],
   "source": [
    "df=pd.concat([df,Date,Time],axis=1)\n",
    "#df"
   ]
  },
  {
   "cell_type": "code",
   "execution_count": 10,
   "metadata": {},
   "outputs": [],
   "source": [
    "df=df.drop(labels=['Dates'],axis=1)"
   ]
  },
  {
   "cell_type": "markdown",
   "metadata": {},
   "source": [
    "# #Encoding"
   ]
  },
  {
   "cell_type": "code",
   "execution_count": 11,
   "metadata": {},
   "outputs": [
    {
     "data": {
      "text/plain": [
       "Index(['Category', 'Descript', 'DayOfWeek', 'PdDistrict', 'Resolution',\n",
       "       'Address', 'X', 'Y', 'Id', 'Year', 'Month', 'Day', 'Hour', 'Minute',\n",
       "       'Second'],\n",
       "      dtype='object')"
      ]
     },
     "execution_count": 11,
     "metadata": {},
     "output_type": "execute_result"
    }
   ],
   "source": [
    "df.columns"
   ]
  },
  {
   "cell_type": "markdown",
   "metadata": {},
   "source": [
    "LabelEncoding of \"DayOfWeek\" and \"PdDistrict\""
   ]
  },
  {
   "cell_type": "code",
   "execution_count": 12,
   "metadata": {},
   "outputs": [],
   "source": [
    "le = preprocessing.LabelEncoder()"
   ]
  },
  {
   "cell_type": "code",
   "execution_count": 13,
   "metadata": {},
   "outputs": [],
   "source": [
    "#y=pd.get_dummies(df.Category,columns=['Category'],prefix=\" \",prefix_sep=\" \",drop_first=True,)\n",
    "\n",
    "le_res=le.fit_transform(df['Category'])\n",
    "y=pd.DataFrame(le_res)\n",
    "y.columns=['Category']\n",
    "#y"
   ]
  },
  {
   "cell_type": "markdown",
   "metadata": {},
   "source": [
    "# Rotation 45 degree"
   ]
  },
  {
   "cell_type": "code",
   "execution_count": 14,
   "metadata": {},
   "outputs": [],
   "source": [
    "df['Y']=df['Y'].apply(lambda x : x if 37.82 > x else 37.82)\n",
    "df['X']=df['X'].apply(lambda x : x if -122.3 > x else 122.3)"
   ]
  },
  {
   "cell_type": "code",
   "execution_count": 15,
   "metadata": {},
   "outputs": [],
   "source": [
    "df[\"rot45_X\"]=0.707 * df[\"Y\"] + 0.707 * df[\"X\"]\n",
    "df[\"rot45_Y\"]=0.707 * df[\"Y\"] - 0.707 * df[\"X\"]"
   ]
  },
  {
   "cell_type": "code",
   "execution_count": 16,
   "metadata": {},
   "outputs": [],
   "source": [
    "df[\"radial45\"]=np.sqrt(np.power(df['rot45_X'],2) + np.power(df['rot45_Y'],2))"
   ]
  },
  {
   "cell_type": "markdown",
   "metadata": {},
   "source": [
    "# Rotation 30 degree"
   ]
  },
  {
   "cell_type": "code",
   "execution_count": 17,
   "metadata": {},
   "outputs": [],
   "source": [
    "df[\"rot30_X\"]=(1.732/2) * df[\"Y\"] + 0.5 * df[\"X\"]\n",
    "df[\"rot30_Y\"]=(1.732/2) * df[\"Y\"] - 0.5 * df[\"X\"]\n"
   ]
  },
  {
   "cell_type": "code",
   "execution_count": 18,
   "metadata": {},
   "outputs": [],
   "source": [
    "df[\"radial30\"]=np.sqrt(np.power(df['rot30_X'],2) + np.power(df['rot30_Y'],2))"
   ]
  },
  {
   "cell_type": "markdown",
   "metadata": {},
   "source": [
    "# Rotation 60 degress"
   ]
  },
  {
   "cell_type": "code",
   "execution_count": 19,
   "metadata": {},
   "outputs": [],
   "source": [
    "df[\"rot60_X\"]=(0.5) * df[\"Y\"] + (1.732/2) * df[\"X\"]\n",
    "df[\"rot60_Y\"]=0.5 * df[\"Y\"] - (1.732/2) * df[\"X\"]\n"
   ]
  },
  {
   "cell_type": "code",
   "execution_count": 20,
   "metadata": {},
   "outputs": [],
   "source": [
    "df[\"radial60\"]=np.sqrt(np.power(df['rot60_X'],2) + np.power(df['rot60_Y'],2))"
   ]
  },
  {
   "cell_type": "markdown",
   "metadata": {},
   "source": [
    "# Hours clubbing"
   ]
  },
  {
   "cell_type": "code",
   "execution_count": 21,
   "metadata": {},
   "outputs": [],
   "source": [
    "df['Hour']=df['Hour'].apply(lambda x:int(x))\n",
    "#df['Hour']=df['Hour'].apply(lambda x : 'EARLY_Morning' if (x >= 1) and (x <=5) else ('MORNING' if x >= 6 and x <=11 else ('DAY' if x>=12 and x<=18 else 'Night')))\n",
    "df['Hour']=df['Hour'].apply(lambda x : 'EARLY_MORNING' if x in (1,2,3,4,5) else ('MORNING' if x in (6,7,8,9,10,11) else ('DAY' if x in (12,13,14,15,16,17,18) else 'NIGHT')))"
   ]
  },
  {
   "cell_type": "markdown",
   "metadata": {},
   "source": [
    "# Month Clubbing"
   ]
  },
  {
   "cell_type": "code",
   "execution_count": 22,
   "metadata": {},
   "outputs": [],
   "source": [
    "df['Month']=df['Month'].apply(lambda x:int(x))\n",
    "df['Month']=df['Month'].apply(lambda x : 'MonthLow' if x== 12 else ('MonthMed' if x in (2,6,7,8,9,11) else 'MonthHigh'))"
   ]
  },
  {
   "cell_type": "markdown",
   "metadata": {},
   "source": [
    "# Minute Clubbing "
   ]
  },
  {
   "cell_type": "code",
   "execution_count": 23,
   "metadata": {},
   "outputs": [],
   "source": [
    "df['Minute']=df['Minute'].apply(lambda x:int(x))\n",
    "df['Minute']=df['Minute'].apply(lambda x : 'low' if x <31 else 'high')"
   ]
  },
  {
   "cell_type": "code",
   "execution_count": 24,
   "metadata": {},
   "outputs": [
    {
     "data": {
      "text/html": [
       "<div>\n",
       "<style scoped>\n",
       "    .dataframe tbody tr th:only-of-type {\n",
       "        vertical-align: middle;\n",
       "    }\n",
       "\n",
       "    .dataframe tbody tr th {\n",
       "        vertical-align: top;\n",
       "    }\n",
       "\n",
       "    .dataframe thead th {\n",
       "        text-align: right;\n",
       "    }\n",
       "</style>\n",
       "<table border=\"1\" class=\"dataframe\">\n",
       "  <thead>\n",
       "    <tr style=\"text-align: right;\">\n",
       "      <th></th>\n",
       "      <th>Category</th>\n",
       "      <th>Descript</th>\n",
       "      <th>DayOfWeek</th>\n",
       "      <th>PdDistrict</th>\n",
       "      <th>Resolution</th>\n",
       "      <th>Address</th>\n",
       "      <th>X</th>\n",
       "      <th>Y</th>\n",
       "      <th>Id</th>\n",
       "      <th>Year</th>\n",
       "      <th>Month</th>\n",
       "      <th>Day</th>\n",
       "      <th>Hour</th>\n",
       "      <th>Minute</th>\n",
       "      <th>Second</th>\n",
       "      <th>rot45_X</th>\n",
       "      <th>rot45_Y</th>\n",
       "      <th>radial45</th>\n",
       "      <th>rot30_X</th>\n",
       "      <th>rot30_Y</th>\n",
       "      <th>radial30</th>\n",
       "      <th>rot60_X</th>\n",
       "      <th>rot60_Y</th>\n",
       "      <th>radial60</th>\n",
       "    </tr>\n",
       "  </thead>\n",
       "  <tbody>\n",
       "    <tr>\n",
       "      <th>0</th>\n",
       "      <td>SEX OFFENSES FORCIBLE</td>\n",
       "      <td>FORCIBLE RAPE, BODILY FORCE</td>\n",
       "      <td>Friday</td>\n",
       "      <td>MISSION</td>\n",
       "      <td>NONE</td>\n",
       "      <td>2100 Block of MISSION ST</td>\n",
       "      <td>-122.419331</td>\n",
       "      <td>37.762264</td>\n",
       "      <td>141546</td>\n",
       "      <td>2013</td>\n",
       "      <td>MonthMed</td>\n",
       "      <td>28</td>\n",
       "      <td>DAY</td>\n",
       "      <td>high</td>\n",
       "      <td>00</td>\n",
       "      <td>-59.852546</td>\n",
       "      <td>113.248388</td>\n",
       "      <td>128.091860</td>\n",
       "      <td>-28.507545</td>\n",
       "      <td>93.911786</td>\n",
       "      <td>98.143282</td>\n",
       "      <td>-87.134009</td>\n",
       "      <td>124.896273</td>\n",
       "      <td>152.287276</td>\n",
       "    </tr>\n",
       "    <tr>\n",
       "      <th>1</th>\n",
       "      <td>LIQUOR LAWS</td>\n",
       "      <td>CONSUMING ALCOHOL IN PUBLIC VIEW</td>\n",
       "      <td>Thursday</td>\n",
       "      <td>SOUTHERN</td>\n",
       "      <td>ARREST, BOOKED</td>\n",
       "      <td>1000 Block of MARKET ST</td>\n",
       "      <td>-122.411340</td>\n",
       "      <td>37.781271</td>\n",
       "      <td>794152</td>\n",
       "      <td>2004</td>\n",
       "      <td>MonthMed</td>\n",
       "      <td>19</td>\n",
       "      <td>EARLY_MORNING</td>\n",
       "      <td>high</td>\n",
       "      <td>00</td>\n",
       "      <td>-59.833459</td>\n",
       "      <td>113.256175</td>\n",
       "      <td>128.089828</td>\n",
       "      <td>-28.487089</td>\n",
       "      <td>93.924250</td>\n",
       "      <td>98.149269</td>\n",
       "      <td>-87.117585</td>\n",
       "      <td>124.898855</td>\n",
       "      <td>152.279998</td>\n",
       "    </tr>\n",
       "    <tr>\n",
       "      <th>2</th>\n",
       "      <td>FRAUD</td>\n",
       "      <td>CREDIT CARD, THEFT BY USE OF</td>\n",
       "      <td>Wednesday</td>\n",
       "      <td>SOUTHERN</td>\n",
       "      <td>NONE</td>\n",
       "      <td>800 Block of BRYANT ST</td>\n",
       "      <td>-122.403405</td>\n",
       "      <td>37.775421</td>\n",
       "      <td>531205</td>\n",
       "      <td>2007</td>\n",
       "      <td>MonthMed</td>\n",
       "      <td>14</td>\n",
       "      <td>NIGHT</td>\n",
       "      <td>low</td>\n",
       "      <td>00</td>\n",
       "      <td>-59.831985</td>\n",
       "      <td>113.246430</td>\n",
       "      <td>128.080522</td>\n",
       "      <td>-28.488188</td>\n",
       "      <td>93.915217</td>\n",
       "      <td>98.140944</td>\n",
       "      <td>-87.113638</td>\n",
       "      <td>124.889059</td>\n",
       "      <td>152.269705</td>\n",
       "    </tr>\n",
       "    <tr>\n",
       "      <th>3</th>\n",
       "      <td>ROBBERY</td>\n",
       "      <td>ROBBERY OF A CHAIN STORE WITH A GUN</td>\n",
       "      <td>Thursday</td>\n",
       "      <td>BAYVIEW</td>\n",
       "      <td>DISTRICT ATTORNEY REFUSES TO PROSECUTE</td>\n",
       "      <td>2400 Block of SAN BRUNO AV</td>\n",
       "      <td>-122.404715</td>\n",
       "      <td>37.730161</td>\n",
       "      <td>523137</td>\n",
       "      <td>2007</td>\n",
       "      <td>MonthLow</td>\n",
       "      <td>27</td>\n",
       "      <td>DAY</td>\n",
       "      <td>low</td>\n",
       "      <td>00</td>\n",
       "      <td>-59.864910</td>\n",
       "      <td>113.215357</td>\n",
       "      <td>128.068437</td>\n",
       "      <td>-28.528038</td>\n",
       "      <td>93.876677</td>\n",
       "      <td>98.115643</td>\n",
       "      <td>-87.137403</td>\n",
       "      <td>124.867564</td>\n",
       "      <td>152.265674</td>\n",
       "    </tr>\n",
       "    <tr>\n",
       "      <th>4</th>\n",
       "      <td>OTHER OFFENSES</td>\n",
       "      <td>PROBATION VIOLATION</td>\n",
       "      <td>Sunday</td>\n",
       "      <td>SOUTHERN</td>\n",
       "      <td>ARREST, BOOKED</td>\n",
       "      <td>4TH ST / STEVENSON ST</td>\n",
       "      <td>-122.405239</td>\n",
       "      <td>37.785265</td>\n",
       "      <td>200968</td>\n",
       "      <td>2012</td>\n",
       "      <td>MonthMed</td>\n",
       "      <td>09</td>\n",
       "      <td>DAY</td>\n",
       "      <td>low</td>\n",
       "      <td>00</td>\n",
       "      <td>-59.826321</td>\n",
       "      <td>113.254686</td>\n",
       "      <td>128.085177</td>\n",
       "      <td>-28.480580</td>\n",
       "      <td>93.924659</td>\n",
       "      <td>98.147771</td>\n",
       "      <td>-87.110304</td>\n",
       "      <td>124.895569</td>\n",
       "      <td>152.273137</td>\n",
       "    </tr>\n",
       "  </tbody>\n",
       "</table>\n",
       "</div>"
      ],
      "text/plain": [
       "                Category                             Descript  DayOfWeek  \\\n",
       "0  SEX OFFENSES FORCIBLE          FORCIBLE RAPE, BODILY FORCE     Friday   \n",
       "1            LIQUOR LAWS     CONSUMING ALCOHOL IN PUBLIC VIEW   Thursday   \n",
       "2                  FRAUD         CREDIT CARD, THEFT BY USE OF  Wednesday   \n",
       "3                ROBBERY  ROBBERY OF A CHAIN STORE WITH A GUN   Thursday   \n",
       "4         OTHER OFFENSES                  PROBATION VIOLATION     Sunday   \n",
       "\n",
       "  PdDistrict                              Resolution  \\\n",
       "0    MISSION                                    NONE   \n",
       "1   SOUTHERN                          ARREST, BOOKED   \n",
       "2   SOUTHERN                                    NONE   \n",
       "3    BAYVIEW  DISTRICT ATTORNEY REFUSES TO PROSECUTE   \n",
       "4   SOUTHERN                          ARREST, BOOKED   \n",
       "\n",
       "                      Address           X          Y      Id  Year     Month  \\\n",
       "0    2100 Block of MISSION ST -122.419331  37.762264  141546  2013  MonthMed   \n",
       "1     1000 Block of MARKET ST -122.411340  37.781271  794152  2004  MonthMed   \n",
       "2      800 Block of BRYANT ST -122.403405  37.775421  531205  2007  MonthMed   \n",
       "3  2400 Block of SAN BRUNO AV -122.404715  37.730161  523137  2007  MonthLow   \n",
       "4       4TH ST / STEVENSON ST -122.405239  37.785265  200968  2012  MonthMed   \n",
       "\n",
       "  Day           Hour Minute Second    rot45_X     rot45_Y    radial45  \\\n",
       "0  28            DAY   high     00 -59.852546  113.248388  128.091860   \n",
       "1  19  EARLY_MORNING   high     00 -59.833459  113.256175  128.089828   \n",
       "2  14          NIGHT    low     00 -59.831985  113.246430  128.080522   \n",
       "3  27            DAY    low     00 -59.864910  113.215357  128.068437   \n",
       "4  09            DAY    low     00 -59.826321  113.254686  128.085177   \n",
       "\n",
       "     rot30_X    rot30_Y   radial30    rot60_X     rot60_Y    radial60  \n",
       "0 -28.507545  93.911786  98.143282 -87.134009  124.896273  152.287276  \n",
       "1 -28.487089  93.924250  98.149269 -87.117585  124.898855  152.279998  \n",
       "2 -28.488188  93.915217  98.140944 -87.113638  124.889059  152.269705  \n",
       "3 -28.528038  93.876677  98.115643 -87.137403  124.867564  152.265674  \n",
       "4 -28.480580  93.924659  98.147771 -87.110304  124.895569  152.273137  "
      ]
     },
     "execution_count": 24,
     "metadata": {},
     "output_type": "execute_result"
    }
   ],
   "source": [
    "df.head()"
   ]
  },
  {
   "cell_type": "markdown",
   "metadata": {},
   "source": [
    "# Address splitting"
   ]
  },
  {
   "cell_type": "code",
   "execution_count": 25,
   "metadata": {},
   "outputs": [],
   "source": [
    "address=pd.DataFrame(df['Address'],columns=['Address'])\n",
    "address=address.Address.str.split(pat=\" /\",expand=True )\n",
    "\n",
    "address.columns=['Address','Intr2']\n",
    "\n",
    "address=address.Address.str.split(pat=\" /\",expand=True )\n",
    "address.columns=['Address']"
   ]
  },
  {
   "cell_type": "code",
   "execution_count": 26,
   "metadata": {},
   "outputs": [
    {
     "data": {
      "text/html": [
       "<div>\n",
       "<style scoped>\n",
       "    .dataframe tbody tr th:only-of-type {\n",
       "        vertical-align: middle;\n",
       "    }\n",
       "\n",
       "    .dataframe tbody tr th {\n",
       "        vertical-align: top;\n",
       "    }\n",
       "\n",
       "    .dataframe thead th {\n",
       "        text-align: right;\n",
       "    }\n",
       "</style>\n",
       "<table border=\"1\" class=\"dataframe\">\n",
       "  <thead>\n",
       "    <tr style=\"text-align: right;\">\n",
       "      <th></th>\n",
       "      <th>Address</th>\n",
       "    </tr>\n",
       "  </thead>\n",
       "  <tbody>\n",
       "    <tr>\n",
       "      <th>0</th>\n",
       "      <td>2100 Block of MISSION ST</td>\n",
       "    </tr>\n",
       "    <tr>\n",
       "      <th>1</th>\n",
       "      <td>1000 Block of MARKET ST</td>\n",
       "    </tr>\n",
       "    <tr>\n",
       "      <th>2</th>\n",
       "      <td>800 Block of BRYANT ST</td>\n",
       "    </tr>\n",
       "    <tr>\n",
       "      <th>3</th>\n",
       "      <td>2400 Block of SAN BRUNO AV</td>\n",
       "    </tr>\n",
       "    <tr>\n",
       "      <th>4</th>\n",
       "      <td>4TH ST</td>\n",
       "    </tr>\n",
       "  </tbody>\n",
       "</table>\n",
       "</div>"
      ],
      "text/plain": [
       "                      Address\n",
       "0    2100 Block of MISSION ST\n",
       "1     1000 Block of MARKET ST\n",
       "2      800 Block of BRYANT ST\n",
       "3  2400 Block of SAN BRUNO AV\n",
       "4                      4TH ST"
      ]
     },
     "execution_count": 26,
     "metadata": {},
     "output_type": "execute_result"
    }
   ],
   "source": [
    "address.head()"
   ]
  },
  {
   "cell_type": "code",
   "execution_count": 27,
   "metadata": {},
   "outputs": [],
   "source": [
    "string=address.iloc[:,0]\n",
    "string=string.str.strip()"
   ]
  },
  {
   "cell_type": "code",
   "execution_count": 28,
   "metadata": {},
   "outputs": [],
   "source": [
    "address_fram=string.to_frame()\n",
    "temp=address_fram['Address'].astype(str).str[-2:]"
   ]
  },
  {
   "cell_type": "code",
   "execution_count": 29,
   "metadata": {},
   "outputs": [
    {
     "data": {
      "text/plain": [
       "array(['ST', 'AV', 'LN', 'DR', 'BL', 'HY', 'CT', 'RD', 'PL', 'PZ', '80',\n",
       "       'TR', 'WY', 'AL', 'AY', 'ER', 'MS', 'CR', 'TI'], dtype=object)"
      ]
     },
     "execution_count": 29,
     "metadata": {},
     "output_type": "execute_result"
    }
   ],
   "source": [
    "temp.unique()"
   ]
  },
  {
   "cell_type": "code",
   "execution_count": 30,
   "metadata": {},
   "outputs": [],
   "source": [
    "address=temp.to_frame()"
   ]
  },
  {
   "cell_type": "markdown",
   "metadata": {},
   "source": [
    "(\"ST\",\"AV\",\"LN\",\"DR\",\"BL\",\"HY\",\"CT\",\"RD\",\"PL\",\"PZ\",\"TR\",\"AL\",\"CR\",\"WK\",\"EX\",\"RW\")"
   ]
  },
  {
   "cell_type": "code",
   "execution_count": 31,
   "metadata": {},
   "outputs": [],
   "source": [
    "address['Address']=address['Address'].apply(lambda x :( x if x in (\"ST\",\"AV\",\"LN\",\"DR\",\"BL\",\"HY\",\"CT\",\"RD\",\"PL\",\"PZ\",\"TR\",\"AL\",\"CR\",\"WK\",\"EX\",\"RW\") else ((\"I-80\" if x in (\"80\") else (\"HWY\" if x in (\"WY\") else (\"WAY\" if x in (\"AY\") else (\"TER\" if x in (\"ER\") else (\"ALMS\" if x in (\"MS\") else (\"MAR\" if x in (\"AR\") else (\"PARK\" if x in (\"RK\") else (\"STWY\" if x in (\"WY\") else (\"VIA\" if x in (\"NO\") else (\"BLOCK\")))))))))))))"
   ]
  },
  {
   "cell_type": "code",
   "execution_count": 32,
   "metadata": {},
   "outputs": [],
   "source": [
    "#address.to_csv(\"Address.csv\", float_format = '%.5F')"
   ]
  },
  {
   "cell_type": "code",
   "execution_count": 33,
   "metadata": {},
   "outputs": [],
   "source": [
    "df=df.drop(labels=['Address'],axis=1)"
   ]
  },
  {
   "cell_type": "markdown",
   "metadata": {},
   "source": [
    "Concatenating \"df\" and \"address\""
   ]
  },
  {
   "cell_type": "code",
   "execution_count": 34,
   "metadata": {},
   "outputs": [],
   "source": [
    "df=pd.concat([address,df],axis=1)"
   ]
  },
  {
   "cell_type": "code",
   "execution_count": 35,
   "metadata": {},
   "outputs": [],
   "source": [
    "Id=df['Id']\n",
    "df=df.drop(['Descript','Category','Resolution','Id','Second'],axis=1)"
   ]
  },
  {
   "cell_type": "code",
   "execution_count": 36,
   "metadata": {},
   "outputs": [
    {
     "data": {
      "text/html": [
       "<div>\n",
       "<style scoped>\n",
       "    .dataframe tbody tr th:only-of-type {\n",
       "        vertical-align: middle;\n",
       "    }\n",
       "\n",
       "    .dataframe tbody tr th {\n",
       "        vertical-align: top;\n",
       "    }\n",
       "\n",
       "    .dataframe thead th {\n",
       "        text-align: right;\n",
       "    }\n",
       "</style>\n",
       "<table border=\"1\" class=\"dataframe\">\n",
       "  <thead>\n",
       "    <tr style=\"text-align: right;\">\n",
       "      <th></th>\n",
       "      <th>Address</th>\n",
       "      <th>DayOfWeek</th>\n",
       "      <th>PdDistrict</th>\n",
       "      <th>X</th>\n",
       "      <th>Y</th>\n",
       "      <th>Year</th>\n",
       "      <th>Month</th>\n",
       "      <th>Day</th>\n",
       "      <th>Hour</th>\n",
       "      <th>Minute</th>\n",
       "      <th>rot45_X</th>\n",
       "      <th>rot45_Y</th>\n",
       "      <th>radial45</th>\n",
       "      <th>rot30_X</th>\n",
       "      <th>rot30_Y</th>\n",
       "      <th>radial30</th>\n",
       "      <th>rot60_X</th>\n",
       "      <th>rot60_Y</th>\n",
       "      <th>radial60</th>\n",
       "    </tr>\n",
       "  </thead>\n",
       "  <tbody>\n",
       "    <tr>\n",
       "      <th>0</th>\n",
       "      <td>ST</td>\n",
       "      <td>Friday</td>\n",
       "      <td>MISSION</td>\n",
       "      <td>-122.419331</td>\n",
       "      <td>37.762264</td>\n",
       "      <td>2013</td>\n",
       "      <td>MonthMed</td>\n",
       "      <td>28</td>\n",
       "      <td>DAY</td>\n",
       "      <td>high</td>\n",
       "      <td>-59.852546</td>\n",
       "      <td>113.248388</td>\n",
       "      <td>128.091860</td>\n",
       "      <td>-28.507545</td>\n",
       "      <td>93.911786</td>\n",
       "      <td>98.143282</td>\n",
       "      <td>-87.134009</td>\n",
       "      <td>124.896273</td>\n",
       "      <td>152.287276</td>\n",
       "    </tr>\n",
       "    <tr>\n",
       "      <th>1</th>\n",
       "      <td>ST</td>\n",
       "      <td>Thursday</td>\n",
       "      <td>SOUTHERN</td>\n",
       "      <td>-122.411340</td>\n",
       "      <td>37.781271</td>\n",
       "      <td>2004</td>\n",
       "      <td>MonthMed</td>\n",
       "      <td>19</td>\n",
       "      <td>EARLY_MORNING</td>\n",
       "      <td>high</td>\n",
       "      <td>-59.833459</td>\n",
       "      <td>113.256175</td>\n",
       "      <td>128.089828</td>\n",
       "      <td>-28.487089</td>\n",
       "      <td>93.924250</td>\n",
       "      <td>98.149269</td>\n",
       "      <td>-87.117585</td>\n",
       "      <td>124.898855</td>\n",
       "      <td>152.279998</td>\n",
       "    </tr>\n",
       "    <tr>\n",
       "      <th>2</th>\n",
       "      <td>ST</td>\n",
       "      <td>Wednesday</td>\n",
       "      <td>SOUTHERN</td>\n",
       "      <td>-122.403405</td>\n",
       "      <td>37.775421</td>\n",
       "      <td>2007</td>\n",
       "      <td>MonthMed</td>\n",
       "      <td>14</td>\n",
       "      <td>NIGHT</td>\n",
       "      <td>low</td>\n",
       "      <td>-59.831985</td>\n",
       "      <td>113.246430</td>\n",
       "      <td>128.080522</td>\n",
       "      <td>-28.488188</td>\n",
       "      <td>93.915217</td>\n",
       "      <td>98.140944</td>\n",
       "      <td>-87.113638</td>\n",
       "      <td>124.889059</td>\n",
       "      <td>152.269705</td>\n",
       "    </tr>\n",
       "    <tr>\n",
       "      <th>3</th>\n",
       "      <td>AV</td>\n",
       "      <td>Thursday</td>\n",
       "      <td>BAYVIEW</td>\n",
       "      <td>-122.404715</td>\n",
       "      <td>37.730161</td>\n",
       "      <td>2007</td>\n",
       "      <td>MonthLow</td>\n",
       "      <td>27</td>\n",
       "      <td>DAY</td>\n",
       "      <td>low</td>\n",
       "      <td>-59.864910</td>\n",
       "      <td>113.215357</td>\n",
       "      <td>128.068437</td>\n",
       "      <td>-28.528038</td>\n",
       "      <td>93.876677</td>\n",
       "      <td>98.115643</td>\n",
       "      <td>-87.137403</td>\n",
       "      <td>124.867564</td>\n",
       "      <td>152.265674</td>\n",
       "    </tr>\n",
       "    <tr>\n",
       "      <th>4</th>\n",
       "      <td>ST</td>\n",
       "      <td>Sunday</td>\n",
       "      <td>SOUTHERN</td>\n",
       "      <td>-122.405239</td>\n",
       "      <td>37.785265</td>\n",
       "      <td>2012</td>\n",
       "      <td>MonthMed</td>\n",
       "      <td>09</td>\n",
       "      <td>DAY</td>\n",
       "      <td>low</td>\n",
       "      <td>-59.826321</td>\n",
       "      <td>113.254686</td>\n",
       "      <td>128.085177</td>\n",
       "      <td>-28.480580</td>\n",
       "      <td>93.924659</td>\n",
       "      <td>98.147771</td>\n",
       "      <td>-87.110304</td>\n",
       "      <td>124.895569</td>\n",
       "      <td>152.273137</td>\n",
       "    </tr>\n",
       "  </tbody>\n",
       "</table>\n",
       "</div>"
      ],
      "text/plain": [
       "  Address  DayOfWeek PdDistrict           X          Y  Year     Month Day  \\\n",
       "0      ST     Friday    MISSION -122.419331  37.762264  2013  MonthMed  28   \n",
       "1      ST   Thursday   SOUTHERN -122.411340  37.781271  2004  MonthMed  19   \n",
       "2      ST  Wednesday   SOUTHERN -122.403405  37.775421  2007  MonthMed  14   \n",
       "3      AV   Thursday    BAYVIEW -122.404715  37.730161  2007  MonthLow  27   \n",
       "4      ST     Sunday   SOUTHERN -122.405239  37.785265  2012  MonthMed  09   \n",
       "\n",
       "            Hour Minute    rot45_X     rot45_Y    radial45    rot30_X  \\\n",
       "0            DAY   high -59.852546  113.248388  128.091860 -28.507545   \n",
       "1  EARLY_MORNING   high -59.833459  113.256175  128.089828 -28.487089   \n",
       "2          NIGHT    low -59.831985  113.246430  128.080522 -28.488188   \n",
       "3            DAY    low -59.864910  113.215357  128.068437 -28.528038   \n",
       "4            DAY    low -59.826321  113.254686  128.085177 -28.480580   \n",
       "\n",
       "     rot30_Y   radial30    rot60_X     rot60_Y    radial60  \n",
       "0  93.911786  98.143282 -87.134009  124.896273  152.287276  \n",
       "1  93.924250  98.149269 -87.117585  124.898855  152.279998  \n",
       "2  93.915217  98.140944 -87.113638  124.889059  152.269705  \n",
       "3  93.876677  98.115643 -87.137403  124.867564  152.265674  \n",
       "4  93.924659  98.147771 -87.110304  124.895569  152.273137  "
      ]
     },
     "execution_count": 36,
     "metadata": {},
     "output_type": "execute_result"
    }
   ],
   "source": [
    "df.head()"
   ]
  },
  {
   "cell_type": "markdown",
   "metadata": {},
   "source": [
    "Label Encoded Columns :PdDistrict ,Address ,X ,Y"
   ]
  },
  {
   "cell_type": "code",
   "execution_count": 37,
   "metadata": {},
   "outputs": [
    {
     "data": {
      "text/plain": [
       "array(['MISSION', 'SOUTHERN', 'BAYVIEW', 'CENTRAL', 'INGLESIDE',\n",
       "       'NORTHERN', 'RICHMOND', 'TARAVAL', 'TENDERLOIN', 'PARK'],\n",
       "      dtype=object)"
      ]
     },
     "execution_count": 37,
     "metadata": {},
     "output_type": "execute_result"
    }
   ],
   "source": [
    "data['PdDistrict'].unique()"
   ]
  },
  {
   "cell_type": "markdown",
   "metadata": {},
   "source": [
    "# Label Encoding"
   ]
  },
  {
   "cell_type": "code",
   "execution_count": 38,
   "metadata": {},
   "outputs": [],
   "source": [
    "le = preprocessing.LabelEncoder()"
   ]
  },
  {
   "cell_type": "markdown",
   "metadata": {},
   "source": [
    "\"DayOf Week\""
   ]
  },
  {
   "cell_type": "code",
   "execution_count": 39,
   "metadata": {},
   "outputs": [
    {
     "data": {
      "text/plain": [
       "\"le_res=le.fit_transform(df['DayOfWeek'])\\nDay=pd.DataFrame(le_res)\\nDay.columns=['DayOfWeek']\\ndf=df.drop(labels=['DayOfWeek'],axis=1)\\ndf=pd.concat([Day,df],axis=1)\\n\\n\""
      ]
     },
     "execution_count": 39,
     "metadata": {},
     "output_type": "execute_result"
    }
   ],
   "source": [
    "\"\"\"le_res=le.fit_transform(df['DayOfWeek'])\n",
    "Day=pd.DataFrame(le_res)\n",
    "Day.columns=['DayOfWeek']\n",
    "df=df.drop(labels=['DayOfWeek'],axis=1)\n",
    "df=pd.concat([Day,df],axis=1)\n",
    "\n",
    "\"\"\""
   ]
  },
  {
   "cell_type": "markdown",
   "metadata": {},
   "source": [
    "\"PdDistrict\""
   ]
  },
  {
   "cell_type": "code",
   "execution_count": 40,
   "metadata": {},
   "outputs": [
    {
     "data": {
      "text/plain": [
       "\"\\n#le = preprocessing.LabelEncoder()\\nle_res=le.fit_transform(df['PdDistrict'])\\nDistrict=pd.DataFrame(le_res)\\n\\n#District=pd.get_dummies(df['PdDistrict'],drop_first=True)\\nDistrict.columns=['District']\\ndf=df.drop(labels=['PdDistrict'],axis=1)\\ndf=pd.concat([District,df],axis=1)\\n\\n\""
      ]
     },
     "execution_count": 40,
     "metadata": {},
     "output_type": "execute_result"
    }
   ],
   "source": [
    "\"\"\"\n",
    "#le = preprocessing.LabelEncoder()\n",
    "le_res=le.fit_transform(df['PdDistrict'])\n",
    "District=pd.DataFrame(le_res)\n",
    "\n",
    "#District=pd.get_dummies(df['PdDistrict'],drop_first=True)\n",
    "District.columns=['District']\n",
    "df=df.drop(labels=['PdDistrict'],axis=1)\n",
    "df=pd.concat([District,df],axis=1)\n",
    "\n",
    "\"\"\""
   ]
  },
  {
   "cell_type": "markdown",
   "metadata": {},
   "source": [
    "\"Address\""
   ]
  },
  {
   "cell_type": "code",
   "execution_count": 41,
   "metadata": {},
   "outputs": [
    {
     "data": {
      "text/plain": [
       "\"\\nle_res=le.fit_transform(df['Address'])\\nAddress=pd.DataFrame(le_res)\\nAddress.columns=['Address']\\ndf=df.drop(labels=['Address'],axis=1)\\ndf=pd.concat([Address,df],axis=1)\\n\\n\""
      ]
     },
     "execution_count": 41,
     "metadata": {},
     "output_type": "execute_result"
    }
   ],
   "source": [
    "\"\"\"\n",
    "le_res=le.fit_transform(df['Address'])\n",
    "Address=pd.DataFrame(le_res)\n",
    "Address.columns=['Address']\n",
    "df=df.drop(labels=['Address'],axis=1)\n",
    "df=pd.concat([Address,df],axis=1)\n",
    "\n",
    "\"\"\""
   ]
  },
  {
   "cell_type": "markdown",
   "metadata": {},
   "source": [
    "\"Year\""
   ]
  },
  {
   "cell_type": "code",
   "execution_count": 42,
   "metadata": {},
   "outputs": [
    {
     "data": {
      "text/plain": [
       "\"\\n#le = preprocessing.LabelEncoder()\\nle_res=le.fit_transform(df['Year'])\\nYear=pd.DataFrame(le_res)\\n\\n#District=pd.get_dummies(df['PdDistrict'],drop_first=True)\\nYear.columns=['Year']\\ndf=df.drop(labels=['Year'],axis=1)\\ndf=pd.concat([Year,df],axis=1)\\n\\n\""
      ]
     },
     "execution_count": 42,
     "metadata": {},
     "output_type": "execute_result"
    }
   ],
   "source": [
    "\"\"\"\n",
    "#le = preprocessing.LabelEncoder()\n",
    "le_res=le.fit_transform(df['Year'])\n",
    "Year=pd.DataFrame(le_res)\n",
    "\n",
    "#District=pd.get_dummies(df['PdDistrict'],drop_first=True)\n",
    "Year.columns=['Year']\n",
    "df=df.drop(labels=['Year'],axis=1)\n",
    "df=pd.concat([Year,df],axis=1)\n",
    "\n",
    "\"\"\""
   ]
  },
  {
   "cell_type": "markdown",
   "metadata": {},
   "source": [
    "\"Month\""
   ]
  },
  {
   "cell_type": "code",
   "execution_count": 43,
   "metadata": {},
   "outputs": [
    {
     "data": {
      "text/plain": [
       "\"\\n#le = preprocessing.LabelEncoder()\\nle_res=le.fit_transform(df['Month'])\\nMonth=pd.DataFrame(le_res)\\n\\n#District=pd.get_dummies(df['PdDistrict'],drop_first=True)\\nMonth.columns=['Month']\\ndf=df.drop(labels=['Month'],axis=1)\\ndf=pd.concat([Month,df],axis=1)\\n\\n\""
      ]
     },
     "execution_count": 43,
     "metadata": {},
     "output_type": "execute_result"
    }
   ],
   "source": [
    "\"\"\"\n",
    "#le = preprocessing.LabelEncoder()\n",
    "le_res=le.fit_transform(df['Month'])\n",
    "Month=pd.DataFrame(le_res)\n",
    "\n",
    "#District=pd.get_dummies(df['PdDistrict'],drop_first=True)\n",
    "Month.columns=['Month']\n",
    "df=df.drop(labels=['Month'],axis=1)\n",
    "df=pd.concat([Month,df],axis=1)\n",
    "\n",
    "\"\"\""
   ]
  },
  {
   "cell_type": "markdown",
   "metadata": {},
   "source": [
    "\"Day\""
   ]
  },
  {
   "cell_type": "code",
   "execution_count": 44,
   "metadata": {},
   "outputs": [
    {
     "data": {
      "text/plain": [
       "\"\\n#le = preprocessing.LabelEncoder()\\nle_res=le.fit_transform(df['Day'])\\nDay=pd.DataFrame(le_res)\\n\\n#District=pd.get_dummies(df['PdDistrict'],drop_first=True)\\nDay.columns=['Day']\\ndf=df.drop(labels=['Day'],axis=1)\\ndf=pd.concat([Day,df],axis=1)\\n\\n\""
      ]
     },
     "execution_count": 44,
     "metadata": {},
     "output_type": "execute_result"
    }
   ],
   "source": [
    "\"\"\"\n",
    "#le = preprocessing.LabelEncoder()\n",
    "le_res=le.fit_transform(df['Day'])\n",
    "Day=pd.DataFrame(le_res)\n",
    "\n",
    "#District=pd.get_dummies(df['PdDistrict'],drop_first=True)\n",
    "Day.columns=['Day']\n",
    "df=df.drop(labels=['Day'],axis=1)\n",
    "df=pd.concat([Day,df],axis=1)\n",
    "\n",
    "\"\"\""
   ]
  },
  {
   "cell_type": "markdown",
   "metadata": {},
   "source": [
    "\"Hour\""
   ]
  },
  {
   "cell_type": "code",
   "execution_count": 45,
   "metadata": {},
   "outputs": [
    {
     "data": {
      "text/plain": [
       "\"\\n#le = preprocessing.LabelEncoder()\\nle_res=le.fit_transform(df['Hour'])\\nHour=pd.DataFrame(le_res)\\n\\n#District=pd.get_dummies(df['PdDistrict'],drop_first=True)\\nHour.columns=['Hour']\\ndf=df.drop(labels=['Hour'],axis=1)\\ndf=pd.concat([Hour,df],axis=1)\\n\\n\""
      ]
     },
     "execution_count": 45,
     "metadata": {},
     "output_type": "execute_result"
    }
   ],
   "source": [
    "\"\"\"\n",
    "#le = preprocessing.LabelEncoder()\n",
    "le_res=le.fit_transform(df['Hour'])\n",
    "Hour=pd.DataFrame(le_res)\n",
    "\n",
    "#District=pd.get_dummies(df['PdDistrict'],drop_first=True)\n",
    "Hour.columns=['Hour']\n",
    "df=df.drop(labels=['Hour'],axis=1)\n",
    "df=pd.concat([Hour,df],axis=1)\n",
    "\n",
    "\"\"\""
   ]
  },
  {
   "cell_type": "markdown",
   "metadata": {},
   "source": [
    "\"Minute\""
   ]
  },
  {
   "cell_type": "code",
   "execution_count": 46,
   "metadata": {},
   "outputs": [
    {
     "data": {
      "text/plain": [
       "\"\\n#le = preprocessing.LabelEncoder()\\nle_res=le.fit_transform(df['Minute'])\\nMinute=pd.DataFrame(le_res)\\n\\n#District=pd.get_dummies(df['PdDistrict'],drop_first=True)\\nMinute.columns=['Minute']\\ndf=df.drop(labels=['Minute'],axis=1)\\ndf=pd.concat([Minute,df],axis=1)\\n\""
      ]
     },
     "execution_count": 46,
     "metadata": {},
     "output_type": "execute_result"
    }
   ],
   "source": [
    "\"\"\"\n",
    "#le = preprocessing.LabelEncoder()\n",
    "le_res=le.fit_transform(df['Minute'])\n",
    "Minute=pd.DataFrame(le_res)\n",
    "\n",
    "#District=pd.get_dummies(df['PdDistrict'],drop_first=True)\n",
    "Minute.columns=['Minute']\n",
    "df=df.drop(labels=['Minute'],axis=1)\n",
    "df=pd.concat([Minute,df],axis=1)\n",
    "\"\"\""
   ]
  },
  {
   "cell_type": "markdown",
   "metadata": {},
   "source": [
    "# One Hot Encoding"
   ]
  },
  {
   "cell_type": "code",
   "execution_count": 47,
   "metadata": {},
   "outputs": [],
   "source": [
    "df=pd.get_dummies(df,columns=['Address', 'DayOfWeek', 'PdDistrict','Year','Month','Day','Hour','Minute'],drop_first=True)"
   ]
  },
  {
   "cell_type": "code",
   "execution_count": 48,
   "metadata": {},
   "outputs": [
    {
     "data": {
      "text/plain": [
       "(20000, 92)"
      ]
     },
     "execution_count": 48,
     "metadata": {},
     "output_type": "execute_result"
    }
   ],
   "source": [
    "df.shape"
   ]
  },
  {
   "cell_type": "markdown",
   "metadata": {},
   "source": [
    "# Feature Scaling(Not used YET)"
   ]
  },
  {
   "cell_type": "code",
   "execution_count": 49,
   "metadata": {},
   "outputs": [],
   "source": [
    "\n",
    "scaler=StandardScaler(copy=True, with_mean=True, with_std=True)\n",
    "lt_res=scaler.fit_transform([df['X']])\n",
    "Longitude=pd.DataFrame(lt_res,)\n",
    "\n"
   ]
  },
  {
   "cell_type": "markdown",
   "metadata": {},
   "source": [
    "36 Crime Category are there "
   ]
  },
  {
   "cell_type": "markdown",
   "metadata": {},
   "source": [
    "# Applying different Models"
   ]
  },
  {
   "cell_type": "code",
   "execution_count": 50,
   "metadata": {},
   "outputs": [
    {
     "data": {
      "text/plain": [
       "(20000, 92)"
      ]
     },
     "execution_count": 50,
     "metadata": {},
     "output_type": "execute_result"
    }
   ],
   "source": [
    "#Independent Column\n",
    "X=df\n",
    "X.shape"
   ]
  },
  {
   "cell_type": "code",
   "execution_count": 51,
   "metadata": {},
   "outputs": [
    {
     "data": {
      "text/plain": [
       "(20000, 1)"
      ]
     },
     "execution_count": 51,
     "metadata": {},
     "output_type": "execute_result"
    }
   ],
   "source": [
    "#Dependent column\n",
    "y.shape"
   ]
  },
  {
   "cell_type": "code",
   "execution_count": 52,
   "metadata": {},
   "outputs": [],
   "source": [
    "#splitting the dataset into the training set and test set\n",
    "#from sklearn import model_selection as ms\n",
    "\n",
    "X_train,X_test,y_train,y_test=train_test_split(X,y,test_size=0.33,random_state=0)"
   ]
  },
  {
   "cell_type": "code",
   "execution_count": 53,
   "metadata": {},
   "outputs": [
    {
     "data": {
      "text/plain": [
       "'from sklearn.preprocessing import StandardScaler\\nsc_X=StandardScaler()\\nX_train=sc_X.fit_tranform(X_train)\\nX_test=sc_X.transform(X_test)'"
      ]
     },
     "execution_count": 53,
     "metadata": {},
     "output_type": "execute_result"
    }
   ],
   "source": [
    "\"\"\"from sklearn.preprocessing import StandardScaler\n",
    "sc_X=StandardScaler()\n",
    "X_train=sc_X.fit_tranform(X_train)\n",
    "X_test=sc_X.transform(X_test)\"\"\""
   ]
  },
  {
   "cell_type": "markdown",
   "metadata": {},
   "source": [
    "# XGBoost Model"
   ]
  },
  {
   "cell_type": "code",
   "execution_count": 54,
   "metadata": {},
   "outputs": [
    {
     "data": {
      "text/html": [
       "<div>\n",
       "<style scoped>\n",
       "    .dataframe tbody tr th:only-of-type {\n",
       "        vertical-align: middle;\n",
       "    }\n",
       "\n",
       "    .dataframe tbody tr th {\n",
       "        vertical-align: top;\n",
       "    }\n",
       "\n",
       "    .dataframe thead th {\n",
       "        text-align: right;\n",
       "    }\n",
       "</style>\n",
       "<table border=\"1\" class=\"dataframe\">\n",
       "  <thead>\n",
       "    <tr style=\"text-align: right;\">\n",
       "      <th></th>\n",
       "      <th>X</th>\n",
       "      <th>Y</th>\n",
       "      <th>rot45_X</th>\n",
       "      <th>rot45_Y</th>\n",
       "      <th>radial45</th>\n",
       "      <th>rot30_X</th>\n",
       "      <th>rot30_Y</th>\n",
       "      <th>radial30</th>\n",
       "      <th>rot60_X</th>\n",
       "      <th>rot60_Y</th>\n",
       "      <th>radial60</th>\n",
       "      <th>Address_ALMS</th>\n",
       "      <th>Address_AV</th>\n",
       "      <th>Address_BL</th>\n",
       "      <th>Address_BLOCK</th>\n",
       "      <th>Address_CR</th>\n",
       "      <th>Address_CT</th>\n",
       "      <th>Address_DR</th>\n",
       "      <th>Address_HWY</th>\n",
       "      <th>Address_HY</th>\n",
       "      <th>Address_I-80</th>\n",
       "      <th>Address_LN</th>\n",
       "      <th>Address_PL</th>\n",
       "      <th>Address_PZ</th>\n",
       "      <th>Address_RD</th>\n",
       "      <th>Address_ST</th>\n",
       "      <th>Address_TER</th>\n",
       "      <th>Address_TR</th>\n",
       "      <th>Address_WAY</th>\n",
       "      <th>DayOfWeek_Monday</th>\n",
       "      <th>DayOfWeek_Saturday</th>\n",
       "      <th>DayOfWeek_Sunday</th>\n",
       "      <th>DayOfWeek_Thursday</th>\n",
       "      <th>DayOfWeek_Tuesday</th>\n",
       "      <th>DayOfWeek_Wednesday</th>\n",
       "      <th>PdDistrict_CENTRAL</th>\n",
       "      <th>PdDistrict_INGLESIDE</th>\n",
       "      <th>PdDistrict_MISSION</th>\n",
       "      <th>PdDistrict_NORTHERN</th>\n",
       "      <th>PdDistrict_PARK</th>\n",
       "      <th>PdDistrict_RICHMOND</th>\n",
       "      <th>PdDistrict_SOUTHERN</th>\n",
       "      <th>PdDistrict_TARAVAL</th>\n",
       "      <th>PdDistrict_TENDERLOIN</th>\n",
       "      <th>Year_2004</th>\n",
       "      <th>Year_2005</th>\n",
       "      <th>Year_2006</th>\n",
       "      <th>Year_2007</th>\n",
       "      <th>Year_2008</th>\n",
       "      <th>Year_2009</th>\n",
       "      <th>Year_2010</th>\n",
       "      <th>Year_2011</th>\n",
       "      <th>Year_2012</th>\n",
       "      <th>Year_2013</th>\n",
       "      <th>Year_2014</th>\n",
       "      <th>Year_2015</th>\n",
       "      <th>Month_MonthLow</th>\n",
       "      <th>Month_MonthMed</th>\n",
       "      <th>Day_02</th>\n",
       "      <th>Day_03</th>\n",
       "      <th>Day_04</th>\n",
       "      <th>Day_05</th>\n",
       "      <th>Day_06</th>\n",
       "      <th>Day_07</th>\n",
       "      <th>Day_08</th>\n",
       "      <th>Day_09</th>\n",
       "      <th>Day_10</th>\n",
       "      <th>Day_11</th>\n",
       "      <th>Day_12</th>\n",
       "      <th>Day_13</th>\n",
       "      <th>Day_14</th>\n",
       "      <th>Day_15</th>\n",
       "      <th>Day_16</th>\n",
       "      <th>Day_17</th>\n",
       "      <th>Day_18</th>\n",
       "      <th>Day_19</th>\n",
       "      <th>Day_20</th>\n",
       "      <th>Day_21</th>\n",
       "      <th>Day_22</th>\n",
       "      <th>Day_23</th>\n",
       "      <th>Day_24</th>\n",
       "      <th>Day_25</th>\n",
       "      <th>Day_26</th>\n",
       "      <th>Day_27</th>\n",
       "      <th>Day_28</th>\n",
       "      <th>Day_29</th>\n",
       "      <th>Day_30</th>\n",
       "      <th>Day_31</th>\n",
       "      <th>Hour_EARLY_MORNING</th>\n",
       "      <th>Hour_MORNING</th>\n",
       "      <th>Hour_NIGHT</th>\n",
       "      <th>Minute_low</th>\n",
       "    </tr>\n",
       "  </thead>\n",
       "  <tbody>\n",
       "    <tr>\n",
       "      <th>0</th>\n",
       "      <td>-122.419331</td>\n",
       "      <td>37.762264</td>\n",
       "      <td>-59.852546</td>\n",
       "      <td>113.248388</td>\n",
       "      <td>128.091860</td>\n",
       "      <td>-28.507545</td>\n",
       "      <td>93.911786</td>\n",
       "      <td>98.143282</td>\n",
       "      <td>-87.134009</td>\n",
       "      <td>124.896273</td>\n",
       "      <td>152.287276</td>\n",
       "      <td>0</td>\n",
       "      <td>0</td>\n",
       "      <td>0</td>\n",
       "      <td>0</td>\n",
       "      <td>0</td>\n",
       "      <td>0</td>\n",
       "      <td>0</td>\n",
       "      <td>0</td>\n",
       "      <td>0</td>\n",
       "      <td>0</td>\n",
       "      <td>0</td>\n",
       "      <td>0</td>\n",
       "      <td>0</td>\n",
       "      <td>0</td>\n",
       "      <td>1</td>\n",
       "      <td>0</td>\n",
       "      <td>0</td>\n",
       "      <td>0</td>\n",
       "      <td>0</td>\n",
       "      <td>0</td>\n",
       "      <td>0</td>\n",
       "      <td>0</td>\n",
       "      <td>0</td>\n",
       "      <td>0</td>\n",
       "      <td>0</td>\n",
       "      <td>0</td>\n",
       "      <td>1</td>\n",
       "      <td>0</td>\n",
       "      <td>0</td>\n",
       "      <td>0</td>\n",
       "      <td>0</td>\n",
       "      <td>0</td>\n",
       "      <td>0</td>\n",
       "      <td>0</td>\n",
       "      <td>0</td>\n",
       "      <td>0</td>\n",
       "      <td>0</td>\n",
       "      <td>0</td>\n",
       "      <td>0</td>\n",
       "      <td>0</td>\n",
       "      <td>0</td>\n",
       "      <td>0</td>\n",
       "      <td>1</td>\n",
       "      <td>0</td>\n",
       "      <td>0</td>\n",
       "      <td>0</td>\n",
       "      <td>1</td>\n",
       "      <td>0</td>\n",
       "      <td>0</td>\n",
       "      <td>0</td>\n",
       "      <td>0</td>\n",
       "      <td>0</td>\n",
       "      <td>0</td>\n",
       "      <td>0</td>\n",
       "      <td>0</td>\n",
       "      <td>0</td>\n",
       "      <td>0</td>\n",
       "      <td>0</td>\n",
       "      <td>0</td>\n",
       "      <td>0</td>\n",
       "      <td>0</td>\n",
       "      <td>0</td>\n",
       "      <td>0</td>\n",
       "      <td>0</td>\n",
       "      <td>0</td>\n",
       "      <td>0</td>\n",
       "      <td>0</td>\n",
       "      <td>0</td>\n",
       "      <td>0</td>\n",
       "      <td>0</td>\n",
       "      <td>0</td>\n",
       "      <td>0</td>\n",
       "      <td>0</td>\n",
       "      <td>1</td>\n",
       "      <td>0</td>\n",
       "      <td>0</td>\n",
       "      <td>0</td>\n",
       "      <td>0</td>\n",
       "      <td>0</td>\n",
       "      <td>0</td>\n",
       "      <td>0</td>\n",
       "    </tr>\n",
       "    <tr>\n",
       "      <th>1</th>\n",
       "      <td>-122.411340</td>\n",
       "      <td>37.781271</td>\n",
       "      <td>-59.833459</td>\n",
       "      <td>113.256175</td>\n",
       "      <td>128.089828</td>\n",
       "      <td>-28.487089</td>\n",
       "      <td>93.924250</td>\n",
       "      <td>98.149269</td>\n",
       "      <td>-87.117585</td>\n",
       "      <td>124.898855</td>\n",
       "      <td>152.279998</td>\n",
       "      <td>0</td>\n",
       "      <td>0</td>\n",
       "      <td>0</td>\n",
       "      <td>0</td>\n",
       "      <td>0</td>\n",
       "      <td>0</td>\n",
       "      <td>0</td>\n",
       "      <td>0</td>\n",
       "      <td>0</td>\n",
       "      <td>0</td>\n",
       "      <td>0</td>\n",
       "      <td>0</td>\n",
       "      <td>0</td>\n",
       "      <td>0</td>\n",
       "      <td>1</td>\n",
       "      <td>0</td>\n",
       "      <td>0</td>\n",
       "      <td>0</td>\n",
       "      <td>0</td>\n",
       "      <td>0</td>\n",
       "      <td>0</td>\n",
       "      <td>1</td>\n",
       "      <td>0</td>\n",
       "      <td>0</td>\n",
       "      <td>0</td>\n",
       "      <td>0</td>\n",
       "      <td>0</td>\n",
       "      <td>0</td>\n",
       "      <td>0</td>\n",
       "      <td>0</td>\n",
       "      <td>1</td>\n",
       "      <td>0</td>\n",
       "      <td>0</td>\n",
       "      <td>1</td>\n",
       "      <td>0</td>\n",
       "      <td>0</td>\n",
       "      <td>0</td>\n",
       "      <td>0</td>\n",
       "      <td>0</td>\n",
       "      <td>0</td>\n",
       "      <td>0</td>\n",
       "      <td>0</td>\n",
       "      <td>0</td>\n",
       "      <td>0</td>\n",
       "      <td>0</td>\n",
       "      <td>0</td>\n",
       "      <td>1</td>\n",
       "      <td>0</td>\n",
       "      <td>0</td>\n",
       "      <td>0</td>\n",
       "      <td>0</td>\n",
       "      <td>0</td>\n",
       "      <td>0</td>\n",
       "      <td>0</td>\n",
       "      <td>0</td>\n",
       "      <td>0</td>\n",
       "      <td>0</td>\n",
       "      <td>0</td>\n",
       "      <td>0</td>\n",
       "      <td>0</td>\n",
       "      <td>0</td>\n",
       "      <td>0</td>\n",
       "      <td>0</td>\n",
       "      <td>0</td>\n",
       "      <td>1</td>\n",
       "      <td>0</td>\n",
       "      <td>0</td>\n",
       "      <td>0</td>\n",
       "      <td>0</td>\n",
       "      <td>0</td>\n",
       "      <td>0</td>\n",
       "      <td>0</td>\n",
       "      <td>0</td>\n",
       "      <td>0</td>\n",
       "      <td>0</td>\n",
       "      <td>0</td>\n",
       "      <td>0</td>\n",
       "      <td>1</td>\n",
       "      <td>0</td>\n",
       "      <td>0</td>\n",
       "      <td>0</td>\n",
       "    </tr>\n",
       "    <tr>\n",
       "      <th>2</th>\n",
       "      <td>-122.403405</td>\n",
       "      <td>37.775421</td>\n",
       "      <td>-59.831985</td>\n",
       "      <td>113.246430</td>\n",
       "      <td>128.080522</td>\n",
       "      <td>-28.488188</td>\n",
       "      <td>93.915217</td>\n",
       "      <td>98.140944</td>\n",
       "      <td>-87.113638</td>\n",
       "      <td>124.889059</td>\n",
       "      <td>152.269705</td>\n",
       "      <td>0</td>\n",
       "      <td>0</td>\n",
       "      <td>0</td>\n",
       "      <td>0</td>\n",
       "      <td>0</td>\n",
       "      <td>0</td>\n",
       "      <td>0</td>\n",
       "      <td>0</td>\n",
       "      <td>0</td>\n",
       "      <td>0</td>\n",
       "      <td>0</td>\n",
       "      <td>0</td>\n",
       "      <td>0</td>\n",
       "      <td>0</td>\n",
       "      <td>1</td>\n",
       "      <td>0</td>\n",
       "      <td>0</td>\n",
       "      <td>0</td>\n",
       "      <td>0</td>\n",
       "      <td>0</td>\n",
       "      <td>0</td>\n",
       "      <td>0</td>\n",
       "      <td>0</td>\n",
       "      <td>1</td>\n",
       "      <td>0</td>\n",
       "      <td>0</td>\n",
       "      <td>0</td>\n",
       "      <td>0</td>\n",
       "      <td>0</td>\n",
       "      <td>0</td>\n",
       "      <td>1</td>\n",
       "      <td>0</td>\n",
       "      <td>0</td>\n",
       "      <td>0</td>\n",
       "      <td>0</td>\n",
       "      <td>0</td>\n",
       "      <td>1</td>\n",
       "      <td>0</td>\n",
       "      <td>0</td>\n",
       "      <td>0</td>\n",
       "      <td>0</td>\n",
       "      <td>0</td>\n",
       "      <td>0</td>\n",
       "      <td>0</td>\n",
       "      <td>0</td>\n",
       "      <td>0</td>\n",
       "      <td>1</td>\n",
       "      <td>0</td>\n",
       "      <td>0</td>\n",
       "      <td>0</td>\n",
       "      <td>0</td>\n",
       "      <td>0</td>\n",
       "      <td>0</td>\n",
       "      <td>0</td>\n",
       "      <td>0</td>\n",
       "      <td>0</td>\n",
       "      <td>0</td>\n",
       "      <td>0</td>\n",
       "      <td>0</td>\n",
       "      <td>1</td>\n",
       "      <td>0</td>\n",
       "      <td>0</td>\n",
       "      <td>0</td>\n",
       "      <td>0</td>\n",
       "      <td>0</td>\n",
       "      <td>0</td>\n",
       "      <td>0</td>\n",
       "      <td>0</td>\n",
       "      <td>0</td>\n",
       "      <td>0</td>\n",
       "      <td>0</td>\n",
       "      <td>0</td>\n",
       "      <td>0</td>\n",
       "      <td>0</td>\n",
       "      <td>0</td>\n",
       "      <td>0</td>\n",
       "      <td>0</td>\n",
       "      <td>0</td>\n",
       "      <td>0</td>\n",
       "      <td>1</td>\n",
       "      <td>1</td>\n",
       "    </tr>\n",
       "    <tr>\n",
       "      <th>3</th>\n",
       "      <td>-122.404715</td>\n",
       "      <td>37.730161</td>\n",
       "      <td>-59.864910</td>\n",
       "      <td>113.215357</td>\n",
       "      <td>128.068437</td>\n",
       "      <td>-28.528038</td>\n",
       "      <td>93.876677</td>\n",
       "      <td>98.115643</td>\n",
       "      <td>-87.137403</td>\n",
       "      <td>124.867564</td>\n",
       "      <td>152.265674</td>\n",
       "      <td>0</td>\n",
       "      <td>1</td>\n",
       "      <td>0</td>\n",
       "      <td>0</td>\n",
       "      <td>0</td>\n",
       "      <td>0</td>\n",
       "      <td>0</td>\n",
       "      <td>0</td>\n",
       "      <td>0</td>\n",
       "      <td>0</td>\n",
       "      <td>0</td>\n",
       "      <td>0</td>\n",
       "      <td>0</td>\n",
       "      <td>0</td>\n",
       "      <td>0</td>\n",
       "      <td>0</td>\n",
       "      <td>0</td>\n",
       "      <td>0</td>\n",
       "      <td>0</td>\n",
       "      <td>0</td>\n",
       "      <td>0</td>\n",
       "      <td>1</td>\n",
       "      <td>0</td>\n",
       "      <td>0</td>\n",
       "      <td>0</td>\n",
       "      <td>0</td>\n",
       "      <td>0</td>\n",
       "      <td>0</td>\n",
       "      <td>0</td>\n",
       "      <td>0</td>\n",
       "      <td>0</td>\n",
       "      <td>0</td>\n",
       "      <td>0</td>\n",
       "      <td>0</td>\n",
       "      <td>0</td>\n",
       "      <td>0</td>\n",
       "      <td>1</td>\n",
       "      <td>0</td>\n",
       "      <td>0</td>\n",
       "      <td>0</td>\n",
       "      <td>0</td>\n",
       "      <td>0</td>\n",
       "      <td>0</td>\n",
       "      <td>0</td>\n",
       "      <td>0</td>\n",
       "      <td>1</td>\n",
       "      <td>0</td>\n",
       "      <td>0</td>\n",
       "      <td>0</td>\n",
       "      <td>0</td>\n",
       "      <td>0</td>\n",
       "      <td>0</td>\n",
       "      <td>0</td>\n",
       "      <td>0</td>\n",
       "      <td>0</td>\n",
       "      <td>0</td>\n",
       "      <td>0</td>\n",
       "      <td>0</td>\n",
       "      <td>0</td>\n",
       "      <td>0</td>\n",
       "      <td>0</td>\n",
       "      <td>0</td>\n",
       "      <td>0</td>\n",
       "      <td>0</td>\n",
       "      <td>0</td>\n",
       "      <td>0</td>\n",
       "      <td>0</td>\n",
       "      <td>0</td>\n",
       "      <td>0</td>\n",
       "      <td>0</td>\n",
       "      <td>0</td>\n",
       "      <td>0</td>\n",
       "      <td>1</td>\n",
       "      <td>0</td>\n",
       "      <td>0</td>\n",
       "      <td>0</td>\n",
       "      <td>0</td>\n",
       "      <td>0</td>\n",
       "      <td>0</td>\n",
       "      <td>0</td>\n",
       "      <td>1</td>\n",
       "    </tr>\n",
       "    <tr>\n",
       "      <th>4</th>\n",
       "      <td>-122.405239</td>\n",
       "      <td>37.785265</td>\n",
       "      <td>-59.826321</td>\n",
       "      <td>113.254686</td>\n",
       "      <td>128.085177</td>\n",
       "      <td>-28.480580</td>\n",
       "      <td>93.924659</td>\n",
       "      <td>98.147771</td>\n",
       "      <td>-87.110304</td>\n",
       "      <td>124.895569</td>\n",
       "      <td>152.273137</td>\n",
       "      <td>0</td>\n",
       "      <td>0</td>\n",
       "      <td>0</td>\n",
       "      <td>0</td>\n",
       "      <td>0</td>\n",
       "      <td>0</td>\n",
       "      <td>0</td>\n",
       "      <td>0</td>\n",
       "      <td>0</td>\n",
       "      <td>0</td>\n",
       "      <td>0</td>\n",
       "      <td>0</td>\n",
       "      <td>0</td>\n",
       "      <td>0</td>\n",
       "      <td>1</td>\n",
       "      <td>0</td>\n",
       "      <td>0</td>\n",
       "      <td>0</td>\n",
       "      <td>0</td>\n",
       "      <td>0</td>\n",
       "      <td>1</td>\n",
       "      <td>0</td>\n",
       "      <td>0</td>\n",
       "      <td>0</td>\n",
       "      <td>0</td>\n",
       "      <td>0</td>\n",
       "      <td>0</td>\n",
       "      <td>0</td>\n",
       "      <td>0</td>\n",
       "      <td>0</td>\n",
       "      <td>1</td>\n",
       "      <td>0</td>\n",
       "      <td>0</td>\n",
       "      <td>0</td>\n",
       "      <td>0</td>\n",
       "      <td>0</td>\n",
       "      <td>0</td>\n",
       "      <td>0</td>\n",
       "      <td>0</td>\n",
       "      <td>0</td>\n",
       "      <td>0</td>\n",
       "      <td>1</td>\n",
       "      <td>0</td>\n",
       "      <td>0</td>\n",
       "      <td>0</td>\n",
       "      <td>0</td>\n",
       "      <td>1</td>\n",
       "      <td>0</td>\n",
       "      <td>0</td>\n",
       "      <td>0</td>\n",
       "      <td>0</td>\n",
       "      <td>0</td>\n",
       "      <td>0</td>\n",
       "      <td>0</td>\n",
       "      <td>1</td>\n",
       "      <td>0</td>\n",
       "      <td>0</td>\n",
       "      <td>0</td>\n",
       "      <td>0</td>\n",
       "      <td>0</td>\n",
       "      <td>0</td>\n",
       "      <td>0</td>\n",
       "      <td>0</td>\n",
       "      <td>0</td>\n",
       "      <td>0</td>\n",
       "      <td>0</td>\n",
       "      <td>0</td>\n",
       "      <td>0</td>\n",
       "      <td>0</td>\n",
       "      <td>0</td>\n",
       "      <td>0</td>\n",
       "      <td>0</td>\n",
       "      <td>0</td>\n",
       "      <td>0</td>\n",
       "      <td>0</td>\n",
       "      <td>0</td>\n",
       "      <td>0</td>\n",
       "      <td>0</td>\n",
       "      <td>0</td>\n",
       "      <td>0</td>\n",
       "      <td>1</td>\n",
       "    </tr>\n",
       "  </tbody>\n",
       "</table>\n",
       "</div>"
      ],
      "text/plain": [
       "            X          Y    rot45_X     rot45_Y    radial45    rot30_X  \\\n",
       "0 -122.419331  37.762264 -59.852546  113.248388  128.091860 -28.507545   \n",
       "1 -122.411340  37.781271 -59.833459  113.256175  128.089828 -28.487089   \n",
       "2 -122.403405  37.775421 -59.831985  113.246430  128.080522 -28.488188   \n",
       "3 -122.404715  37.730161 -59.864910  113.215357  128.068437 -28.528038   \n",
       "4 -122.405239  37.785265 -59.826321  113.254686  128.085177 -28.480580   \n",
       "\n",
       "     rot30_Y   radial30    rot60_X     rot60_Y    radial60  Address_ALMS  \\\n",
       "0  93.911786  98.143282 -87.134009  124.896273  152.287276             0   \n",
       "1  93.924250  98.149269 -87.117585  124.898855  152.279998             0   \n",
       "2  93.915217  98.140944 -87.113638  124.889059  152.269705             0   \n",
       "3  93.876677  98.115643 -87.137403  124.867564  152.265674             0   \n",
       "4  93.924659  98.147771 -87.110304  124.895569  152.273137             0   \n",
       "\n",
       "   Address_AV  Address_BL  Address_BLOCK  Address_CR  Address_CT  Address_DR  \\\n",
       "0           0           0              0           0           0           0   \n",
       "1           0           0              0           0           0           0   \n",
       "2           0           0              0           0           0           0   \n",
       "3           1           0              0           0           0           0   \n",
       "4           0           0              0           0           0           0   \n",
       "\n",
       "   Address_HWY  Address_HY  Address_I-80  Address_LN  Address_PL  Address_PZ  \\\n",
       "0            0           0             0           0           0           0   \n",
       "1            0           0             0           0           0           0   \n",
       "2            0           0             0           0           0           0   \n",
       "3            0           0             0           0           0           0   \n",
       "4            0           0             0           0           0           0   \n",
       "\n",
       "   Address_RD  Address_ST  Address_TER  Address_TR  Address_WAY  \\\n",
       "0           0           1            0           0            0   \n",
       "1           0           1            0           0            0   \n",
       "2           0           1            0           0            0   \n",
       "3           0           0            0           0            0   \n",
       "4           0           1            0           0            0   \n",
       "\n",
       "   DayOfWeek_Monday  DayOfWeek_Saturday  DayOfWeek_Sunday  DayOfWeek_Thursday  \\\n",
       "0                 0                   0                 0                   0   \n",
       "1                 0                   0                 0                   1   \n",
       "2                 0                   0                 0                   0   \n",
       "3                 0                   0                 0                   1   \n",
       "4                 0                   0                 1                   0   \n",
       "\n",
       "   DayOfWeek_Tuesday  DayOfWeek_Wednesday  PdDistrict_CENTRAL  \\\n",
       "0                  0                    0                   0   \n",
       "1                  0                    0                   0   \n",
       "2                  0                    1                   0   \n",
       "3                  0                    0                   0   \n",
       "4                  0                    0                   0   \n",
       "\n",
       "   PdDistrict_INGLESIDE  PdDistrict_MISSION  PdDistrict_NORTHERN  \\\n",
       "0                     0                   1                    0   \n",
       "1                     0                   0                    0   \n",
       "2                     0                   0                    0   \n",
       "3                     0                   0                    0   \n",
       "4                     0                   0                    0   \n",
       "\n",
       "   PdDistrict_PARK  PdDistrict_RICHMOND  PdDistrict_SOUTHERN  \\\n",
       "0                0                    0                    0   \n",
       "1                0                    0                    1   \n",
       "2                0                    0                    1   \n",
       "3                0                    0                    0   \n",
       "4                0                    0                    1   \n",
       "\n",
       "   PdDistrict_TARAVAL  PdDistrict_TENDERLOIN  Year_2004  Year_2005  Year_2006  \\\n",
       "0                   0                      0          0          0          0   \n",
       "1                   0                      0          1          0          0   \n",
       "2                   0                      0          0          0          0   \n",
       "3                   0                      0          0          0          0   \n",
       "4                   0                      0          0          0          0   \n",
       "\n",
       "   Year_2007  Year_2008  Year_2009  Year_2010  Year_2011  Year_2012  \\\n",
       "0          0          0          0          0          0          0   \n",
       "1          0          0          0          0          0          0   \n",
       "2          1          0          0          0          0          0   \n",
       "3          1          0          0          0          0          0   \n",
       "4          0          0          0          0          0          1   \n",
       "\n",
       "   Year_2013  Year_2014  Year_2015  Month_MonthLow  Month_MonthMed  Day_02  \\\n",
       "0          1          0          0               0               1       0   \n",
       "1          0          0          0               0               1       0   \n",
       "2          0          0          0               0               1       0   \n",
       "3          0          0          0               1               0       0   \n",
       "4          0          0          0               0               1       0   \n",
       "\n",
       "   Day_03  Day_04  Day_05  Day_06  Day_07  Day_08  Day_09  Day_10  Day_11  \\\n",
       "0       0       0       0       0       0       0       0       0       0   \n",
       "1       0       0       0       0       0       0       0       0       0   \n",
       "2       0       0       0       0       0       0       0       0       0   \n",
       "3       0       0       0       0       0       0       0       0       0   \n",
       "4       0       0       0       0       0       0       1       0       0   \n",
       "\n",
       "   Day_12  Day_13  Day_14  Day_15  Day_16  Day_17  Day_18  Day_19  Day_20  \\\n",
       "0       0       0       0       0       0       0       0       0       0   \n",
       "1       0       0       0       0       0       0       0       1       0   \n",
       "2       0       0       1       0       0       0       0       0       0   \n",
       "3       0       0       0       0       0       0       0       0       0   \n",
       "4       0       0       0       0       0       0       0       0       0   \n",
       "\n",
       "   Day_21  Day_22  Day_23  Day_24  Day_25  Day_26  Day_27  Day_28  Day_29  \\\n",
       "0       0       0       0       0       0       0       0       1       0   \n",
       "1       0       0       0       0       0       0       0       0       0   \n",
       "2       0       0       0       0       0       0       0       0       0   \n",
       "3       0       0       0       0       0       0       1       0       0   \n",
       "4       0       0       0       0       0       0       0       0       0   \n",
       "\n",
       "   Day_30  Day_31  Hour_EARLY_MORNING  Hour_MORNING  Hour_NIGHT  Minute_low  \n",
       "0       0       0                   0             0           0           0  \n",
       "1       0       0                   1             0           0           0  \n",
       "2       0       0                   0             0           1           1  \n",
       "3       0       0                   0             0           0           1  \n",
       "4       0       0                   0             0           0           1  "
      ]
     },
     "execution_count": 54,
     "metadata": {},
     "output_type": "execute_result"
    }
   ],
   "source": [
    "X.head()"
   ]
  },
  {
   "cell_type": "code",
   "execution_count": 55,
   "metadata": {},
   "outputs": [
    {
     "name": "stderr",
     "output_type": "stream",
     "text": [
      "C:\\anaconda\\lib\\site-packages\\sklearn\\preprocessing\\label.py:219: DataConversionWarning: A column-vector y was passed when a 1d array was expected. Please change the shape of y to (n_samples, ), for example using ravel().\n",
      "  y = column_or_1d(y, warn=True)\n",
      "C:\\anaconda\\lib\\site-packages\\sklearn\\preprocessing\\label.py:252: DataConversionWarning: A column-vector y was passed when a 1d array was expected. Please change the shape of y to (n_samples, ), for example using ravel().\n",
      "  y = column_or_1d(y, warn=True)\n"
     ]
    },
    {
     "data": {
      "text/plain": [
       "XGBClassifier(base_score=0.5, booster='gbtree', colsample_bylevel=1,\n",
       "       colsample_bytree=1, gamma=0, learning_rate=0.1, max_delta_step=0,\n",
       "       max_depth=3, min_child_weight=1, missing=None, n_estimators=100,\n",
       "       n_jobs=1, nthread=None, objective='multi:softprob', random_state=0,\n",
       "       reg_alpha=0, reg_lambda=1, scale_pos_weight=1, seed=None,\n",
       "       silent=True, subsample=1)"
      ]
     },
     "execution_count": 55,
     "metadata": {},
     "output_type": "execute_result"
    }
   ],
   "source": [
    "model = xgb.XGBClassifier(objective='multi:softprob')\n",
    "model.fit(X_train, y_train)"
   ]
  },
  {
   "cell_type": "code",
   "execution_count": 56,
   "metadata": {},
   "outputs": [],
   "source": [
    "y_pred=model.predict_proba(X_test)"
   ]
  },
  {
   "cell_type": "code",
   "execution_count": 57,
   "metadata": {},
   "outputs": [
    {
     "name": "stdout",
     "output_type": "stream",
     "text": [
      "2.5165919008444657\n"
     ]
    }
   ],
   "source": [
    "print (log_loss(y_test,y_pred));"
   ]
  },
  {
   "cell_type": "markdown",
   "metadata": {},
   "source": [
    "Early Stopping in XGBoost"
   ]
  },
  {
   "cell_type": "code",
   "execution_count": 37,
   "metadata": {},
   "outputs": [
    {
     "name": "stderr",
     "output_type": "stream",
     "text": [
      "C:\\anaconda\\lib\\site-packages\\sklearn\\preprocessing\\label.py:219: DataConversionWarning: A column-vector y was passed when a 1d array was expected. Please change the shape of y to (n_samples, ), for example using ravel().\n",
      "  y = column_or_1d(y, warn=True)\n",
      "C:\\anaconda\\lib\\site-packages\\sklearn\\preprocessing\\label.py:252: DataConversionWarning: A column-vector y was passed when a 1d array was expected. Please change the shape of y to (n_samples, ), for example using ravel().\n",
      "  y = column_or_1d(y, warn=True)\n",
      "C:\\anaconda\\lib\\site-packages\\sklearn\\preprocessing\\label.py:252: DataConversionWarning: A column-vector y was passed when a 1d array was expected. Please change the shape of y to (n_samples, ), for example using ravel().\n",
      "  y = column_or_1d(y, warn=True)\n"
     ]
    },
    {
     "name": "stdout",
     "output_type": "stream",
     "text": [
      "[0]\tvalidation_0-mlogloss:3.42722\n",
      "Will train until validation_0-mlogloss hasn't improved in 10 rounds.\n",
      "[1]\tvalidation_0-mlogloss:3.31607\n",
      "[2]\tvalidation_0-mlogloss:3.22979\n",
      "[3]\tvalidation_0-mlogloss:3.15756\n",
      "[4]\tvalidation_0-mlogloss:3.0969\n",
      "[5]\tvalidation_0-mlogloss:3.04489\n",
      "[6]\tvalidation_0-mlogloss:2.99891\n",
      "[7]\tvalidation_0-mlogloss:2.9586\n",
      "[8]\tvalidation_0-mlogloss:2.92274\n",
      "[9]\tvalidation_0-mlogloss:2.89069\n",
      "[10]\tvalidation_0-mlogloss:2.86159\n",
      "[11]\tvalidation_0-mlogloss:2.83499\n",
      "[12]\tvalidation_0-mlogloss:2.811\n",
      "[13]\tvalidation_0-mlogloss:2.78906\n",
      "[14]\tvalidation_0-mlogloss:2.76912\n",
      "[15]\tvalidation_0-mlogloss:2.75094\n",
      "[16]\tvalidation_0-mlogloss:2.73411\n",
      "[17]\tvalidation_0-mlogloss:2.71827\n",
      "[18]\tvalidation_0-mlogloss:2.70373\n",
      "[19]\tvalidation_0-mlogloss:2.69066\n",
      "[20]\tvalidation_0-mlogloss:2.67818\n",
      "[21]\tvalidation_0-mlogloss:2.66666\n",
      "[22]\tvalidation_0-mlogloss:2.65626\n",
      "[23]\tvalidation_0-mlogloss:2.64634\n",
      "[24]\tvalidation_0-mlogloss:2.63736\n",
      "[25]\tvalidation_0-mlogloss:2.62887\n",
      "[26]\tvalidation_0-mlogloss:2.621\n",
      "[27]\tvalidation_0-mlogloss:2.61347\n",
      "[28]\tvalidation_0-mlogloss:2.60681\n",
      "[29]\tvalidation_0-mlogloss:2.59992\n",
      "[30]\tvalidation_0-mlogloss:2.594\n",
      "[31]\tvalidation_0-mlogloss:2.58852\n",
      "[32]\tvalidation_0-mlogloss:2.58309\n",
      "[33]\tvalidation_0-mlogloss:2.57789\n",
      "[34]\tvalidation_0-mlogloss:2.57307\n",
      "[35]\tvalidation_0-mlogloss:2.56878\n",
      "[36]\tvalidation_0-mlogloss:2.56446\n",
      "[37]\tvalidation_0-mlogloss:2.56073\n",
      "[38]\tvalidation_0-mlogloss:2.55713\n",
      "[39]\tvalidation_0-mlogloss:2.55371\n",
      "[40]\tvalidation_0-mlogloss:2.55023\n",
      "[41]\tvalidation_0-mlogloss:2.54708\n",
      "[42]\tvalidation_0-mlogloss:2.54414\n",
      "[43]\tvalidation_0-mlogloss:2.54157\n",
      "[44]\tvalidation_0-mlogloss:2.53905\n",
      "[45]\tvalidation_0-mlogloss:2.53624\n",
      "[46]\tvalidation_0-mlogloss:2.534\n",
      "[47]\tvalidation_0-mlogloss:2.53189\n",
      "[48]\tvalidation_0-mlogloss:2.5298\n",
      "[49]\tvalidation_0-mlogloss:2.52792\n",
      "[50]\tvalidation_0-mlogloss:2.52574\n",
      "[51]\tvalidation_0-mlogloss:2.52395\n",
      "[52]\tvalidation_0-mlogloss:2.52137\n",
      "[53]\tvalidation_0-mlogloss:2.51979\n",
      "[54]\tvalidation_0-mlogloss:2.5182\n",
      "[55]\tvalidation_0-mlogloss:2.51666\n",
      "[56]\tvalidation_0-mlogloss:2.51513\n",
      "[57]\tvalidation_0-mlogloss:2.51369\n",
      "[58]\tvalidation_0-mlogloss:2.5125\n",
      "[59]\tvalidation_0-mlogloss:2.51077\n",
      "[60]\tvalidation_0-mlogloss:2.5094\n",
      "[61]\tvalidation_0-mlogloss:2.50826\n",
      "[62]\tvalidation_0-mlogloss:2.50694\n",
      "[63]\tvalidation_0-mlogloss:2.50587\n",
      "[64]\tvalidation_0-mlogloss:2.50494\n",
      "[65]\tvalidation_0-mlogloss:2.50394\n",
      "[66]\tvalidation_0-mlogloss:2.50273\n",
      "[67]\tvalidation_0-mlogloss:2.50181\n",
      "[68]\tvalidation_0-mlogloss:2.50108\n",
      "[69]\tvalidation_0-mlogloss:2.50031\n",
      "[70]\tvalidation_0-mlogloss:2.49951\n",
      "[71]\tvalidation_0-mlogloss:2.49876\n",
      "[72]\tvalidation_0-mlogloss:2.4979\n",
      "[73]\tvalidation_0-mlogloss:2.49704\n",
      "[74]\tvalidation_0-mlogloss:2.49613\n",
      "[75]\tvalidation_0-mlogloss:2.49515\n",
      "[76]\tvalidation_0-mlogloss:2.49443\n",
      "[77]\tvalidation_0-mlogloss:2.49375\n",
      "[78]\tvalidation_0-mlogloss:2.49304\n",
      "[79]\tvalidation_0-mlogloss:2.49228\n",
      "[80]\tvalidation_0-mlogloss:2.49174\n",
      "[81]\tvalidation_0-mlogloss:2.49087\n",
      "[82]\tvalidation_0-mlogloss:2.49034\n",
      "[83]\tvalidation_0-mlogloss:2.48972\n",
      "[84]\tvalidation_0-mlogloss:2.48914\n",
      "[85]\tvalidation_0-mlogloss:2.48861\n",
      "[86]\tvalidation_0-mlogloss:2.48806\n",
      "[87]\tvalidation_0-mlogloss:2.48748\n",
      "[88]\tvalidation_0-mlogloss:2.48706\n",
      "[89]\tvalidation_0-mlogloss:2.48661\n",
      "[90]\tvalidation_0-mlogloss:2.48617\n",
      "[91]\tvalidation_0-mlogloss:2.48563\n",
      "[92]\tvalidation_0-mlogloss:2.48514\n",
      "[93]\tvalidation_0-mlogloss:2.48465\n",
      "[94]\tvalidation_0-mlogloss:2.48426\n",
      "[95]\tvalidation_0-mlogloss:2.48385\n",
      "[96]\tvalidation_0-mlogloss:2.48356\n",
      "[97]\tvalidation_0-mlogloss:2.4832\n",
      "[98]\tvalidation_0-mlogloss:2.48284\n",
      "[99]\tvalidation_0-mlogloss:2.48249\n"
     ]
    },
    {
     "data": {
      "text/plain": [
       "XGBClassifier(base_score=0.5, booster='gbtree', colsample_bylevel=1,\n",
       "       colsample_bytree=1, gamma=0, learning_rate=0.1, max_delta_step=0,\n",
       "       max_depth=3, min_child_weight=1, missing=None, n_estimators=100,\n",
       "       n_jobs=1, nthread=None, objective='multi:softprob', random_state=0,\n",
       "       reg_alpha=0, reg_lambda=1, scale_pos_weight=1, seed=None,\n",
       "       silent=True, subsample=1)"
      ]
     },
     "execution_count": 37,
     "metadata": {},
     "output_type": "execute_result"
    }
   ],
   "source": [
    "model = XGBClassifier(objective='multi:softprob')\n",
    "eval_set = [(X_test, y_test)]\n",
    "model.fit(X_train, y_train, early_stopping_rounds=10, eval_metric=\"mlogloss\", eval_set=eval_set, verbose=True)"
   ]
  },
  {
   "cell_type": "markdown",
   "metadata": {},
   "source": [
    "PLot of Important Feature"
   ]
  },
  {
   "cell_type": "code",
   "execution_count": null,
   "metadata": {},
   "outputs": [],
   "source": [
    "# plot feature importance\n",
    "xgb.plot_importance(model)\n"
   ]
  }
 ],
 "metadata": {
  "kernelspec": {
   "display_name": "Python 3",
   "language": "python",
   "name": "python3"
  },
  "language_info": {
   "codemirror_mode": {
    "name": "ipython",
    "version": 3
   },
   "file_extension": ".py",
   "mimetype": "text/x-python",
   "name": "python",
   "nbconvert_exporter": "python",
   "pygments_lexer": "ipython3",
   "version": "3.6.6"
  }
 },
 "nbformat": 4,
 "nbformat_minor": 2
}
