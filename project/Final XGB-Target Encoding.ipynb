{
 "cells": [
  {
   "cell_type": "code",
   "execution_count": 1,
   "metadata": {
    "_uuid": "31553934c492db3f530cf17301a4570af150a4c5"
   },
   "outputs": [],
   "source": [
    "%matplotlib inline\n",
    "\n",
    "import warnings\n",
    "warnings.filterwarnings('ignore')\n",
    "warnings.filterwarnings('ignore', category=DeprecationWarning)\n",
    "\n",
    "import pandas as pd\n",
    "pd.options.display.max_columns = 100\n",
    "\n",
    "from matplotlib import pyplot as plt\n",
    "import numpy as np\n",
    "\n",
    "import seaborn as sns\n",
    "sns.set(rc={'figure.figsize':(12,9)})\n",
    "import pylab as plot\n",
    "from sklearn import preprocessing\n",
    "from sklearn.model_selection import train_test_split\n",
    "from sklearn.metrics import log_loss,accuracy_score\n",
    "import category_encoders as ce\n"
   ]
  },
  {
   "cell_type": "code",
   "execution_count": 2,
   "metadata": {
    "_uuid": "66887fd564504f55442c6bc56e949883e13c8c8e"
   },
   "outputs": [],
   "source": [
    "from xgboost import XGBClassifier\n",
    "import xgboost as xgb"
   ]
  },
  {
   "cell_type": "code",
   "execution_count": 3,
   "metadata": {
    "_uuid": "567fbd9ee53c5b4be96794a0291268fb3b81db47"
   },
   "outputs": [],
   "source": [
    "#for scaling\n",
    "from sklearn.preprocessing import StandardScaler"
   ]
  },
  {
   "cell_type": "markdown",
   "metadata": {
    "_uuid": "6f17c16b032b5c9b8410c22a1df0ca8b9b92cc57"
   },
   "source": [
    "Importing training dataset"
   ]
  },
  {
   "cell_type": "code",
   "execution_count": 4,
   "metadata": {
    "_uuid": "ffa2ce6acfc049ba200515731c02148f2295c3f5"
   },
   "outputs": [],
   "source": [
    "data = pd.read_csv('train.csv')\n",
    "test = pd.read_csv('test.csv')"
   ]
  },
  {
   "cell_type": "code",
   "execution_count": 5,
   "metadata": {
    "_uuid": "dba3f2ffa9913773317ee4f74a2de56faca1775a"
   },
   "outputs": [
    {
     "name": "stdout",
     "output_type": "stream",
     "text": [
      "(867873, 10)\n"
     ]
    }
   ],
   "source": [
    "print(data.shape)"
   ]
  },
  {
   "cell_type": "code",
   "execution_count": 6,
   "metadata": {
    "_uuid": "adf11990e33863cdeb91d2a2504ca31b74e01d68"
   },
   "outputs": [
    {
     "data": {
      "text/plain": [
       "Index(['Dates', 'Category', 'Descript', 'DayOfWeek', 'PdDistrict',\n",
       "       'Resolution', 'Address', 'X', 'Y', 'Id'],\n",
       "      dtype='object')"
      ]
     },
     "execution_count": 6,
     "metadata": {},
     "output_type": "execute_result"
    }
   ],
   "source": [
    "data.columns"
   ]
  },
  {
   "cell_type": "markdown",
   "metadata": {
    "_uuid": "19691cf8e8eab92ff8230570252a09f7a18af480"
   },
   "source": [
    "Splitting the \"Dates\" into date and time"
   ]
  },
  {
   "cell_type": "code",
   "execution_count": 7,
   "metadata": {
    "_uuid": "3d35c6b7317b38f0d4747768bfaf8756e36aa4cc"
   },
   "outputs": [],
   "source": [
    "df=data.head(30000)\n",
    "datetime=df.Dates.str.split(pat=\" \",expand=True)\n",
    "datetime.columns=['Date','Time']\n",
    "#datetime\n",
    "\n",
    "#------------test data-------------\n",
    "\n",
    "df_test=test\n",
    "datetime_test=df_test.Dates.str.split(pat=\" \",expand=True)\n",
    "datetime_test.columns=['Date','Time']"
   ]
  },
  {
   "cell_type": "code",
   "execution_count": 8,
   "metadata": {
    "_uuid": "8df684409d1df3ad015ad3fa16459304d03138b2"
   },
   "outputs": [],
   "source": [
    "Date=datetime.Date.str.split(pat=\"-\",expand=True)\n",
    "Date.columns=['Year','Month','Day']\n",
    "\n",
    "Time=datetime.Time.str.split(pat=\":\",expand=True)\n",
    "Time.columns=['Hour','Minute','Second']\n",
    "\n",
    "#------------test data-------------\n",
    "\n",
    "Date_test=datetime_test.Date.str.split(pat=\"-\",expand=True)\n",
    "Date_test.columns=['Year','Month','Day']\n",
    "\n",
    "Time_test=datetime_test.Time.str.split(pat=\":\",expand=True)\n",
    "Time_test.columns=['Hour','Minute','Second']"
   ]
  },
  {
   "cell_type": "markdown",
   "metadata": {
    "_uuid": "16a305ba2729b08246db796eb9c3945bdaa70f03"
   },
   "source": [
    "Dropping the column of \"Dates\" and appending the dataframe \"datetime\""
   ]
  },
  {
   "cell_type": "code",
   "execution_count": 9,
   "metadata": {
    "_uuid": "f7aca357775d27e7a6bc92ea5085141d66a9fda3"
   },
   "outputs": [],
   "source": [
    "df=pd.concat([df,Date,Time],axis=1)\n",
    "#df\n",
    "\n",
    "#-----------test data------------------\n",
    "\n",
    "df_test=pd.concat([df_test,Date_test,Time_test],axis=1)\n"
   ]
  },
  {
   "cell_type": "code",
   "execution_count": 10,
   "metadata": {
    "_uuid": "52dca1b1cd16626401f13985ad575ea21347c47f"
   },
   "outputs": [],
   "source": [
    "df=df.drop(labels=['Dates'],axis=1)\n",
    "\n",
    "#-----------test data------------------\n",
    "\n",
    "df_test=df_test.drop(labels=['Dates'],axis=1)\n"
   ]
  },
  {
   "cell_type": "markdown",
   "metadata": {
    "_uuid": "fe92f1b80a1d0f15e68bf1a04bb85f06ddd8ca6a"
   },
   "source": [
    "# #Encoding"
   ]
  },
  {
   "cell_type": "code",
   "execution_count": 11,
   "metadata": {
    "_uuid": "17685cb925b07d136cba97ffafd70f787174bb75"
   },
   "outputs": [
    {
     "data": {
      "text/plain": [
       "Index(['Category', 'Descript', 'DayOfWeek', 'PdDistrict', 'Resolution',\n",
       "       'Address', 'X', 'Y', 'Id', 'Year', 'Month', 'Day', 'Hour', 'Minute',\n",
       "       'Second'],\n",
       "      dtype='object')"
      ]
     },
     "execution_count": 11,
     "metadata": {},
     "output_type": "execute_result"
    }
   ],
   "source": [
    "df.columns"
   ]
  },
  {
   "cell_type": "markdown",
   "metadata": {
    "_uuid": "25cec7d58e0748f7bc6fc0f935653b0bef90a66c"
   },
   "source": [
    "LabelEncoding of \"DayOfWeek\" and \"PdDistrict\""
   ]
  },
  {
   "cell_type": "code",
   "execution_count": 12,
   "metadata": {
    "_uuid": "34f5d750bae866e939d6c90fb6755b617bb319af"
   },
   "outputs": [],
   "source": [
    "le = preprocessing.LabelEncoder()"
   ]
  },
  {
   "cell_type": "code",
   "execution_count": 13,
   "metadata": {
    "_uuid": "5b267a01fe0adc37294fff9949a56e054bd4bf82"
   },
   "outputs": [],
   "source": [
    "#y=pd.get_dummies(df.Category,columns=['Category'],prefix=\" \",prefix_sep=\" \",drop_first=True,)\n",
    "\n",
    "le_res=le.fit_transform(df['Category'])\n",
    "y=pd.DataFrame(le_res)\n",
    "y.columns=['Category']\n",
    "#y"
   ]
  },
  {
   "cell_type": "markdown",
   "metadata": {
    "_uuid": "db141db265dc923af8caa4a2575e8f9fdfd09a06"
   },
   "source": [
    "# Rotation 45 degree "
   ]
  },
  {
   "cell_type": "code",
   "execution_count": 14,
   "metadata": {
    "_uuid": "87edc9f872775fdbb99af9c55087388733574b30"
   },
   "outputs": [],
   "source": [
    "df['Y']=df['Y'].apply(lambda x : x if 37.82 > x else 37.82)\n",
    "df['X']=df['X'].apply(lambda x : x if -122.3 > x else 122.3)\n",
    "\n",
    "#--------test data--------------\n",
    "\n",
    "df_test['Y']=df_test['Y'].apply(lambda x : x if 37.82 > x else 37.82)\n",
    "df_test['X']=df_test['X'].apply(lambda x : x if -122.3 > x else 122.3)"
   ]
  },
  {
   "cell_type": "code",
   "execution_count": 15,
   "metadata": {
    "_uuid": "cdc2d89f37552a11e6056f163264cea6c16a93d1"
   },
   "outputs": [],
   "source": [
    "df[\"rot45_X\"]=0.707 * df[\"Y\"] + 0.707 * df[\"X\"]\n",
    "df[\"rot45_Y\"]=0.707 * df[\"Y\"] - 0.707 * df[\"X\"]\n",
    "\n",
    "#----------test data------------\n",
    "\n",
    "df_test[\"rot45_X\"]=0.707 * df_test[\"Y\"] + 0.707 * df_test[\"X\"]\n",
    "df_test[\"rot45_Y\"]=0.707 * df_test[\"Y\"] - 0.707 * df_test[\"X\"]"
   ]
  },
  {
   "cell_type": "code",
   "execution_count": 16,
   "metadata": {
    "_uuid": "668c4d29c3f484d578556ac987e8de79677eafbd"
   },
   "outputs": [],
   "source": [
    "df[\"radial45\"]=np.sqrt(np.power(df['rot45_X'],2) + np.power(df['rot45_Y'],2))\n",
    "\n",
    "#-----------test data------------\n",
    "\n",
    "df_test[\"radial45\"]=np.sqrt(np.power(df_test['rot45_X'],2) + np.power(df_test['rot45_Y'],2))"
   ]
  },
  {
   "cell_type": "markdown",
   "metadata": {
    "_uuid": "aac887f8ab2488da6da7f2bde5fc6ff84f97b46f"
   },
   "source": [
    "# Rotation 30 degree"
   ]
  },
  {
   "cell_type": "code",
   "execution_count": 17,
   "metadata": {
    "_uuid": "57240bf9abfb5c064d1c575f2121995d4dedaa52"
   },
   "outputs": [],
   "source": [
    "df[\"rot30_X\"]=(1.732/2) * df[\"Y\"] + 0.5 * df[\"X\"]\n",
    "df[\"rot30_Y\"]=(1.732/2) * df[\"Y\"] - 0.5 * df[\"X\"]\n",
    "\n",
    "df_test[\"rot30_X\"]=(1.732/2) * df_test[\"Y\"] + 0.5 * df_test[\"X\"]\n",
    "df_test[\"rot30_Y\"]=(1.732/2) * df_test[\"Y\"] - 0.5 * df_test[\"X\"]"
   ]
  },
  {
   "cell_type": "code",
   "execution_count": 18,
   "metadata": {
    "_uuid": "1cfb605b3b8e7edbe9fdb3f1b540c2dc1b596e2f"
   },
   "outputs": [],
   "source": [
    "df[\"radial30\"]=np.sqrt(np.power(df['rot30_X'],2) + np.power(df['rot30_Y'],2))\n",
    "\n",
    "df_test[\"radial30\"]=np.sqrt(np.power(df_test['rot30_X'],2) + np.power(df_test['rot30_Y'],2))"
   ]
  },
  {
   "cell_type": "markdown",
   "metadata": {
    "_uuid": "3be54e663d4fb89722c67529b55c9a65be7d997b"
   },
   "source": [
    "# Rotation 60 degree"
   ]
  },
  {
   "cell_type": "code",
   "execution_count": 19,
   "metadata": {
    "_uuid": "ad26e1b64b3d3bc0a1b0e8f69f5e4636db66f665"
   },
   "outputs": [],
   "source": [
    "df[\"rot60_X\"]=(0.5) * df[\"Y\"] + (1.732/2) * df[\"X\"]\n",
    "df[\"rot60_Y\"]=0.5 * df[\"Y\"] - (1.732/2) * df[\"X\"]\n",
    "\n",
    "df_test[\"rot60_X\"]=(0.5) * df_test[\"Y\"] + (1.732/2) * df_test[\"X\"]\n",
    "df_test[\"rot60_Y\"]=0.5 * df_test[\"Y\"] - (1.732/2) * df_test[\"X\"]"
   ]
  },
  {
   "cell_type": "code",
   "execution_count": 20,
   "metadata": {
    "_uuid": "875d5fcf1c3d2650f04c8b9481015456425be0cd"
   },
   "outputs": [],
   "source": [
    "df[\"radial60\"]=np.sqrt(np.power(df['rot60_X'],2) + np.power(df['rot60_Y'],2))\n",
    "\n",
    "df_test[\"radial60\"]=np.sqrt(np.power(df_test['rot60_X'],2) + np.power(df_test['rot60_Y'],2))"
   ]
  },
  {
   "cell_type": "markdown",
   "metadata": {
    "_uuid": "21d093db421b1b2d37e4b901a6569e0978a70554"
   },
   "source": [
    "# Hours clubbing"
   ]
  },
  {
   "cell_type": "code",
   "execution_count": 21,
   "metadata": {
    "_uuid": "08ae1135651d664b24264ce72ddbc8995d17cc96"
   },
   "outputs": [],
   "source": [
    "df['Hour']=df['Hour'].apply(lambda x:int(x))\n",
    "#df['Hour']=df['Hour'].apply(lambda x : 'EARLY_Morning' if (x >= 1) and (x <=5) else ('MORNING' if x >= 6 and x <=11 else ('DAY' if x>=12 and x<=18 else 'Night')))\n",
    "df['Hour']=df['Hour'].apply(lambda x : 'EARLY_MORNING' if x in (1,2,3,4,5) else ('MORNING' if x in (6,7,8,9,10,11) else ('DAY' if x in (12,13,14,15,16,17,18) else 'NIGHT')))\n",
    "\n",
    "df_test['Hour']=df_test['Hour'].apply(lambda x:int(x))\n",
    "#df['Hour']=df['Hour'].apply(lambda x : 'EARLY_Morning' if (x >= 1) and (x <=5) else ('MORNING' if x >= 6 and x <=11 else ('DAY' if x>=12 and x<=18 else 'Night')))\n",
    "df_test['Hour']=df_test['Hour'].apply(lambda x : 'EARLY_MORNING' if x in (1,2,3,4,5) else ('MORNING' if x in (6,7,8,9,10,11) else ('DAY' if x in (12,13,14,15,16,17,18) else 'NIGHT')))"
   ]
  },
  {
   "cell_type": "markdown",
   "metadata": {
    "_uuid": "3c6a16356b0e94c6e294d8009dc7ab76397b9e05"
   },
   "source": [
    "# Month Clubbing"
   ]
  },
  {
   "cell_type": "code",
   "execution_count": 22,
   "metadata": {
    "_uuid": "25520c7511d486bf5dc06222486acbf89c981f51"
   },
   "outputs": [],
   "source": [
    "df['Month']=df['Month'].apply(lambda x:int(x))\n",
    "#df['Month']=df['Month'].apply(lambda x : 'MonthLow' if x== 12 else ('MonthMed' if x in (2,6,7,8,9,11) else 'MonthHigh'))\n",
    "df['Month']=df['Month'].apply(lambda x : 'Winter' if x in (11,12,1,2) else ('Spring' if x in (3,4,5) else('Summer' if x in (6,7,8) else('Fall'))))\n",
    "\n",
    "df_test['Month']=df_test['Month'].apply(lambda x:int(x))\n",
    "#df['Month']=df['Month'].apply(lambda x : 'MonthLow' if x== 12 else ('MonthMed' if x in (2,6,7,8,9,11) else 'MonthHigh'))\n",
    "df_test['Month']=df_test['Month'].apply(lambda x : 'Winter' if x in (11,12,1,2) else ('Spring' if x in (3,4,5) else('Summer' if x in (6,7,8) else('Fall'))))"
   ]
  },
  {
   "cell_type": "markdown",
   "metadata": {
    "_uuid": "ada858c293a33df5fa2b945350200d5205bba741"
   },
   "source": [
    "# Minute Clubbing"
   ]
  },
  {
   "cell_type": "code",
   "execution_count": 23,
   "metadata": {
    "_uuid": "5758724a931e571b4d855165eb87342ec015f79a"
   },
   "outputs": [],
   "source": [
    "df['Minute']=df['Minute'].apply(lambda x:int(x))\n",
    "df['Minute']=df['Minute'].apply(lambda x : 'low' if x <31 else 'high')\n",
    "\n",
    "df_test['Minute']=df_test['Minute'].apply(lambda x:int(x))\n",
    "df_test['Minute']=df_test['Minute'].apply(lambda x : 'low' if x <31 else 'high')"
   ]
  },
  {
   "cell_type": "markdown",
   "metadata": {
    "_uuid": "ab70df9f5d5cbeeeb731e7462d68067bb118802f"
   },
   "source": [
    "# DayOfWeek"
   ]
  },
  {
   "cell_type": "code",
   "execution_count": 24,
   "metadata": {
    "_uuid": "e88e26c52f9e84980f6ea7ccfcecbabcd8b4f8a7"
   },
   "outputs": [],
   "source": [
    "df['DayOfWeek']= df['DayOfWeek'].apply(lambda x : 'WeekHigh' if x in (3,5) else ('WeekMed' if x in (2,4,6) else 'WeekLow'))\n",
    "\n",
    "df_test['DayOfWeek']= df_test['DayOfWeek'].apply(lambda x : 'WeekHigh' if x in (3,5) else ('WeekMed' if x in (2,4,6) else 'WeekLow'))\n"
   ]
  },
  {
   "cell_type": "markdown",
   "metadata": {
    "_uuid": "f46874bda8772cef12ada43dcda36374e4f9d758"
   },
   "source": [
    "# Address Update"
   ]
  },
  {
   "cell_type": "code",
   "execution_count": 25,
   "metadata": {
    "_uuid": "83e207d406b36d2c606aecb409c6c9fb6d7d2c70"
   },
   "outputs": [],
   "source": [
    "df['Intersection']=df['Address'].apply(lambda x : 1 if '/' in x else 0)\n",
    "df['Block']=df['Address'].apply(lambda x : 1 if 'Block' in x else 0)\n",
    "#df['StreetSuffix']=df['Address'].apply(lambda x : x.split(' ')[-1] if len(x.split(' ')[-1])==2 else 0) \n",
    "\n",
    "df_test['Intersection']=df_test['Address'].apply(lambda x : 1 if '/' in x else 0)\n",
    "df_test['Block']=df_test['Address'].apply(lambda x : 1 if 'Block' in x else 0)\n",
    "#df_test['StreetSuffix']=df_test['Address'].apply(lambda x : x.split(' ')[-1] if len(x.split(' ')[-1])==2 else 0) "
   ]
  },
  {
   "cell_type": "markdown",
   "metadata": {
    "_uuid": "913bcf82bceb8c0d421480ccfdc30518d68b97ef"
   },
   "source": [
    "# Address splitting"
   ]
  },
  {
   "cell_type": "code",
   "execution_count": 26,
   "metadata": {
    "_uuid": "c7d22c0cb5fce082d90ec75c444fa63d40909cf0"
   },
   "outputs": [
    {
     "data": {
      "text/plain": [
       "'address=pd.DataFrame(df[\\'Address\\'],columns=[\\'Address\\'])\\naddress=address.Address.str.split(pat=\" /\",expand=True )\\n\\naddress.columns=[\\'Address\\',\\'Intr2\\']\\n\\naddress=address.Address.str.split(pat=\" /\",expand=True )\\naddress.columns=[\\'Address\\']\\n\\n#----------test data----------\\n\\naddress_test=pd.DataFrame(df_test[\\'Address\\'],columns=[\\'Address\\'])\\naddress_test=address_test.Address.str.split(pat=\" /\",expand=True )\\n\\naddress_test.columns=[\\'Address\\',\\'Intr2\\']\\n\\naddress_test=address_test.Address.str.split(pat=\" /\",expand=True )\\naddress_test.columns=[\\'Address\\']\\n'"
      ]
     },
     "execution_count": 26,
     "metadata": {},
     "output_type": "execute_result"
    }
   ],
   "source": [
    "\"\"\"address=pd.DataFrame(df['Address'],columns=['Address'])\n",
    "address=address.Address.str.split(pat=\" /\",expand=True )\n",
    "\n",
    "address.columns=['Address','Intr2']\n",
    "\n",
    "address=address.Address.str.split(pat=\" /\",expand=True )\n",
    "address.columns=['Address']\n",
    "\n",
    "#----------test data----------\n",
    "\n",
    "address_test=pd.DataFrame(df_test['Address'],columns=['Address'])\n",
    "address_test=address_test.Address.str.split(pat=\" /\",expand=True )\n",
    "\n",
    "address_test.columns=['Address','Intr2']\n",
    "\n",
    "address_test=address_test.Address.str.split(pat=\" /\",expand=True )\n",
    "address_test.columns=['Address']\n",
    "\"\"\""
   ]
  },
  {
   "cell_type": "code",
   "execution_count": 27,
   "metadata": {
    "_uuid": "8b44c02e9bf373240c5ac1c4d56beb1e1da2a5aa"
   },
   "outputs": [
    {
     "data": {
      "text/plain": [
       "'string=address.iloc[:,0]\\nstring=string.str.strip()\\n\\n#----------test data----------\\n\\nstring_test=address_test.iloc[:,0]\\nstring_test=string_test.str.strip()'"
      ]
     },
     "execution_count": 27,
     "metadata": {},
     "output_type": "execute_result"
    }
   ],
   "source": [
    "\"\"\"string=address.iloc[:,0]\n",
    "string=string.str.strip()\n",
    "\n",
    "#----------test data----------\n",
    "\n",
    "string_test=address_test.iloc[:,0]\n",
    "string_test=string_test.str.strip()\"\"\""
   ]
  },
  {
   "cell_type": "code",
   "execution_count": 28,
   "metadata": {
    "_uuid": "f0ca019f9a45dc6ae0c2dffb5df495061e09c960"
   },
   "outputs": [
    {
     "data": {
      "text/plain": [
       "\"address_fram=string.to_frame()\\ntemp=address_fram['Address'].astype(str).str[-2:]\\n\\n#----------test data----------\\naddress_fram_test=string_test.to_frame()\\ntemp_test=address_fram_test['Address'].astype(str).str[-2:]\""
      ]
     },
     "execution_count": 28,
     "metadata": {},
     "output_type": "execute_result"
    }
   ],
   "source": [
    "\"\"\"address_fram=string.to_frame()\n",
    "temp=address_fram['Address'].astype(str).str[-2:]\n",
    "\n",
    "#----------test data----------\n",
    "address_fram_test=string_test.to_frame()\n",
    "temp_test=address_fram_test['Address'].astype(str).str[-2:]\"\"\""
   ]
  },
  {
   "cell_type": "code",
   "execution_count": 29,
   "metadata": {
    "_uuid": "7aeeb22afaa071f75801e57c7565b3d9dfdd0b12"
   },
   "outputs": [
    {
     "data": {
      "text/plain": [
       "'address=temp.to_frame()\\n\\n#----------test data----------\\n\\naddress_test=temp_test.to_frame()'"
      ]
     },
     "execution_count": 29,
     "metadata": {},
     "output_type": "execute_result"
    }
   ],
   "source": [
    "\"\"\"address=temp.to_frame()\n",
    "\n",
    "#----------test data----------\n",
    "\n",
    "address_test=temp_test.to_frame()\"\"\""
   ]
  },
  {
   "cell_type": "code",
   "execution_count": 30,
   "metadata": {
    "_uuid": "3255f1b9f23b89b1eecd1ffeac73ee815d002462"
   },
   "outputs": [
    {
     "data": {
      "text/plain": [
       "'address[\\'Address\\']=address[\\'Address\\'].apply(lambda x :( x if x in (\"ST\",\"AV\",\"LN\",\"DR\",\"BL\",\"HY\",\"CT\",\"RD\",\"PL\",\"PZ\",\"TR\",\"AL\",\"CR\",\"WK\",\"EX\",\"RW\") else ((\"I-80\" if x in (\"80\") else (\"HWY\" if x in (\"WY\") else (\"WAY\" if x in (\"AY\") else (\"TER\" if x in (\"ER\") else (\"ALMS\" if x in (\"MS\") else (\"MAR\" if x in (\"AR\") else (\"PARK\" if x in (\"RK\") else (\"STWY\" if x in (\"WY\") else (\"VIA\" if x in (\"NO\") else (\"BLOCK\")))))))))))))\\n#----------test data----------\\naddress_test[\\'Address\\']=address_test[\\'Address\\'].apply(lambda x :( x if x in (\"ST\",\"AV\",\"LN\",\"DR\",\"BL\",\"HY\",\"CT\",\"RD\",\"PL\",\"PZ\",\"TR\",\"AL\",\"CR\",\"WK\",\"EX\",\"RW\") else ((\"I-80\" if x in (\"80\") else (\"HWY\" if x in (\"WY\") else (\"WAY\" if x in (\"AY\") else (\"TER\" if x in (\"ER\") else (\"ALMS\" if x in (\"MS\") else (\"MAR\" if x in (\"AR\") else (\"PARK\" if x in (\"RK\") else (\"STWY\" if x in (\"WY\") else (\"VIA\" if x in (\"NO\") else (\"BLOCK\")))))))))))))'"
      ]
     },
     "execution_count": 30,
     "metadata": {},
     "output_type": "execute_result"
    }
   ],
   "source": [
    "\"\"\"address['Address']=address['Address'].apply(lambda x :( x if x in (\"ST\",\"AV\",\"LN\",\"DR\",\"BL\",\"HY\",\"CT\",\"RD\",\"PL\",\"PZ\",\"TR\",\"AL\",\"CR\",\"WK\",\"EX\",\"RW\") else ((\"I-80\" if x in (\"80\") else (\"HWY\" if x in (\"WY\") else (\"WAY\" if x in (\"AY\") else (\"TER\" if x in (\"ER\") else (\"ALMS\" if x in (\"MS\") else (\"MAR\" if x in (\"AR\") else (\"PARK\" if x in (\"RK\") else (\"STWY\" if x in (\"WY\") else (\"VIA\" if x in (\"NO\") else (\"BLOCK\")))))))))))))\n",
    "#----------test data----------\n",
    "address_test['Address']=address_test['Address'].apply(lambda x :( x if x in (\"ST\",\"AV\",\"LN\",\"DR\",\"BL\",\"HY\",\"CT\",\"RD\",\"PL\",\"PZ\",\"TR\",\"AL\",\"CR\",\"WK\",\"EX\",\"RW\") else ((\"I-80\" if x in (\"80\") else (\"HWY\" if x in (\"WY\") else (\"WAY\" if x in (\"AY\") else (\"TER\" if x in (\"ER\") else (\"ALMS\" if x in (\"MS\") else (\"MAR\" if x in (\"AR\") else (\"PARK\" if x in (\"RK\") else (\"STWY\" if x in (\"WY\") else (\"VIA\" if x in (\"NO\") else (\"BLOCK\")))))))))))))\"\"\""
   ]
  },
  {
   "cell_type": "code",
   "execution_count": 31,
   "metadata": {
    "_uuid": "8faa6d50fcbafcdd77066db19d406bad42f6ac15"
   },
   "outputs": [
    {
     "data": {
      "text/plain": [
       "\"df=df.drop(labels=['Address'],axis=1)\\n#----------test data----------\\ndf_test=df_test.drop(labels=['Address'],axis=1)\""
      ]
     },
     "execution_count": 31,
     "metadata": {},
     "output_type": "execute_result"
    }
   ],
   "source": [
    "\"\"\"df=df.drop(labels=['Address'],axis=1)\n",
    "#----------test data----------\n",
    "df_test=df_test.drop(labels=['Address'],axis=1)\"\"\""
   ]
  },
  {
   "cell_type": "code",
   "execution_count": 32,
   "metadata": {
    "_uuid": "bb5954ef577e9aa00c16c3da9fe7b501d1b4ce72"
   },
   "outputs": [
    {
     "data": {
      "text/plain": [
       "'df=pd.concat([address,df],axis=1)\\n#----------test data----------\\ndf_test=pd.concat([address_test,df_test],axis=1)'"
      ]
     },
     "execution_count": 32,
     "metadata": {},
     "output_type": "execute_result"
    }
   ],
   "source": [
    "\"\"\"df=pd.concat([address,df],axis=1)\n",
    "#----------test data----------\n",
    "df_test=pd.concat([address_test,df_test],axis=1)\"\"\""
   ]
  },
  {
   "cell_type": "code",
   "execution_count": 33,
   "metadata": {
    "_uuid": "1f80d7a11e943b36bb7b5c2a5fe6eebcef01e0b2"
   },
   "outputs": [],
   "source": [
    "Id=df['Id']\n",
    "df=df.drop(['Descript','Category','Resolution','Id','Second'],axis=1)\n",
    "\n",
    "#----------test data---------\n",
    "\n",
    "Id_test=df_test['Id']\n",
    "df_test=df_test.drop(['Descript','Resolution','Id','Second'],axis=1)"
   ]
  },
  {
   "cell_type": "code",
   "execution_count": 34,
   "metadata": {
    "_uuid": "2827786826b597839338dcfb58fc6ef368f83277"
   },
   "outputs": [
    {
     "data": {
      "text/html": [
       "<div>\n",
       "<style scoped>\n",
       "    .dataframe tbody tr th:only-of-type {\n",
       "        vertical-align: middle;\n",
       "    }\n",
       "\n",
       "    .dataframe tbody tr th {\n",
       "        vertical-align: top;\n",
       "    }\n",
       "\n",
       "    .dataframe thead th {\n",
       "        text-align: right;\n",
       "    }\n",
       "</style>\n",
       "<table border=\"1\" class=\"dataframe\">\n",
       "  <thead>\n",
       "    <tr style=\"text-align: right;\">\n",
       "      <th></th>\n",
       "      <th>DayOfWeek</th>\n",
       "      <th>PdDistrict</th>\n",
       "      <th>Address</th>\n",
       "      <th>X</th>\n",
       "      <th>Y</th>\n",
       "      <th>Year</th>\n",
       "      <th>Month</th>\n",
       "      <th>Day</th>\n",
       "      <th>Hour</th>\n",
       "      <th>Minute</th>\n",
       "      <th>rot45_X</th>\n",
       "      <th>rot45_Y</th>\n",
       "      <th>radial45</th>\n",
       "      <th>rot30_X</th>\n",
       "      <th>rot30_Y</th>\n",
       "      <th>radial30</th>\n",
       "      <th>rot60_X</th>\n",
       "      <th>rot60_Y</th>\n",
       "      <th>radial60</th>\n",
       "      <th>Intersection</th>\n",
       "      <th>Block</th>\n",
       "    </tr>\n",
       "  </thead>\n",
       "  <tbody>\n",
       "    <tr>\n",
       "      <th>0</th>\n",
       "      <td>WeekLow</td>\n",
       "      <td>TENDERLOIN</td>\n",
       "      <td>100 Block of POWELL ST</td>\n",
       "      <td>-122.407878</td>\n",
       "      <td>37.785968</td>\n",
       "      <td>2010</td>\n",
       "      <td>Summer</td>\n",
       "      <td>04</td>\n",
       "      <td>NIGHT</td>\n",
       "      <td>low</td>\n",
       "      <td>-59.827690</td>\n",
       "      <td>113.257049</td>\n",
       "      <td>128.087906</td>\n",
       "      <td>-28.481291</td>\n",
       "      <td>93.926587</td>\n",
       "      <td>98.149823</td>\n",
       "      <td>-87.112238</td>\n",
       "      <td>124.898206</td>\n",
       "      <td>152.276406</td>\n",
       "      <td>0</td>\n",
       "      <td>1</td>\n",
       "    </tr>\n",
       "    <tr>\n",
       "      <th>1</th>\n",
       "      <td>WeekLow</td>\n",
       "      <td>PARK</td>\n",
       "      <td>2400 Block of GEARY BL</td>\n",
       "      <td>-122.443597</td>\n",
       "      <td>37.782644</td>\n",
       "      <td>2004</td>\n",
       "      <td>Summer</td>\n",
       "      <td>26</td>\n",
       "      <td>NIGHT</td>\n",
       "      <td>high</td>\n",
       "      <td>-59.855294</td>\n",
       "      <td>113.279952</td>\n",
       "      <td>128.121051</td>\n",
       "      <td>-28.502029</td>\n",
       "      <td>93.941568</td>\n",
       "      <td>98.170178</td>\n",
       "      <td>-87.144833</td>\n",
       "      <td>124.927477</td>\n",
       "      <td>152.319061</td>\n",
       "      <td>0</td>\n",
       "      <td>1</td>\n",
       "    </tr>\n",
       "    <tr>\n",
       "      <th>2</th>\n",
       "      <td>WeekLow</td>\n",
       "      <td>SOUTHERN</td>\n",
       "      <td>HOWARD ST / 3RD ST</td>\n",
       "      <td>-122.400474</td>\n",
       "      <td>37.785029</td>\n",
       "      <td>2013</td>\n",
       "      <td>Winter</td>\n",
       "      <td>09</td>\n",
       "      <td>NIGHT</td>\n",
       "      <td>low</td>\n",
       "      <td>-59.823119</td>\n",
       "      <td>113.251150</td>\n",
       "      <td>128.080555</td>\n",
       "      <td>-28.478402</td>\n",
       "      <td>93.922072</td>\n",
       "      <td>98.144663</td>\n",
       "      <td>-87.106296</td>\n",
       "      <td>124.891325</td>\n",
       "      <td>152.267363</td>\n",
       "      <td>1</td>\n",
       "      <td>0</td>\n",
       "    </tr>\n",
       "    <tr>\n",
       "      <th>3</th>\n",
       "      <td>WeekLow</td>\n",
       "      <td>NORTHERN</td>\n",
       "      <td>VANNESS AV / HAYES ST</td>\n",
       "      <td>-122.419698</td>\n",
       "      <td>37.777301</td>\n",
       "      <td>2006</td>\n",
       "      <td>Winter</td>\n",
       "      <td>03</td>\n",
       "      <td>NIGHT</td>\n",
       "      <td>low</td>\n",
       "      <td>-59.842175</td>\n",
       "      <td>113.259278</td>\n",
       "      <td>128.096643</td>\n",
       "      <td>-28.494706</td>\n",
       "      <td>93.924991</td>\n",
       "      <td>98.152190</td>\n",
       "      <td>-87.126808</td>\n",
       "      <td>124.904109</td>\n",
       "      <td>152.289583</td>\n",
       "      <td>1</td>\n",
       "      <td>0</td>\n",
       "    </tr>\n",
       "    <tr>\n",
       "      <th>4</th>\n",
       "      <td>WeekLow</td>\n",
       "      <td>PARK</td>\n",
       "      <td>BEULAH ST / SHRADER ST</td>\n",
       "      <td>-122.451488</td>\n",
       "      <td>37.767516</td>\n",
       "      <td>2014</td>\n",
       "      <td>Fall</td>\n",
       "      <td>21</td>\n",
       "      <td>MORNING</td>\n",
       "      <td>high</td>\n",
       "      <td>-59.871568</td>\n",
       "      <td>113.274836</td>\n",
       "      <td>128.124131</td>\n",
       "      <td>-28.519075</td>\n",
       "      <td>93.932413</td>\n",
       "      <td>98.166368</td>\n",
       "      <td>-87.159230</td>\n",
       "      <td>124.926746</td>\n",
       "      <td>152.326699</td>\n",
       "      <td>1</td>\n",
       "      <td>0</td>\n",
       "    </tr>\n",
       "  </tbody>\n",
       "</table>\n",
       "</div>"
      ],
      "text/plain": [
       "  DayOfWeek  PdDistrict                 Address           X          Y  Year  \\\n",
       "0   WeekLow  TENDERLOIN  100 Block of POWELL ST -122.407878  37.785968  2010   \n",
       "1   WeekLow        PARK  2400 Block of GEARY BL -122.443597  37.782644  2004   \n",
       "2   WeekLow    SOUTHERN      HOWARD ST / 3RD ST -122.400474  37.785029  2013   \n",
       "3   WeekLow    NORTHERN   VANNESS AV / HAYES ST -122.419698  37.777301  2006   \n",
       "4   WeekLow        PARK  BEULAH ST / SHRADER ST -122.451488  37.767516  2014   \n",
       "\n",
       "    Month Day     Hour Minute    rot45_X     rot45_Y    radial45    rot30_X  \\\n",
       "0  Summer  04    NIGHT    low -59.827690  113.257049  128.087906 -28.481291   \n",
       "1  Summer  26    NIGHT   high -59.855294  113.279952  128.121051 -28.502029   \n",
       "2  Winter  09    NIGHT    low -59.823119  113.251150  128.080555 -28.478402   \n",
       "3  Winter  03    NIGHT    low -59.842175  113.259278  128.096643 -28.494706   \n",
       "4    Fall  21  MORNING   high -59.871568  113.274836  128.124131 -28.519075   \n",
       "\n",
       "     rot30_Y   radial30    rot60_X     rot60_Y    radial60  Intersection  \\\n",
       "0  93.926587  98.149823 -87.112238  124.898206  152.276406             0   \n",
       "1  93.941568  98.170178 -87.144833  124.927477  152.319061             0   \n",
       "2  93.922072  98.144663 -87.106296  124.891325  152.267363             1   \n",
       "3  93.924991  98.152190 -87.126808  124.904109  152.289583             1   \n",
       "4  93.932413  98.166368 -87.159230  124.926746  152.326699             1   \n",
       "\n",
       "   Block  \n",
       "0      1  \n",
       "1      1  \n",
       "2      0  \n",
       "3      0  \n",
       "4      0  "
      ]
     },
     "execution_count": 34,
     "metadata": {},
     "output_type": "execute_result"
    }
   ],
   "source": [
    "df_test.head()"
   ]
  },
  {
   "cell_type": "code",
   "execution_count": 35,
   "metadata": {
    "_uuid": "a1d9b6b0e76cc906579c914eab2f9a87ca0abc87"
   },
   "outputs": [
    {
     "data": {
      "text/plain": [
       "array(['MISSION', 'SOUTHERN', 'BAYVIEW', 'CENTRAL', 'INGLESIDE',\n",
       "       'NORTHERN', 'RICHMOND', 'TARAVAL', 'TENDERLOIN', 'PARK'],\n",
       "      dtype=object)"
      ]
     },
     "execution_count": 35,
     "metadata": {},
     "output_type": "execute_result"
    }
   ],
   "source": [
    "data['PdDistrict'].unique()"
   ]
  },
  {
   "cell_type": "markdown",
   "metadata": {
    "_uuid": "4392515fe4ff16700e49aa9fad6c874e40e83b61"
   },
   "source": [
    "# Label Encoding"
   ]
  },
  {
   "cell_type": "code",
   "execution_count": 36,
   "metadata": {
    "_uuid": "d4af891d320b018120012595e138a4007accb0c7"
   },
   "outputs": [],
   "source": [
    "le = preprocessing.LabelEncoder()"
   ]
  },
  {
   "cell_type": "markdown",
   "metadata": {
    "_uuid": "3bb2ad3a7a57df246cba5d4a15c7f425a076d6de"
   },
   "source": [
    "Label Encoding :DayOfWeek"
   ]
  },
  {
   "cell_type": "code",
   "execution_count": 37,
   "metadata": {
    "_uuid": "3182afc198b35e8836c99b31ab38af23e7748ad8"
   },
   "outputs": [
    {
     "data": {
      "text/plain": [
       "\"\\n#le = preprocessing.LabelEncoder()\\nle_res=le.fit_transform(df['DayOfWeek'])\\nDay=pd.DataFrame(le_res)\\nDay.columns=['DayOfWeek']\\ndf=df.drop(labels=['DayOfWeek'],axis=1)\\ndf=pd.concat([Day,df],axis=1)\\n\\n#----------test data----------\\n\\nle_res_test=le.fit_transform(df_test['DayOfWeek'])\\nDay_test=pd.DataFrame(le_res_test)\\nDay_test.columns=['DayOfWeek']\\ndf_test=df_test.drop(labels=['DayOfWeek'],axis=1)\\ndf_test=pd.concat([Day_test,df_test],axis=1)\""
      ]
     },
     "execution_count": 37,
     "metadata": {},
     "output_type": "execute_result"
    }
   ],
   "source": [
    "\"\"\"\n",
    "#le = preprocessing.LabelEncoder()\n",
    "le_res=le.fit_transform(df['DayOfWeek'])\n",
    "Day=pd.DataFrame(le_res)\n",
    "Day.columns=['DayOfWeek']\n",
    "df=df.drop(labels=['DayOfWeek'],axis=1)\n",
    "df=pd.concat([Day,df],axis=1)\n",
    "\n",
    "#----------test data----------\n",
    "\n",
    "le_res_test=le.fit_transform(df_test['DayOfWeek'])\n",
    "Day_test=pd.DataFrame(le_res_test)\n",
    "Day_test.columns=['DayOfWeek']\n",
    "df_test=df_test.drop(labels=['DayOfWeek'],axis=1)\n",
    "df_test=pd.concat([Day_test,df_test],axis=1)\"\"\""
   ]
  },
  {
   "cell_type": "markdown",
   "metadata": {
    "_uuid": "496f542c17c3c01ff5391c4e916ede3164fa92c2"
   },
   "source": [
    "Label Encoding: PdDistrict"
   ]
  },
  {
   "cell_type": "code",
   "execution_count": 38,
   "metadata": {
    "_uuid": "56ad936fd7c6c841d8f9d8ecd9e153f76296720e"
   },
   "outputs": [
    {
     "data": {
      "text/plain": [
       "\"\\nle_res=le.fit_transform(df['PdDistrict'])\\nDistrict=pd.DataFrame(le_res)\\n\\n#District=pd.get_dummies(df['PdDistrict'],drop_first=True)\\nDistrict.columns=['District']\\ndf=df.drop(labels=['PdDistrict'],axis=1)\\ndf=pd.concat([District,df],axis=1)\\n\\n\\nle_res_test=le.fit_transform(df_test['PdDistrict'])\\nDistrict_test=pd.DataFrame(le_res_test)\\n\\n#District=pd.get_dummies(df['PdDistrict'],drop_first=True)\\nDistrict_test.columns=['District']\\ndf_test=df_test.drop(labels=['PdDistrict'],axis=1)\\ndf_test=pd.concat([District_test,df_test],axis=1)\\n\""
      ]
     },
     "execution_count": 38,
     "metadata": {},
     "output_type": "execute_result"
    }
   ],
   "source": [
    "\"\"\"\n",
    "le_res=le.fit_transform(df['PdDistrict'])\n",
    "District=pd.DataFrame(le_res)\n",
    "\n",
    "#District=pd.get_dummies(df['PdDistrict'],drop_first=True)\n",
    "District.columns=['District']\n",
    "df=df.drop(labels=['PdDistrict'],axis=1)\n",
    "df=pd.concat([District,df],axis=1)\n",
    "\n",
    "\n",
    "le_res_test=le.fit_transform(df_test['PdDistrict'])\n",
    "District_test=pd.DataFrame(le_res_test)\n",
    "\n",
    "#District=pd.get_dummies(df['PdDistrict'],drop_first=True)\n",
    "District_test.columns=['District']\n",
    "df_test=df_test.drop(labels=['PdDistrict'],axis=1)\n",
    "df_test=pd.concat([District_test,df_test],axis=1)\n",
    "\"\"\""
   ]
  },
  {
   "cell_type": "markdown",
   "metadata": {
    "_uuid": "b6213695c0e1ce8fc42856266fea60d7c00d70e2"
   },
   "source": [
    "Label encoding : Address"
   ]
  },
  {
   "cell_type": "code",
   "execution_count": 39,
   "metadata": {
    "_uuid": "6eeb4a7cea879b0f5348049be1045ca7f42ec0da"
   },
   "outputs": [],
   "source": [
    "\n",
    "le_res=le.fit_transform(df['Address'])\n",
    "Address=pd.DataFrame(le_res)\n",
    "Address.columns=['Address']\n",
    "df=df.drop(labels=['Address'],axis=1)\n",
    "df=pd.concat([Address,df],axis=1)\n",
    "\n",
    "le_res_test=le.fit_transform(df_test['Address'])\n",
    "Address_test=pd.DataFrame(le_res_test)\n",
    "Address_test.columns=['Address']\n",
    "df_test=df_test.drop(labels=['Address'],axis=1)\n",
    "df_test=pd.concat([Address_test,df_test],axis=1)\n"
   ]
  },
  {
   "cell_type": "markdown",
   "metadata": {
    "_uuid": "e95f79db8d910ad366cba9224138bd9384942def"
   },
   "source": [
    "Label encoding: Year"
   ]
  },
  {
   "cell_type": "code",
   "execution_count": 40,
   "metadata": {
    "_uuid": "b346ac9713337dae84c8f02a1430b5db8d144eb0"
   },
   "outputs": [
    {
     "data": {
      "text/plain": [
       "\"\\n#le = preprocessing.LabelEncoder()\\nle_res=le.fit_transform(df['Year'])\\nYear=pd.DataFrame(le_res)\\n\\n#District=pd.get_dummies(df['PdDistrict'],drop_first=True)\\nYear.columns=['Year']\\ndf=df.drop(labels=['Year'],axis=1)\\ndf=pd.concat([Year,df],axis=1)\\n\\n\\n#le = preprocessing.LabelEncoder()\\nle_res_test=le.fit_transform(df_test['Year'])\\nYear_test=pd.DataFrame(le_res_test)\\n\\n#District=pd.get_dummies(df['PdDistrict'],drop_first=True)\\nYear_test.columns=['Year']\\ndf_test=df_test.drop(labels=['Year'],axis=1)\\ndf_test=pd.concat([Year_test,df_test],axis=1)\\n\\n\""
      ]
     },
     "execution_count": 40,
     "metadata": {},
     "output_type": "execute_result"
    }
   ],
   "source": [
    "\"\"\"\n",
    "#le = preprocessing.LabelEncoder()\n",
    "le_res=le.fit_transform(df['Year'])\n",
    "Year=pd.DataFrame(le_res)\n",
    "\n",
    "#District=pd.get_dummies(df['PdDistrict'],drop_first=True)\n",
    "Year.columns=['Year']\n",
    "df=df.drop(labels=['Year'],axis=1)\n",
    "df=pd.concat([Year,df],axis=1)\n",
    "\n",
    "\n",
    "#le = preprocessing.LabelEncoder()\n",
    "le_res_test=le.fit_transform(df_test['Year'])\n",
    "Year_test=pd.DataFrame(le_res_test)\n",
    "\n",
    "#District=pd.get_dummies(df['PdDistrict'],drop_first=True)\n",
    "Year_test.columns=['Year']\n",
    "df_test=df_test.drop(labels=['Year'],axis=1)\n",
    "df_test=pd.concat([Year_test,df_test],axis=1)\n",
    "\n",
    "\"\"\""
   ]
  },
  {
   "cell_type": "markdown",
   "metadata": {
    "_uuid": "0d2233877adbc0df38f434991be882ae7c30022a"
   },
   "source": [
    "Label encoding: Month"
   ]
  },
  {
   "cell_type": "code",
   "execution_count": 41,
   "metadata": {
    "_uuid": "5aca80e6f54555377348534ec5b5319976f39b7e"
   },
   "outputs": [
    {
     "data": {
      "text/plain": [
       "\"\\n#le = preprocessing.LabelEncoder()\\nle_res=le.fit_transform(df['Month'])\\nMonth=pd.DataFrame(le_res)\\n\\n#District=pd.get_dummies(df['PdDistrict'],drop_first=True)\\nMonth.columns=['Month']\\ndf=df.drop(labels=['Month'],axis=1)\\ndf=pd.concat([Month,df],axis=1)\\n\\n\\n#le = preprocessing.LabelEncoder()\\nle_res_test=le.fit_transform(df_test['Month'])\\nMonth_test=pd.DataFrame(le_res_test)\\n\\n#District=pd.get_dummies(df['PdDistrict'],drop_first=True)\\nMonth_test.columns=['Month']\\ndf_test=df_test.drop(labels=['Month'],axis=1)\\ndf_test=pd.concat([Month_test,df_test],axis=1)\\n\""
      ]
     },
     "execution_count": 41,
     "metadata": {},
     "output_type": "execute_result"
    }
   ],
   "source": [
    "\"\"\"\n",
    "#le = preprocessing.LabelEncoder()\n",
    "le_res=le.fit_transform(df['Month'])\n",
    "Month=pd.DataFrame(le_res)\n",
    "\n",
    "#District=pd.get_dummies(df['PdDistrict'],drop_first=True)\n",
    "Month.columns=['Month']\n",
    "df=df.drop(labels=['Month'],axis=1)\n",
    "df=pd.concat([Month,df],axis=1)\n",
    "\n",
    "\n",
    "#le = preprocessing.LabelEncoder()\n",
    "le_res_test=le.fit_transform(df_test['Month'])\n",
    "Month_test=pd.DataFrame(le_res_test)\n",
    "\n",
    "#District=pd.get_dummies(df['PdDistrict'],drop_first=True)\n",
    "Month_test.columns=['Month']\n",
    "df_test=df_test.drop(labels=['Month'],axis=1)\n",
    "df_test=pd.concat([Month_test,df_test],axis=1)\n",
    "\"\"\""
   ]
  },
  {
   "cell_type": "markdown",
   "metadata": {
    "_uuid": "a774f5f25c5182d09e9865488a051e6665f06c95"
   },
   "source": [
    "Label encoding: Day"
   ]
  },
  {
   "cell_type": "code",
   "execution_count": 42,
   "metadata": {
    "_uuid": "aef2a2ec42b5e9ad942587ce0d2500f9b18df475"
   },
   "outputs": [
    {
     "data": {
      "text/plain": [
       "\"\\n#le = preprocessing.LabelEncoder()\\nle_res=le.fit_transform(df['Day'])\\nDay=pd.DataFrame(le_res)\\n\\n#District=pd.get_dummies(df['PdDistrict'],drop_first=True)\\nDay.columns=['Day']\\ndf=df.drop(labels=['Day'],axis=1)\\ndf=pd.concat([Day,df],axis=1)\\n\\n\\n#le = preprocessing.LabelEncoder()\\nle_res_test=le.fit_transform(df_test['Day'])\\nDay_test=pd.DataFrame(le_res_test)\\n\\n#District=pd.get_dummies(df['PdDistrict'],drop_first=True)\\nDay_test.columns=['Day']\\ndf_test=df_test.drop(labels=['Day'],axis=1)\\ndf_test=pd.concat([Day_test,df_test],axis=1)\\n\""
      ]
     },
     "execution_count": 42,
     "metadata": {},
     "output_type": "execute_result"
    }
   ],
   "source": [
    "\"\"\"\n",
    "#le = preprocessing.LabelEncoder()\n",
    "le_res=le.fit_transform(df['Day'])\n",
    "Day=pd.DataFrame(le_res)\n",
    "\n",
    "#District=pd.get_dummies(df['PdDistrict'],drop_first=True)\n",
    "Day.columns=['Day']\n",
    "df=df.drop(labels=['Day'],axis=1)\n",
    "df=pd.concat([Day,df],axis=1)\n",
    "\n",
    "\n",
    "#le = preprocessing.LabelEncoder()\n",
    "le_res_test=le.fit_transform(df_test['Day'])\n",
    "Day_test=pd.DataFrame(le_res_test)\n",
    "\n",
    "#District=pd.get_dummies(df['PdDistrict'],drop_first=True)\n",
    "Day_test.columns=['Day']\n",
    "df_test=df_test.drop(labels=['Day'],axis=1)\n",
    "df_test=pd.concat([Day_test,df_test],axis=1)\n",
    "\"\"\""
   ]
  },
  {
   "cell_type": "markdown",
   "metadata": {
    "_uuid": "7376032cd6db751d15d1aed352495ad8655da635"
   },
   "source": [
    "Label encoding: Hour"
   ]
  },
  {
   "cell_type": "code",
   "execution_count": 43,
   "metadata": {
    "_uuid": "a4d8891e57a07936f1d5944ee9af75b95280effc"
   },
   "outputs": [
    {
     "data": {
      "text/plain": [
       "\"\\n#le = preprocessing.LabelEncoder()\\nle_res=le.fit_transform(df['Hour'])\\nHour=pd.DataFrame(le_res)\\n\\n#District=pd.get_dummies(df['PdDistrict'],drop_first=True)\\nHour.columns=['Hour']\\ndf=df.drop(labels=['Hour'],axis=1)\\ndf=pd.concat([Hour,df],axis=1)\\n\\n\\n#le = preprocessing.LabelEncoder()\\nle_res_test=le.fit_transform(df_test['Hour'])\\nHour_test=pd.DataFrame(le_res_test)\\n\\n#District=pd.get_dummies(df['PdDistrict'],drop_first=True)\\nHour_test.columns=['Hour']\\ndf_test=df_test.drop(labels=['Hour'],axis=1)\\ndf_test=pd.concat([Hour_test,df_test],axis=1)\\n\""
      ]
     },
     "execution_count": 43,
     "metadata": {},
     "output_type": "execute_result"
    }
   ],
   "source": [
    "\"\"\"\n",
    "#le = preprocessing.LabelEncoder()\n",
    "le_res=le.fit_transform(df['Hour'])\n",
    "Hour=pd.DataFrame(le_res)\n",
    "\n",
    "#District=pd.get_dummies(df['PdDistrict'],drop_first=True)\n",
    "Hour.columns=['Hour']\n",
    "df=df.drop(labels=['Hour'],axis=1)\n",
    "df=pd.concat([Hour,df],axis=1)\n",
    "\n",
    "\n",
    "#le = preprocessing.LabelEncoder()\n",
    "le_res_test=le.fit_transform(df_test['Hour'])\n",
    "Hour_test=pd.DataFrame(le_res_test)\n",
    "\n",
    "#District=pd.get_dummies(df['PdDistrict'],drop_first=True)\n",
    "Hour_test.columns=['Hour']\n",
    "df_test=df_test.drop(labels=['Hour'],axis=1)\n",
    "df_test=pd.concat([Hour_test,df_test],axis=1)\n",
    "\"\"\""
   ]
  },
  {
   "cell_type": "markdown",
   "metadata": {
    "_uuid": "8497d8bc86d795c3cbea56246d1f196f147cf7b2"
   },
   "source": [
    "Label encoding: Minute"
   ]
  },
  {
   "cell_type": "code",
   "execution_count": 44,
   "metadata": {
    "_uuid": "61386a4969316f051ef0967bd719bc6764fb4a85"
   },
   "outputs": [
    {
     "data": {
      "text/plain": [
       "\"\\nle_res=le.fit_transform(df['Minute'])\\nMinute=pd.DataFrame(le_res)\\n\\n#District=pd.get_dummies(df['PdDistrict'],drop_first=True)\\nMinute.columns=['Minute']\\ndf=df.drop(labels=['Minute'],axis=1)\\ndf=pd.concat([Minute,df],axis=1)\\n\\n\\nle_res_test=le.fit_transform(df_test['Minute'])\\nMinute_test=pd.DataFrame(le_res_test)\\n\\n#District=pd.get_dummies(df['PdDistrict'],drop_first=True)\\nMinute_test.columns=['Minute']\\ndf_test=df_test.drop(labels=['Minute'],axis=1)\\ndf_test=pd.concat([Minute_test,df_test],axis=1)\\n\\n\""
      ]
     },
     "execution_count": 44,
     "metadata": {},
     "output_type": "execute_result"
    }
   ],
   "source": [
    "\"\"\"\n",
    "le_res=le.fit_transform(df['Minute'])\n",
    "Minute=pd.DataFrame(le_res)\n",
    "\n",
    "#District=pd.get_dummies(df['PdDistrict'],drop_first=True)\n",
    "Minute.columns=['Minute']\n",
    "df=df.drop(labels=['Minute'],axis=1)\n",
    "df=pd.concat([Minute,df],axis=1)\n",
    "\n",
    "\n",
    "le_res_test=le.fit_transform(df_test['Minute'])\n",
    "Minute_test=pd.DataFrame(le_res_test)\n",
    "\n",
    "#District=pd.get_dummies(df['PdDistrict'],drop_first=True)\n",
    "Minute_test.columns=['Minute']\n",
    "df_test=df_test.drop(labels=['Minute'],axis=1)\n",
    "df_test=pd.concat([Minute_test,df_test],axis=1)\n",
    "\n",
    "\"\"\""
   ]
  },
  {
   "cell_type": "markdown",
   "metadata": {
    "_uuid": "5b61889e005cec032dafff9ae64e88b4288d1d9c"
   },
   "source": [
    "# One Hot Encoding"
   ]
  },
  {
   "cell_type": "code",
   "execution_count": 45,
   "metadata": {
    "_uuid": "200e6ee5eda2dc6aafd28abb0ab31577a2724497"
   },
   "outputs": [],
   "source": [
    "df=pd.get_dummies(df,columns=['DayOfWeek','PdDistrict','Year','Month','Day','Hour','Minute'],drop_first=True)\n",
    "\n",
    "df_test=pd.get_dummies(df_test,columns=['DayOfWeek','PdDistrict','Year','Month','Day','Hour','Minute'],drop_first=True)"
   ]
  },
  {
   "cell_type": "code",
   "execution_count": 46,
   "metadata": {
    "_uuid": "5f2da9a4e07e3ce07c74850e30b18fb0b206c1f1"
   },
   "outputs": [
    {
     "data": {
      "text/plain": [
       "72"
      ]
     },
     "execution_count": 46,
     "metadata": {},
     "output_type": "execute_result"
    }
   ],
   "source": [
    "df_test.columns.nunique()"
   ]
  },
  {
   "cell_type": "code",
   "execution_count": 47,
   "metadata": {
    "_uuid": "7e74020b673368478910b9c585177546ca7136a7"
   },
   "outputs": [
    {
     "data": {
      "text/plain": [
       "72"
      ]
     },
     "execution_count": 47,
     "metadata": {},
     "output_type": "execute_result"
    }
   ],
   "source": [
    "df.columns.nunique()"
   ]
  },
  {
   "cell_type": "code",
   "execution_count": 48,
   "metadata": {},
   "outputs": [],
   "source": [
    "te=ce.TargetEncoder(cols=['X','Y','rot45_X','rot45_Y','radial45','rot30_X','rot30_Y','radial30','rot60_X','radial60'],return_df=True)\n",
    "df=te.fit_transform(df,df)"
   ]
  },
  {
   "cell_type": "markdown",
   "metadata": {
    "_uuid": "98b3149cca4ca6a3a424a4c115a74fe327fe769e"
   },
   "source": [
    "36 Crime Category are there "
   ]
  },
  {
   "cell_type": "markdown",
   "metadata": {
    "_uuid": "d150d962aeac49523127b67caa07b9cd8d66cf7f"
   },
   "source": [
    "# Applying different Models"
   ]
  },
  {
   "cell_type": "code",
   "execution_count": 49,
   "metadata": {
    "_uuid": "b84fc37b61df03b50e55cee6e506322c7155db85"
   },
   "outputs": [
    {
     "data": {
      "text/plain": [
       "(30000, 72)"
      ]
     },
     "execution_count": 49,
     "metadata": {},
     "output_type": "execute_result"
    }
   ],
   "source": [
    "#Independent Column\n",
    "X=df\n",
    "X.shape"
   ]
  },
  {
   "cell_type": "code",
   "execution_count": 50,
   "metadata": {
    "_uuid": "ecca6e79c84bd3c33250aad10f70481ab6a8f189"
   },
   "outputs": [
    {
     "data": {
      "text/plain": [
       "(30000, 1)"
      ]
     },
     "execution_count": 50,
     "metadata": {},
     "output_type": "execute_result"
    }
   ],
   "source": [
    "#Dependent column\n",
    "y.shape"
   ]
  },
  {
   "cell_type": "code",
   "execution_count": 51,
   "metadata": {
    "_uuid": "131f4653c4a5a25c5e9a3b6b4e034f2278ee285b"
   },
   "outputs": [],
   "source": [
    "#splitting the dataset into the training set and test set\n",
    "#from sklearn import model_selection as ms\n",
    "\n",
    "X_train,X_test,y_train,y_test=train_test_split(X,y,test_size=0.3,random_state=0)"
   ]
  },
  {
   "cell_type": "code",
   "execution_count": 52,
   "metadata": {
    "_uuid": "c1a4eb1d606c98e55a14a2bbefbb497dfda8bc97"
   },
   "outputs": [
    {
     "data": {
      "text/plain": [
       "'from sklearn.preprocessing import StandardScaler\\nsc_X=StandardScaler()\\nX_train=sc_X.fit_tranform(X_train)\\nX_test=sc_X.transform(X_test)'"
      ]
     },
     "execution_count": 52,
     "metadata": {},
     "output_type": "execute_result"
    }
   ],
   "source": [
    "\"\"\"from sklearn.preprocessing import StandardScaler\n",
    "sc_X=StandardScaler()\n",
    "X_train=sc_X.fit_tranform(X_train)\n",
    "X_test=sc_X.transform(X_test)\"\"\""
   ]
  },
  {
   "cell_type": "markdown",
   "metadata": {
    "_uuid": "959aa7f22849e049dffba3d83b85f92886cb66a0"
   },
   "source": [
    "# XGBoost Model"
   ]
  },
  {
   "cell_type": "code",
   "execution_count": 53,
   "metadata": {
    "_uuid": "2b03c4b581fb06d0e470ffbf1aaead90cde8e7c7"
   },
   "outputs": [
    {
     "data": {
      "text/html": [
       "<div>\n",
       "<style scoped>\n",
       "    .dataframe tbody tr th:only-of-type {\n",
       "        vertical-align: middle;\n",
       "    }\n",
       "\n",
       "    .dataframe tbody tr th {\n",
       "        vertical-align: top;\n",
       "    }\n",
       "\n",
       "    .dataframe thead th {\n",
       "        text-align: right;\n",
       "    }\n",
       "</style>\n",
       "<table border=\"1\" class=\"dataframe\">\n",
       "  <thead>\n",
       "    <tr style=\"text-align: right;\">\n",
       "      <th></th>\n",
       "      <th>Address</th>\n",
       "      <th>X</th>\n",
       "      <th>Y</th>\n",
       "      <th>rot45_X</th>\n",
       "      <th>rot45_Y</th>\n",
       "      <th>radial45</th>\n",
       "      <th>rot30_X</th>\n",
       "      <th>rot30_Y</th>\n",
       "      <th>radial30</th>\n",
       "      <th>rot60_X</th>\n",
       "      <th>rot60_Y</th>\n",
       "      <th>radial60</th>\n",
       "      <th>Intersection</th>\n",
       "      <th>Block</th>\n",
       "      <th>PdDistrict_CENTRAL</th>\n",
       "      <th>PdDistrict_INGLESIDE</th>\n",
       "      <th>PdDistrict_MISSION</th>\n",
       "      <th>PdDistrict_NORTHERN</th>\n",
       "      <th>PdDistrict_PARK</th>\n",
       "      <th>PdDistrict_RICHMOND</th>\n",
       "      <th>PdDistrict_SOUTHERN</th>\n",
       "      <th>PdDistrict_TARAVAL</th>\n",
       "      <th>PdDistrict_TENDERLOIN</th>\n",
       "      <th>Year_2004</th>\n",
       "      <th>Year_2005</th>\n",
       "      <th>Year_2006</th>\n",
       "      <th>Year_2007</th>\n",
       "      <th>Year_2008</th>\n",
       "      <th>Year_2009</th>\n",
       "      <th>Year_2010</th>\n",
       "      <th>Year_2011</th>\n",
       "      <th>Year_2012</th>\n",
       "      <th>Year_2013</th>\n",
       "      <th>Year_2014</th>\n",
       "      <th>Year_2015</th>\n",
       "      <th>Month_Spring</th>\n",
       "      <th>Month_Summer</th>\n",
       "      <th>Month_Winter</th>\n",
       "      <th>Day_02</th>\n",
       "      <th>Day_03</th>\n",
       "      <th>Day_04</th>\n",
       "      <th>Day_05</th>\n",
       "      <th>Day_06</th>\n",
       "      <th>Day_07</th>\n",
       "      <th>Day_08</th>\n",
       "      <th>Day_09</th>\n",
       "      <th>Day_10</th>\n",
       "      <th>Day_11</th>\n",
       "      <th>Day_12</th>\n",
       "      <th>Day_13</th>\n",
       "      <th>Day_14</th>\n",
       "      <th>Day_15</th>\n",
       "      <th>Day_16</th>\n",
       "      <th>Day_17</th>\n",
       "      <th>Day_18</th>\n",
       "      <th>Day_19</th>\n",
       "      <th>Day_20</th>\n",
       "      <th>Day_21</th>\n",
       "      <th>Day_22</th>\n",
       "      <th>Day_23</th>\n",
       "      <th>Day_24</th>\n",
       "      <th>Day_25</th>\n",
       "      <th>Day_26</th>\n",
       "      <th>Day_27</th>\n",
       "      <th>Day_28</th>\n",
       "      <th>Day_29</th>\n",
       "      <th>Day_30</th>\n",
       "      <th>Day_31</th>\n",
       "      <th>Hour_EARLY_MORNING</th>\n",
       "      <th>Hour_MORNING</th>\n",
       "      <th>Hour_NIGHT</th>\n",
       "      <th>Minute_low</th>\n",
       "    </tr>\n",
       "  </thead>\n",
       "  <tbody>\n",
       "    <tr>\n",
       "      <th>0</th>\n",
       "      <td>3372</td>\n",
       "      <td>3372.051218</td>\n",
       "      <td>3372.051218</td>\n",
       "      <td>3372.051218</td>\n",
       "      <td>3372.051218</td>\n",
       "      <td>3372.051218</td>\n",
       "      <td>3372.051218</td>\n",
       "      <td>3372.051218</td>\n",
       "      <td>3372.051218</td>\n",
       "      <td>3372.051218</td>\n",
       "      <td>124.896273</td>\n",
       "      <td>3372.051218</td>\n",
       "      <td>0</td>\n",
       "      <td>1</td>\n",
       "      <td>0</td>\n",
       "      <td>0</td>\n",
       "      <td>1</td>\n",
       "      <td>0</td>\n",
       "      <td>0</td>\n",
       "      <td>0</td>\n",
       "      <td>0</td>\n",
       "      <td>0</td>\n",
       "      <td>0</td>\n",
       "      <td>0</td>\n",
       "      <td>0</td>\n",
       "      <td>0</td>\n",
       "      <td>0</td>\n",
       "      <td>0</td>\n",
       "      <td>0</td>\n",
       "      <td>0</td>\n",
       "      <td>0</td>\n",
       "      <td>0</td>\n",
       "      <td>1</td>\n",
       "      <td>0</td>\n",
       "      <td>0</td>\n",
       "      <td>0</td>\n",
       "      <td>1</td>\n",
       "      <td>0</td>\n",
       "      <td>0</td>\n",
       "      <td>0</td>\n",
       "      <td>0</td>\n",
       "      <td>0</td>\n",
       "      <td>0</td>\n",
       "      <td>0</td>\n",
       "      <td>0</td>\n",
       "      <td>0</td>\n",
       "      <td>0</td>\n",
       "      <td>0</td>\n",
       "      <td>0</td>\n",
       "      <td>0</td>\n",
       "      <td>0</td>\n",
       "      <td>0</td>\n",
       "      <td>0</td>\n",
       "      <td>0</td>\n",
       "      <td>0</td>\n",
       "      <td>0</td>\n",
       "      <td>0</td>\n",
       "      <td>0</td>\n",
       "      <td>0</td>\n",
       "      <td>0</td>\n",
       "      <td>0</td>\n",
       "      <td>0</td>\n",
       "      <td>0</td>\n",
       "      <td>0</td>\n",
       "      <td>1</td>\n",
       "      <td>0</td>\n",
       "      <td>0</td>\n",
       "      <td>0</td>\n",
       "      <td>0</td>\n",
       "      <td>0</td>\n",
       "      <td>0</td>\n",
       "      <td>0</td>\n",
       "    </tr>\n",
       "    <tr>\n",
       "      <th>1</th>\n",
       "      <td>1365</td>\n",
       "      <td>1365.000000</td>\n",
       "      <td>1365.000000</td>\n",
       "      <td>1365.000000</td>\n",
       "      <td>1365.000000</td>\n",
       "      <td>1365.000000</td>\n",
       "      <td>1365.000000</td>\n",
       "      <td>1365.000000</td>\n",
       "      <td>1365.000000</td>\n",
       "      <td>1365.000000</td>\n",
       "      <td>124.898855</td>\n",
       "      <td>1365.000000</td>\n",
       "      <td>0</td>\n",
       "      <td>1</td>\n",
       "      <td>0</td>\n",
       "      <td>0</td>\n",
       "      <td>0</td>\n",
       "      <td>0</td>\n",
       "      <td>0</td>\n",
       "      <td>0</td>\n",
       "      <td>1</td>\n",
       "      <td>0</td>\n",
       "      <td>0</td>\n",
       "      <td>1</td>\n",
       "      <td>0</td>\n",
       "      <td>0</td>\n",
       "      <td>0</td>\n",
       "      <td>0</td>\n",
       "      <td>0</td>\n",
       "      <td>0</td>\n",
       "      <td>0</td>\n",
       "      <td>0</td>\n",
       "      <td>0</td>\n",
       "      <td>0</td>\n",
       "      <td>0</td>\n",
       "      <td>0</td>\n",
       "      <td>0</td>\n",
       "      <td>1</td>\n",
       "      <td>0</td>\n",
       "      <td>0</td>\n",
       "      <td>0</td>\n",
       "      <td>0</td>\n",
       "      <td>0</td>\n",
       "      <td>0</td>\n",
       "      <td>0</td>\n",
       "      <td>0</td>\n",
       "      <td>0</td>\n",
       "      <td>0</td>\n",
       "      <td>0</td>\n",
       "      <td>0</td>\n",
       "      <td>0</td>\n",
       "      <td>0</td>\n",
       "      <td>0</td>\n",
       "      <td>0</td>\n",
       "      <td>0</td>\n",
       "      <td>1</td>\n",
       "      <td>0</td>\n",
       "      <td>0</td>\n",
       "      <td>0</td>\n",
       "      <td>0</td>\n",
       "      <td>0</td>\n",
       "      <td>0</td>\n",
       "      <td>0</td>\n",
       "      <td>0</td>\n",
       "      <td>0</td>\n",
       "      <td>0</td>\n",
       "      <td>0</td>\n",
       "      <td>0</td>\n",
       "      <td>1</td>\n",
       "      <td>0</td>\n",
       "      <td>0</td>\n",
       "      <td>0</td>\n",
       "    </tr>\n",
       "    <tr>\n",
       "      <th>2</th>\n",
       "      <td>6173</td>\n",
       "      <td>6173.000000</td>\n",
       "      <td>6173.000000</td>\n",
       "      <td>6173.000000</td>\n",
       "      <td>6173.000000</td>\n",
       "      <td>6173.000000</td>\n",
       "      <td>6173.000000</td>\n",
       "      <td>6173.000000</td>\n",
       "      <td>6173.000000</td>\n",
       "      <td>6173.000000</td>\n",
       "      <td>124.889059</td>\n",
       "      <td>6173.000000</td>\n",
       "      <td>0</td>\n",
       "      <td>1</td>\n",
       "      <td>0</td>\n",
       "      <td>0</td>\n",
       "      <td>0</td>\n",
       "      <td>0</td>\n",
       "      <td>0</td>\n",
       "      <td>0</td>\n",
       "      <td>1</td>\n",
       "      <td>0</td>\n",
       "      <td>0</td>\n",
       "      <td>0</td>\n",
       "      <td>0</td>\n",
       "      <td>0</td>\n",
       "      <td>1</td>\n",
       "      <td>0</td>\n",
       "      <td>0</td>\n",
       "      <td>0</td>\n",
       "      <td>0</td>\n",
       "      <td>0</td>\n",
       "      <td>0</td>\n",
       "      <td>0</td>\n",
       "      <td>0</td>\n",
       "      <td>0</td>\n",
       "      <td>0</td>\n",
       "      <td>1</td>\n",
       "      <td>0</td>\n",
       "      <td>0</td>\n",
       "      <td>0</td>\n",
       "      <td>0</td>\n",
       "      <td>0</td>\n",
       "      <td>0</td>\n",
       "      <td>0</td>\n",
       "      <td>0</td>\n",
       "      <td>0</td>\n",
       "      <td>0</td>\n",
       "      <td>0</td>\n",
       "      <td>0</td>\n",
       "      <td>1</td>\n",
       "      <td>0</td>\n",
       "      <td>0</td>\n",
       "      <td>0</td>\n",
       "      <td>0</td>\n",
       "      <td>0</td>\n",
       "      <td>0</td>\n",
       "      <td>0</td>\n",
       "      <td>0</td>\n",
       "      <td>0</td>\n",
       "      <td>0</td>\n",
       "      <td>0</td>\n",
       "      <td>0</td>\n",
       "      <td>0</td>\n",
       "      <td>0</td>\n",
       "      <td>0</td>\n",
       "      <td>0</td>\n",
       "      <td>0</td>\n",
       "      <td>0</td>\n",
       "      <td>0</td>\n",
       "      <td>1</td>\n",
       "      <td>1</td>\n",
       "    </tr>\n",
       "    <tr>\n",
       "      <th>3</th>\n",
       "      <td>3702</td>\n",
       "      <td>3797.149175</td>\n",
       "      <td>3797.149175</td>\n",
       "      <td>3797.149175</td>\n",
       "      <td>3797.149175</td>\n",
       "      <td>3797.149175</td>\n",
       "      <td>3797.149175</td>\n",
       "      <td>3797.149175</td>\n",
       "      <td>3797.149175</td>\n",
       "      <td>3797.149175</td>\n",
       "      <td>124.867564</td>\n",
       "      <td>3797.149175</td>\n",
       "      <td>0</td>\n",
       "      <td>1</td>\n",
       "      <td>0</td>\n",
       "      <td>0</td>\n",
       "      <td>0</td>\n",
       "      <td>0</td>\n",
       "      <td>0</td>\n",
       "      <td>0</td>\n",
       "      <td>0</td>\n",
       "      <td>0</td>\n",
       "      <td>0</td>\n",
       "      <td>0</td>\n",
       "      <td>0</td>\n",
       "      <td>0</td>\n",
       "      <td>1</td>\n",
       "      <td>0</td>\n",
       "      <td>0</td>\n",
       "      <td>0</td>\n",
       "      <td>0</td>\n",
       "      <td>0</td>\n",
       "      <td>0</td>\n",
       "      <td>0</td>\n",
       "      <td>0</td>\n",
       "      <td>0</td>\n",
       "      <td>0</td>\n",
       "      <td>1</td>\n",
       "      <td>0</td>\n",
       "      <td>0</td>\n",
       "      <td>0</td>\n",
       "      <td>0</td>\n",
       "      <td>0</td>\n",
       "      <td>0</td>\n",
       "      <td>0</td>\n",
       "      <td>0</td>\n",
       "      <td>0</td>\n",
       "      <td>0</td>\n",
       "      <td>0</td>\n",
       "      <td>0</td>\n",
       "      <td>0</td>\n",
       "      <td>0</td>\n",
       "      <td>0</td>\n",
       "      <td>0</td>\n",
       "      <td>0</td>\n",
       "      <td>0</td>\n",
       "      <td>0</td>\n",
       "      <td>0</td>\n",
       "      <td>0</td>\n",
       "      <td>0</td>\n",
       "      <td>0</td>\n",
       "      <td>0</td>\n",
       "      <td>0</td>\n",
       "      <td>1</td>\n",
       "      <td>0</td>\n",
       "      <td>0</td>\n",
       "      <td>0</td>\n",
       "      <td>0</td>\n",
       "      <td>0</td>\n",
       "      <td>0</td>\n",
       "      <td>0</td>\n",
       "      <td>1</td>\n",
       "    </tr>\n",
       "    <tr>\n",
       "      <th>4</th>\n",
       "      <td>5283</td>\n",
       "      <td>6511.199103</td>\n",
       "      <td>6511.199103</td>\n",
       "      <td>6511.199103</td>\n",
       "      <td>6511.199103</td>\n",
       "      <td>6511.199103</td>\n",
       "      <td>6511.199103</td>\n",
       "      <td>6511.199103</td>\n",
       "      <td>6511.199103</td>\n",
       "      <td>6511.199103</td>\n",
       "      <td>124.895569</td>\n",
       "      <td>6511.199103</td>\n",
       "      <td>1</td>\n",
       "      <td>0</td>\n",
       "      <td>0</td>\n",
       "      <td>0</td>\n",
       "      <td>0</td>\n",
       "      <td>0</td>\n",
       "      <td>0</td>\n",
       "      <td>0</td>\n",
       "      <td>1</td>\n",
       "      <td>0</td>\n",
       "      <td>0</td>\n",
       "      <td>0</td>\n",
       "      <td>0</td>\n",
       "      <td>0</td>\n",
       "      <td>0</td>\n",
       "      <td>0</td>\n",
       "      <td>0</td>\n",
       "      <td>0</td>\n",
       "      <td>0</td>\n",
       "      <td>1</td>\n",
       "      <td>0</td>\n",
       "      <td>0</td>\n",
       "      <td>0</td>\n",
       "      <td>0</td>\n",
       "      <td>0</td>\n",
       "      <td>0</td>\n",
       "      <td>0</td>\n",
       "      <td>0</td>\n",
       "      <td>0</td>\n",
       "      <td>0</td>\n",
       "      <td>0</td>\n",
       "      <td>0</td>\n",
       "      <td>0</td>\n",
       "      <td>1</td>\n",
       "      <td>0</td>\n",
       "      <td>0</td>\n",
       "      <td>0</td>\n",
       "      <td>0</td>\n",
       "      <td>0</td>\n",
       "      <td>0</td>\n",
       "      <td>0</td>\n",
       "      <td>0</td>\n",
       "      <td>0</td>\n",
       "      <td>0</td>\n",
       "      <td>0</td>\n",
       "      <td>0</td>\n",
       "      <td>0</td>\n",
       "      <td>0</td>\n",
       "      <td>0</td>\n",
       "      <td>0</td>\n",
       "      <td>0</td>\n",
       "      <td>0</td>\n",
       "      <td>0</td>\n",
       "      <td>0</td>\n",
       "      <td>0</td>\n",
       "      <td>0</td>\n",
       "      <td>0</td>\n",
       "      <td>0</td>\n",
       "      <td>0</td>\n",
       "      <td>1</td>\n",
       "    </tr>\n",
       "  </tbody>\n",
       "</table>\n",
       "</div>"
      ],
      "text/plain": [
       "   Address            X            Y      rot45_X      rot45_Y     radial45  \\\n",
       "0     3372  3372.051218  3372.051218  3372.051218  3372.051218  3372.051218   \n",
       "1     1365  1365.000000  1365.000000  1365.000000  1365.000000  1365.000000   \n",
       "2     6173  6173.000000  6173.000000  6173.000000  6173.000000  6173.000000   \n",
       "3     3702  3797.149175  3797.149175  3797.149175  3797.149175  3797.149175   \n",
       "4     5283  6511.199103  6511.199103  6511.199103  6511.199103  6511.199103   \n",
       "\n",
       "       rot30_X      rot30_Y     radial30      rot60_X     rot60_Y  \\\n",
       "0  3372.051218  3372.051218  3372.051218  3372.051218  124.896273   \n",
       "1  1365.000000  1365.000000  1365.000000  1365.000000  124.898855   \n",
       "2  6173.000000  6173.000000  6173.000000  6173.000000  124.889059   \n",
       "3  3797.149175  3797.149175  3797.149175  3797.149175  124.867564   \n",
       "4  6511.199103  6511.199103  6511.199103  6511.199103  124.895569   \n",
       "\n",
       "      radial60  Intersection  Block  PdDistrict_CENTRAL  PdDistrict_INGLESIDE  \\\n",
       "0  3372.051218             0      1                   0                     0   \n",
       "1  1365.000000             0      1                   0                     0   \n",
       "2  6173.000000             0      1                   0                     0   \n",
       "3  3797.149175             0      1                   0                     0   \n",
       "4  6511.199103             1      0                   0                     0   \n",
       "\n",
       "   PdDistrict_MISSION  PdDistrict_NORTHERN  PdDistrict_PARK  \\\n",
       "0                   1                    0                0   \n",
       "1                   0                    0                0   \n",
       "2                   0                    0                0   \n",
       "3                   0                    0                0   \n",
       "4                   0                    0                0   \n",
       "\n",
       "   PdDistrict_RICHMOND  PdDistrict_SOUTHERN  PdDistrict_TARAVAL  \\\n",
       "0                    0                    0                   0   \n",
       "1                    0                    1                   0   \n",
       "2                    0                    1                   0   \n",
       "3                    0                    0                   0   \n",
       "4                    0                    1                   0   \n",
       "\n",
       "   PdDistrict_TENDERLOIN  Year_2004  Year_2005  Year_2006  Year_2007  \\\n",
       "0                      0          0          0          0          0   \n",
       "1                      0          1          0          0          0   \n",
       "2                      0          0          0          0          1   \n",
       "3                      0          0          0          0          1   \n",
       "4                      0          0          0          0          0   \n",
       "\n",
       "   Year_2008  Year_2009  Year_2010  Year_2011  Year_2012  Year_2013  \\\n",
       "0          0          0          0          0          0          1   \n",
       "1          0          0          0          0          0          0   \n",
       "2          0          0          0          0          0          0   \n",
       "3          0          0          0          0          0          0   \n",
       "4          0          0          0          0          1          0   \n",
       "\n",
       "   Year_2014  Year_2015  Month_Spring  Month_Summer  Month_Winter  Day_02  \\\n",
       "0          0          0             0             1             0       0   \n",
       "1          0          0             0             0             1       0   \n",
       "2          0          0             0             0             1       0   \n",
       "3          0          0             0             0             1       0   \n",
       "4          0          0             0             0             0       0   \n",
       "\n",
       "   Day_03  Day_04  Day_05  Day_06  Day_07  Day_08  Day_09  Day_10  Day_11  \\\n",
       "0       0       0       0       0       0       0       0       0       0   \n",
       "1       0       0       0       0       0       0       0       0       0   \n",
       "2       0       0       0       0       0       0       0       0       0   \n",
       "3       0       0       0       0       0       0       0       0       0   \n",
       "4       0       0       0       0       0       0       1       0       0   \n",
       "\n",
       "   Day_12  Day_13  Day_14  Day_15  Day_16  Day_17  Day_18  Day_19  Day_20  \\\n",
       "0       0       0       0       0       0       0       0       0       0   \n",
       "1       0       0       0       0       0       0       0       1       0   \n",
       "2       0       0       1       0       0       0       0       0       0   \n",
       "3       0       0       0       0       0       0       0       0       0   \n",
       "4       0       0       0       0       0       0       0       0       0   \n",
       "\n",
       "   Day_21  Day_22  Day_23  Day_24  Day_25  Day_26  Day_27  Day_28  Day_29  \\\n",
       "0       0       0       0       0       0       0       0       1       0   \n",
       "1       0       0       0       0       0       0       0       0       0   \n",
       "2       0       0       0       0       0       0       0       0       0   \n",
       "3       0       0       0       0       0       0       1       0       0   \n",
       "4       0       0       0       0       0       0       0       0       0   \n",
       "\n",
       "   Day_30  Day_31  Hour_EARLY_MORNING  Hour_MORNING  Hour_NIGHT  Minute_low  \n",
       "0       0       0                   0             0           0           0  \n",
       "1       0       0                   1             0           0           0  \n",
       "2       0       0                   0             0           1           1  \n",
       "3       0       0                   0             0           0           1  \n",
       "4       0       0                   0             0           0           1  "
      ]
     },
     "execution_count": 53,
     "metadata": {},
     "output_type": "execute_result"
    }
   ],
   "source": [
    "X.head()"
   ]
  },
  {
   "cell_type": "code",
   "execution_count": 54,
   "metadata": {
    "_uuid": "237820673b131080f4a71b195ab2867019fb1e48"
   },
   "outputs": [
    {
     "name": "stderr",
     "output_type": "stream",
     "text": [
      "C:\\anaconda\\lib\\site-packages\\sklearn\\preprocessing\\label.py:219: DataConversionWarning: A column-vector y was passed when a 1d array was expected. Please change the shape of y to (n_samples, ), for example using ravel().\n",
      "  y = column_or_1d(y, warn=True)\n",
      "C:\\anaconda\\lib\\site-packages\\sklearn\\preprocessing\\label.py:252: DataConversionWarning: A column-vector y was passed when a 1d array was expected. Please change the shape of y to (n_samples, ), for example using ravel().\n",
      "  y = column_or_1d(y, warn=True)\n"
     ]
    },
    {
     "data": {
      "text/plain": [
       "XGBClassifier(base_score=0.5, booster='gbtree', colsample_bylevel=1,\n",
       "       colsample_bytree=1, gamma=0, learning_rate=0.35, max_delta_step=0,\n",
       "       max_depth=9, min_child_weight=1, missing=None, n_estimators=80,\n",
       "       n_jobs=1, nthread=None, objective='multi:softprob', random_state=0,\n",
       "       reg_alpha=0, reg_lambda=1, scale_pos_weight=1, seed=None,\n",
       "       silent=True, subsample=1)"
      ]
     },
     "execution_count": 54,
     "metadata": {},
     "output_type": "execute_result"
    }
   ],
   "source": [
    "model = xgb.XGBClassifier(objective='multi:softprob',max_depth=9,n_estimators=80,learning_rate=0.35)\n",
    "model.fit(X_train,y_train)"
   ]
  },
  {
   "cell_type": "code",
   "execution_count": 55,
   "metadata": {
    "_uuid": "9c662f6b529a55e5fc7ce6a96749fcd1d647fb6a"
   },
   "outputs": [],
   "source": [
    "y_pred=model.predict_proba(X_test)"
   ]
  },
  {
   "cell_type": "code",
   "execution_count": 56,
   "metadata": {
    "_uuid": "f229cfdfca0b652cf47fccf8dcd18dd159bb06a3"
   },
   "outputs": [
    {
     "data": {
      "text/plain": [
       "array(['ARSON', 'ASSAULT', 'BAD CHECKS', 'BRIBERY', 'BURGLARY',\n",
       "       'DISORDERLY CONDUCT', 'DRIVING UNDER THE INFLUENCE',\n",
       "       'DRUG/NARCOTIC', 'DRUNKENNESS', 'EMBEZZLEMENT', 'EXTORTION',\n",
       "       'FAMILY OFFENSES', 'FORGERY/COUNTERFEITING', 'FRAUD', 'GAMBLING',\n",
       "       'KIDNAPPING', 'LARCENY/THEFT', 'LIQUOR LAWS', 'LOITERING',\n",
       "       'MISSING PERSON', 'NON-CRIMINAL', 'OTHER OFFENSES', 'PROSTITUTION',\n",
       "       'RECOVERED VEHICLE', 'ROBBERY', 'RUNAWAY', 'SECONDARY CODES',\n",
       "       'SEX OFFENSES FORCIBLE', 'STOLEN PROPERTY', 'SUICIDE',\n",
       "       'SUSPICIOUS OCC', 'TRESPASS', 'VANDALISM', 'VEHICLE THEFT',\n",
       "       'WARRANTS', 'WEAPON LAWS'], dtype=object)"
      ]
     },
     "execution_count": 56,
     "metadata": {},
     "output_type": "execute_result"
    }
   ],
   "source": [
    "temp = data['Category']\n",
    "\n",
    "le.fit_transform(temp)\n",
    "le.classes_\n"
   ]
  },
  {
   "cell_type": "code",
   "execution_count": 57,
   "metadata": {
    "_uuid": "bff3836af070a55e9e4b373e4a580341bd8f75e1"
   },
   "outputs": [
    {
     "ename": "ValueError",
     "evalue": "Shape of passed values is (36, 9000), indices imply (36, 10000)",
     "output_type": "error",
     "traceback": [
      "\u001b[1;31m---------------------------------------------------------------------------\u001b[0m",
      "\u001b[1;31mValueError\u001b[0m                                Traceback (most recent call last)",
      "\u001b[1;32mC:\\anaconda\\lib\\site-packages\\pandas\\core\\internals.py\u001b[0m in \u001b[0;36mcreate_block_manager_from_blocks\u001b[1;34m(blocks, axes)\u001b[0m\n\u001b[0;32m   4858\u001b[0m \u001b[1;33m\u001b[0m\u001b[0m\n\u001b[1;32m-> 4859\u001b[1;33m         \u001b[0mmgr\u001b[0m \u001b[1;33m=\u001b[0m \u001b[0mBlockManager\u001b[0m\u001b[1;33m(\u001b[0m\u001b[0mblocks\u001b[0m\u001b[1;33m,\u001b[0m \u001b[0maxes\u001b[0m\u001b[1;33m)\u001b[0m\u001b[1;33m\u001b[0m\u001b[0m\n\u001b[0m\u001b[0;32m   4860\u001b[0m         \u001b[0mmgr\u001b[0m\u001b[1;33m.\u001b[0m\u001b[0m_consolidate_inplace\u001b[0m\u001b[1;33m(\u001b[0m\u001b[1;33m)\u001b[0m\u001b[1;33m\u001b[0m\u001b[0m\n",
      "\u001b[1;32mC:\\anaconda\\lib\\site-packages\\pandas\\core\\internals.py\u001b[0m in \u001b[0;36m__init__\u001b[1;34m(self, blocks, axes, do_integrity_check)\u001b[0m\n\u001b[0;32m   3281\u001b[0m         \u001b[1;32mif\u001b[0m \u001b[0mdo_integrity_check\u001b[0m\u001b[1;33m:\u001b[0m\u001b[1;33m\u001b[0m\u001b[0m\n\u001b[1;32m-> 3282\u001b[1;33m             \u001b[0mself\u001b[0m\u001b[1;33m.\u001b[0m\u001b[0m_verify_integrity\u001b[0m\u001b[1;33m(\u001b[0m\u001b[1;33m)\u001b[0m\u001b[1;33m\u001b[0m\u001b[0m\n\u001b[0m\u001b[0;32m   3283\u001b[0m \u001b[1;33m\u001b[0m\u001b[0m\n",
      "\u001b[1;32mC:\\anaconda\\lib\\site-packages\\pandas\\core\\internals.py\u001b[0m in \u001b[0;36m_verify_integrity\u001b[1;34m(self)\u001b[0m\n\u001b[0;32m   3492\u001b[0m             \u001b[1;32mif\u001b[0m \u001b[0mblock\u001b[0m\u001b[1;33m.\u001b[0m\u001b[0m_verify_integrity\u001b[0m \u001b[1;32mand\u001b[0m \u001b[0mblock\u001b[0m\u001b[1;33m.\u001b[0m\u001b[0mshape\u001b[0m\u001b[1;33m[\u001b[0m\u001b[1;36m1\u001b[0m\u001b[1;33m:\u001b[0m\u001b[1;33m]\u001b[0m \u001b[1;33m!=\u001b[0m \u001b[0mmgr_shape\u001b[0m\u001b[1;33m[\u001b[0m\u001b[1;36m1\u001b[0m\u001b[1;33m:\u001b[0m\u001b[1;33m]\u001b[0m\u001b[1;33m:\u001b[0m\u001b[1;33m\u001b[0m\u001b[0m\n\u001b[1;32m-> 3493\u001b[1;33m                 \u001b[0mconstruction_error\u001b[0m\u001b[1;33m(\u001b[0m\u001b[0mtot_items\u001b[0m\u001b[1;33m,\u001b[0m \u001b[0mblock\u001b[0m\u001b[1;33m.\u001b[0m\u001b[0mshape\u001b[0m\u001b[1;33m[\u001b[0m\u001b[1;36m1\u001b[0m\u001b[1;33m:\u001b[0m\u001b[1;33m]\u001b[0m\u001b[1;33m,\u001b[0m \u001b[0mself\u001b[0m\u001b[1;33m.\u001b[0m\u001b[0maxes\u001b[0m\u001b[1;33m)\u001b[0m\u001b[1;33m\u001b[0m\u001b[0m\n\u001b[0m\u001b[0;32m   3494\u001b[0m         \u001b[1;32mif\u001b[0m \u001b[0mlen\u001b[0m\u001b[1;33m(\u001b[0m\u001b[0mself\u001b[0m\u001b[1;33m.\u001b[0m\u001b[0mitems\u001b[0m\u001b[1;33m)\u001b[0m \u001b[1;33m!=\u001b[0m \u001b[0mtot_items\u001b[0m\u001b[1;33m:\u001b[0m\u001b[1;33m\u001b[0m\u001b[0m\n",
      "\u001b[1;32mC:\\anaconda\\lib\\site-packages\\pandas\\core\\internals.py\u001b[0m in \u001b[0;36mconstruction_error\u001b[1;34m(tot_items, block_shape, axes, e)\u001b[0m\n\u001b[0;32m   4842\u001b[0m     raise ValueError(\"Shape of passed values is {0}, indices imply {1}\".format(\n\u001b[1;32m-> 4843\u001b[1;33m         passed, implied))\n\u001b[0m\u001b[0;32m   4844\u001b[0m \u001b[1;33m\u001b[0m\u001b[0m\n",
      "\u001b[1;31mValueError\u001b[0m: Shape of passed values is (36, 9000), indices imply (36, 10000)",
      "\nDuring handling of the above exception, another exception occurred:\n",
      "\u001b[1;31mValueError\u001b[0m                                Traceback (most recent call last)",
      "\u001b[1;32m<ipython-input-57-0258fc492caa>\u001b[0m in \u001b[0;36m<module>\u001b[1;34m\u001b[0m\n\u001b[1;32m----> 1\u001b[1;33m \u001b[0my_pred\u001b[0m\u001b[1;33m=\u001b[0m \u001b[0mpd\u001b[0m\u001b[1;33m.\u001b[0m\u001b[0mDataFrame\u001b[0m\u001b[1;33m(\u001b[0m\u001b[0my_pred\u001b[0m\u001b[1;33m,\u001b[0m \u001b[0mindex\u001b[0m\u001b[1;33m=\u001b[0m\u001b[0mId_test\u001b[0m\u001b[1;33m,\u001b[0m\u001b[0mcolumns\u001b[0m  \u001b[1;33m=\u001b[0m \u001b[0mle\u001b[0m\u001b[1;33m.\u001b[0m\u001b[0mclasses_\u001b[0m\u001b[1;33m)\u001b[0m\u001b[1;33m\u001b[0m\u001b[0m\n\u001b[0m\u001b[0;32m      2\u001b[0m \u001b[1;33m\u001b[0m\u001b[0m\n",
      "\u001b[1;32mC:\\anaconda\\lib\\site-packages\\pandas\\core\\frame.py\u001b[0m in \u001b[0;36m__init__\u001b[1;34m(self, data, index, columns, dtype, copy)\u001b[0m\n\u001b[0;32m    377\u001b[0m             \u001b[1;32melse\u001b[0m\u001b[1;33m:\u001b[0m\u001b[1;33m\u001b[0m\u001b[0m\n\u001b[0;32m    378\u001b[0m                 mgr = self._init_ndarray(data, index, columns, dtype=dtype,\n\u001b[1;32m--> 379\u001b[1;33m                                          copy=copy)\n\u001b[0m\u001b[0;32m    380\u001b[0m         \u001b[1;32melif\u001b[0m \u001b[0misinstance\u001b[0m\u001b[1;33m(\u001b[0m\u001b[0mdata\u001b[0m\u001b[1;33m,\u001b[0m \u001b[1;33m(\u001b[0m\u001b[0mlist\u001b[0m\u001b[1;33m,\u001b[0m \u001b[0mtypes\u001b[0m\u001b[1;33m.\u001b[0m\u001b[0mGeneratorType\u001b[0m\u001b[1;33m)\u001b[0m\u001b[1;33m)\u001b[0m\u001b[1;33m:\u001b[0m\u001b[1;33m\u001b[0m\u001b[0m\n\u001b[0;32m    381\u001b[0m             \u001b[1;32mif\u001b[0m \u001b[0misinstance\u001b[0m\u001b[1;33m(\u001b[0m\u001b[0mdata\u001b[0m\u001b[1;33m,\u001b[0m \u001b[0mtypes\u001b[0m\u001b[1;33m.\u001b[0m\u001b[0mGeneratorType\u001b[0m\u001b[1;33m)\u001b[0m\u001b[1;33m:\u001b[0m\u001b[1;33m\u001b[0m\u001b[0m\n",
      "\u001b[1;32mC:\\anaconda\\lib\\site-packages\\pandas\\core\\frame.py\u001b[0m in \u001b[0;36m_init_ndarray\u001b[1;34m(self, values, index, columns, dtype, copy)\u001b[0m\n\u001b[0;32m    534\u001b[0m             \u001b[0mvalues\u001b[0m \u001b[1;33m=\u001b[0m \u001b[0mmaybe_infer_to_datetimelike\u001b[0m\u001b[1;33m(\u001b[0m\u001b[0mvalues\u001b[0m\u001b[1;33m)\u001b[0m\u001b[1;33m\u001b[0m\u001b[0m\n\u001b[0;32m    535\u001b[0m \u001b[1;33m\u001b[0m\u001b[0m\n\u001b[1;32m--> 536\u001b[1;33m         \u001b[1;32mreturn\u001b[0m \u001b[0mcreate_block_manager_from_blocks\u001b[0m\u001b[1;33m(\u001b[0m\u001b[1;33m[\u001b[0m\u001b[0mvalues\u001b[0m\u001b[1;33m]\u001b[0m\u001b[1;33m,\u001b[0m \u001b[1;33m[\u001b[0m\u001b[0mcolumns\u001b[0m\u001b[1;33m,\u001b[0m \u001b[0mindex\u001b[0m\u001b[1;33m]\u001b[0m\u001b[1;33m)\u001b[0m\u001b[1;33m\u001b[0m\u001b[0m\n\u001b[0m\u001b[0;32m    537\u001b[0m \u001b[1;33m\u001b[0m\u001b[0m\n\u001b[0;32m    538\u001b[0m     \u001b[1;33m@\u001b[0m\u001b[0mproperty\u001b[0m\u001b[1;33m\u001b[0m\u001b[0m\n",
      "\u001b[1;32mC:\\anaconda\\lib\\site-packages\\pandas\\core\\internals.py\u001b[0m in \u001b[0;36mcreate_block_manager_from_blocks\u001b[1;34m(blocks, axes)\u001b[0m\n\u001b[0;32m   4864\u001b[0m         \u001b[0mblocks\u001b[0m \u001b[1;33m=\u001b[0m \u001b[1;33m[\u001b[0m\u001b[0mgetattr\u001b[0m\u001b[1;33m(\u001b[0m\u001b[0mb\u001b[0m\u001b[1;33m,\u001b[0m \u001b[1;34m'values'\u001b[0m\u001b[1;33m,\u001b[0m \u001b[0mb\u001b[0m\u001b[1;33m)\u001b[0m \u001b[1;32mfor\u001b[0m \u001b[0mb\u001b[0m \u001b[1;32min\u001b[0m \u001b[0mblocks\u001b[0m\u001b[1;33m]\u001b[0m\u001b[1;33m\u001b[0m\u001b[0m\n\u001b[0;32m   4865\u001b[0m         \u001b[0mtot_items\u001b[0m \u001b[1;33m=\u001b[0m \u001b[0msum\u001b[0m\u001b[1;33m(\u001b[0m\u001b[0mb\u001b[0m\u001b[1;33m.\u001b[0m\u001b[0mshape\u001b[0m\u001b[1;33m[\u001b[0m\u001b[1;36m0\u001b[0m\u001b[1;33m]\u001b[0m \u001b[1;32mfor\u001b[0m \u001b[0mb\u001b[0m \u001b[1;32min\u001b[0m \u001b[0mblocks\u001b[0m\u001b[1;33m)\u001b[0m\u001b[1;33m\u001b[0m\u001b[0m\n\u001b[1;32m-> 4866\u001b[1;33m         \u001b[0mconstruction_error\u001b[0m\u001b[1;33m(\u001b[0m\u001b[0mtot_items\u001b[0m\u001b[1;33m,\u001b[0m \u001b[0mblocks\u001b[0m\u001b[1;33m[\u001b[0m\u001b[1;36m0\u001b[0m\u001b[1;33m]\u001b[0m\u001b[1;33m.\u001b[0m\u001b[0mshape\u001b[0m\u001b[1;33m[\u001b[0m\u001b[1;36m1\u001b[0m\u001b[1;33m:\u001b[0m\u001b[1;33m]\u001b[0m\u001b[1;33m,\u001b[0m \u001b[0maxes\u001b[0m\u001b[1;33m,\u001b[0m \u001b[0me\u001b[0m\u001b[1;33m)\u001b[0m\u001b[1;33m\u001b[0m\u001b[0m\n\u001b[0m\u001b[0;32m   4867\u001b[0m \u001b[1;33m\u001b[0m\u001b[0m\n\u001b[0;32m   4868\u001b[0m \u001b[1;33m\u001b[0m\u001b[0m\n",
      "\u001b[1;32mC:\\anaconda\\lib\\site-packages\\pandas\\core\\internals.py\u001b[0m in \u001b[0;36mconstruction_error\u001b[1;34m(tot_items, block_shape, axes, e)\u001b[0m\n\u001b[0;32m   4841\u001b[0m         \u001b[1;32mraise\u001b[0m \u001b[0mValueError\u001b[0m\u001b[1;33m(\u001b[0m\u001b[1;34m\"Empty data passed with indices specified.\"\u001b[0m\u001b[1;33m)\u001b[0m\u001b[1;33m\u001b[0m\u001b[0m\n\u001b[0;32m   4842\u001b[0m     raise ValueError(\"Shape of passed values is {0}, indices imply {1}\".format(\n\u001b[1;32m-> 4843\u001b[1;33m         passed, implied))\n\u001b[0m\u001b[0;32m   4844\u001b[0m \u001b[1;33m\u001b[0m\u001b[0m\n\u001b[0;32m   4845\u001b[0m \u001b[1;33m\u001b[0m\u001b[0m\n",
      "\u001b[1;31mValueError\u001b[0m: Shape of passed values is (36, 9000), indices imply (36, 10000)"
     ]
    }
   ],
   "source": [
    " y_pred= pd.DataFrame(y_pred, index=Id_test,columns  = le.classes_)\n",
    "\n"
   ]
  },
  {
   "cell_type": "code",
   "execution_count": null,
   "metadata": {
    "_uuid": "4799f349a2e54fe43c8c5ebebedc12d28d76b7b8"
   },
   "outputs": [],
   "source": [
    "#y_pred.to_csv(\"submit.csv\", float_format = '%.5F')\n",
    "print (log_loss(y_test,y_pred));"
   ]
  }
 ],
 "metadata": {
  "kernelspec": {
   "display_name": "Python 3",
   "language": "python",
   "name": "python3"
  },
  "language_info": {
   "codemirror_mode": {
    "name": "ipython",
    "version": 3
   },
   "file_extension": ".py",
   "mimetype": "text/x-python",
   "name": "python",
   "nbconvert_exporter": "python",
   "pygments_lexer": "ipython3",
   "version": "3.6.6"
  }
 },
 "nbformat": 4,
 "nbformat_minor": 1
}
