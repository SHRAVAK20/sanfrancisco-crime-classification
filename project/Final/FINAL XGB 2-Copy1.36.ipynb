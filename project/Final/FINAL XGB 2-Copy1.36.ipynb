{
 "cells": [
  {
   "cell_type": "code",
   "execution_count": 1,
   "metadata": {
    "_uuid": "31553934c492db3f530cf17301a4570af150a4c5"
   },
   "outputs": [],
   "source": [
    "%matplotlib inline\n",
    "\n",
    "import warnings\n",
    "warnings.filterwarnings('ignore')\n",
    "warnings.filterwarnings('ignore', category=DeprecationWarning)\n",
    "\n",
    "import pandas as pd\n",
    "pd.options.display.max_columns = 100\n",
    "\n",
    "from matplotlib import pyplot as plt\n",
    "import numpy as np\n",
    "\n",
    "import seaborn as sns\n",
    "sns.set(rc={'figure.figsize':(12,9)})\n",
    "import pylab as plot\n",
    "from sklearn import preprocessing\n",
    "from sklearn.model_selection import train_test_split\n",
    "from sklearn.metrics import log_loss,accuracy_score\n",
    "import pickle\n",
    "import time"
   ]
  },
  {
   "cell_type": "code",
   "execution_count": 2,
   "metadata": {
    "_uuid": "66887fd564504f55442c6bc56e949883e13c8c8e"
   },
   "outputs": [],
   "source": [
    "from xgboost import XGBClassifier\n",
    "import xgboost as xgb"
   ]
  },
  {
   "cell_type": "code",
   "execution_count": 3,
   "metadata": {
    "_uuid": "567fbd9ee53c5b4be96794a0291268fb3b81db47"
   },
   "outputs": [],
   "source": [
    "#for scaling\n",
    "from sklearn.preprocessing import StandardScaler"
   ]
  },
  {
   "cell_type": "markdown",
   "metadata": {
    "_uuid": "6f17c16b032b5c9b8410c22a1df0ca8b9b92cc57"
   },
   "source": [
    "Importing training dataset"
   ]
  },
  {
   "cell_type": "code",
   "execution_count": 4,
   "metadata": {
    "_uuid": "ffa2ce6acfc049ba200515731c02148f2295c3f5"
   },
   "outputs": [],
   "source": [
    "data = pd.read_csv('train.csv')\n",
    "test = pd.read_csv('test.csv')\n"
   ]
  },
  {
   "cell_type": "code",
   "execution_count": 5,
   "metadata": {
    "_uuid": "dba3f2ffa9913773317ee4f74a2de56faca1775a"
   },
   "outputs": [
    {
     "name": "stdout",
     "output_type": "stream",
     "text": [
      "(867873, 10)\n"
     ]
    }
   ],
   "source": [
    "print(data.shape)"
   ]
  },
  {
   "cell_type": "code",
   "execution_count": 6,
   "metadata": {
    "_uuid": "adf11990e33863cdeb91d2a2504ca31b74e01d68"
   },
   "outputs": [
    {
     "data": {
      "text/plain": [
       "Index(['Dates', 'Category', 'Descript', 'DayOfWeek', 'PdDistrict',\n",
       "       'Resolution', 'Address', 'X', 'Y', 'Id'],\n",
       "      dtype='object')"
      ]
     },
     "execution_count": 6,
     "metadata": {},
     "output_type": "execute_result"
    }
   ],
   "source": [
    "data.columns"
   ]
  },
  {
   "cell_type": "markdown",
   "metadata": {
    "_uuid": "19691cf8e8eab92ff8230570252a09f7a18af480"
   },
   "source": [
    "\n",
    "Splitting the \"Dates\" into date and time"
   ]
  },
  {
   "cell_type": "code",
   "execution_count": 7,
   "metadata": {
    "_uuid": "3d35c6b7317b38f0d4747768bfaf8756e36aa4cc"
   },
   "outputs": [],
   "source": [
    "df=data.head(100000)\n",
    "datetime=df.Dates.str.split(pat=\" \",expand=True)\n",
    "datetime.columns=['Date','Time']\n",
    "#datetime\n",
    "\n",
    "#------------test data-------------\n",
    "\n",
    "df_test=test\n",
    "datetime_test=df_test.Dates.str.split(pat=\" \",expand=True)\n",
    "datetime_test.columns=['Date','Time']"
   ]
  },
  {
   "cell_type": "code",
   "execution_count": 8,
   "metadata": {
    "_uuid": "8df684409d1df3ad015ad3fa16459304d03138b2"
   },
   "outputs": [],
   "source": [
    "Date=datetime.Date.str.split(pat=\"-\",expand=True)\n",
    "Date.columns=['Year','Month','Day']\n",
    "\n",
    "Time=datetime.Time.str.split(pat=\":\",expand=True)\n",
    "Time.columns=['Hour','Minute','Second']\n",
    "\n",
    "#------------test data-------------\n",
    "\n",
    "Date_test=datetime_test.Date.str.split(pat=\"-\",expand=True)\n",
    "Date_test.columns=['Year','Month','Day']\n",
    "\n",
    "Time_test=datetime_test.Time.str.split(pat=\":\",expand=True)\n",
    "Time_test.columns=['Hour','Minute','Second']"
   ]
  },
  {
   "cell_type": "markdown",
   "metadata": {
    "_uuid": "16a305ba2729b08246db796eb9c3945bdaa70f03"
   },
   "source": [
    "Dropping the column of \"Dates\" and appending the dataframe \"datetime\""
   ]
  },
  {
   "cell_type": "code",
   "execution_count": 9,
   "metadata": {
    "_uuid": "f7aca357775d27e7a6bc92ea5085141d66a9fda3"
   },
   "outputs": [],
   "source": [
    "df=pd.concat([df,Date,Time],axis=1)\n",
    "#df\n",
    "\n",
    "#-----------test data------------------\n",
    "\n",
    "df_test=pd.concat([df_test,Date_test,Time_test],axis=1)\n"
   ]
  },
  {
   "cell_type": "code",
   "execution_count": 10,
   "metadata": {
    "_uuid": "52dca1b1cd16626401f13985ad575ea21347c47f"
   },
   "outputs": [],
   "source": [
    "df=df.drop(labels=['Dates'],axis=1)\n",
    "\n",
    "#-----------test data------------------\n",
    "\n",
    "df_test=df_test.drop(labels=['Dates'],axis=1)\n"
   ]
  },
  {
   "cell_type": "markdown",
   "metadata": {
    "_uuid": "fe92f1b80a1d0f15e68bf1a04bb85f06ddd8ca6a"
   },
   "source": [
    "# #Encoding"
   ]
  },
  {
   "cell_type": "code",
   "execution_count": 11,
   "metadata": {
    "_uuid": "17685cb925b07d136cba97ffafd70f787174bb75"
   },
   "outputs": [
    {
     "data": {
      "text/plain": [
       "Index(['Category', 'Descript', 'DayOfWeek', 'PdDistrict', 'Resolution',\n",
       "       'Address', 'X', 'Y', 'Id', 'Year', 'Month', 'Day', 'Hour', 'Minute',\n",
       "       'Second'],\n",
       "      dtype='object')"
      ]
     },
     "execution_count": 11,
     "metadata": {},
     "output_type": "execute_result"
    }
   ],
   "source": [
    "df.columns"
   ]
  },
  {
   "cell_type": "markdown",
   "metadata": {
    "_uuid": "25cec7d58e0748f7bc6fc0f935653b0bef90a66c"
   },
   "source": [
    "LabelEncoding of \"DayOfWeek\" and \"PdDistrict\""
   ]
  },
  {
   "cell_type": "code",
   "execution_count": 12,
   "metadata": {
    "_uuid": "34f5d750bae866e939d6c90fb6755b617bb319af"
   },
   "outputs": [],
   "source": [
    "le = preprocessing.LabelEncoder()"
   ]
  },
  {
   "cell_type": "code",
   "execution_count": 13,
   "metadata": {
    "_uuid": "5b267a01fe0adc37294fff9949a56e054bd4bf82"
   },
   "outputs": [],
   "source": [
    "#y=pd.get_dummies(df.Category,columns=['Category'],prefix=\" \",prefix_sep=\" \",drop_first=True,)\n",
    "\n",
    "le_res=le.fit_transform(df['Category'])\n",
    "y=pd.DataFrame(le_res)\n",
    "y.columns=['Category']\n",
    "#y"
   ]
  },
  {
   "cell_type": "markdown",
   "metadata": {
    "_uuid": "3be54e663d4fb89722c67529b55c9a65be7d997b"
   },
   "source": [
    "# Rotation 60 degree"
   ]
  },
  {
   "cell_type": "code",
   "execution_count": 14,
   "metadata": {
    "_uuid": "ad26e1b64b3d3bc0a1b0e8f69f5e4636db66f665"
   },
   "outputs": [],
   "source": [
    "df[\"rot60_X\"]=(0.5) * df[\"Y\"] + (1.732/2) * df[\"X\"]\n",
    "df[\"rot60_Y\"]=0.5 * df[\"Y\"] - (1.732/2) * df[\"X\"]\n",
    "\n",
    "\n",
    "\n",
    "df_test[\"rot60_X\"]=(0.5) * df_test[\"Y\"] + (1.732/2) * df_test[\"X\"]\n",
    "df_test[\"rot60_Y\"]=0.5 * df_test[\"Y\"] - (1.732/2) * df_test[\"X\"]"
   ]
  },
  {
   "cell_type": "code",
   "execution_count": 15,
   "metadata": {
    "_uuid": "875d5fcf1c3d2650f04c8b9481015456425be0cd"
   },
   "outputs": [],
   "source": [
    "df[\"radial60\"]=np.sqrt(np.power(df['rot60_X'],2) + np.power(df['rot60_Y'],2))\n",
    "\n",
    "df_test[\"radial60\"]=np.sqrt(np.power(df_test['rot60_X'],2) + np.power(df_test['rot60_Y'],2))"
   ]
  },
  {
   "cell_type": "markdown",
   "metadata": {
    "_uuid": "21d093db421b1b2d37e4b901a6569e0978a70554"
   },
   "source": [
    "# Month clubbing"
   ]
  },
  {
   "cell_type": "code",
   "execution_count": 16,
   "metadata": {
    "_uuid": "25520c7511d486bf5dc06222486acbf89c981f51"
   },
   "outputs": [],
   "source": [
    "df=df.drop(labels='rot60_X',axis=1)\n",
    "\n",
    "df_test=df_test.drop(labels='rot60_X',axis=1)"
   ]
  },
  {
   "cell_type": "code",
   "execution_count": 17,
   "metadata": {
    "_uuid": "3726f999d71e91bce9e9a46b735e0f3cc5346026"
   },
   "outputs": [],
   "source": [
    "df=df.drop(labels='rot60_Y',axis=1)\n",
    "\n",
    "df_test=df_test.drop(labels='rot60_Y',axis=1)"
   ]
  },
  {
   "cell_type": "code",
   "execution_count": 18,
   "metadata": {
    "_uuid": "ac09b6b4529ff8beeef89c723eff6e97e56d8849"
   },
   "outputs": [],
   "source": [
    "df=df.drop(labels='Second',axis=1)\n",
    "\n",
    "df_test=df_test.drop(labels='Second',axis=1)"
   ]
  },
  {
   "cell_type": "markdown",
   "metadata": {
    "_uuid": "ada858c293a33df5fa2b945350200d5205bba741"
   },
   "source": [
    "# Minute Clubbing"
   ]
  },
  {
   "cell_type": "code",
   "execution_count": 19,
   "metadata": {
    "_uuid": "5758724a931e571b4d855165eb87342ec015f79a"
   },
   "outputs": [],
   "source": [
    "df['Minute']=df['Minute'].apply(lambda x:int(x))\n",
    "df['Minute']=df['Minute'].apply(lambda x : 'low' if x <31 else 'high')\n",
    "\n",
    "df_test['Minute']=df_test['Minute'].apply(lambda x:int(x))\n",
    "df_test['Minute']=df_test['Minute'].apply(lambda x : 'low' if x <31 else 'high')\n"
   ]
  },
  {
   "cell_type": "markdown",
   "metadata": {
    "_uuid": "ab70df9f5d5cbeeeb731e7462d68067bb118802f"
   },
   "source": [
    "# DayOfWeek"
   ]
  },
  {
   "cell_type": "code",
   "execution_count": 20,
   "metadata": {
    "_uuid": "e88e26c52f9e84980f6ea7ccfcecbabcd8b4f8a7"
   },
   "outputs": [],
   "source": [
    "df['DayOfWeek']= df['DayOfWeek'].apply(lambda x : 'WeekHigh' if x in ('Wednesday','Friday') else ('WeekMed' if x in ('Tuesday','Thursday','Saturday') else 'WeekLow'))\n",
    "\n",
    "\n",
    "df_test['DayOfWeek']= df_test['DayOfWeek'].apply(lambda x : 'WeekHigh' if x in ('Wednesday','Friday') else ('WeekMed' if x in ('Tuesday','Thursday','Saturday') else 'WeekLow'))\n"
   ]
  },
  {
   "cell_type": "markdown",
   "metadata": {
    "_uuid": "f46874bda8772cef12ada43dcda36374e4f9d758"
   },
   "source": [
    "# Address Update"
   ]
  },
  {
   "cell_type": "code",
   "execution_count": 21,
   "metadata": {
    "_uuid": "d4f1bcb5e86c643c42007286948dfdb74d83d66a"
   },
   "outputs": [],
   "source": [
    "df['Intersection']=df['Address'].apply(lambda x : 1 if '/' in x else 0)\n",
    "df['Block']=df['Address'].apply(lambda x : 1 if 'Block' in x else 0)\n",
    "df_test['Intersection']=df_test['Address'].apply(lambda x : 1 if '/' in x else 0)\n",
    "df_test['Block']=df_test['Address'].apply(lambda x : 1 if 'Block' in x else 0)"
   ]
  },
  {
   "cell_type": "code",
   "execution_count": 22,
   "metadata": {
    "_uuid": "83e207d406b36d2c606aecb409c6c9fb6d7d2c70"
   },
   "outputs": [],
   "source": [
    "address=pd.DataFrame(df['Address'],columns=['Address'])\n",
    "address=address.Address.str.split(pat=\" /\",expand=True )\n",
    "\n",
    "address.columns=['Address','Intr2']\n",
    "\n",
    "address=address.Address.str.split(pat=\" /\",expand=True )\n",
    "address.columns=['Address']\n",
    "\n",
    "string=address.iloc[:,0]\n",
    "string=string.str.strip()\n",
    "\n",
    "address_fram=string.to_frame()\n",
    "temp=address_fram['Address'].astype(str).str[-2:]\n",
    "\n",
    "address=temp.to_frame()\n",
    "\n",
    "address['Address']=address['Address'].apply(lambda x :( x if x in (\"ST\",\"AV\",\"LN\",\"DR\",\"BL\",\"HY\",\"CT\",\"RD\",\"PL\",\"PZ\",\"TR\",\"AL\",\"CR\",\"WK\",\"EX\",\"RW\") else ((\"I-80\" if x in (\"80\") else (\"HWY\" if x in (\"WY\") else (\"WAY\" if x in (\"AY\") else (\"TER\" if x in (\"ER\") else (\"ALMS\" if x in (\"MS\") else (\"MAR\" if x in (\"AR\") else (\"PARK\" if x in (\"RK\") else (\"STWY\" if x in (\"WY\") else (\"VIA\" if x in (\"NO\") else (\"BLOCK\")))))))))))))\n",
    "df=df.drop(labels=['Address'],axis=1)\n",
    "df=pd.concat([address,df],axis=1)\n",
    "\n"
   ]
  },
  {
   "cell_type": "markdown",
   "metadata": {
    "_uuid": "913bcf82bceb8c0d421480ccfdc30518d68b97ef"
   },
   "source": [
    "# Address splitting"
   ]
  },
  {
   "cell_type": "code",
   "execution_count": 23,
   "metadata": {
    "_uuid": "b77cb3c28d65130e5f966fc391addd484b66c6f2"
   },
   "outputs": [],
   "source": [
    "address_test=pd.DataFrame(df_test['Address'],columns=['Address'])\n",
    "address_test=address_test.Address.str.split(pat=\" /\",expand=True )\n",
    "\n",
    "address_test.columns=['Address','Intr2']\n",
    "\n",
    "address_test=address_test.Address.str.split(pat=\" /\",expand=True )\n",
    "address_test.columns=['Address']\n",
    "\n",
    "string_test=address_test.iloc[:,0]\n",
    "string_test=string_test.str.strip()\n",
    "\n",
    "address_fram_test=string_test.to_frame()\n",
    "temp_test=address_fram_test['Address'].astype(str).str[-2:]\n",
    "\n",
    "address_test=temp_test.to_frame()\n",
    "\n",
    "address_test['Address']=address_test['Address'].apply(lambda x :( x if x in (\"ST\",\"AV\",\"LN\",\"DR\",\"BL\",\"HY\",\"CT\",\"RD\",\"PL\",\"PZ\",\"TR\",\"AL\",\"CR\",\"WK\",\"EX\",\"RW\") else ((\"I-80\" if x in (\"80\") else (\"HWY\" if x in (\"WY\") else (\"WAY\" if x in (\"AY\") else (\"TER\" if x in (\"ER\") else (\"ALMS\" if x in (\"MS\") else (\"MAR\" if x in (\"AR\") else (\"PARK\" if x in (\"RK\") else (\"STWY\" if x in (\"WY\") else (\"VIA\" if x in (\"NO\") else (\"BLOCK\")))))))))))))\n",
    "df_test=df_test.drop(labels=['Address'],axis=1)\n",
    "df_test=pd.concat([address_test,df_test],axis=1)"
   ]
  },
  {
   "cell_type": "code",
   "execution_count": 24,
   "metadata": {
    "_uuid": "1f80d7a11e943b36bb7b5c2a5fe6eebcef01e0b2"
   },
   "outputs": [],
   "source": [
    "Id=df['Id']\n",
    "df=df.drop(['Descript','Resolution','Id'],axis=1)\n",
    "\n",
    "#----------test data---------\n",
    "\n",
    "Id_test=df_test['Id']\n",
    "df_test=df_test.drop(['Descript','Resolution','Id'],axis=1)"
   ]
  },
  {
   "cell_type": "code",
   "execution_count": 25,
   "metadata": {
    "_uuid": "2827786826b597839338dcfb58fc6ef368f83277"
   },
   "outputs": [
    {
     "data": {
      "text/plain": [
       "Index(['Address', 'DayOfWeek', 'PdDistrict', 'X', 'Y', 'Year', 'Month', 'Day',\n",
       "       'Hour', 'Minute', 'radial60', 'Intersection', 'Block'],\n",
       "      dtype='object')"
      ]
     },
     "execution_count": 25,
     "metadata": {},
     "output_type": "execute_result"
    }
   ],
   "source": [
    "df_test.columns"
   ]
  },
  {
   "cell_type": "code",
   "execution_count": 26,
   "metadata": {
    "_uuid": "a1d9b6b0e76cc906579c914eab2f9a87ca0abc87"
   },
   "outputs": [
    {
     "data": {
      "text/plain": [
       "array(['MISSION', 'SOUTHERN', 'BAYVIEW', 'CENTRAL', 'INGLESIDE',\n",
       "       'NORTHERN', 'RICHMOND', 'TARAVAL', 'TENDERLOIN', 'PARK'],\n",
       "      dtype=object)"
      ]
     },
     "execution_count": 26,
     "metadata": {},
     "output_type": "execute_result"
    }
   ],
   "source": [
    "data['PdDistrict'].unique()"
   ]
  },
  {
   "cell_type": "markdown",
   "metadata": {
    "_uuid": "4392515fe4ff16700e49aa9fad6c874e40e83b61"
   },
   "source": [
    "# Label Encoding"
   ]
  },
  {
   "cell_type": "code",
   "execution_count": 27,
   "metadata": {
    "_uuid": "7973f40eec949ee843fdb7dea76f9a9238c61840"
   },
   "outputs": [
    {
     "data": {
      "text/plain": [
       "Index(['Address', 'Category', 'DayOfWeek', 'PdDistrict', 'X', 'Y', 'Year',\n",
       "       'Month', 'Day', 'Hour', 'Minute', 'radial60', 'Intersection', 'Block'],\n",
       "      dtype='object')"
      ]
     },
     "execution_count": 27,
     "metadata": {},
     "output_type": "execute_result"
    }
   ],
   "source": [
    "\n",
    "df.columns"
   ]
  },
  {
   "cell_type": "code",
   "execution_count": 28,
   "metadata": {
    "_uuid": "4a51a461ee1657261f1ecec3679173375d427eb1"
   },
   "outputs": [
    {
     "data": {
      "text/plain": [
       "Index(['Address', 'DayOfWeek', 'PdDistrict', 'X', 'Y', 'Year', 'Month', 'Day',\n",
       "       'Hour', 'Minute', 'radial60', 'Intersection', 'Block'],\n",
       "      dtype='object')"
      ]
     },
     "execution_count": 28,
     "metadata": {},
     "output_type": "execute_result"
    }
   ],
   "source": [
    "df_test.columns"
   ]
  },
  {
   "cell_type": "code",
   "execution_count": 29,
   "metadata": {
    "_uuid": "d4af891d320b018120012595e138a4007accb0c7"
   },
   "outputs": [],
   "source": [
    "le = preprocessing.LabelEncoder()"
   ]
  },
  {
   "cell_type": "markdown",
   "metadata": {
    "_uuid": "3bb2ad3a7a57df246cba5d4a15c7f425a076d6de"
   },
   "source": [
    "Label Encoding :DayOfWeek"
   ]
  },
  {
   "cell_type": "code",
   "execution_count": 30,
   "metadata": {
    "_uuid": "3182afc198b35e8836c99b31ab38af23e7748ad8"
   },
   "outputs": [],
   "source": [
    "\n",
    "#le = preprocessing.LabelEncoder()\n",
    "le_res=le.fit_transform(df['DayOfWeek'])\n",
    "Day=pd.DataFrame(le_res)\n",
    "Day.columns=['DayOfWeek']\n",
    "df=df.drop(labels=['DayOfWeek'],axis=1)\n",
    "df=pd.concat([Day,df],axis=1)\n",
    "\n",
    "#----------test data----------\n",
    "\n",
    "le_res_test=le.fit_transform(df_test['DayOfWeek'])\n",
    "Day_test=pd.DataFrame(le_res_test)\n",
    "Day_test.columns=['DayOfWeek']\n",
    "df_test=df_test.drop(labels=['DayOfWeek'],axis=1)\n",
    "df_test=pd.concat([Day_test,df_test],axis=1)"
   ]
  },
  {
   "cell_type": "markdown",
   "metadata": {
    "_uuid": "496f542c17c3c01ff5391c4e916ede3164fa92c2"
   },
   "source": [
    "Label Encoding: PdDistrict"
   ]
  },
  {
   "cell_type": "code",
   "execution_count": 31,
   "metadata": {
    "_uuid": "56ad936fd7c6c841d8f9d8ecd9e153f76296720e"
   },
   "outputs": [],
   "source": [
    "\n",
    "le_res=le.fit_transform(df['PdDistrict'])\n",
    "District=pd.DataFrame(le_res)\n",
    "\n",
    "#District=pd.get_dummies(df['PdDistrict'],drop_first=True)\n",
    "District.columns=['District']\n",
    "df=df.drop(labels=['PdDistrict'],axis=1)\n",
    "df=pd.concat([District,df],axis=1)\n",
    "\n",
    "\n",
    "le_res_test=le.fit_transform(df_test['PdDistrict'])\n",
    "District_test=pd.DataFrame(le_res_test)\n",
    "\n",
    "#District=pd.get_dummies(df['PdDistrict'],drop_first=True)\n",
    "District_test.columns=['District']\n",
    "df_test=df_test.drop(labels=['PdDistrict'],axis=1)\n",
    "df_test=pd.concat([District_test,df_test],axis=1)\n"
   ]
  },
  {
   "cell_type": "markdown",
   "metadata": {
    "_uuid": "e95f79db8d910ad366cba9224138bd9384942def"
   },
   "source": [
    "Label encoding: Year"
   ]
  },
  {
   "cell_type": "code",
   "execution_count": 32,
   "metadata": {
    "_uuid": "b346ac9713337dae84c8f02a1430b5db8d144eb0"
   },
   "outputs": [],
   "source": [
    "\n",
    "#le = preprocessing.LabelEncoder()\n",
    "le_res=le.fit_transform(df['Year'])\n",
    "Year=pd.DataFrame(le_res)\n",
    "\n",
    "#District=pd.get_dummies(df['PdDistrict'],drop_first=True)\n",
    "Year.columns=['Year']\n",
    "df=df.drop(labels=['Year'],axis=1)\n",
    "df=pd.concat([Year,df],axis=1)\n",
    "\n",
    "\n",
    "#le = preprocessing.LabelEncoder()\n",
    "le_res_test=le.fit_transform(df_test['Year'])\n",
    "Year_test=pd.DataFrame(le_res_test)\n",
    "\n",
    "#District=pd.get_dummies(df['PdDistrict'],drop_first=True)\n",
    "Year_test.columns=['Year']\n",
    "df_test=df_test.drop(labels=['Year'],axis=1)\n",
    "df_test=pd.concat([Year_test,df_test],axis=1)\n"
   ]
  },
  {
   "cell_type": "markdown",
   "metadata": {
    "_uuid": "0d2233877adbc0df38f434991be882ae7c30022a"
   },
   "source": [
    "Label encoding: Month"
   ]
  },
  {
   "cell_type": "code",
   "execution_count": 33,
   "metadata": {
    "_uuid": "5aca80e6f54555377348534ec5b5319976f39b7e"
   },
   "outputs": [],
   "source": [
    "\n",
    "#le = preprocessing.LabelEncoder()\n",
    "le_res=le.fit_transform(df['Month'])\n",
    "Month=pd.DataFrame(le_res)\n",
    "\n",
    "#District=pd.get_dummies(df['PdDistrict'],drop_first=True)\n",
    "Month.columns=['Month']\n",
    "df=df.drop(labels=['Month'],axis=1)\n",
    "df=pd.concat([Month,df],axis=1)\n",
    "\n",
    "\n",
    "#le = preprocessing.LabelEncoder()\n",
    "le_res_test=le.fit_transform(df_test['Month'])\n",
    "Month_test=pd.DataFrame(le_res_test)\n",
    "\n",
    "#District=pd.get_dummies(df['PdDistrict'],drop_first=True)\n",
    "Month_test.columns=['Month']\n",
    "df_test=df_test.drop(labels=['Month'],axis=1)\n",
    "df_test=pd.concat([Month_test,df_test],axis=1)\n"
   ]
  },
  {
   "cell_type": "markdown",
   "metadata": {
    "_uuid": "a774f5f25c5182d09e9865488a051e6665f06c95"
   },
   "source": [
    "Label encoding: Day"
   ]
  },
  {
   "cell_type": "code",
   "execution_count": 34,
   "metadata": {
    "_uuid": "aef2a2ec42b5e9ad942587ce0d2500f9b18df475"
   },
   "outputs": [],
   "source": [
    "\n",
    "#le = preprocessing.LabelEncoder()\n",
    "le_res=le.fit_transform(df['Day'])\n",
    "Day=pd.DataFrame(le_res)\n",
    "\n",
    "#District=pd.get_dummies(df['PdDistrict'],drop_first=True)\n",
    "Day.columns=['Day']\n",
    "df=df.drop(labels=['Day'],axis=1)\n",
    "df=pd.concat([Day,df],axis=1)\n",
    "\n",
    "\n",
    "#le = preprocessing.LabelEncoder()\n",
    "le_res_test=le.fit_transform(df_test['Day'])\n",
    "Day_test=pd.DataFrame(le_res_test)\n",
    "\n",
    "#District=pd.get_dummies(df['PdDistrict'],drop_first=True)\n",
    "Day_test.columns=['Day']\n",
    "df_test=df_test.drop(labels=['Day'],axis=1)\n",
    "df_test=pd.concat([Day_test,df_test],axis=1)\n"
   ]
  },
  {
   "cell_type": "markdown",
   "metadata": {
    "_uuid": "7376032cd6db751d15d1aed352495ad8655da635"
   },
   "source": [
    "Label encoding: Hour"
   ]
  },
  {
   "cell_type": "code",
   "execution_count": 35,
   "metadata": {
    "_uuid": "a4d8891e57a07936f1d5944ee9af75b95280effc"
   },
   "outputs": [],
   "source": [
    "\n",
    "#le = preprocessing.LabelEncoder()\n",
    "le_res=le.fit_transform(df['Hour'])\n",
    "Hour=pd.DataFrame(le_res)\n",
    "\n",
    "#District=pd.get_dummies(df['PdDistrict'],drop_first=True)\n",
    "Hour.columns=['Hour']\n",
    "df=df.drop(labels=['Hour'],axis=1)\n",
    "df=pd.concat([Hour,df],axis=1)\n",
    "\n",
    "\n",
    "#le = preprocessing.LabelEncoder()\n",
    "le_res_test=le.fit_transform(df_test['Hour'])\n",
    "Hour_test=pd.DataFrame(le_res_test)\n",
    "\n",
    "#District=pd.get_dummies(df['PdDistrict'],drop_first=True)\n",
    "Hour_test.columns=['Hour']\n",
    "df_test=df_test.drop(labels=['Hour'],axis=1)\n",
    "df_test=pd.concat([Hour_test,df_test],axis=1)\n"
   ]
  },
  {
   "cell_type": "markdown",
   "metadata": {
    "_uuid": "8497d8bc86d795c3cbea56246d1f196f147cf7b2"
   },
   "source": [
    "Label encoding: Minute"
   ]
  },
  {
   "cell_type": "code",
   "execution_count": 36,
   "metadata": {
    "_uuid": "61386a4969316f051ef0967bd719bc6764fb4a85"
   },
   "outputs": [],
   "source": [
    "\n",
    "le_res=le.fit_transform(df['Minute'])\n",
    "Minute=pd.DataFrame(le_res)\n",
    "\n",
    "#District=pd.get_dummies(df['PdDistrict'],drop_first=True)\n",
    "Minute.columns=['Minute']\n",
    "df=df.drop(labels=['Minute'],axis=1)\n",
    "df=pd.concat([Minute,df],axis=1)\n",
    "\n",
    "\n",
    "le_res_test=le.fit_transform(df_test['Minute'])\n",
    "Minute_test=pd.DataFrame(le_res_test)\n",
    "\n",
    "#District=pd.get_dummies(df['PdDistrict'],drop_first=True)\n",
    "Minute_test.columns=['Minute']\n",
    "df_test=df_test.drop(labels=['Minute'],axis=1)\n",
    "df_test=pd.concat([Minute_test,df_test],axis=1)\n",
    "\n"
   ]
  },
  {
   "cell_type": "markdown",
   "metadata": {
    "_uuid": "d74ee1cf95f38f72b125e92fc91eeb786e3c1096"
   },
   "source": [
    "#label encode street suffix"
   ]
  },
  {
   "cell_type": "code",
   "execution_count": 37,
   "metadata": {
    "_uuid": "3e00de91a48d687ebde6d20a869593de2662cfdd"
   },
   "outputs": [
    {
     "data": {
      "text/plain": [
       "Index(['Category', 'Minute', 'Hour', 'Day', 'Month', 'Year', 'District',\n",
       "       'DayOfWeek', 'Address', 'X', 'Y', 'radial60', 'Intersection', 'Block'],\n",
       "      dtype='object')"
      ]
     },
     "execution_count": 37,
     "metadata": {},
     "output_type": "execute_result"
    }
   ],
   "source": [
    "le_res=le.fit_transform(df['Category'])\n",
    "cat=pd.DataFrame(le_res)\n",
    "cat.columns=['Category']\n",
    "df=df.drop(labels=['Category'],axis=1)\n",
    "df=pd.concat([cat,df],axis=1)\n",
    "\n",
    "df.columns"
   ]
  },
  {
   "cell_type": "code",
   "execution_count": 38,
   "metadata": {
    "_uuid": "f638d5b23cae5e93963e36b7e27943ea3b702a71"
   },
   "outputs": [],
   "source": [
    "\n",
    "le_res=le.fit_transform(df['Address'])\n",
    "Address=pd.DataFrame(le_res)\n",
    "Address.columns=['Address']\n",
    "df=df.drop(labels=['Address'],axis=1)\n",
    "df=pd.concat([Address,df],axis=1)\n",
    "le_res=le.fit_transform(df_test['Address'])\n",
    "Address_test=pd.DataFrame(le_res)\n",
    "Address_test.columns=['Address']\n",
    "df_test=df_test.drop(labels=['Address'],axis=1)\n",
    "df_test=pd.concat([Address_test,df_test],axis=1)"
   ]
  },
  {
   "cell_type": "code",
   "execution_count": 39,
   "metadata": {
    "_uuid": "1729737f63e3a57b5a53380a7b548883d944f88a"
   },
   "outputs": [],
   "source": [
    "df=df[[ 'District', 'X', 'Y', 'Year','Hour','Address',\n",
    "       'Month', 'Day', 'radial60', 'Intersection','Block']]\n",
    "\n",
    "\n",
    "df_test=df_test[[ 'District', 'X', 'Y', 'Year','Hour','Address',\n",
    "       'Month', 'Day', 'radial60', 'Intersection','Block']]"
   ]
  },
  {
   "cell_type": "code",
   "execution_count": 40,
   "metadata": {
    "_uuid": "6f4d6cf91657d5b77d5ff9530c6614b3faae090e"
   },
   "outputs": [
    {
     "data": {
      "text/plain": [
       "22"
      ]
     },
     "execution_count": 40,
     "metadata": {},
     "output_type": "execute_result"
    }
   ],
   "source": [
    "df['Address'].nunique()"
   ]
  },
  {
   "cell_type": "code",
   "execution_count": 41,
   "metadata": {
    "_uuid": "85ee9fccafc2fd42651fc2b56b366aed3ce65a1b"
   },
   "outputs": [
    {
     "data": {
      "text/plain": [
       "18"
      ]
     },
     "execution_count": 41,
     "metadata": {},
     "output_type": "execute_result"
    }
   ],
   "source": [
    "df_test['Address'].nunique()"
   ]
  },
  {
   "cell_type": "code",
   "execution_count": 42,
   "metadata": {
    "_uuid": "532df506c94cc3db4d2e66ca7030fde9df9b8f8e"
   },
   "outputs": [
    {
     "data": {
      "text/plain": [
       "Index(['District', 'X', 'Y', 'Year', 'Hour', 'Address', 'Month', 'Day',\n",
       "       'radial60', 'Intersection', 'Block'],\n",
       "      dtype='object')"
      ]
     },
     "execution_count": 42,
     "metadata": {},
     "output_type": "execute_result"
    }
   ],
   "source": [
    "df_test.columns"
   ]
  },
  {
   "cell_type": "code",
   "execution_count": 43,
   "metadata": {
    "_uuid": "7f35fd601bfee7f4bdcf2d51094ee556a019b125"
   },
   "outputs": [
    {
     "data": {
      "text/html": [
       "<div>\n",
       "<style scoped>\n",
       "    .dataframe tbody tr th:only-of-type {\n",
       "        vertical-align: middle;\n",
       "    }\n",
       "\n",
       "    .dataframe tbody tr th {\n",
       "        vertical-align: top;\n",
       "    }\n",
       "\n",
       "    .dataframe thead th {\n",
       "        text-align: right;\n",
       "    }\n",
       "</style>\n",
       "<table border=\"1\" class=\"dataframe\">\n",
       "  <thead>\n",
       "    <tr style=\"text-align: right;\">\n",
       "      <th></th>\n",
       "      <th>District</th>\n",
       "      <th>X</th>\n",
       "      <th>Y</th>\n",
       "      <th>Year</th>\n",
       "      <th>Hour</th>\n",
       "      <th>Address</th>\n",
       "      <th>Month</th>\n",
       "      <th>Day</th>\n",
       "      <th>radial60</th>\n",
       "      <th>Intersection</th>\n",
       "      <th>Block</th>\n",
       "    </tr>\n",
       "  </thead>\n",
       "  <tbody>\n",
       "    <tr>\n",
       "      <th>District</th>\n",
       "      <td>1.000000</td>\n",
       "      <td>-0.286041</td>\n",
       "      <td>0.014731</td>\n",
       "      <td>0.007874</td>\n",
       "      <td>0.007614</td>\n",
       "      <td>0.079709</td>\n",
       "      <td>0.004566</td>\n",
       "      <td>-0.003224</td>\n",
       "      <td>0.157222</td>\n",
       "      <td>-0.019354</td>\n",
       "      <td>0.019354</td>\n",
       "    </tr>\n",
       "    <tr>\n",
       "      <th>X</th>\n",
       "      <td>-0.286041</td>\n",
       "      <td>1.000000</td>\n",
       "      <td>0.481126</td>\n",
       "      <td>0.000905</td>\n",
       "      <td>0.002457</td>\n",
       "      <td>0.272282</td>\n",
       "      <td>0.001308</td>\n",
       "      <td>-0.001592</td>\n",
       "      <td>0.024999</td>\n",
       "      <td>0.039411</td>\n",
       "      <td>-0.039411</td>\n",
       "    </tr>\n",
       "    <tr>\n",
       "      <th>Y</th>\n",
       "      <td>0.014731</td>\n",
       "      <td>0.481126</td>\n",
       "      <td>1.000000</td>\n",
       "      <td>-0.006501</td>\n",
       "      <td>-0.002121</td>\n",
       "      <td>0.021164</td>\n",
       "      <td>0.005046</td>\n",
       "      <td>-0.002153</td>\n",
       "      <td>0.888030</td>\n",
       "      <td>0.014533</td>\n",
       "      <td>-0.014533</td>\n",
       "    </tr>\n",
       "    <tr>\n",
       "      <th>Year</th>\n",
       "      <td>0.007874</td>\n",
       "      <td>0.000905</td>\n",
       "      <td>-0.006501</td>\n",
       "      <td>1.000000</td>\n",
       "      <td>-0.009618</td>\n",
       "      <td>0.009450</td>\n",
       "      <td>-0.045494</td>\n",
       "      <td>-0.009601</td>\n",
       "      <td>-0.008733</td>\n",
       "      <td>-0.026512</td>\n",
       "      <td>0.026512</td>\n",
       "    </tr>\n",
       "    <tr>\n",
       "      <th>Hour</th>\n",
       "      <td>0.007614</td>\n",
       "      <td>0.002457</td>\n",
       "      <td>-0.002121</td>\n",
       "      <td>-0.009618</td>\n",
       "      <td>1.000000</td>\n",
       "      <td>0.003987</td>\n",
       "      <td>-0.004494</td>\n",
       "      <td>0.018347</td>\n",
       "      <td>-0.003431</td>\n",
       "      <td>0.048190</td>\n",
       "      <td>-0.048190</td>\n",
       "    </tr>\n",
       "    <tr>\n",
       "      <th>Address</th>\n",
       "      <td>0.079709</td>\n",
       "      <td>0.272282</td>\n",
       "      <td>0.021164</td>\n",
       "      <td>0.009450</td>\n",
       "      <td>0.003987</td>\n",
       "      <td>1.000000</td>\n",
       "      <td>0.003274</td>\n",
       "      <td>0.004619</td>\n",
       "      <td>-0.128854</td>\n",
       "      <td>0.053993</td>\n",
       "      <td>-0.053993</td>\n",
       "    </tr>\n",
       "    <tr>\n",
       "      <th>Month</th>\n",
       "      <td>0.004566</td>\n",
       "      <td>0.001308</td>\n",
       "      <td>0.005046</td>\n",
       "      <td>-0.045494</td>\n",
       "      <td>-0.004494</td>\n",
       "      <td>0.003274</td>\n",
       "      <td>1.000000</td>\n",
       "      <td>0.024536</td>\n",
       "      <td>0.004810</td>\n",
       "      <td>-0.003097</td>\n",
       "      <td>0.003097</td>\n",
       "    </tr>\n",
       "    <tr>\n",
       "      <th>Day</th>\n",
       "      <td>-0.003224</td>\n",
       "      <td>-0.001592</td>\n",
       "      <td>-0.002153</td>\n",
       "      <td>-0.009601</td>\n",
       "      <td>0.018347</td>\n",
       "      <td>0.004619</td>\n",
       "      <td>0.024536</td>\n",
       "      <td>1.000000</td>\n",
       "      <td>-0.001740</td>\n",
       "      <td>0.007940</td>\n",
       "      <td>-0.007940</td>\n",
       "    </tr>\n",
       "    <tr>\n",
       "      <th>radial60</th>\n",
       "      <td>0.157222</td>\n",
       "      <td>0.024999</td>\n",
       "      <td>0.888030</td>\n",
       "      <td>-0.008733</td>\n",
       "      <td>-0.003431</td>\n",
       "      <td>-0.128854</td>\n",
       "      <td>0.004810</td>\n",
       "      <td>-0.001740</td>\n",
       "      <td>1.000000</td>\n",
       "      <td>-0.005568</td>\n",
       "      <td>0.005568</td>\n",
       "    </tr>\n",
       "    <tr>\n",
       "      <th>Intersection</th>\n",
       "      <td>-0.019354</td>\n",
       "      <td>0.039411</td>\n",
       "      <td>0.014533</td>\n",
       "      <td>-0.026512</td>\n",
       "      <td>0.048190</td>\n",
       "      <td>0.053993</td>\n",
       "      <td>-0.003097</td>\n",
       "      <td>0.007940</td>\n",
       "      <td>-0.005568</td>\n",
       "      <td>1.000000</td>\n",
       "      <td>-1.000000</td>\n",
       "    </tr>\n",
       "    <tr>\n",
       "      <th>Block</th>\n",
       "      <td>0.019354</td>\n",
       "      <td>-0.039411</td>\n",
       "      <td>-0.014533</td>\n",
       "      <td>0.026512</td>\n",
       "      <td>-0.048190</td>\n",
       "      <td>-0.053993</td>\n",
       "      <td>0.003097</td>\n",
       "      <td>-0.007940</td>\n",
       "      <td>0.005568</td>\n",
       "      <td>-1.000000</td>\n",
       "      <td>1.000000</td>\n",
       "    </tr>\n",
       "  </tbody>\n",
       "</table>\n",
       "</div>"
      ],
      "text/plain": [
       "              District         X         Y      Year      Hour   Address  \\\n",
       "District      1.000000 -0.286041  0.014731  0.007874  0.007614  0.079709   \n",
       "X            -0.286041  1.000000  0.481126  0.000905  0.002457  0.272282   \n",
       "Y             0.014731  0.481126  1.000000 -0.006501 -0.002121  0.021164   \n",
       "Year          0.007874  0.000905 -0.006501  1.000000 -0.009618  0.009450   \n",
       "Hour          0.007614  0.002457 -0.002121 -0.009618  1.000000  0.003987   \n",
       "Address       0.079709  0.272282  0.021164  0.009450  0.003987  1.000000   \n",
       "Month         0.004566  0.001308  0.005046 -0.045494 -0.004494  0.003274   \n",
       "Day          -0.003224 -0.001592 -0.002153 -0.009601  0.018347  0.004619   \n",
       "radial60      0.157222  0.024999  0.888030 -0.008733 -0.003431 -0.128854   \n",
       "Intersection -0.019354  0.039411  0.014533 -0.026512  0.048190  0.053993   \n",
       "Block         0.019354 -0.039411 -0.014533  0.026512 -0.048190 -0.053993   \n",
       "\n",
       "                 Month       Day  radial60  Intersection     Block  \n",
       "District      0.004566 -0.003224  0.157222     -0.019354  0.019354  \n",
       "X             0.001308 -0.001592  0.024999      0.039411 -0.039411  \n",
       "Y             0.005046 -0.002153  0.888030      0.014533 -0.014533  \n",
       "Year         -0.045494 -0.009601 -0.008733     -0.026512  0.026512  \n",
       "Hour         -0.004494  0.018347 -0.003431      0.048190 -0.048190  \n",
       "Address       0.003274  0.004619 -0.128854      0.053993 -0.053993  \n",
       "Month         1.000000  0.024536  0.004810     -0.003097  0.003097  \n",
       "Day           0.024536  1.000000 -0.001740      0.007940 -0.007940  \n",
       "radial60      0.004810 -0.001740  1.000000     -0.005568  0.005568  \n",
       "Intersection -0.003097  0.007940 -0.005568      1.000000 -1.000000  \n",
       "Block         0.003097 -0.007940  0.005568     -1.000000  1.000000  "
      ]
     },
     "execution_count": 43,
     "metadata": {},
     "output_type": "execute_result"
    }
   ],
   "source": [
    "A=df.corr()\n",
    "A"
   ]
  },
  {
   "cell_type": "markdown",
   "metadata": {
    "_uuid": "d150d962aeac49523127b67caa07b9cd8d66cf7f"
   },
   "source": [
    "# Splitting into test and train\n"
   ]
  },
  {
   "cell_type": "code",
   "execution_count": 92,
   "metadata": {},
   "outputs": [],
   "source": [
    "#splitting the dataset into the training set and test set\n",
    "#from sklearn import model_selection as ms\n",
    "\n",
    "X_train,X_test,y_train,y_test=train_test_split(X,y,test_size=0.33,random_state=0)"
   ]
  },
  {
   "cell_type": "markdown",
   "metadata": {
    "_uuid": "959aa7f22849e049dffba3d83b85f92886cb66a0"
   },
   "source": [
    "# XGBoost Model"
   ]
  },
  {
   "cell_type": "code",
   "execution_count": 93,
   "metadata": {
    "_uuid": "2b03c4b581fb06d0e470ffbf1aaead90cde8e7c7"
   },
   "outputs": [
    {
     "data": {
      "text/html": [
       "<div>\n",
       "<style scoped>\n",
       "    .dataframe tbody tr th:only-of-type {\n",
       "        vertical-align: middle;\n",
       "    }\n",
       "\n",
       "    .dataframe tbody tr th {\n",
       "        vertical-align: top;\n",
       "    }\n",
       "\n",
       "    .dataframe thead th {\n",
       "        text-align: right;\n",
       "    }\n",
       "</style>\n",
       "<table border=\"1\" class=\"dataframe\">\n",
       "  <thead>\n",
       "    <tr style=\"text-align: right;\">\n",
       "      <th></th>\n",
       "      <th>District</th>\n",
       "      <th>X</th>\n",
       "      <th>Y</th>\n",
       "      <th>Year</th>\n",
       "      <th>Hour</th>\n",
       "      <th>Address</th>\n",
       "      <th>Month</th>\n",
       "      <th>Day</th>\n",
       "      <th>radial60</th>\n",
       "      <th>Intersection</th>\n",
       "      <th>Block</th>\n",
       "    </tr>\n",
       "  </thead>\n",
       "  <tbody>\n",
       "    <tr>\n",
       "      <th>32684</th>\n",
       "      <td>7</td>\n",
       "      <td>-122.409504</td>\n",
       "      <td>37.781526</td>\n",
       "      <td>10</td>\n",
       "      <td>1</td>\n",
       "      <td>17</td>\n",
       "      <td>9</td>\n",
       "      <td>16</td>\n",
       "      <td>152.277816</td>\n",
       "      <td>0</td>\n",
       "      <td>1</td>\n",
       "    </tr>\n",
       "    <tr>\n",
       "      <th>77206</th>\n",
       "      <td>9</td>\n",
       "      <td>-122.413609</td>\n",
       "      <td>37.784697</td>\n",
       "      <td>2</td>\n",
       "      <td>20</td>\n",
       "      <td>17</td>\n",
       "      <td>9</td>\n",
       "      <td>20</td>\n",
       "      <td>152.283159</td>\n",
       "      <td>0</td>\n",
       "      <td>1</td>\n",
       "    </tr>\n",
       "    <tr>\n",
       "      <th>17196</th>\n",
       "      <td>3</td>\n",
       "      <td>-122.410527</td>\n",
       "      <td>37.757540</td>\n",
       "      <td>1</td>\n",
       "      <td>22</td>\n",
       "      <td>17</td>\n",
       "      <td>8</td>\n",
       "      <td>14</td>\n",
       "      <td>152.276075</td>\n",
       "      <td>1</td>\n",
       "      <td>0</td>\n",
       "    </tr>\n",
       "    <tr>\n",
       "      <th>94613</th>\n",
       "      <td>5</td>\n",
       "      <td>-122.447761</td>\n",
       "      <td>37.769846</td>\n",
       "      <td>5</td>\n",
       "      <td>8</td>\n",
       "      <td>17</td>\n",
       "      <td>7</td>\n",
       "      <td>19</td>\n",
       "      <td>152.322495</td>\n",
       "      <td>0</td>\n",
       "      <td>1</td>\n",
       "    </tr>\n",
       "    <tr>\n",
       "      <th>61769</th>\n",
       "      <td>0</td>\n",
       "      <td>-122.401824</td>\n",
       "      <td>37.757754</td>\n",
       "      <td>11</td>\n",
       "      <td>8</td>\n",
       "      <td>17</td>\n",
       "      <td>5</td>\n",
       "      <td>9</td>\n",
       "      <td>152.265608</td>\n",
       "      <td>0</td>\n",
       "      <td>1</td>\n",
       "    </tr>\n",
       "  </tbody>\n",
       "</table>\n",
       "</div>"
      ],
      "text/plain": [
       "       District           X          Y  Year  Hour  Address  Month  Day  \\\n",
       "32684         7 -122.409504  37.781526    10     1       17      9   16   \n",
       "77206         9 -122.413609  37.784697     2    20       17      9   20   \n",
       "17196         3 -122.410527  37.757540     1    22       17      8   14   \n",
       "94613         5 -122.447761  37.769846     5     8       17      7   19   \n",
       "61769         0 -122.401824  37.757754    11     8       17      5    9   \n",
       "\n",
       "         radial60  Intersection  Block  \n",
       "32684  152.277816             0      1  \n",
       "77206  152.283159             0      1  \n",
       "17196  152.276075             1      0  \n",
       "94613  152.322495             0      1  \n",
       "61769  152.265608             0      1  "
      ]
     },
     "execution_count": 93,
     "metadata": {},
     "output_type": "execute_result"
    }
   ],
   "source": [
    "X_train.head()"
   ]
  },
  {
   "cell_type": "code",
   "execution_count": 96,
   "metadata": {},
   "outputs": [
    {
     "name": "stdout",
     "output_type": "stream",
     "text": [
      "time=0\n"
     ]
    }
   ],
   "source": [
    "HYPER_PARAMS = {\n",
    "    'learning_rate': 0.6,\n",
    "    'objective' : 'multi:softmax',\n",
    "    'n_estimators' : 90,\n",
    "    'max_depth' : 3\n",
    "}\n",
    "model = xgb.XGBClassifier(**HYPER_PARAMS)\n",
    "st =time.time()\n",
    "print(\"time=%d\"%(time.time()-st))"
   ]
  },
  {
   "cell_type": "code",
   "execution_count": null,
   "metadata": {},
   "outputs": [],
   "source": [
    "from sklearn.model_selection import GridSearchCV\n",
    "from sklearn.model_selection import StratifiedKFold\n",
    "st =time.time()\n",
    "min_child_weight =[2,4,6]\n",
    "param_grid = dict(min_child_weight=min_child_weight)\n",
    "kfold = StratifiedKFold(n_splits=7, shuffle=True, random_state=7)\n",
    "grid_search = GridSearchCV(model, param_grid, scoring=\"neg_log_loss\", n_jobs=-1, cv=kfold)\n",
    "grid_result = grid_search.fit(X_train,y_train)\n",
    "# summarize results\n",
    "print(\"Best: %f using %s\" % (grid_result.best_score_, grid_result.best_params_))\n",
    "print(\"time=%d\"%(time.time()-st))"
   ]
  },
  {
   "cell_type": "code",
   "execution_count": null,
   "metadata": {},
   "outputs": [],
   "source": [
    "'''eval_set = [(X_test, y_test)]\n",
    "model.fit(X_train, y_train, early_stopping_rounds=10, eval_metric=\"mlogloss\", eval_set=eval_set, verbose=True)\n",
    "# make predictions for test data\n",
    "y_pred = model.predict(X_test)\n",
    "predictions = [round(value) for value in y_pred]\n",
    "# evaluate predictions\n",
    "accuracy = accuracy_score(y_test, predictions)\n",
    "print(\"Accuracy: %.2f%%\" % (accuracy * 100.0))'''"
   ]
  },
  {
   "cell_type": "code",
   "execution_count": null,
   "metadata": {
    "_uuid": "237820673b131080f4a71b195ab2867019fb1e48"
   },
   "outputs": [],
   "source": [
    "''''n_estimators':150,\n",
    " 'max_depth': 4,\n",
    " 'subsample': 0.8,\n",
    " 'colsample_bytree': 0.8,\n",
    " 'max_delta_step': 1,\n",
    " 'objective': 'multi:softmax',\n",
    " 'nthread': 4,\n",
    " 'seed': 1747,\n",
    " 'gamma': 0.15,\n",
    "'''\n",
    " \n",
    " \n",
    "\n",
    "'''HYPER_PARAMS = {'learning_rate': 0.6}\n",
    "\n",
    "model = xgb.XGBClassifier(**HYPER_PARAMS)\n",
    "eval_set = [(X_test, y_test)]\n",
    "model.fit(X_train, y_train, early_stopping_rounds=10, eval_metric=\"mlogloss\", eval_set=eval_set, verbose=True)\n",
    "# make predictions for test data\n",
    "y_pred = model.predict(X_test)\n",
    "predictions = [round(value) for value in y_pred]\n",
    "# evaluate predictions\n",
    "accuracy = accuracy_score(y_test, predictions)\n",
    "print(\"Accuracy: %.2f%%\" % (accuracy * 100.0))'''"
   ]
  },
  {
   "cell_type": "code",
   "execution_count": null,
   "metadata": {},
   "outputs": [],
   "source": [
    "'''learning_rate = [0.01,0.1,0.2,0.25,0.3]\n",
    "n_estimators = [100,300,500]\n",
    "#gamma = [0.02,0.05,0.07,0.1,0.15,0.2,0.25]\n",
    "\n",
    "from sklearn.model_selection import GridSearchCV\n",
    "from sklearn.model_selection import StratifiedKFold\n",
    "\n",
    "#max_depth = [3,4,5,6,7,8]\n",
    "param_grid = dict(learning_rate=learning_rate,n_estimators=n_estimators)\n",
    "kfold = StratifiedKFold(n_splits=4, shuffle=True, random_state=7)\n",
    "grid_search = GridSearchCV(model, param_grid, scoring=\"neg_log_loss\", n_jobs=-1, cv=kfold)\n",
    "grid_result = grid_search.fit(X_train,y_train)\n",
    "# summarize results\n",
    "print(\"Best: %f using %s\" % (grid_result.best_score_, grid_result.best_params_))'''"
   ]
  },
  {
   "cell_type": "code",
   "execution_count": null,
   "metadata": {},
   "outputs": [],
   "source": [
    "means = grid_result.cv_results_['mean_test_score']\n",
    "stds = grid_result.cv_results_['std_test_score']\n",
    "params = grid_result.cv_results_['params']\n",
    "for mean, stdev, param in zip(means, stds, params):\n",
    "\tprint(\"%f (%f) with: %r\" % (mean, stdev, param))"
   ]
  },
  {
   "cell_type": "code",
   "execution_count": null,
   "metadata": {},
   "outputs": [],
   "source": [
    "'''filename = 'xgboost_model.sav'\n",
    "pickle.dump(model, open(filename, 'wb'))\n",
    "loaded_model = pickle.load(open(filename, 'rb'))\n",
    "loaded_model.fit(X_train, y_train)'''"
   ]
  },
  {
   "cell_type": "code",
   "execution_count": null,
   "metadata": {},
   "outputs": [],
   "source": [
    "'''y_pred = loaded_model.predict(X_test)\n",
    "predictions = [round(value) for value in y_pred]\n",
    "# evaluate predictions\n",
    "accuracy = accuracy_score(y_test, predictions)\n",
    "\n",
    "print(\"Accuracy: %.2f%%\" % (accuracy * 100.0))'''"
   ]
  },
  {
   "cell_type": "code",
   "execution_count": null,
   "metadata": {},
   "outputs": [],
   "source": [
    "xgb.plot_importance(model)"
   ]
  },
  {
   "cell_type": "code",
   "execution_count": null,
   "metadata": {
    "_uuid": "9c662f6b529a55e5fc7ce6a96749fcd1d647fb6a"
   },
   "outputs": [],
   "source": [
    "#y_pred=model.predict_proba(df_test)"
   ]
  },
  {
   "cell_type": "code",
   "execution_count": null,
   "metadata": {
    "_uuid": "c846fc714fda2d15204fcb676e01eb37dc21ce0c"
   },
   "outputs": [],
   "source": [
    "'''temp = data['Category']\n",
    "\n",
    "le.fit_transform(temp)\n",
    "le.classes_'''"
   ]
  },
  {
   "cell_type": "code",
   "execution_count": null,
   "metadata": {
    "_uuid": "ee388bd503c9fabd080dea0a3fb13a3fce67c411"
   },
   "outputs": [],
   "source": [
    "'''y_pred= pd.DataFrame(y_pred, index=Id_test,columns  = le.classes_)'''"
   ]
  },
  {
   "cell_type": "code",
   "execution_count": null,
   "metadata": {
    "_uuid": "894c888b9b473767a7314a39c2199e6aa6e3b135"
   },
   "outputs": [],
   "source": [
    "'''y_pred.to_csv(\"submit.csv\", float_format = '%.5F')'''"
   ]
  },
  {
   "cell_type": "code",
   "execution_count": null,
   "metadata": {
    "_uuid": "e597c8c0eb75762f1de620c1b7d385a58b8a29d8"
   },
   "outputs": [],
   "source": [
    "#print (log_loss(y_test,y_pred));"
   ]
  }
 ],
 "metadata": {
  "kernelspec": {
   "display_name": "Python 3",
   "language": "python",
   "name": "python3"
  },
  "language_info": {
   "codemirror_mode": {
    "name": "ipython",
    "version": 3
   },
   "file_extension": ".py",
   "mimetype": "text/x-python",
   "name": "python",
   "nbconvert_exporter": "python",
   "pygments_lexer": "ipython3",
   "version": "3.6.6"
  }
 },
 "nbformat": 4,
 "nbformat_minor": 1
}
