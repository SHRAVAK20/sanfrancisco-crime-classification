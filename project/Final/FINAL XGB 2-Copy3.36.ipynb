{
 "cells": [
  {
   "cell_type": "code",
   "execution_count": 47,
   "metadata": {
    "_uuid": "31553934c492db3f530cf17301a4570af150a4c5"
   },
   "outputs": [],
   "source": [
    "%matplotlib inline\n",
    "\n",
    "import warnings\n",
    "warnings.filterwarnings('ignore')\n",
    "warnings.filterwarnings('ignore', category=DeprecationWarning)\n",
    "\n",
    "import pandas as pd\n",
    "pd.options.display.max_columns = 100\n",
    "\n",
    "from matplotlib import pyplot as plt\n",
    "import numpy as np\n",
    "\n",
    "import seaborn as sns\n",
    "sns.set(rc={'figure.figsize':(12,9)})\n",
    "import pylab as plot\n",
    "from sklearn import preprocessing\n",
    "from sklearn.model_selection import train_test_split\n",
    "from sklearn.metrics import log_loss,accuracy_score\n",
    "import pickle\n",
    "import time"
   ]
  },
  {
   "cell_type": "code",
   "execution_count": 48,
   "metadata": {
    "_uuid": "66887fd564504f55442c6bc56e949883e13c8c8e"
   },
   "outputs": [],
   "source": [
    "from xgboost import XGBClassifier\n",
    "import xgboost as xgb"
   ]
  },
  {
   "cell_type": "code",
   "execution_count": 49,
   "metadata": {
    "_uuid": "567fbd9ee53c5b4be96794a0291268fb3b81db47"
   },
   "outputs": [],
   "source": [
    "#for scaling\n",
    "from sklearn.preprocessing import StandardScaler"
   ]
  },
  {
   "cell_type": "markdown",
   "metadata": {
    "_uuid": "6f17c16b032b5c9b8410c22a1df0ca8b9b92cc57"
   },
   "source": [
    "Importing training dataset"
   ]
  },
  {
   "cell_type": "code",
   "execution_count": 108,
   "metadata": {
    "_uuid": "ffa2ce6acfc049ba200515731c02148f2295c3f5"
   },
   "outputs": [],
   "source": [
    "data = pd.read_csv('train.csv')\n",
    "test = pd.read_csv('test.csv')\n"
   ]
  },
  {
   "cell_type": "code",
   "execution_count": 109,
   "metadata": {
    "_uuid": "dba3f2ffa9913773317ee4f74a2de56faca1775a"
   },
   "outputs": [
    {
     "name": "stdout",
     "output_type": "stream",
     "text": [
      "(867873, 10)\n"
     ]
    }
   ],
   "source": [
    "print(data.shape)"
   ]
  },
  {
   "cell_type": "code",
   "execution_count": 110,
   "metadata": {
    "_uuid": "adf11990e33863cdeb91d2a2504ca31b74e01d68"
   },
   "outputs": [
    {
     "data": {
      "text/plain": [
       "Index(['Dates', 'Category', 'Descript', 'DayOfWeek', 'PdDistrict',\n",
       "       'Resolution', 'Address', 'X', 'Y', 'Id'],\n",
       "      dtype='object')"
      ]
     },
     "execution_count": 110,
     "metadata": {},
     "output_type": "execute_result"
    }
   ],
   "source": [
    "data.columns"
   ]
  },
  {
   "cell_type": "markdown",
   "metadata": {
    "_uuid": "19691cf8e8eab92ff8230570252a09f7a18af480"
   },
   "source": [
    "\n",
    "Splitting the \"Dates\" into date and time"
   ]
  },
  {
   "cell_type": "code",
   "execution_count": 111,
   "metadata": {
    "_uuid": "3d35c6b7317b38f0d4747768bfaf8756e36aa4cc"
   },
   "outputs": [],
   "source": [
    "df=data.head(100000)\n",
    "datetime=df.Dates.str.split(pat=\" \",expand=True)\n",
    "datetime.columns=['Date','Time']\n",
    "#datetime\n",
    "\n",
    "#------------test data-------------\n",
    "\n",
    "df_test=test\n",
    "datetime_test=df_test.Dates.str.split(pat=\" \",expand=True)\n",
    "datetime_test.columns=['Date','Time']"
   ]
  },
  {
   "cell_type": "code",
   "execution_count": 112,
   "metadata": {
    "_uuid": "8df684409d1df3ad015ad3fa16459304d03138b2"
   },
   "outputs": [],
   "source": [
    "Date=datetime.Date.str.split(pat=\"-\",expand=True)\n",
    "Date.columns=['Year','Month','Day']\n",
    "\n",
    "Time=datetime.Time.str.split(pat=\":\",expand=True)\n",
    "Time.columns=['Hour','Minute','Second']\n",
    "\n",
    "#------------test data-------------\n",
    "\n",
    "Date_test=datetime_test.Date.str.split(pat=\"-\",expand=True)\n",
    "Date_test.columns=['Year','Month','Day']\n",
    "\n",
    "Time_test=datetime_test.Time.str.split(pat=\":\",expand=True)\n",
    "Time_test.columns=['Hour','Minute','Second']"
   ]
  },
  {
   "cell_type": "markdown",
   "metadata": {
    "_uuid": "16a305ba2729b08246db796eb9c3945bdaa70f03"
   },
   "source": [
    "Dropping the column of \"Dates\" and appending the dataframe \"datetime\""
   ]
  },
  {
   "cell_type": "code",
   "execution_count": 113,
   "metadata": {
    "_uuid": "f7aca357775d27e7a6bc92ea5085141d66a9fda3"
   },
   "outputs": [],
   "source": [
    "df=pd.concat([df,Date,Time],axis=1)\n",
    "#df\n",
    "\n",
    "#-----------test data------------------\n",
    "\n",
    "df_test=pd.concat([df_test,Date_test,Time_test],axis=1)\n"
   ]
  },
  {
   "cell_type": "code",
   "execution_count": 114,
   "metadata": {
    "_uuid": "52dca1b1cd16626401f13985ad575ea21347c47f"
   },
   "outputs": [],
   "source": [
    "df=df.drop(labels=['Dates'],axis=1)\n",
    "\n",
    "#-----------test data------------------\n",
    "\n",
    "df_test=df_test.drop(labels=['Dates'],axis=1)\n"
   ]
  },
  {
   "cell_type": "markdown",
   "metadata": {
    "_uuid": "fe92f1b80a1d0f15e68bf1a04bb85f06ddd8ca6a"
   },
   "source": [
    "# #Encoding"
   ]
  },
  {
   "cell_type": "code",
   "execution_count": 115,
   "metadata": {
    "_uuid": "17685cb925b07d136cba97ffafd70f787174bb75"
   },
   "outputs": [
    {
     "data": {
      "text/plain": [
       "Index(['Category', 'Descript', 'DayOfWeek', 'PdDistrict', 'Resolution',\n",
       "       'Address', 'X', 'Y', 'Id', 'Year', 'Month', 'Day', 'Hour', 'Minute',\n",
       "       'Second'],\n",
       "      dtype='object')"
      ]
     },
     "execution_count": 115,
     "metadata": {},
     "output_type": "execute_result"
    }
   ],
   "source": [
    "df.columns"
   ]
  },
  {
   "cell_type": "markdown",
   "metadata": {
    "_uuid": "25cec7d58e0748f7bc6fc0f935653b0bef90a66c"
   },
   "source": [
    "LabelEncoding of \"DayOfWeek\" and \"PdDistrict\""
   ]
  },
  {
   "cell_type": "code",
   "execution_count": 116,
   "metadata": {
    "_uuid": "34f5d750bae866e939d6c90fb6755b617bb319af"
   },
   "outputs": [],
   "source": [
    "le = preprocessing.LabelEncoder()"
   ]
  },
  {
   "cell_type": "code",
   "execution_count": 117,
   "metadata": {
    "_uuid": "5b267a01fe0adc37294fff9949a56e054bd4bf82"
   },
   "outputs": [],
   "source": [
    "#y=pd.get_dummies(df.Category,columns=['Category'],prefix=\" \",prefix_sep=\" \",drop_first=True,)\n",
    "\n",
    "le_res=le.fit_transform(df['Category'])\n",
    "y=pd.DataFrame(le_res)\n",
    "y.columns=['Category']\n",
    "#y"
   ]
  },
  {
   "cell_type": "markdown",
   "metadata": {
    "_uuid": "3be54e663d4fb89722c67529b55c9a65be7d997b"
   },
   "source": [
    "# Rotation 60 degree"
   ]
  },
  {
   "cell_type": "code",
   "execution_count": 118,
   "metadata": {
    "_uuid": "ad26e1b64b3d3bc0a1b0e8f69f5e4636db66f665"
   },
   "outputs": [],
   "source": [
    "df[\"rot60_X\"]=(0.5) * df[\"Y\"] + (1.732/2) * df[\"X\"]\n",
    "df[\"rot60_Y\"]=0.5 * df[\"Y\"] - (1.732/2) * df[\"X\"]\n",
    "\n",
    "\n",
    "\n",
    "df_test[\"rot60_X\"]=(0.5) * df_test[\"Y\"] + (1.732/2) * df_test[\"X\"]\n",
    "df_test[\"rot60_Y\"]=0.5 * df_test[\"Y\"] - (1.732/2) * df_test[\"X\"]"
   ]
  },
  {
   "cell_type": "code",
   "execution_count": 119,
   "metadata": {
    "_uuid": "875d5fcf1c3d2650f04c8b9481015456425be0cd"
   },
   "outputs": [],
   "source": [
    "df[\"radial60\"]=np.sqrt(np.power(df['rot60_X'],2) + np.power(df['rot60_Y'],2))\n",
    "\n",
    "df_test[\"radial60\"]=np.sqrt(np.power(df_test['rot60_X'],2) + np.power(df_test['rot60_Y'],2))"
   ]
  },
  {
   "cell_type": "markdown",
   "metadata": {
    "_uuid": "21d093db421b1b2d37e4b901a6569e0978a70554"
   },
   "source": [
    "# Month clubbing"
   ]
  },
  {
   "cell_type": "code",
   "execution_count": 120,
   "metadata": {
    "_uuid": "25520c7511d486bf5dc06222486acbf89c981f51"
   },
   "outputs": [],
   "source": [
    "df=df.drop(labels='rot60_X',axis=1)\n",
    "\n",
    "df_test=df_test.drop(labels='rot60_X',axis=1)"
   ]
  },
  {
   "cell_type": "code",
   "execution_count": 121,
   "metadata": {
    "_uuid": "3726f999d71e91bce9e9a46b735e0f3cc5346026"
   },
   "outputs": [],
   "source": [
    "df=df.drop(labels='rot60_Y',axis=1)\n",
    "\n",
    "df_test=df_test.drop(labels='rot60_Y',axis=1)"
   ]
  },
  {
   "cell_type": "code",
   "execution_count": 122,
   "metadata": {
    "_uuid": "ac09b6b4529ff8beeef89c723eff6e97e56d8849"
   },
   "outputs": [],
   "source": [
    "df=df.drop(labels='Second',axis=1)\n",
    "\n",
    "df_test=df_test.drop(labels='Second',axis=1)"
   ]
  },
  {
   "cell_type": "markdown",
   "metadata": {
    "_uuid": "ada858c293a33df5fa2b945350200d5205bba741"
   },
   "source": [
    "# Minute Clubbing"
   ]
  },
  {
   "cell_type": "code",
   "execution_count": 123,
   "metadata": {
    "_uuid": "5758724a931e571b4d855165eb87342ec015f79a"
   },
   "outputs": [],
   "source": [
    "df['Minute']=df['Minute'].apply(lambda x:int(x))\n",
    "df['Minute']=df['Minute'].apply(lambda x : 'low' if x <31 else 'high')\n",
    "\n",
    "df_test['Minute']=df_test['Minute'].apply(lambda x:int(x))\n",
    "df_test['Minute']=df_test['Minute'].apply(lambda x : 'low' if x <31 else 'high')\n"
   ]
  },
  {
   "cell_type": "markdown",
   "metadata": {
    "_uuid": "ab70df9f5d5cbeeeb731e7462d68067bb118802f"
   },
   "source": [
    "# DayOfWeek"
   ]
  },
  {
   "cell_type": "code",
   "execution_count": 124,
   "metadata": {
    "_uuid": "e88e26c52f9e84980f6ea7ccfcecbabcd8b4f8a7"
   },
   "outputs": [],
   "source": [
    "df['DayOfWeek']= df['DayOfWeek'].apply(lambda x : 'WeekHigh' if x in ('Wednesday','Friday') else ('WeekMed' if x in ('Tuesday','Thursday','Saturday') else 'WeekLow'))\n",
    "\n",
    "\n",
    "df_test['DayOfWeek']= df_test['DayOfWeek'].apply(lambda x : 'WeekHigh' if x in ('Wednesday','Friday') else ('WeekMed' if x in ('Tuesday','Thursday','Saturday') else 'WeekLow'))\n"
   ]
  },
  {
   "cell_type": "markdown",
   "metadata": {
    "_uuid": "f46874bda8772cef12ada43dcda36374e4f9d758"
   },
   "source": [
    "# Address Update"
   ]
  },
  {
   "cell_type": "code",
   "execution_count": 125,
   "metadata": {
    "_uuid": "d4f1bcb5e86c643c42007286948dfdb74d83d66a"
   },
   "outputs": [],
   "source": [
    "df['Intersection']=df['Address'].apply(lambda x : 1 if '/' in x else 0)\n",
    "df['Block']=df['Address'].apply(lambda x : 1 if 'Block' in x else 0)\n",
    "df_test['Intersection']=df_test['Address'].apply(lambda x : 1 if '/' in x else 0)\n",
    "df_test['Block']=df_test['Address'].apply(lambda x : 1 if 'Block' in x else 0)"
   ]
  },
  {
   "cell_type": "code",
   "execution_count": 126,
   "metadata": {
    "_uuid": "83e207d406b36d2c606aecb409c6c9fb6d7d2c70"
   },
   "outputs": [],
   "source": [
    "address=pd.DataFrame(df['Address'],columns=['Address'])\n",
    "address=address.Address.str.split(pat=\" /\",expand=True )\n",
    "\n",
    "address.columns=['Address','Intr2']\n",
    "\n",
    "address=address.Address.str.split(pat=\" /\",expand=True )\n",
    "address.columns=['Address']\n",
    "\n",
    "string=address.iloc[:,0]\n",
    "string=string.str.strip()\n",
    "\n",
    "address_fram=string.to_frame()\n",
    "temp=address_fram['Address'].astype(str).str[-2:]\n",
    "\n",
    "address=temp.to_frame()\n",
    "\n",
    "address['Address']=address['Address'].apply(lambda x :( x if x in (\"ST\",\"AV\",\"LN\",\"DR\",\"BL\",\"HY\",\"CT\",\"RD\",\"PL\",\"PZ\",\"TR\",\"AL\",\"CR\",\"WK\",\"EX\",\"RW\") else ((\"I-80\" if x in (\"80\") else (\"HWY\" if x in (\"WY\") else (\"WAY\" if x in (\"AY\") else (\"TER\" if x in (\"ER\") else (\"ALMS\" if x in (\"MS\") else (\"MAR\" if x in (\"AR\") else (\"PARK\" if x in (\"RK\") else (\"STWY\" if x in (\"WY\") else (\"VIA\" if x in (\"NO\") else (\"BLOCK\")))))))))))))\n",
    "df=df.drop(labels=['Address'],axis=1)\n",
    "df=pd.concat([address,df],axis=1)\n",
    "\n"
   ]
  },
  {
   "cell_type": "markdown",
   "metadata": {
    "_uuid": "913bcf82bceb8c0d421480ccfdc30518d68b97ef"
   },
   "source": [
    "# Address splitting"
   ]
  },
  {
   "cell_type": "code",
   "execution_count": 127,
   "metadata": {
    "_uuid": "b77cb3c28d65130e5f966fc391addd484b66c6f2"
   },
   "outputs": [],
   "source": [
    "address_test=pd.DataFrame(df_test['Address'],columns=['Address'])\n",
    "address_test=address_test.Address.str.split(pat=\" /\",expand=True )\n",
    "\n",
    "address_test.columns=['Address','Intr2']\n",
    "\n",
    "address_test=address_test.Address.str.split(pat=\" /\",expand=True )\n",
    "address_test.columns=['Address']\n",
    "\n",
    "string_test=address_test.iloc[:,0]\n",
    "string_test=string_test.str.strip()\n",
    "\n",
    "address_fram_test=string_test.to_frame()\n",
    "temp_test=address_fram_test['Address'].astype(str).str[-2:]\n",
    "\n",
    "address_test=temp_test.to_frame()\n",
    "\n",
    "address_test['Address']=address_test['Address'].apply(lambda x :( x if x in (\"ST\",\"AV\",\"LN\",\"DR\",\"BL\",\"HY\",\"CT\",\"RD\",\"PL\",\"PZ\",\"TR\",\"AL\",\"CR\",\"WK\",\"EX\",\"RW\") else ((\"I-80\" if x in (\"80\") else (\"HWY\" if x in (\"WY\") else (\"WAY\" if x in (\"AY\") else (\"TER\" if x in (\"ER\") else (\"ALMS\" if x in (\"MS\") else (\"MAR\" if x in (\"AR\") else (\"PARK\" if x in (\"RK\") else (\"STWY\" if x in (\"WY\") else (\"VIA\" if x in (\"NO\") else (\"BLOCK\")))))))))))))\n",
    "df_test=df_test.drop(labels=['Address'],axis=1)\n",
    "df_test=pd.concat([address_test,df_test],axis=1)"
   ]
  },
  {
   "cell_type": "code",
   "execution_count": 128,
   "metadata": {
    "_uuid": "1f80d7a11e943b36bb7b5c2a5fe6eebcef01e0b2"
   },
   "outputs": [],
   "source": [
    "Id=df['Id']\n",
    "df=df.drop(['Descript','Resolution','Id'],axis=1)\n",
    "\n",
    "#----------test data---------\n",
    "\n",
    "Id_test=df_test['Id']\n",
    "df_test=df_test.drop(['Descript','Resolution','Id'],axis=1)"
   ]
  },
  {
   "cell_type": "code",
   "execution_count": 129,
   "metadata": {
    "_uuid": "2827786826b597839338dcfb58fc6ef368f83277"
   },
   "outputs": [
    {
     "data": {
      "text/plain": [
       "Index(['Address', 'DayOfWeek', 'PdDistrict', 'X', 'Y', 'Year', 'Month', 'Day',\n",
       "       'Hour', 'Minute', 'radial60', 'Intersection', 'Block'],\n",
       "      dtype='object')"
      ]
     },
     "execution_count": 129,
     "metadata": {},
     "output_type": "execute_result"
    }
   ],
   "source": [
    "df_test.columns"
   ]
  },
  {
   "cell_type": "code",
   "execution_count": 130,
   "metadata": {
    "_uuid": "a1d9b6b0e76cc906579c914eab2f9a87ca0abc87"
   },
   "outputs": [
    {
     "data": {
      "text/plain": [
       "array(['MISSION', 'SOUTHERN', 'BAYVIEW', 'CENTRAL', 'INGLESIDE',\n",
       "       'NORTHERN', 'RICHMOND', 'TARAVAL', 'TENDERLOIN', 'PARK'],\n",
       "      dtype=object)"
      ]
     },
     "execution_count": 130,
     "metadata": {},
     "output_type": "execute_result"
    }
   ],
   "source": [
    "data['PdDistrict'].unique()"
   ]
  },
  {
   "cell_type": "markdown",
   "metadata": {
    "_uuid": "4392515fe4ff16700e49aa9fad6c874e40e83b61"
   },
   "source": [
    "# Label Encoding"
   ]
  },
  {
   "cell_type": "code",
   "execution_count": 131,
   "metadata": {
    "_uuid": "7973f40eec949ee843fdb7dea76f9a9238c61840"
   },
   "outputs": [
    {
     "data": {
      "text/plain": [
       "Index(['Address', 'Category', 'DayOfWeek', 'PdDistrict', 'X', 'Y', 'Year',\n",
       "       'Month', 'Day', 'Hour', 'Minute', 'radial60', 'Intersection', 'Block'],\n",
       "      dtype='object')"
      ]
     },
     "execution_count": 131,
     "metadata": {},
     "output_type": "execute_result"
    }
   ],
   "source": [
    "\n",
    "df.columns"
   ]
  },
  {
   "cell_type": "code",
   "execution_count": 132,
   "metadata": {
    "_uuid": "4a51a461ee1657261f1ecec3679173375d427eb1"
   },
   "outputs": [
    {
     "data": {
      "text/plain": [
       "Index(['Address', 'DayOfWeek', 'PdDistrict', 'X', 'Y', 'Year', 'Month', 'Day',\n",
       "       'Hour', 'Minute', 'radial60', 'Intersection', 'Block'],\n",
       "      dtype='object')"
      ]
     },
     "execution_count": 132,
     "metadata": {},
     "output_type": "execute_result"
    }
   ],
   "source": [
    "df_test.columns"
   ]
  },
  {
   "cell_type": "code",
   "execution_count": 133,
   "metadata": {
    "_uuid": "d4af891d320b018120012595e138a4007accb0c7"
   },
   "outputs": [],
   "source": [
    "le = preprocessing.LabelEncoder()"
   ]
  },
  {
   "cell_type": "markdown",
   "metadata": {
    "_uuid": "3bb2ad3a7a57df246cba5d4a15c7f425a076d6de"
   },
   "source": [
    "Label Encoding :DayOfWeek"
   ]
  },
  {
   "cell_type": "code",
   "execution_count": 134,
   "metadata": {
    "_uuid": "3182afc198b35e8836c99b31ab38af23e7748ad8"
   },
   "outputs": [],
   "source": [
    "\n",
    "#le = preprocessing.LabelEncoder()\n",
    "le_res=le.fit_transform(df['DayOfWeek'])\n",
    "Day=pd.DataFrame(le_res)\n",
    "Day.columns=['DayOfWeek']\n",
    "df=df.drop(labels=['DayOfWeek'],axis=1)\n",
    "df=pd.concat([Day,df],axis=1)\n",
    "\n",
    "#----------test data----------\n",
    "\n",
    "le_res_test=le.fit_transform(df_test['DayOfWeek'])\n",
    "Day_test=pd.DataFrame(le_res_test)\n",
    "Day_test.columns=['DayOfWeek']\n",
    "df_test=df_test.drop(labels=['DayOfWeek'],axis=1)\n",
    "df_test=pd.concat([Day_test,df_test],axis=1)"
   ]
  },
  {
   "cell_type": "markdown",
   "metadata": {
    "_uuid": "496f542c17c3c01ff5391c4e916ede3164fa92c2"
   },
   "source": [
    "Label Encoding: PdDistrict"
   ]
  },
  {
   "cell_type": "code",
   "execution_count": 135,
   "metadata": {
    "_uuid": "56ad936fd7c6c841d8f9d8ecd9e153f76296720e"
   },
   "outputs": [],
   "source": [
    "\n",
    "le_res=le.fit_transform(df['PdDistrict'])\n",
    "District=pd.DataFrame(le_res)\n",
    "\n",
    "#District=pd.get_dummies(df['PdDistrict'],drop_first=True)\n",
    "District.columns=['District']\n",
    "df=df.drop(labels=['PdDistrict'],axis=1)\n",
    "df=pd.concat([District,df],axis=1)\n",
    "\n",
    "\n",
    "le_res_test=le.fit_transform(df_test['PdDistrict'])\n",
    "District_test=pd.DataFrame(le_res_test)\n",
    "\n",
    "#District=pd.get_dummies(df['PdDistrict'],drop_first=True)\n",
    "District_test.columns=['District']\n",
    "df_test=df_test.drop(labels=['PdDistrict'],axis=1)\n",
    "df_test=pd.concat([District_test,df_test],axis=1)\n"
   ]
  },
  {
   "cell_type": "markdown",
   "metadata": {
    "_uuid": "e95f79db8d910ad366cba9224138bd9384942def"
   },
   "source": [
    "Label encoding: Year"
   ]
  },
  {
   "cell_type": "code",
   "execution_count": 136,
   "metadata": {
    "_uuid": "b346ac9713337dae84c8f02a1430b5db8d144eb0"
   },
   "outputs": [],
   "source": [
    "\n",
    "#le = preprocessing.LabelEncoder()\n",
    "le_res=le.fit_transform(df['Year'])\n",
    "Year=pd.DataFrame(le_res)\n",
    "\n",
    "#District=pd.get_dummies(df['PdDistrict'],drop_first=True)\n",
    "Year.columns=['Year']\n",
    "df=df.drop(labels=['Year'],axis=1)\n",
    "df=pd.concat([Year,df],axis=1)\n",
    "\n",
    "\n",
    "#le = preprocessing.LabelEncoder()\n",
    "le_res_test=le.fit_transform(df_test['Year'])\n",
    "Year_test=pd.DataFrame(le_res_test)\n",
    "\n",
    "#District=pd.get_dummies(df['PdDistrict'],drop_first=True)\n",
    "Year_test.columns=['Year']\n",
    "df_test=df_test.drop(labels=['Year'],axis=1)\n",
    "df_test=pd.concat([Year_test,df_test],axis=1)\n"
   ]
  },
  {
   "cell_type": "markdown",
   "metadata": {
    "_uuid": "0d2233877adbc0df38f434991be882ae7c30022a"
   },
   "source": [
    "Label encoding: Month"
   ]
  },
  {
   "cell_type": "code",
   "execution_count": 137,
   "metadata": {
    "_uuid": "5aca80e6f54555377348534ec5b5319976f39b7e"
   },
   "outputs": [],
   "source": [
    "\n",
    "#le = preprocessing.LabelEncoder()\n",
    "le_res=le.fit_transform(df['Month'])\n",
    "Month=pd.DataFrame(le_res)\n",
    "\n",
    "#District=pd.get_dummies(df['PdDistrict'],drop_first=True)\n",
    "Month.columns=['Month']\n",
    "df=df.drop(labels=['Month'],axis=1)\n",
    "df=pd.concat([Month,df],axis=1)\n",
    "\n",
    "\n",
    "#le = preprocessing.LabelEncoder()\n",
    "le_res_test=le.fit_transform(df_test['Month'])\n",
    "Month_test=pd.DataFrame(le_res_test)\n",
    "\n",
    "#District=pd.get_dummies(df['PdDistrict'],drop_first=True)\n",
    "Month_test.columns=['Month']\n",
    "df_test=df_test.drop(labels=['Month'],axis=1)\n",
    "df_test=pd.concat([Month_test,df_test],axis=1)\n"
   ]
  },
  {
   "cell_type": "markdown",
   "metadata": {
    "_uuid": "a774f5f25c5182d09e9865488a051e6665f06c95"
   },
   "source": [
    "Label encoding: Day"
   ]
  },
  {
   "cell_type": "code",
   "execution_count": 138,
   "metadata": {
    "_uuid": "aef2a2ec42b5e9ad942587ce0d2500f9b18df475"
   },
   "outputs": [],
   "source": [
    "\n",
    "#le = preprocessing.LabelEncoder()\n",
    "le_res=le.fit_transform(df['Day'])\n",
    "Day=pd.DataFrame(le_res)\n",
    "\n",
    "#District=pd.get_dummies(df['PdDistrict'],drop_first=True)\n",
    "Day.columns=['Day']\n",
    "df=df.drop(labels=['Day'],axis=1)\n",
    "df=pd.concat([Day,df],axis=1)\n",
    "\n",
    "\n",
    "#le = preprocessing.LabelEncoder()\n",
    "le_res_test=le.fit_transform(df_test['Day'])\n",
    "Day_test=pd.DataFrame(le_res_test)\n",
    "\n",
    "#District=pd.get_dummies(df['PdDistrict'],drop_first=True)\n",
    "Day_test.columns=['Day']\n",
    "df_test=df_test.drop(labels=['Day'],axis=1)\n",
    "df_test=pd.concat([Day_test,df_test],axis=1)\n"
   ]
  },
  {
   "cell_type": "markdown",
   "metadata": {
    "_uuid": "7376032cd6db751d15d1aed352495ad8655da635"
   },
   "source": [
    "Label encoding: Hour"
   ]
  },
  {
   "cell_type": "code",
   "execution_count": 139,
   "metadata": {
    "_uuid": "a4d8891e57a07936f1d5944ee9af75b95280effc"
   },
   "outputs": [],
   "source": [
    "\n",
    "#le = preprocessing.LabelEncoder()\n",
    "le_res=le.fit_transform(df['Hour'])\n",
    "Hour=pd.DataFrame(le_res)\n",
    "\n",
    "#District=pd.get_dummies(df['PdDistrict'],drop_first=True)\n",
    "Hour.columns=['Hour']\n",
    "df=df.drop(labels=['Hour'],axis=1)\n",
    "df=pd.concat([Hour,df],axis=1)\n",
    "\n",
    "\n",
    "#le = preprocessing.LabelEncoder()\n",
    "le_res_test=le.fit_transform(df_test['Hour'])\n",
    "Hour_test=pd.DataFrame(le_res_test)\n",
    "\n",
    "#District=pd.get_dummies(df['PdDistrict'],drop_first=True)\n",
    "Hour_test.columns=['Hour']\n",
    "df_test=df_test.drop(labels=['Hour'],axis=1)\n",
    "df_test=pd.concat([Hour_test,df_test],axis=1)\n"
   ]
  },
  {
   "cell_type": "markdown",
   "metadata": {
    "_uuid": "8497d8bc86d795c3cbea56246d1f196f147cf7b2"
   },
   "source": [
    "Label encoding: Minute"
   ]
  },
  {
   "cell_type": "code",
   "execution_count": 140,
   "metadata": {
    "_uuid": "61386a4969316f051ef0967bd719bc6764fb4a85"
   },
   "outputs": [],
   "source": [
    "\n",
    "le_res=le.fit_transform(df['Minute'])\n",
    "Minute=pd.DataFrame(le_res)\n",
    "\n",
    "#District=pd.get_dummies(df['PdDistrict'],drop_first=True)\n",
    "Minute.columns=['Minute']\n",
    "df=df.drop(labels=['Minute'],axis=1)\n",
    "df=pd.concat([Minute,df],axis=1)\n",
    "\n",
    "\n",
    "le_res_test=le.fit_transform(df_test['Minute'])\n",
    "Minute_test=pd.DataFrame(le_res_test)\n",
    "\n",
    "#District=pd.get_dummies(df['PdDistrict'],drop_first=True)\n",
    "Minute_test.columns=['Minute']\n",
    "df_test=df_test.drop(labels=['Minute'],axis=1)\n",
    "df_test=pd.concat([Minute_test,df_test],axis=1)\n",
    "\n"
   ]
  },
  {
   "cell_type": "markdown",
   "metadata": {
    "_uuid": "d74ee1cf95f38f72b125e92fc91eeb786e3c1096"
   },
   "source": [
    "#label encode street suffix"
   ]
  },
  {
   "cell_type": "code",
   "execution_count": 141,
   "metadata": {
    "_uuid": "3e00de91a48d687ebde6d20a869593de2662cfdd"
   },
   "outputs": [
    {
     "data": {
      "text/plain": [
       "Index(['Category', 'Minute', 'Hour', 'Day', 'Month', 'Year', 'District',\n",
       "       'DayOfWeek', 'Address', 'X', 'Y', 'radial60', 'Intersection', 'Block'],\n",
       "      dtype='object')"
      ]
     },
     "execution_count": 141,
     "metadata": {},
     "output_type": "execute_result"
    }
   ],
   "source": [
    "le_res=le.fit_transform(df['Category'])\n",
    "cat=pd.DataFrame(le_res)\n",
    "cat.columns=['Category']\n",
    "df=df.drop(labels=['Category'],axis=1)\n",
    "df=pd.concat([cat,df],axis=1)\n",
    "\n",
    "df.columns"
   ]
  },
  {
   "cell_type": "code",
   "execution_count": 142,
   "metadata": {
    "_uuid": "f638d5b23cae5e93963e36b7e27943ea3b702a71"
   },
   "outputs": [],
   "source": [
    "\n",
    "le_res=le.fit_transform(df['Address'])\n",
    "Address=pd.DataFrame(le_res)\n",
    "Address.columns=['Address']\n",
    "df=df.drop(labels=['Address'],axis=1)\n",
    "df=pd.concat([Address,df],axis=1)\n",
    "le_res=le.fit_transform(df_test['Address'])\n",
    "Address_test=pd.DataFrame(le_res)\n",
    "Address_test.columns=['Address']\n",
    "df_test=df_test.drop(labels=['Address'],axis=1)\n",
    "df_test=pd.concat([Address_test,df_test],axis=1)"
   ]
  },
  {
   "cell_type": "code",
   "execution_count": 143,
   "metadata": {},
   "outputs": [
    {
     "data": {
      "text/html": [
       "<div>\n",
       "<style scoped>\n",
       "    .dataframe tbody tr th:only-of-type {\n",
       "        vertical-align: middle;\n",
       "    }\n",
       "\n",
       "    .dataframe tbody tr th {\n",
       "        vertical-align: top;\n",
       "    }\n",
       "\n",
       "    .dataframe thead th {\n",
       "        text-align: right;\n",
       "    }\n",
       "</style>\n",
       "<table border=\"1\" class=\"dataframe\">\n",
       "  <thead>\n",
       "    <tr style=\"text-align: right;\">\n",
       "      <th></th>\n",
       "      <th>Address</th>\n",
       "      <th>Category</th>\n",
       "      <th>Minute</th>\n",
       "      <th>Hour</th>\n",
       "      <th>Day</th>\n",
       "      <th>Month</th>\n",
       "      <th>Year</th>\n",
       "      <th>District</th>\n",
       "      <th>DayOfWeek</th>\n",
       "      <th>X</th>\n",
       "      <th>Y</th>\n",
       "      <th>radial60</th>\n",
       "      <th>Intersection</th>\n",
       "      <th>Block</th>\n",
       "    </tr>\n",
       "  </thead>\n",
       "  <tbody>\n",
       "    <tr>\n",
       "      <th>0</th>\n",
       "      <td>17</td>\n",
       "      <td>27</td>\n",
       "      <td>0</td>\n",
       "      <td>17</td>\n",
       "      <td>27</td>\n",
       "      <td>5</td>\n",
       "      <td>10</td>\n",
       "      <td>3</td>\n",
       "      <td>0</td>\n",
       "      <td>-122.419331</td>\n",
       "      <td>37.762264</td>\n",
       "      <td>152.287276</td>\n",
       "      <td>0</td>\n",
       "      <td>1</td>\n",
       "    </tr>\n",
       "    <tr>\n",
       "      <th>1</th>\n",
       "      <td>17</td>\n",
       "      <td>17</td>\n",
       "      <td>0</td>\n",
       "      <td>2</td>\n",
       "      <td>18</td>\n",
       "      <td>1</td>\n",
       "      <td>1</td>\n",
       "      <td>7</td>\n",
       "      <td>2</td>\n",
       "      <td>-122.411340</td>\n",
       "      <td>37.781271</td>\n",
       "      <td>152.279998</td>\n",
       "      <td>0</td>\n",
       "      <td>1</td>\n",
       "    </tr>\n",
       "    <tr>\n",
       "      <th>2</th>\n",
       "      <td>17</td>\n",
       "      <td>13</td>\n",
       "      <td>1</td>\n",
       "      <td>0</td>\n",
       "      <td>13</td>\n",
       "      <td>10</td>\n",
       "      <td>4</td>\n",
       "      <td>7</td>\n",
       "      <td>0</td>\n",
       "      <td>-122.403405</td>\n",
       "      <td>37.775421</td>\n",
       "      <td>152.269705</td>\n",
       "      <td>0</td>\n",
       "      <td>1</td>\n",
       "    </tr>\n",
       "    <tr>\n",
       "      <th>3</th>\n",
       "      <td>2</td>\n",
       "      <td>24</td>\n",
       "      <td>1</td>\n",
       "      <td>18</td>\n",
       "      <td>26</td>\n",
       "      <td>11</td>\n",
       "      <td>4</td>\n",
       "      <td>0</td>\n",
       "      <td>2</td>\n",
       "      <td>-122.404715</td>\n",
       "      <td>37.730161</td>\n",
       "      <td>152.265674</td>\n",
       "      <td>0</td>\n",
       "      <td>1</td>\n",
       "    </tr>\n",
       "    <tr>\n",
       "      <th>4</th>\n",
       "      <td>17</td>\n",
       "      <td>21</td>\n",
       "      <td>1</td>\n",
       "      <td>17</td>\n",
       "      <td>8</td>\n",
       "      <td>8</td>\n",
       "      <td>9</td>\n",
       "      <td>7</td>\n",
       "      <td>1</td>\n",
       "      <td>-122.405239</td>\n",
       "      <td>37.785265</td>\n",
       "      <td>152.273137</td>\n",
       "      <td>1</td>\n",
       "      <td>0</td>\n",
       "    </tr>\n",
       "    <tr>\n",
       "      <th>5</th>\n",
       "      <td>17</td>\n",
       "      <td>34</td>\n",
       "      <td>1</td>\n",
       "      <td>6</td>\n",
       "      <td>13</td>\n",
       "      <td>4</td>\n",
       "      <td>11</td>\n",
       "      <td>3</td>\n",
       "      <td>0</td>\n",
       "      <td>-122.418405</td>\n",
       "      <td>37.766760</td>\n",
       "      <td>152.286716</td>\n",
       "      <td>1</td>\n",
       "      <td>0</td>\n",
       "    </tr>\n",
       "    <tr>\n",
       "      <th>6</th>\n",
       "      <td>12</td>\n",
       "      <td>4</td>\n",
       "      <td>0</td>\n",
       "      <td>23</td>\n",
       "      <td>8</td>\n",
       "      <td>7</td>\n",
       "      <td>3</td>\n",
       "      <td>1</td>\n",
       "      <td>0</td>\n",
       "      <td>-122.404651</td>\n",
       "      <td>37.790442</td>\n",
       "      <td>152.273071</td>\n",
       "      <td>0</td>\n",
       "      <td>1</td>\n",
       "    </tr>\n",
       "    <tr>\n",
       "      <th>7</th>\n",
       "      <td>17</td>\n",
       "      <td>30</td>\n",
       "      <td>0</td>\n",
       "      <td>12</td>\n",
       "      <td>15</td>\n",
       "      <td>10</td>\n",
       "      <td>9</td>\n",
       "      <td>2</td>\n",
       "      <td>0</td>\n",
       "      <td>-122.410871</td>\n",
       "      <td>37.737526</td>\n",
       "      <td>152.274009</td>\n",
       "      <td>0</td>\n",
       "      <td>1</td>\n",
       "    </tr>\n",
       "    <tr>\n",
       "      <th>8</th>\n",
       "      <td>17</td>\n",
       "      <td>21</td>\n",
       "      <td>0</td>\n",
       "      <td>23</td>\n",
       "      <td>4</td>\n",
       "      <td>1</td>\n",
       "      <td>4</td>\n",
       "      <td>0</td>\n",
       "      <td>1</td>\n",
       "      <td>-122.405911</td>\n",
       "      <td>37.732964</td>\n",
       "      <td>152.267463</td>\n",
       "      <td>1</td>\n",
       "      <td>0</td>\n",
       "    </tr>\n",
       "    <tr>\n",
       "      <th>9</th>\n",
       "      <td>17</td>\n",
       "      <td>7</td>\n",
       "      <td>0</td>\n",
       "      <td>7</td>\n",
       "      <td>6</td>\n",
       "      <td>1</td>\n",
       "      <td>3</td>\n",
       "      <td>4</td>\n",
       "      <td>2</td>\n",
       "      <td>-122.417710</td>\n",
       "      <td>37.784236</td>\n",
       "      <td>152.288047</td>\n",
       "      <td>1</td>\n",
       "      <td>0</td>\n",
       "    </tr>\n",
       "    <tr>\n",
       "      <th>10</th>\n",
       "      <td>17</td>\n",
       "      <td>16</td>\n",
       "      <td>1</td>\n",
       "      <td>17</td>\n",
       "      <td>13</td>\n",
       "      <td>6</td>\n",
       "      <td>2</td>\n",
       "      <td>4</td>\n",
       "      <td>2</td>\n",
       "      <td>-122.429184</td>\n",
       "      <td>37.786660</td>\n",
       "      <td>152.302181</td>\n",
       "      <td>0</td>\n",
       "      <td>1</td>\n",
       "    </tr>\n",
       "    <tr>\n",
       "      <th>11</th>\n",
       "      <td>2</td>\n",
       "      <td>21</td>\n",
       "      <td>0</td>\n",
       "      <td>3</td>\n",
       "      <td>6</td>\n",
       "      <td>1</td>\n",
       "      <td>3</td>\n",
       "      <td>0</td>\n",
       "      <td>2</td>\n",
       "      <td>-122.386205</td>\n",
       "      <td>37.731379</td>\n",
       "      <td>152.243506</td>\n",
       "      <td>0</td>\n",
       "      <td>1</td>\n",
       "    </tr>\n",
       "    <tr>\n",
       "      <th>12</th>\n",
       "      <td>2</td>\n",
       "      <td>32</td>\n",
       "      <td>1</td>\n",
       "      <td>20</td>\n",
       "      <td>11</td>\n",
       "      <td>0</td>\n",
       "      <td>4</td>\n",
       "      <td>6</td>\n",
       "      <td>0</td>\n",
       "      <td>-122.469629</td>\n",
       "      <td>37.780768</td>\n",
       "      <td>152.350216</td>\n",
       "      <td>1</td>\n",
       "      <td>0</td>\n",
       "    </tr>\n",
       "    <tr>\n",
       "      <th>13</th>\n",
       "      <td>7</td>\n",
       "      <td>1</td>\n",
       "      <td>1</td>\n",
       "      <td>15</td>\n",
       "      <td>21</td>\n",
       "      <td>0</td>\n",
       "      <td>10</td>\n",
       "      <td>8</td>\n",
       "      <td>2</td>\n",
       "      <td>-122.490136</td>\n",
       "      <td>37.731143</td>\n",
       "      <td>152.368794</td>\n",
       "      <td>0</td>\n",
       "      <td>1</td>\n",
       "    </tr>\n",
       "    <tr>\n",
       "      <th>14</th>\n",
       "      <td>2</td>\n",
       "      <td>7</td>\n",
       "      <td>0</td>\n",
       "      <td>13</td>\n",
       "      <td>20</td>\n",
       "      <td>8</td>\n",
       "      <td>3</td>\n",
       "      <td>9</td>\n",
       "      <td>2</td>\n",
       "      <td>-122.416330</td>\n",
       "      <td>37.781495</td>\n",
       "      <td>152.286043</td>\n",
       "      <td>0</td>\n",
       "      <td>1</td>\n",
       "    </tr>\n",
       "    <tr>\n",
       "      <th>15</th>\n",
       "      <td>17</td>\n",
       "      <td>16</td>\n",
       "      <td>0</td>\n",
       "      <td>4</td>\n",
       "      <td>18</td>\n",
       "      <td>8</td>\n",
       "      <td>9</td>\n",
       "      <td>1</td>\n",
       "      <td>0</td>\n",
       "      <td>-122.410722</td>\n",
       "      <td>37.787097</td>\n",
       "      <td>152.279975</td>\n",
       "      <td>0</td>\n",
       "      <td>1</td>\n",
       "    </tr>\n",
       "    <tr>\n",
       "      <th>16</th>\n",
       "      <td>3</td>\n",
       "      <td>7</td>\n",
       "      <td>1</td>\n",
       "      <td>11</td>\n",
       "      <td>3</td>\n",
       "      <td>9</td>\n",
       "      <td>0</td>\n",
       "      <td>5</td>\n",
       "      <td>2</td>\n",
       "      <td>-122.458680</td>\n",
       "      <td>37.748155</td>\n",
       "      <td>152.332972</td>\n",
       "      <td>0</td>\n",
       "      <td>1</td>\n",
       "    </tr>\n",
       "    <tr>\n",
       "      <th>17</th>\n",
       "      <td>17</td>\n",
       "      <td>33</td>\n",
       "      <td>1</td>\n",
       "      <td>22</td>\n",
       "      <td>25</td>\n",
       "      <td>7</td>\n",
       "      <td>4</td>\n",
       "      <td>3</td>\n",
       "      <td>1</td>\n",
       "      <td>-122.421582</td>\n",
       "      <td>37.761701</td>\n",
       "      <td>152.289920</td>\n",
       "      <td>1</td>\n",
       "      <td>0</td>\n",
       "    </tr>\n",
       "    <tr>\n",
       "      <th>18</th>\n",
       "      <td>17</td>\n",
       "      <td>19</td>\n",
       "      <td>1</td>\n",
       "      <td>0</td>\n",
       "      <td>17</td>\n",
       "      <td>9</td>\n",
       "      <td>6</td>\n",
       "      <td>5</td>\n",
       "      <td>1</td>\n",
       "      <td>-122.441394</td>\n",
       "      <td>37.771727</td>\n",
       "      <td>152.315051</td>\n",
       "      <td>0</td>\n",
       "      <td>1</td>\n",
       "    </tr>\n",
       "    <tr>\n",
       "      <th>19</th>\n",
       "      <td>17</td>\n",
       "      <td>21</td>\n",
       "      <td>1</td>\n",
       "      <td>2</td>\n",
       "      <td>6</td>\n",
       "      <td>8</td>\n",
       "      <td>0</td>\n",
       "      <td>7</td>\n",
       "      <td>1</td>\n",
       "      <td>-122.411612</td>\n",
       "      <td>37.773768</td>\n",
       "      <td>152.279396</td>\n",
       "      <td>1</td>\n",
       "      <td>0</td>\n",
       "    </tr>\n",
       "    <tr>\n",
       "      <th>20</th>\n",
       "      <td>17</td>\n",
       "      <td>20</td>\n",
       "      <td>0</td>\n",
       "      <td>7</td>\n",
       "      <td>25</td>\n",
       "      <td>10</td>\n",
       "      <td>10</td>\n",
       "      <td>5</td>\n",
       "      <td>2</td>\n",
       "      <td>-122.450242</td>\n",
       "      <td>37.770054</td>\n",
       "      <td>152.325512</td>\n",
       "      <td>0</td>\n",
       "      <td>1</td>\n",
       "    </tr>\n",
       "    <tr>\n",
       "      <th>21</th>\n",
       "      <td>17</td>\n",
       "      <td>1</td>\n",
       "      <td>1</td>\n",
       "      <td>9</td>\n",
       "      <td>24</td>\n",
       "      <td>5</td>\n",
       "      <td>11</td>\n",
       "      <td>7</td>\n",
       "      <td>0</td>\n",
       "      <td>-122.393111</td>\n",
       "      <td>37.777310</td>\n",
       "      <td>152.257527</td>\n",
       "      <td>0</td>\n",
       "      <td>1</td>\n",
       "    </tr>\n",
       "    <tr>\n",
       "      <th>22</th>\n",
       "      <td>17</td>\n",
       "      <td>8</td>\n",
       "      <td>1</td>\n",
       "      <td>2</td>\n",
       "      <td>9</td>\n",
       "      <td>7</td>\n",
       "      <td>5</td>\n",
       "      <td>7</td>\n",
       "      <td>1</td>\n",
       "      <td>-122.397389</td>\n",
       "      <td>37.782554</td>\n",
       "      <td>152.263336</td>\n",
       "      <td>1</td>\n",
       "      <td>0</td>\n",
       "    </tr>\n",
       "    <tr>\n",
       "      <th>23</th>\n",
       "      <td>17</td>\n",
       "      <td>20</td>\n",
       "      <td>1</td>\n",
       "      <td>10</td>\n",
       "      <td>2</td>\n",
       "      <td>2</td>\n",
       "      <td>0</td>\n",
       "      <td>3</td>\n",
       "      <td>1</td>\n",
       "      <td>-122.431096</td>\n",
       "      <td>37.754748</td>\n",
       "      <td>152.300530</td>\n",
       "      <td>0</td>\n",
       "      <td>1</td>\n",
       "    </tr>\n",
       "    <tr>\n",
       "      <th>24</th>\n",
       "      <td>17</td>\n",
       "      <td>21</td>\n",
       "      <td>1</td>\n",
       "      <td>10</td>\n",
       "      <td>22</td>\n",
       "      <td>1</td>\n",
       "      <td>4</td>\n",
       "      <td>3</td>\n",
       "      <td>0</td>\n",
       "      <td>-122.422668</td>\n",
       "      <td>37.766557</td>\n",
       "      <td>152.291832</td>\n",
       "      <td>0</td>\n",
       "      <td>1</td>\n",
       "    </tr>\n",
       "    <tr>\n",
       "      <th>25</th>\n",
       "      <td>17</td>\n",
       "      <td>34</td>\n",
       "      <td>1</td>\n",
       "      <td>12</td>\n",
       "      <td>7</td>\n",
       "      <td>6</td>\n",
       "      <td>0</td>\n",
       "      <td>9</td>\n",
       "      <td>2</td>\n",
       "      <td>-122.409849</td>\n",
       "      <td>37.783276</td>\n",
       "      <td>152.278450</td>\n",
       "      <td>0</td>\n",
       "      <td>1</td>\n",
       "    </tr>\n",
       "    <tr>\n",
       "      <th>26</th>\n",
       "      <td>17</td>\n",
       "      <td>16</td>\n",
       "      <td>1</td>\n",
       "      <td>12</td>\n",
       "      <td>9</td>\n",
       "      <td>6</td>\n",
       "      <td>1</td>\n",
       "      <td>7</td>\n",
       "      <td>2</td>\n",
       "      <td>-122.403405</td>\n",
       "      <td>37.775421</td>\n",
       "      <td>152.269705</td>\n",
       "      <td>0</td>\n",
       "      <td>1</td>\n",
       "    </tr>\n",
       "    <tr>\n",
       "      <th>27</th>\n",
       "      <td>17</td>\n",
       "      <td>24</td>\n",
       "      <td>1</td>\n",
       "      <td>14</td>\n",
       "      <td>15</td>\n",
       "      <td>10</td>\n",
       "      <td>9</td>\n",
       "      <td>7</td>\n",
       "      <td>0</td>\n",
       "      <td>-122.393111</td>\n",
       "      <td>37.777310</td>\n",
       "      <td>152.257527</td>\n",
       "      <td>0</td>\n",
       "      <td>1</td>\n",
       "    </tr>\n",
       "    <tr>\n",
       "      <th>28</th>\n",
       "      <td>2</td>\n",
       "      <td>33</td>\n",
       "      <td>1</td>\n",
       "      <td>15</td>\n",
       "      <td>6</td>\n",
       "      <td>8</td>\n",
       "      <td>0</td>\n",
       "      <td>4</td>\n",
       "      <td>1</td>\n",
       "      <td>-122.424998</td>\n",
       "      <td>37.802732</td>\n",
       "      <td>152.299129</td>\n",
       "      <td>0</td>\n",
       "      <td>1</td>\n",
       "    </tr>\n",
       "    <tr>\n",
       "      <th>29</th>\n",
       "      <td>17</td>\n",
       "      <td>16</td>\n",
       "      <td>1</td>\n",
       "      <td>8</td>\n",
       "      <td>14</td>\n",
       "      <td>11</td>\n",
       "      <td>4</td>\n",
       "      <td>7</td>\n",
       "      <td>2</td>\n",
       "      <td>-122.412515</td>\n",
       "      <td>37.780478</td>\n",
       "      <td>152.281317</td>\n",
       "      <td>1</td>\n",
       "      <td>0</td>\n",
       "    </tr>\n",
       "    <tr>\n",
       "      <th>...</th>\n",
       "      <td>...</td>\n",
       "      <td>...</td>\n",
       "      <td>...</td>\n",
       "      <td>...</td>\n",
       "      <td>...</td>\n",
       "      <td>...</td>\n",
       "      <td>...</td>\n",
       "      <td>...</td>\n",
       "      <td>...</td>\n",
       "      <td>...</td>\n",
       "      <td>...</td>\n",
       "      <td>...</td>\n",
       "      <td>...</td>\n",
       "      <td>...</td>\n",
       "    </tr>\n",
       "    <tr>\n",
       "      <th>99970</th>\n",
       "      <td>2</td>\n",
       "      <td>1</td>\n",
       "      <td>0</td>\n",
       "      <td>16</td>\n",
       "      <td>24</td>\n",
       "      <td>0</td>\n",
       "      <td>10</td>\n",
       "      <td>3</td>\n",
       "      <td>0</td>\n",
       "      <td>-122.416269</td>\n",
       "      <td>37.752374</td>\n",
       "      <td>152.282357</td>\n",
       "      <td>1</td>\n",
       "      <td>0</td>\n",
       "    </tr>\n",
       "    <tr>\n",
       "      <th>99971</th>\n",
       "      <td>17</td>\n",
       "      <td>30</td>\n",
       "      <td>1</td>\n",
       "      <td>9</td>\n",
       "      <td>7</td>\n",
       "      <td>8</td>\n",
       "      <td>8</td>\n",
       "      <td>1</td>\n",
       "      <td>2</td>\n",
       "      <td>-122.414368</td>\n",
       "      <td>37.788437</td>\n",
       "      <td>152.284538</td>\n",
       "      <td>0</td>\n",
       "      <td>1</td>\n",
       "    </tr>\n",
       "    <tr>\n",
       "      <th>99972</th>\n",
       "      <td>17</td>\n",
       "      <td>4</td>\n",
       "      <td>1</td>\n",
       "      <td>22</td>\n",
       "      <td>26</td>\n",
       "      <td>11</td>\n",
       "      <td>11</td>\n",
       "      <td>7</td>\n",
       "      <td>2</td>\n",
       "      <td>-122.408421</td>\n",
       "      <td>37.783570</td>\n",
       "      <td>152.276764</td>\n",
       "      <td>0</td>\n",
       "      <td>1</td>\n",
       "    </tr>\n",
       "    <tr>\n",
       "      <th>99973</th>\n",
       "      <td>2</td>\n",
       "      <td>33</td>\n",
       "      <td>1</td>\n",
       "      <td>14</td>\n",
       "      <td>28</td>\n",
       "      <td>5</td>\n",
       "      <td>7</td>\n",
       "      <td>3</td>\n",
       "      <td>2</td>\n",
       "      <td>-122.440467</td>\n",
       "      <td>37.750090</td>\n",
       "      <td>152.311251</td>\n",
       "      <td>0</td>\n",
       "      <td>1</td>\n",
       "    </tr>\n",
       "    <tr>\n",
       "      <th>99974</th>\n",
       "      <td>17</td>\n",
       "      <td>17</td>\n",
       "      <td>0</td>\n",
       "      <td>20</td>\n",
       "      <td>7</td>\n",
       "      <td>8</td>\n",
       "      <td>7</td>\n",
       "      <td>9</td>\n",
       "      <td>0</td>\n",
       "      <td>-122.410509</td>\n",
       "      <td>37.786043</td>\n",
       "      <td>152.279589</td>\n",
       "      <td>0</td>\n",
       "      <td>1</td>\n",
       "    </tr>\n",
       "    <tr>\n",
       "      <th>99975</th>\n",
       "      <td>17</td>\n",
       "      <td>30</td>\n",
       "      <td>0</td>\n",
       "      <td>3</td>\n",
       "      <td>18</td>\n",
       "      <td>9</td>\n",
       "      <td>11</td>\n",
       "      <td>3</td>\n",
       "      <td>1</td>\n",
       "      <td>-122.417102</td>\n",
       "      <td>37.766893</td>\n",
       "      <td>152.285163</td>\n",
       "      <td>0</td>\n",
       "      <td>1</td>\n",
       "    </tr>\n",
       "    <tr>\n",
       "      <th>99976</th>\n",
       "      <td>17</td>\n",
       "      <td>32</td>\n",
       "      <td>0</td>\n",
       "      <td>17</td>\n",
       "      <td>14</td>\n",
       "      <td>5</td>\n",
       "      <td>4</td>\n",
       "      <td>3</td>\n",
       "      <td>0</td>\n",
       "      <td>-122.419561</td>\n",
       "      <td>37.752959</td>\n",
       "      <td>152.286400</td>\n",
       "      <td>0</td>\n",
       "      <td>1</td>\n",
       "    </tr>\n",
       "    <tr>\n",
       "      <th>99977</th>\n",
       "      <td>17</td>\n",
       "      <td>21</td>\n",
       "      <td>0</td>\n",
       "      <td>18</td>\n",
       "      <td>12</td>\n",
       "      <td>6</td>\n",
       "      <td>11</td>\n",
       "      <td>9</td>\n",
       "      <td>1</td>\n",
       "      <td>-122.409854</td>\n",
       "      <td>37.783386</td>\n",
       "      <td>152.278468</td>\n",
       "      <td>0</td>\n",
       "      <td>1</td>\n",
       "    </tr>\n",
       "    <tr>\n",
       "      <th>99978</th>\n",
       "      <td>2</td>\n",
       "      <td>13</td>\n",
       "      <td>0</td>\n",
       "      <td>14</td>\n",
       "      <td>14</td>\n",
       "      <td>4</td>\n",
       "      <td>3</td>\n",
       "      <td>1</td>\n",
       "      <td>1</td>\n",
       "      <td>-122.405575</td>\n",
       "      <td>37.790564</td>\n",
       "      <td>152.274201</td>\n",
       "      <td>1</td>\n",
       "      <td>0</td>\n",
       "    </tr>\n",
       "    <tr>\n",
       "      <th>99979</th>\n",
       "      <td>17</td>\n",
       "      <td>19</td>\n",
       "      <td>1</td>\n",
       "      <td>22</td>\n",
       "      <td>8</td>\n",
       "      <td>6</td>\n",
       "      <td>0</td>\n",
       "      <td>7</td>\n",
       "      <td>0</td>\n",
       "      <td>-122.407051</td>\n",
       "      <td>37.783264</td>\n",
       "      <td>152.275074</td>\n",
       "      <td>0</td>\n",
       "      <td>1</td>\n",
       "    </tr>\n",
       "    <tr>\n",
       "      <th>99980</th>\n",
       "      <td>17</td>\n",
       "      <td>4</td>\n",
       "      <td>1</td>\n",
       "      <td>8</td>\n",
       "      <td>26</td>\n",
       "      <td>6</td>\n",
       "      <td>4</td>\n",
       "      <td>0</td>\n",
       "      <td>0</td>\n",
       "      <td>-122.395635</td>\n",
       "      <td>37.753565</td>\n",
       "      <td>152.257627</td>\n",
       "      <td>0</td>\n",
       "      <td>1</td>\n",
       "    </tr>\n",
       "    <tr>\n",
       "      <th>99981</th>\n",
       "      <td>17</td>\n",
       "      <td>13</td>\n",
       "      <td>1</td>\n",
       "      <td>9</td>\n",
       "      <td>25</td>\n",
       "      <td>5</td>\n",
       "      <td>6</td>\n",
       "      <td>7</td>\n",
       "      <td>0</td>\n",
       "      <td>-122.389178</td>\n",
       "      <td>37.781706</td>\n",
       "      <td>152.253331</td>\n",
       "      <td>0</td>\n",
       "      <td>1</td>\n",
       "    </tr>\n",
       "    <tr>\n",
       "      <th>99982</th>\n",
       "      <td>17</td>\n",
       "      <td>1</td>\n",
       "      <td>1</td>\n",
       "      <td>0</td>\n",
       "      <td>24</td>\n",
       "      <td>3</td>\n",
       "      <td>7</td>\n",
       "      <td>7</td>\n",
       "      <td>1</td>\n",
       "      <td>-122.394491</td>\n",
       "      <td>37.777554</td>\n",
       "      <td>152.259222</td>\n",
       "      <td>0</td>\n",
       "      <td>1</td>\n",
       "    </tr>\n",
       "    <tr>\n",
       "      <th>99983</th>\n",
       "      <td>2</td>\n",
       "      <td>20</td>\n",
       "      <td>1</td>\n",
       "      <td>15</td>\n",
       "      <td>24</td>\n",
       "      <td>6</td>\n",
       "      <td>11</td>\n",
       "      <td>2</td>\n",
       "      <td>0</td>\n",
       "      <td>-122.445439</td>\n",
       "      <td>37.728336</td>\n",
       "      <td>152.314551</td>\n",
       "      <td>0</td>\n",
       "      <td>1</td>\n",
       "    </tr>\n",
       "    <tr>\n",
       "      <th>99984</th>\n",
       "      <td>2</td>\n",
       "      <td>34</td>\n",
       "      <td>1</td>\n",
       "      <td>22</td>\n",
       "      <td>12</td>\n",
       "      <td>7</td>\n",
       "      <td>3</td>\n",
       "      <td>9</td>\n",
       "      <td>1</td>\n",
       "      <td>-122.413048</td>\n",
       "      <td>37.781912</td>\n",
       "      <td>152.282137</td>\n",
       "      <td>0</td>\n",
       "      <td>1</td>\n",
       "    </tr>\n",
       "    <tr>\n",
       "      <th>99985</th>\n",
       "      <td>17</td>\n",
       "      <td>16</td>\n",
       "      <td>1</td>\n",
       "      <td>17</td>\n",
       "      <td>25</td>\n",
       "      <td>6</td>\n",
       "      <td>4</td>\n",
       "      <td>7</td>\n",
       "      <td>2</td>\n",
       "      <td>-122.405359</td>\n",
       "      <td>37.785977</td>\n",
       "      <td>152.273371</td>\n",
       "      <td>0</td>\n",
       "      <td>1</td>\n",
       "    </tr>\n",
       "    <tr>\n",
       "      <th>99986</th>\n",
       "      <td>17</td>\n",
       "      <td>16</td>\n",
       "      <td>1</td>\n",
       "      <td>12</td>\n",
       "      <td>19</td>\n",
       "      <td>1</td>\n",
       "      <td>6</td>\n",
       "      <td>7</td>\n",
       "      <td>0</td>\n",
       "      <td>-122.395098</td>\n",
       "      <td>37.794059</td>\n",
       "      <td>152.262001</td>\n",
       "      <td>0</td>\n",
       "      <td>1</td>\n",
       "    </tr>\n",
       "    <tr>\n",
       "      <th>99987</th>\n",
       "      <td>17</td>\n",
       "      <td>16</td>\n",
       "      <td>0</td>\n",
       "      <td>23</td>\n",
       "      <td>3</td>\n",
       "      <td>4</td>\n",
       "      <td>4</td>\n",
       "      <td>4</td>\n",
       "      <td>0</td>\n",
       "      <td>-122.433527</td>\n",
       "      <td>37.804033</td>\n",
       "      <td>152.309574</td>\n",
       "      <td>1</td>\n",
       "      <td>0</td>\n",
       "    </tr>\n",
       "    <tr>\n",
       "      <th>99988</th>\n",
       "      <td>2</td>\n",
       "      <td>21</td>\n",
       "      <td>1</td>\n",
       "      <td>0</td>\n",
       "      <td>14</td>\n",
       "      <td>5</td>\n",
       "      <td>2</td>\n",
       "      <td>2</td>\n",
       "      <td>0</td>\n",
       "      <td>-122.427966</td>\n",
       "      <td>37.711823</td>\n",
       "      <td>152.291438</td>\n",
       "      <td>0</td>\n",
       "      <td>1</td>\n",
       "    </tr>\n",
       "    <tr>\n",
       "      <th>99989</th>\n",
       "      <td>17</td>\n",
       "      <td>6</td>\n",
       "      <td>0</td>\n",
       "      <td>2</td>\n",
       "      <td>22</td>\n",
       "      <td>0</td>\n",
       "      <td>0</td>\n",
       "      <td>5</td>\n",
       "      <td>2</td>\n",
       "      <td>-122.438742</td>\n",
       "      <td>37.779659</td>\n",
       "      <td>152.312837</td>\n",
       "      <td>1</td>\n",
       "      <td>0</td>\n",
       "    </tr>\n",
       "    <tr>\n",
       "      <th>99990</th>\n",
       "      <td>17</td>\n",
       "      <td>4</td>\n",
       "      <td>1</td>\n",
       "      <td>21</td>\n",
       "      <td>2</td>\n",
       "      <td>9</td>\n",
       "      <td>6</td>\n",
       "      <td>2</td>\n",
       "      <td>2</td>\n",
       "      <td>-122.441352</td>\n",
       "      <td>37.716127</td>\n",
       "      <td>152.308112</td>\n",
       "      <td>0</td>\n",
       "      <td>1</td>\n",
       "    </tr>\n",
       "    <tr>\n",
       "      <th>99991</th>\n",
       "      <td>2</td>\n",
       "      <td>16</td>\n",
       "      <td>1</td>\n",
       "      <td>12</td>\n",
       "      <td>27</td>\n",
       "      <td>0</td>\n",
       "      <td>8</td>\n",
       "      <td>9</td>\n",
       "      <td>0</td>\n",
       "      <td>-122.415508</td>\n",
       "      <td>37.781654</td>\n",
       "      <td>152.285071</td>\n",
       "      <td>1</td>\n",
       "      <td>0</td>\n",
       "    </tr>\n",
       "    <tr>\n",
       "      <th>99992</th>\n",
       "      <td>17</td>\n",
       "      <td>24</td>\n",
       "      <td>1</td>\n",
       "      <td>15</td>\n",
       "      <td>16</td>\n",
       "      <td>10</td>\n",
       "      <td>8</td>\n",
       "      <td>4</td>\n",
       "      <td>2</td>\n",
       "      <td>-122.429160</td>\n",
       "      <td>37.769061</td>\n",
       "      <td>152.299970</td>\n",
       "      <td>0</td>\n",
       "      <td>1</td>\n",
       "    </tr>\n",
       "    <tr>\n",
       "      <th>99993</th>\n",
       "      <td>2</td>\n",
       "      <td>35</td>\n",
       "      <td>0</td>\n",
       "      <td>19</td>\n",
       "      <td>11</td>\n",
       "      <td>10</td>\n",
       "      <td>6</td>\n",
       "      <td>3</td>\n",
       "      <td>2</td>\n",
       "      <td>-122.412690</td>\n",
       "      <td>37.749369</td>\n",
       "      <td>152.277670</td>\n",
       "      <td>1</td>\n",
       "      <td>0</td>\n",
       "    </tr>\n",
       "    <tr>\n",
       "      <th>99994</th>\n",
       "      <td>17</td>\n",
       "      <td>21</td>\n",
       "      <td>0</td>\n",
       "      <td>13</td>\n",
       "      <td>3</td>\n",
       "      <td>1</td>\n",
       "      <td>6</td>\n",
       "      <td>0</td>\n",
       "      <td>0</td>\n",
       "      <td>-122.397080</td>\n",
       "      <td>37.768087</td>\n",
       "      <td>152.261169</td>\n",
       "      <td>0</td>\n",
       "      <td>1</td>\n",
       "    </tr>\n",
       "    <tr>\n",
       "      <th>99995</th>\n",
       "      <td>2</td>\n",
       "      <td>7</td>\n",
       "      <td>1</td>\n",
       "      <td>14</td>\n",
       "      <td>10</td>\n",
       "      <td>0</td>\n",
       "      <td>9</td>\n",
       "      <td>2</td>\n",
       "      <td>0</td>\n",
       "      <td>-122.453617</td>\n",
       "      <td>37.709384</td>\n",
       "      <td>152.322066</td>\n",
       "      <td>0</td>\n",
       "      <td>1</td>\n",
       "    </tr>\n",
       "    <tr>\n",
       "      <th>99996</th>\n",
       "      <td>17</td>\n",
       "      <td>20</td>\n",
       "      <td>0</td>\n",
       "      <td>8</td>\n",
       "      <td>24</td>\n",
       "      <td>8</td>\n",
       "      <td>8</td>\n",
       "      <td>4</td>\n",
       "      <td>1</td>\n",
       "      <td>-122.428250</td>\n",
       "      <td>37.778068</td>\n",
       "      <td>152.299989</td>\n",
       "      <td>0</td>\n",
       "      <td>1</td>\n",
       "    </tr>\n",
       "    <tr>\n",
       "      <th>99997</th>\n",
       "      <td>17</td>\n",
       "      <td>20</td>\n",
       "      <td>1</td>\n",
       "      <td>3</td>\n",
       "      <td>22</td>\n",
       "      <td>1</td>\n",
       "      <td>3</td>\n",
       "      <td>3</td>\n",
       "      <td>2</td>\n",
       "      <td>-122.423962</td>\n",
       "      <td>37.763167</td>\n",
       "      <td>152.292972</td>\n",
       "      <td>1</td>\n",
       "      <td>0</td>\n",
       "    </tr>\n",
       "    <tr>\n",
       "      <th>99998</th>\n",
       "      <td>2</td>\n",
       "      <td>1</td>\n",
       "      <td>0</td>\n",
       "      <td>20</td>\n",
       "      <td>6</td>\n",
       "      <td>2</td>\n",
       "      <td>0</td>\n",
       "      <td>4</td>\n",
       "      <td>0</td>\n",
       "      <td>-122.432801</td>\n",
       "      <td>37.779512</td>\n",
       "      <td>152.305655</td>\n",
       "      <td>0</td>\n",
       "      <td>1</td>\n",
       "    </tr>\n",
       "    <tr>\n",
       "      <th>99999</th>\n",
       "      <td>17</td>\n",
       "      <td>1</td>\n",
       "      <td>1</td>\n",
       "      <td>22</td>\n",
       "      <td>19</td>\n",
       "      <td>8</td>\n",
       "      <td>8</td>\n",
       "      <td>2</td>\n",
       "      <td>2</td>\n",
       "      <td>-122.435622</td>\n",
       "      <td>37.723491</td>\n",
       "      <td>152.302114</td>\n",
       "      <td>0</td>\n",
       "      <td>1</td>\n",
       "    </tr>\n",
       "  </tbody>\n",
       "</table>\n",
       "<p>100000 rows × 14 columns</p>\n",
       "</div>"
      ],
      "text/plain": [
       "       Address  Category  Minute  Hour  Day  Month  Year  District  DayOfWeek  \\\n",
       "0           17        27       0    17   27      5    10         3          0   \n",
       "1           17        17       0     2   18      1     1         7          2   \n",
       "2           17        13       1     0   13     10     4         7          0   \n",
       "3            2        24       1    18   26     11     4         0          2   \n",
       "4           17        21       1    17    8      8     9         7          1   \n",
       "5           17        34       1     6   13      4    11         3          0   \n",
       "6           12         4       0    23    8      7     3         1          0   \n",
       "7           17        30       0    12   15     10     9         2          0   \n",
       "8           17        21       0    23    4      1     4         0          1   \n",
       "9           17         7       0     7    6      1     3         4          2   \n",
       "10          17        16       1    17   13      6     2         4          2   \n",
       "11           2        21       0     3    6      1     3         0          2   \n",
       "12           2        32       1    20   11      0     4         6          0   \n",
       "13           7         1       1    15   21      0    10         8          2   \n",
       "14           2         7       0    13   20      8     3         9          2   \n",
       "15          17        16       0     4   18      8     9         1          0   \n",
       "16           3         7       1    11    3      9     0         5          2   \n",
       "17          17        33       1    22   25      7     4         3          1   \n",
       "18          17        19       1     0   17      9     6         5          1   \n",
       "19          17        21       1     2    6      8     0         7          1   \n",
       "20          17        20       0     7   25     10    10         5          2   \n",
       "21          17         1       1     9   24      5    11         7          0   \n",
       "22          17         8       1     2    9      7     5         7          1   \n",
       "23          17        20       1    10    2      2     0         3          1   \n",
       "24          17        21       1    10   22      1     4         3          0   \n",
       "25          17        34       1    12    7      6     0         9          2   \n",
       "26          17        16       1    12    9      6     1         7          2   \n",
       "27          17        24       1    14   15     10     9         7          0   \n",
       "28           2        33       1    15    6      8     0         4          1   \n",
       "29          17        16       1     8   14     11     4         7          2   \n",
       "...        ...       ...     ...   ...  ...    ...   ...       ...        ...   \n",
       "99970        2         1       0    16   24      0    10         3          0   \n",
       "99971       17        30       1     9    7      8     8         1          2   \n",
       "99972       17         4       1    22   26     11    11         7          2   \n",
       "99973        2        33       1    14   28      5     7         3          2   \n",
       "99974       17        17       0    20    7      8     7         9          0   \n",
       "99975       17        30       0     3   18      9    11         3          1   \n",
       "99976       17        32       0    17   14      5     4         3          0   \n",
       "99977       17        21       0    18   12      6    11         9          1   \n",
       "99978        2        13       0    14   14      4     3         1          1   \n",
       "99979       17        19       1    22    8      6     0         7          0   \n",
       "99980       17         4       1     8   26      6     4         0          0   \n",
       "99981       17        13       1     9   25      5     6         7          0   \n",
       "99982       17         1       1     0   24      3     7         7          1   \n",
       "99983        2        20       1    15   24      6    11         2          0   \n",
       "99984        2        34       1    22   12      7     3         9          1   \n",
       "99985       17        16       1    17   25      6     4         7          2   \n",
       "99986       17        16       1    12   19      1     6         7          0   \n",
       "99987       17        16       0    23    3      4     4         4          0   \n",
       "99988        2        21       1     0   14      5     2         2          0   \n",
       "99989       17         6       0     2   22      0     0         5          2   \n",
       "99990       17         4       1    21    2      9     6         2          2   \n",
       "99991        2        16       1    12   27      0     8         9          0   \n",
       "99992       17        24       1    15   16     10     8         4          2   \n",
       "99993        2        35       0    19   11     10     6         3          2   \n",
       "99994       17        21       0    13    3      1     6         0          0   \n",
       "99995        2         7       1    14   10      0     9         2          0   \n",
       "99996       17        20       0     8   24      8     8         4          1   \n",
       "99997       17        20       1     3   22      1     3         3          2   \n",
       "99998        2         1       0    20    6      2     0         4          0   \n",
       "99999       17         1       1    22   19      8     8         2          2   \n",
       "\n",
       "                X          Y    radial60  Intersection  Block  \n",
       "0     -122.419331  37.762264  152.287276             0      1  \n",
       "1     -122.411340  37.781271  152.279998             0      1  \n",
       "2     -122.403405  37.775421  152.269705             0      1  \n",
       "3     -122.404715  37.730161  152.265674             0      1  \n",
       "4     -122.405239  37.785265  152.273137             1      0  \n",
       "5     -122.418405  37.766760  152.286716             1      0  \n",
       "6     -122.404651  37.790442  152.273071             0      1  \n",
       "7     -122.410871  37.737526  152.274009             0      1  \n",
       "8     -122.405911  37.732964  152.267463             1      0  \n",
       "9     -122.417710  37.784236  152.288047             1      0  \n",
       "10    -122.429184  37.786660  152.302181             0      1  \n",
       "11    -122.386205  37.731379  152.243506             0      1  \n",
       "12    -122.469629  37.780768  152.350216             1      0  \n",
       "13    -122.490136  37.731143  152.368794             0      1  \n",
       "14    -122.416330  37.781495  152.286043             0      1  \n",
       "15    -122.410722  37.787097  152.279975             0      1  \n",
       "16    -122.458680  37.748155  152.332972             0      1  \n",
       "17    -122.421582  37.761701  152.289920             1      0  \n",
       "18    -122.441394  37.771727  152.315051             0      1  \n",
       "19    -122.411612  37.773768  152.279396             1      0  \n",
       "20    -122.450242  37.770054  152.325512             0      1  \n",
       "21    -122.393111  37.777310  152.257527             0      1  \n",
       "22    -122.397389  37.782554  152.263336             1      0  \n",
       "23    -122.431096  37.754748  152.300530             0      1  \n",
       "24    -122.422668  37.766557  152.291832             0      1  \n",
       "25    -122.409849  37.783276  152.278450             0      1  \n",
       "26    -122.403405  37.775421  152.269705             0      1  \n",
       "27    -122.393111  37.777310  152.257527             0      1  \n",
       "28    -122.424998  37.802732  152.299129             0      1  \n",
       "29    -122.412515  37.780478  152.281317             1      0  \n",
       "...           ...        ...         ...           ...    ...  \n",
       "99970 -122.416269  37.752374  152.282357             1      0  \n",
       "99971 -122.414368  37.788437  152.284538             0      1  \n",
       "99972 -122.408421  37.783570  152.276764             0      1  \n",
       "99973 -122.440467  37.750090  152.311251             0      1  \n",
       "99974 -122.410509  37.786043  152.279589             0      1  \n",
       "99975 -122.417102  37.766893  152.285163             0      1  \n",
       "99976 -122.419561  37.752959  152.286400             0      1  \n",
       "99977 -122.409854  37.783386  152.278468             0      1  \n",
       "99978 -122.405575  37.790564  152.274201             1      0  \n",
       "99979 -122.407051  37.783264  152.275074             0      1  \n",
       "99980 -122.395635  37.753565  152.257627             0      1  \n",
       "99981 -122.389178  37.781706  152.253331             0      1  \n",
       "99982 -122.394491  37.777554  152.259222             0      1  \n",
       "99983 -122.445439  37.728336  152.314551             0      1  \n",
       "99984 -122.413048  37.781912  152.282137             0      1  \n",
       "99985 -122.405359  37.785977  152.273371             0      1  \n",
       "99986 -122.395098  37.794059  152.262001             0      1  \n",
       "99987 -122.433527  37.804033  152.309574             1      0  \n",
       "99988 -122.427966  37.711823  152.291438             0      1  \n",
       "99989 -122.438742  37.779659  152.312837             1      0  \n",
       "99990 -122.441352  37.716127  152.308112             0      1  \n",
       "99991 -122.415508  37.781654  152.285071             1      0  \n",
       "99992 -122.429160  37.769061  152.299970             0      1  \n",
       "99993 -122.412690  37.749369  152.277670             1      0  \n",
       "99994 -122.397080  37.768087  152.261169             0      1  \n",
       "99995 -122.453617  37.709384  152.322066             0      1  \n",
       "99996 -122.428250  37.778068  152.299989             0      1  \n",
       "99997 -122.423962  37.763167  152.292972             1      0  \n",
       "99998 -122.432801  37.779512  152.305655             0      1  \n",
       "99999 -122.435622  37.723491  152.302114             0      1  \n",
       "\n",
       "[100000 rows x 14 columns]"
      ]
     },
     "execution_count": 143,
     "metadata": {},
     "output_type": "execute_result"
    }
   ],
   "source": [
    "df"
   ]
  },
  {
   "cell_type": "code",
   "execution_count": null,
   "metadata": {
    "_uuid": "1729737f63e3a57b5a53380a7b548883d944f88a"
   },
   "outputs": [],
   "source": [
    "df=df[[ 'District', 'X', 'Y', 'Year','Hour','Minute','Address', 'radial60', 'Intersection','Block']]\n",
    "\n",
    "\n",
    "df_test=df_test[[ 'District', 'X', 'Y', 'Year','Hour','Address',\n",
    "       'Month', 'Day', 'radial60', 'Intersection','Block']]"
   ]
  },
  {
   "cell_type": "code",
   "execution_count": 207,
   "metadata": {
    "_uuid": "6f4d6cf91657d5b77d5ff9530c6614b3faae090e"
   },
   "outputs": [
    {
     "data": {
      "text/plain": [
       "22"
      ]
     },
     "execution_count": 207,
     "metadata": {},
     "output_type": "execute_result"
    }
   ],
   "source": [
    "df['Address'].nunique()"
   ]
  },
  {
   "cell_type": "code",
   "execution_count": 208,
   "metadata": {
    "_uuid": "85ee9fccafc2fd42651fc2b56b366aed3ce65a1b"
   },
   "outputs": [
    {
     "data": {
      "text/plain": [
       "18"
      ]
     },
     "execution_count": 208,
     "metadata": {},
     "output_type": "execute_result"
    }
   ],
   "source": [
    "df_test['Address'].nunique()"
   ]
  },
  {
   "cell_type": "code",
   "execution_count": 209,
   "metadata": {
    "_uuid": "532df506c94cc3db4d2e66ca7030fde9df9b8f8e"
   },
   "outputs": [
    {
     "data": {
      "text/plain": [
       "Index(['District', 'X', 'Y', 'Year', 'Hour', 'Address', 'Month', 'Day',\n",
       "       'radial60', 'Intersection', 'Block'],\n",
       "      dtype='object')"
      ]
     },
     "execution_count": 209,
     "metadata": {},
     "output_type": "execute_result"
    }
   ],
   "source": [
    "df_test.columns"
   ]
  },
  {
   "cell_type": "code",
   "execution_count": 210,
   "metadata": {
    "_uuid": "7f35fd601bfee7f4bdcf2d51094ee556a019b125"
   },
   "outputs": [
    {
     "data": {
      "text/html": [
       "<div>\n",
       "<style scoped>\n",
       "    .dataframe tbody tr th:only-of-type {\n",
       "        vertical-align: middle;\n",
       "    }\n",
       "\n",
       "    .dataframe tbody tr th {\n",
       "        vertical-align: top;\n",
       "    }\n",
       "\n",
       "    .dataframe thead th {\n",
       "        text-align: right;\n",
       "    }\n",
       "</style>\n",
       "<table border=\"1\" class=\"dataframe\">\n",
       "  <thead>\n",
       "    <tr style=\"text-align: right;\">\n",
       "      <th></th>\n",
       "      <th>District</th>\n",
       "      <th>X</th>\n",
       "      <th>Y</th>\n",
       "      <th>Year</th>\n",
       "      <th>Hour</th>\n",
       "      <th>Minute</th>\n",
       "      <th>Address</th>\n",
       "      <th>radial60</th>\n",
       "      <th>Intersection</th>\n",
       "      <th>Block</th>\n",
       "    </tr>\n",
       "  </thead>\n",
       "  <tbody>\n",
       "    <tr>\n",
       "      <th>District</th>\n",
       "      <td>1.000000</td>\n",
       "      <td>-0.000747</td>\n",
       "      <td>-0.004491</td>\n",
       "      <td>0.007874</td>\n",
       "      <td>0.007614</td>\n",
       "      <td>-0.021603</td>\n",
       "      <td>0.079709</td>\n",
       "      <td>0.157222</td>\n",
       "      <td>-0.019354</td>\n",
       "      <td>0.019354</td>\n",
       "    </tr>\n",
       "    <tr>\n",
       "      <th>X</th>\n",
       "      <td>-0.000747</td>\n",
       "      <td>1.000000</td>\n",
       "      <td>0.028295</td>\n",
       "      <td>0.000267</td>\n",
       "      <td>-0.000298</td>\n",
       "      <td>0.001300</td>\n",
       "      <td>0.004086</td>\n",
       "      <td>0.000529</td>\n",
       "      <td>-0.001023</td>\n",
       "      <td>0.001023</td>\n",
       "    </tr>\n",
       "    <tr>\n",
       "      <th>Y</th>\n",
       "      <td>-0.004491</td>\n",
       "      <td>0.028295</td>\n",
       "      <td>1.000000</td>\n",
       "      <td>-0.003798</td>\n",
       "      <td>0.006727</td>\n",
       "      <td>-0.004175</td>\n",
       "      <td>0.002593</td>\n",
       "      <td>0.003808</td>\n",
       "      <td>-0.000840</td>\n",
       "      <td>0.000840</td>\n",
       "    </tr>\n",
       "    <tr>\n",
       "      <th>Year</th>\n",
       "      <td>0.007874</td>\n",
       "      <td>0.000267</td>\n",
       "      <td>-0.003798</td>\n",
       "      <td>1.000000</td>\n",
       "      <td>-0.009618</td>\n",
       "      <td>-0.015420</td>\n",
       "      <td>0.009450</td>\n",
       "      <td>-0.008733</td>\n",
       "      <td>-0.026512</td>\n",
       "      <td>0.026512</td>\n",
       "    </tr>\n",
       "    <tr>\n",
       "      <th>Hour</th>\n",
       "      <td>0.007614</td>\n",
       "      <td>-0.000298</td>\n",
       "      <td>0.006727</td>\n",
       "      <td>-0.009618</td>\n",
       "      <td>1.000000</td>\n",
       "      <td>0.003234</td>\n",
       "      <td>0.003987</td>\n",
       "      <td>-0.003431</td>\n",
       "      <td>0.048190</td>\n",
       "      <td>-0.048190</td>\n",
       "    </tr>\n",
       "    <tr>\n",
       "      <th>Minute</th>\n",
       "      <td>-0.021603</td>\n",
       "      <td>0.001300</td>\n",
       "      <td>-0.004175</td>\n",
       "      <td>-0.015420</td>\n",
       "      <td>0.003234</td>\n",
       "      <td>1.000000</td>\n",
       "      <td>-0.022630</td>\n",
       "      <td>0.027744</td>\n",
       "      <td>-0.040247</td>\n",
       "      <td>0.040247</td>\n",
       "    </tr>\n",
       "    <tr>\n",
       "      <th>Address</th>\n",
       "      <td>0.079709</td>\n",
       "      <td>0.004086</td>\n",
       "      <td>0.002593</td>\n",
       "      <td>0.009450</td>\n",
       "      <td>0.003987</td>\n",
       "      <td>-0.022630</td>\n",
       "      <td>1.000000</td>\n",
       "      <td>-0.128854</td>\n",
       "      <td>0.053993</td>\n",
       "      <td>-0.053993</td>\n",
       "    </tr>\n",
       "    <tr>\n",
       "      <th>radial60</th>\n",
       "      <td>0.157222</td>\n",
       "      <td>0.000529</td>\n",
       "      <td>0.003808</td>\n",
       "      <td>-0.008733</td>\n",
       "      <td>-0.003431</td>\n",
       "      <td>0.027744</td>\n",
       "      <td>-0.128854</td>\n",
       "      <td>1.000000</td>\n",
       "      <td>-0.005568</td>\n",
       "      <td>0.005568</td>\n",
       "    </tr>\n",
       "    <tr>\n",
       "      <th>Intersection</th>\n",
       "      <td>-0.019354</td>\n",
       "      <td>-0.001023</td>\n",
       "      <td>-0.000840</td>\n",
       "      <td>-0.026512</td>\n",
       "      <td>0.048190</td>\n",
       "      <td>-0.040247</td>\n",
       "      <td>0.053993</td>\n",
       "      <td>-0.005568</td>\n",
       "      <td>1.000000</td>\n",
       "      <td>-1.000000</td>\n",
       "    </tr>\n",
       "    <tr>\n",
       "      <th>Block</th>\n",
       "      <td>0.019354</td>\n",
       "      <td>0.001023</td>\n",
       "      <td>0.000840</td>\n",
       "      <td>0.026512</td>\n",
       "      <td>-0.048190</td>\n",
       "      <td>0.040247</td>\n",
       "      <td>-0.053993</td>\n",
       "      <td>0.005568</td>\n",
       "      <td>-1.000000</td>\n",
       "      <td>1.000000</td>\n",
       "    </tr>\n",
       "  </tbody>\n",
       "</table>\n",
       "</div>"
      ],
      "text/plain": [
       "              District         X         Y      Year      Hour    Minute  \\\n",
       "District      1.000000 -0.000747 -0.004491  0.007874  0.007614 -0.021603   \n",
       "X            -0.000747  1.000000  0.028295  0.000267 -0.000298  0.001300   \n",
       "Y            -0.004491  0.028295  1.000000 -0.003798  0.006727 -0.004175   \n",
       "Year          0.007874  0.000267 -0.003798  1.000000 -0.009618 -0.015420   \n",
       "Hour          0.007614 -0.000298  0.006727 -0.009618  1.000000  0.003234   \n",
       "Minute       -0.021603  0.001300 -0.004175 -0.015420  0.003234  1.000000   \n",
       "Address       0.079709  0.004086  0.002593  0.009450  0.003987 -0.022630   \n",
       "radial60      0.157222  0.000529  0.003808 -0.008733 -0.003431  0.027744   \n",
       "Intersection -0.019354 -0.001023 -0.000840 -0.026512  0.048190 -0.040247   \n",
       "Block         0.019354  0.001023  0.000840  0.026512 -0.048190  0.040247   \n",
       "\n",
       "               Address  radial60  Intersection     Block  \n",
       "District      0.079709  0.157222     -0.019354  0.019354  \n",
       "X             0.004086  0.000529     -0.001023  0.001023  \n",
       "Y             0.002593  0.003808     -0.000840  0.000840  \n",
       "Year          0.009450 -0.008733     -0.026512  0.026512  \n",
       "Hour          0.003987 -0.003431      0.048190 -0.048190  \n",
       "Minute       -0.022630  0.027744     -0.040247  0.040247  \n",
       "Address       1.000000 -0.128854      0.053993 -0.053993  \n",
       "radial60     -0.128854  1.000000     -0.005568  0.005568  \n",
       "Intersection  0.053993 -0.005568      1.000000 -1.000000  \n",
       "Block        -0.053993  0.005568     -1.000000  1.000000  "
      ]
     },
     "execution_count": 210,
     "metadata": {},
     "output_type": "execute_result"
    }
   ],
   "source": [
    "A=df.corr()\n",
    "A"
   ]
  },
  {
   "cell_type": "markdown",
   "metadata": {
    "_uuid": "d150d962aeac49523127b67caa07b9cd8d66cf7f"
   },
   "source": [
    "# Splitting into test and train\n"
   ]
  },
  {
   "cell_type": "code",
   "execution_count": 211,
   "metadata": {},
   "outputs": [],
   "source": [
    "X=df"
   ]
  },
  {
   "cell_type": "code",
   "execution_count": 212,
   "metadata": {},
   "outputs": [],
   "source": [
    "#splitting the dataset into the training set and test set\n",
    "#from sklearn import model_selection as ms\n",
    "\n",
    "X_train,X_test,y_train,y_test=train_test_split(X,y,test_size=0.33,random_state=0)"
   ]
  },
  {
   "cell_type": "markdown",
   "metadata": {
    "_uuid": "959aa7f22849e049dffba3d83b85f92886cb66a0"
   },
   "source": [
    "# XGBoost Model"
   ]
  },
  {
   "cell_type": "code",
   "execution_count": 213,
   "metadata": {
    "_uuid": "2b03c4b581fb06d0e470ffbf1aaead90cde8e7c7"
   },
   "outputs": [
    {
     "data": {
      "text/html": [
       "<div>\n",
       "<style scoped>\n",
       "    .dataframe tbody tr th:only-of-type {\n",
       "        vertical-align: middle;\n",
       "    }\n",
       "\n",
       "    .dataframe tbody tr th {\n",
       "        vertical-align: top;\n",
       "    }\n",
       "\n",
       "    .dataframe thead th {\n",
       "        text-align: right;\n",
       "    }\n",
       "</style>\n",
       "<table border=\"1\" class=\"dataframe\">\n",
       "  <thead>\n",
       "    <tr style=\"text-align: right;\">\n",
       "      <th></th>\n",
       "      <th>District</th>\n",
       "      <th>X</th>\n",
       "      <th>Y</th>\n",
       "      <th>Year</th>\n",
       "      <th>Hour</th>\n",
       "      <th>Minute</th>\n",
       "      <th>Address</th>\n",
       "      <th>radial60</th>\n",
       "      <th>Intersection</th>\n",
       "      <th>Block</th>\n",
       "    </tr>\n",
       "  </thead>\n",
       "  <tbody>\n",
       "    <tr>\n",
       "      <th>32684</th>\n",
       "      <td>7</td>\n",
       "      <td>0.0</td>\n",
       "      <td>0.0</td>\n",
       "      <td>10</td>\n",
       "      <td>1</td>\n",
       "      <td>1</td>\n",
       "      <td>17</td>\n",
       "      <td>152.277816</td>\n",
       "      <td>0</td>\n",
       "      <td>1</td>\n",
       "    </tr>\n",
       "    <tr>\n",
       "      <th>77206</th>\n",
       "      <td>9</td>\n",
       "      <td>0.0</td>\n",
       "      <td>0.0</td>\n",
       "      <td>2</td>\n",
       "      <td>20</td>\n",
       "      <td>1</td>\n",
       "      <td>17</td>\n",
       "      <td>152.283159</td>\n",
       "      <td>0</td>\n",
       "      <td>1</td>\n",
       "    </tr>\n",
       "    <tr>\n",
       "      <th>17196</th>\n",
       "      <td>3</td>\n",
       "      <td>0.0</td>\n",
       "      <td>0.0</td>\n",
       "      <td>1</td>\n",
       "      <td>22</td>\n",
       "      <td>1</td>\n",
       "      <td>17</td>\n",
       "      <td>152.276075</td>\n",
       "      <td>1</td>\n",
       "      <td>0</td>\n",
       "    </tr>\n",
       "    <tr>\n",
       "      <th>94613</th>\n",
       "      <td>5</td>\n",
       "      <td>0.0</td>\n",
       "      <td>0.0</td>\n",
       "      <td>5</td>\n",
       "      <td>8</td>\n",
       "      <td>1</td>\n",
       "      <td>17</td>\n",
       "      <td>152.322495</td>\n",
       "      <td>0</td>\n",
       "      <td>1</td>\n",
       "    </tr>\n",
       "    <tr>\n",
       "      <th>61769</th>\n",
       "      <td>0</td>\n",
       "      <td>0.0</td>\n",
       "      <td>0.0</td>\n",
       "      <td>11</td>\n",
       "      <td>8</td>\n",
       "      <td>1</td>\n",
       "      <td>17</td>\n",
       "      <td>152.265608</td>\n",
       "      <td>0</td>\n",
       "      <td>1</td>\n",
       "    </tr>\n",
       "  </tbody>\n",
       "</table>\n",
       "</div>"
      ],
      "text/plain": [
       "       District    X    Y  Year  Hour  Minute  Address    radial60  \\\n",
       "32684         7  0.0  0.0    10     1       1       17  152.277816   \n",
       "77206         9  0.0  0.0     2    20       1       17  152.283159   \n",
       "17196         3  0.0  0.0     1    22       1       17  152.276075   \n",
       "94613         5  0.0  0.0     5     8       1       17  152.322495   \n",
       "61769         0  0.0  0.0    11     8       1       17  152.265608   \n",
       "\n",
       "       Intersection  Block  \n",
       "32684             0      1  \n",
       "77206             0      1  \n",
       "17196             1      0  \n",
       "94613             0      1  \n",
       "61769             0      1  "
      ]
     },
     "execution_count": 213,
     "metadata": {},
     "output_type": "execute_result"
    }
   ],
   "source": [
    "X_train.head()"
   ]
  },
  {
   "cell_type": "code",
   "execution_count": 214,
   "metadata": {},
   "outputs": [
    {
     "data": {
      "text/plain": [
       "XGBClassifier(base_score=0.5, booster='gbtree', colsample_bylevel=1,\n",
       "       colsample_bytree=1, gamma=0, learning_rate=0.1, max_delta_step=0,\n",
       "       max_depth=3, min_child_weight=1, missing=None, n_estimators=100,\n",
       "       n_jobs=1, nthread=None, objective='multi:softprob', random_state=0,\n",
       "       reg_alpha=0, reg_lambda=1, scale_pos_weight=1, seed=None,\n",
       "       silent=True, subsample=1)"
      ]
     },
     "execution_count": 214,
     "metadata": {},
     "output_type": "execute_result"
    }
   ],
   "source": [
    "model = xgb.XGBClassifier(objective='multi:softprob')\n",
    "model.fit(X_train, y_train)"
   ]
  },
  {
   "cell_type": "code",
   "execution_count": 215,
   "metadata": {},
   "outputs": [],
   "source": [
    "y_pred=model.predict_proba(X_test)"
   ]
  },
  {
   "cell_type": "code",
   "execution_count": 216,
   "metadata": {},
   "outputs": [
    {
     "name": "stdout",
     "output_type": "stream",
     "text": [
      "2.461279888905359\n"
     ]
    }
   ],
   "source": [
    "print (log_loss(y_test,y_pred))"
   ]
  },
  {
   "cell_type": "code",
   "execution_count": 218,
   "metadata": {},
   "outputs": [
    {
     "ename": "ModuleNotFoundError",
     "evalue": "No module named 'lightgbm'",
     "output_type": "error",
     "traceback": [
      "\u001b[1;31m---------------------------------------------------------------------------\u001b[0m",
      "\u001b[1;31mModuleNotFoundError\u001b[0m                       Traceback (most recent call last)",
      "\u001b[1;32m<ipython-input-218-5dacb4a27011>\u001b[0m in \u001b[0;36m<module>\u001b[1;34m\u001b[0m\n\u001b[1;32m----> 1\u001b[1;33m \u001b[1;32mimport\u001b[0m \u001b[0mlightgbm\u001b[0m \u001b[1;32mas\u001b[0m \u001b[0mlgb\u001b[0m\u001b[1;33m\u001b[0m\u001b[0m\n\u001b[0m",
      "\u001b[1;31mModuleNotFoundError\u001b[0m: No module named 'lightgbm'"
     ]
    }
   ],
   "source": [
    "import lightgbm as lgb\n",
    "train_data=lgb.Dataset(X_train,label=y_train)\n",
    "#define parameters\n",
    "\n",
    "model= lgb.train(train_data, 100) \n",
    "y_pred=model.predict_proba(x_test)\n",
    "print (log_loss(y_test,y_pred))"
   ]
  },
  {
   "cell_type": "code",
   "execution_count": null,
   "metadata": {},
   "outputs": [],
   "source": []
  }
 ],
 "metadata": {
  "kernelspec": {
   "display_name": "Python 3",
   "language": "python",
   "name": "python3"
  },
  "language_info": {
   "codemirror_mode": {
    "name": "ipython",
    "version": 3
   },
   "file_extension": ".py",
   "mimetype": "text/x-python",
   "name": "python",
   "nbconvert_exporter": "python",
   "pygments_lexer": "ipython3",
   "version": "3.6.6"
  }
 },
 "nbformat": 4,
 "nbformat_minor": 1
}
