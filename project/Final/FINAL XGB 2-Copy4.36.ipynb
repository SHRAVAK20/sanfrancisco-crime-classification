{
 "cells": [
  {
   "cell_type": "code",
   "execution_count": 1,
   "metadata": {
    "_uuid": "31553934c492db3f530cf17301a4570af150a4c5"
   },
   "outputs": [],
   "source": [
    "%matplotlib inline\n",
    "\n",
    "import warnings\n",
    "warnings.filterwarnings('ignore')\n",
    "warnings.filterwarnings('ignore', category=DeprecationWarning)\n",
    "\n",
    "import pandas as pd\n",
    "pd.options.display.max_columns = 100\n",
    "\n",
    "from matplotlib import pyplot as plt\n",
    "import numpy as np\n",
    "\n",
    "import seaborn as sns\n",
    "sns.set(rc={'figure.figsize':(12,9)})\n",
    "import pylab as plot\n",
    "from sklearn import preprocessing\n",
    "from sklearn.model_selection import train_test_split\n",
    "from sklearn.metrics import log_loss,accuracy_score\n",
    "import pickle\n",
    "import time"
   ]
  },
  {
   "cell_type": "code",
   "execution_count": 2,
   "metadata": {
    "_uuid": "66887fd564504f55442c6bc56e949883e13c8c8e"
   },
   "outputs": [],
   "source": [
    "from xgboost import XGBClassifier\n",
    "import xgboost as xgb"
   ]
  },
  {
   "cell_type": "code",
   "execution_count": 3,
   "metadata": {
    "_uuid": "567fbd9ee53c5b4be96794a0291268fb3b81db47"
   },
   "outputs": [],
   "source": [
    "#for scaling\n",
    "from sklearn.preprocessing import StandardScaler"
   ]
  },
  {
   "cell_type": "markdown",
   "metadata": {
    "_uuid": "6f17c16b032b5c9b8410c22a1df0ca8b9b92cc57"
   },
   "source": [
    "Importing training dataset"
   ]
  },
  {
   "cell_type": "code",
   "execution_count": 4,
   "metadata": {
    "_uuid": "ffa2ce6acfc049ba200515731c02148f2295c3f5"
   },
   "outputs": [],
   "source": [
    "data = pd.read_csv('train.csv')\n",
    "test = pd.read_csv('test.csv')\n"
   ]
  },
  {
   "cell_type": "code",
   "execution_count": 5,
   "metadata": {
    "_uuid": "dba3f2ffa9913773317ee4f74a2de56faca1775a"
   },
   "outputs": [
    {
     "name": "stdout",
     "output_type": "stream",
     "text": [
      "(867873, 10)\n"
     ]
    }
   ],
   "source": [
    "print(data.shape)"
   ]
  },
  {
   "cell_type": "code",
   "execution_count": 6,
   "metadata": {
    "_uuid": "adf11990e33863cdeb91d2a2504ca31b74e01d68"
   },
   "outputs": [
    {
     "data": {
      "text/plain": [
       "Index(['Dates', 'Category', 'Descript', 'DayOfWeek', 'PdDistrict',\n",
       "       'Resolution', 'Address', 'X', 'Y', 'Id'],\n",
       "      dtype='object')"
      ]
     },
     "execution_count": 6,
     "metadata": {},
     "output_type": "execute_result"
    }
   ],
   "source": [
    "data.columns"
   ]
  },
  {
   "cell_type": "markdown",
   "metadata": {
    "_uuid": "19691cf8e8eab92ff8230570252a09f7a18af480"
   },
   "source": [
    "\n",
    "Splitting the \"Dates\" into date and time"
   ]
  },
  {
   "cell_type": "code",
   "execution_count": 61,
   "metadata": {
    "_uuid": "3d35c6b7317b38f0d4747768bfaf8756e36aa4cc"
   },
   "outputs": [],
   "source": [
    "df=data\n",
    "datetime=df.Dates.str.split(pat=\" \",expand=True)\n",
    "datetime.columns=['Date','Time']\n",
    "#datetime\n",
    "\n",
    "#------------test data-------------\n",
    "\n",
    "df_test=test\n",
    "datetime_test=df_test.Dates.str.split(pat=\" \",expand=True)\n",
    "datetime_test.columns=['Date','Time']"
   ]
  },
  {
   "cell_type": "code",
   "execution_count": 62,
   "metadata": {
    "_uuid": "8df684409d1df3ad015ad3fa16459304d03138b2"
   },
   "outputs": [],
   "source": [
    "Date=datetime.Date.str.split(pat=\"-\",expand=True)\n",
    "Date.columns=['Year','Month','Day']\n",
    "\n",
    "Time=datetime.Time.str.split(pat=\":\",expand=True)\n",
    "Time.columns=['Hour','Minute','Second']\n",
    "\n",
    "#------------test data-------------\n",
    "\n",
    "Date_test=datetime_test.Date.str.split(pat=\"-\",expand=True)\n",
    "Date_test.columns=['Year','Month','Day']\n",
    "\n",
    "Time_test=datetime_test.Time.str.split(pat=\":\",expand=True)\n",
    "Time_test.columns=['Hour','Minute','Second']"
   ]
  },
  {
   "cell_type": "markdown",
   "metadata": {
    "_uuid": "16a305ba2729b08246db796eb9c3945bdaa70f03"
   },
   "source": [
    "Dropping the column of \"Dates\" and appending the dataframe \"datetime\""
   ]
  },
  {
   "cell_type": "code",
   "execution_count": 63,
   "metadata": {
    "_uuid": "f7aca357775d27e7a6bc92ea5085141d66a9fda3"
   },
   "outputs": [],
   "source": [
    "df=pd.concat([df,Date,Time],axis=1)\n",
    "#df\n",
    "\n",
    "#-----------test data------------------\n",
    "\n",
    "df_test=pd.concat([df_test,Date_test,Time_test],axis=1)\n"
   ]
  },
  {
   "cell_type": "code",
   "execution_count": 64,
   "metadata": {
    "_uuid": "52dca1b1cd16626401f13985ad575ea21347c47f"
   },
   "outputs": [],
   "source": [
    "df=df.drop(labels=['Dates'],axis=1)\n",
    "\n",
    "#-----------test data------------------\n",
    "\n",
    "df_test=df_test.drop(labels=['Dates'],axis=1)\n"
   ]
  },
  {
   "cell_type": "markdown",
   "metadata": {
    "_uuid": "fe92f1b80a1d0f15e68bf1a04bb85f06ddd8ca6a"
   },
   "source": [
    "# #Encoding"
   ]
  },
  {
   "cell_type": "code",
   "execution_count": 65,
   "metadata": {
    "_uuid": "17685cb925b07d136cba97ffafd70f787174bb75"
   },
   "outputs": [
    {
     "data": {
      "text/plain": [
       "Index(['Category', 'Descript', 'DayOfWeek', 'PdDistrict', 'Resolution',\n",
       "       'Address', 'X', 'Y', 'Id', 'Year', 'Month', 'Day', 'Hour', 'Minute',\n",
       "       'Second'],\n",
       "      dtype='object')"
      ]
     },
     "execution_count": 65,
     "metadata": {},
     "output_type": "execute_result"
    }
   ],
   "source": [
    "df.columns"
   ]
  },
  {
   "cell_type": "markdown",
   "metadata": {
    "_uuid": "25cec7d58e0748f7bc6fc0f935653b0bef90a66c"
   },
   "source": [
    "LabelEncoding of \"DayOfWeek\" and \"PdDistrict\""
   ]
  },
  {
   "cell_type": "code",
   "execution_count": 66,
   "metadata": {
    "_uuid": "34f5d750bae866e939d6c90fb6755b617bb319af"
   },
   "outputs": [],
   "source": [
    "le = preprocessing.LabelEncoder()"
   ]
  },
  {
   "cell_type": "code",
   "execution_count": 67,
   "metadata": {
    "_uuid": "5b267a01fe0adc37294fff9949a56e054bd4bf82"
   },
   "outputs": [],
   "source": [
    "#y=pd.get_dummies(df.Category,columns=['Category'],prefix=\" \",prefix_sep=\" \",drop_first=True,)\n",
    "\n",
    "le_res=le.fit_transform(df['Category'])\n",
    "y=pd.DataFrame(le_res)\n",
    "y.columns=['Category']\n",
    "#y"
   ]
  },
  {
   "cell_type": "code",
   "execution_count": 68,
   "metadata": {},
   "outputs": [
    {
     "data": {
      "text/plain": [
       "36"
      ]
     },
     "execution_count": 68,
     "metadata": {},
     "output_type": "execute_result"
    }
   ],
   "source": [
    "y['Category'].nunique()"
   ]
  },
  {
   "cell_type": "markdown",
   "metadata": {
    "_uuid": "3be54e663d4fb89722c67529b55c9a65be7d997b"
   },
   "source": [
    "# Rotation 60 degree"
   ]
  },
  {
   "cell_type": "code",
   "execution_count": 69,
   "metadata": {
    "_uuid": "ad26e1b64b3d3bc0a1b0e8f69f5e4636db66f665"
   },
   "outputs": [],
   "source": [
    "df[\"rot60_X\"]=(0.5) * df[\"Y\"] + (1.732/2) * df[\"X\"]\n",
    "df[\"rot60_Y\"]=0.5 * df[\"Y\"] - (1.732/2) * df[\"X\"]\n",
    "\n",
    "\n",
    "\n",
    "df_test[\"rot60_X\"]=(0.5) * df_test[\"Y\"] + (1.732/2) * df_test[\"X\"]\n",
    "df_test[\"rot60_Y\"]=0.5 * df_test[\"Y\"] - (1.732/2) * df_test[\"X\"]"
   ]
  },
  {
   "cell_type": "code",
   "execution_count": 70,
   "metadata": {
    "_uuid": "875d5fcf1c3d2650f04c8b9481015456425be0cd"
   },
   "outputs": [],
   "source": [
    "df[\"radial60\"]=np.sqrt(np.power(df['rot60_X'],2) + np.power(df['rot60_Y'],2))\n",
    "\n",
    "df_test[\"radial60\"]=np.sqrt(np.power(df_test['rot60_X'],2) + np.power(df_test['rot60_Y'],2))"
   ]
  },
  {
   "cell_type": "markdown",
   "metadata": {
    "_uuid": "21d093db421b1b2d37e4b901a6569e0978a70554"
   },
   "source": [
    "# Month clubbing"
   ]
  },
  {
   "cell_type": "code",
   "execution_count": 71,
   "metadata": {
    "_uuid": "25520c7511d486bf5dc06222486acbf89c981f51"
   },
   "outputs": [],
   "source": [
    "df=df.drop(labels='rot60_X',axis=1)\n",
    "\n",
    "df_test=df_test.drop(labels='rot60_X',axis=1)"
   ]
  },
  {
   "cell_type": "code",
   "execution_count": 72,
   "metadata": {
    "_uuid": "3726f999d71e91bce9e9a46b735e0f3cc5346026"
   },
   "outputs": [],
   "source": [
    "df=df.drop(labels='rot60_Y',axis=1)\n",
    "\n",
    "df_test=df_test.drop(labels='rot60_Y',axis=1)"
   ]
  },
  {
   "cell_type": "code",
   "execution_count": 73,
   "metadata": {
    "_uuid": "ac09b6b4529ff8beeef89c723eff6e97e56d8849"
   },
   "outputs": [],
   "source": [
    "df=df.drop(labels='Second',axis=1)\n",
    "\n",
    "df_test=df_test.drop(labels='Second',axis=1)"
   ]
  },
  {
   "cell_type": "markdown",
   "metadata": {
    "_uuid": "ada858c293a33df5fa2b945350200d5205bba741"
   },
   "source": [
    "# Minute Clubbing"
   ]
  },
  {
   "cell_type": "code",
   "execution_count": 74,
   "metadata": {
    "_uuid": "5758724a931e571b4d855165eb87342ec015f79a"
   },
   "outputs": [],
   "source": [
    "df['Minute']=df['Minute'].apply(lambda x:int(x))\n",
    "df['Minute']=df['Minute'].apply(lambda x : 'low' if x <31 else 'high')\n",
    "\n",
    "df_test['Minute']=df_test['Minute'].apply(lambda x:int(x))\n",
    "df_test['Minute']=df_test['Minute'].apply(lambda x : 'low' if x <31 else 'high')\n"
   ]
  },
  {
   "cell_type": "markdown",
   "metadata": {
    "_uuid": "ab70df9f5d5cbeeeb731e7462d68067bb118802f"
   },
   "source": [
    "# DayOfWeek"
   ]
  },
  {
   "cell_type": "code",
   "execution_count": 75,
   "metadata": {
    "_uuid": "e88e26c52f9e84980f6ea7ccfcecbabcd8b4f8a7"
   },
   "outputs": [],
   "source": [
    "df['DayOfWeek']= df['DayOfWeek'].apply(lambda x : 'WeekHigh' if x in ('Wednesday','Friday') else ('WeekMed' if x in ('Tuesday','Thursday','Saturday') else 'WeekLow'))\n",
    "\n",
    "\n",
    "df_test['DayOfWeek']= df_test['DayOfWeek'].apply(lambda x : 'WeekHigh' if x in ('Wednesday','Friday') else ('WeekMed' if x in ('Tuesday','Thursday','Saturday') else 'WeekLow'))\n"
   ]
  },
  {
   "cell_type": "markdown",
   "metadata": {
    "_uuid": "f46874bda8772cef12ada43dcda36374e4f9d758"
   },
   "source": [
    "# Address Update"
   ]
  },
  {
   "cell_type": "code",
   "execution_count": 76,
   "metadata": {
    "_uuid": "d4f1bcb5e86c643c42007286948dfdb74d83d66a"
   },
   "outputs": [],
   "source": [
    "df['Intersection']=df['Address'].apply(lambda x : 1 if '/' in x else 0)\n",
    "df['Block']=df['Address'].apply(lambda x : 1 if 'Block' in x else 0)\n",
    "df_test['Intersection']=df_test['Address'].apply(lambda x : 1 if '/' in x else 0)\n",
    "df_test['Block']=df_test['Address'].apply(lambda x : 1 if 'Block' in x else 0)"
   ]
  },
  {
   "cell_type": "code",
   "execution_count": 77,
   "metadata": {
    "_uuid": "83e207d406b36d2c606aecb409c6c9fb6d7d2c70"
   },
   "outputs": [],
   "source": [
    "address=pd.DataFrame(df['Address'],columns=['Address'])\n",
    "address=address.Address.str.split(pat=\" /\",expand=True )\n",
    "\n",
    "address.columns=['Address','Intr2']\n",
    "\n",
    "address=address.Address.str.split(pat=\" /\",expand=True )\n",
    "address.columns=['Address']\n",
    "\n",
    "string=address.iloc[:,0]\n",
    "string=string.str.strip()\n",
    "\n",
    "address_fram=string.to_frame()\n",
    "temp=address_fram['Address'].astype(str).str[-2:]\n",
    "\n",
    "address=temp.to_frame()\n",
    "\n",
    "address['Address']=address['Address'].apply(lambda x :( x if x in (\"ST\",\"AV\",\"LN\",\"DR\",\"BL\",\"HY\",\"CT\",\"RD\",\"PL\",\"PZ\",\"TR\",\"AL\",\"CR\",\"WK\",\"EX\",\"RW\") else ((\"I-80\" if x in (\"80\") else (\"HWY\" if x in (\"WY\") else (\"WAY\" if x in (\"AY\") else (\"TER\" if x in (\"ER\") else (\"ALMS\" if x in (\"MS\") else (\"MAR\" if x in (\"AR\") else (\"PARK\" if x in (\"RK\") else (\"STWY\" if x in (\"WY\") else (\"VIA\" if x in (\"NO\") else (\"BLOCK\")))))))))))))\n",
    "df=df.drop(labels=['Address'],axis=1)\n",
    "df=pd.concat([address,df],axis=1)\n",
    "\n"
   ]
  },
  {
   "cell_type": "markdown",
   "metadata": {
    "_uuid": "913bcf82bceb8c0d421480ccfdc30518d68b97ef"
   },
   "source": [
    "# Address splitting"
   ]
  },
  {
   "cell_type": "code",
   "execution_count": 78,
   "metadata": {
    "_uuid": "b77cb3c28d65130e5f966fc391addd484b66c6f2"
   },
   "outputs": [],
   "source": [
    "address_test=pd.DataFrame(df_test['Address'],columns=['Address'])\n",
    "address_test=address_test.Address.str.split(pat=\" /\",expand=True )\n",
    "\n",
    "address_test.columns=['Address','Intr2']\n",
    "\n",
    "address_test=address_test.Address.str.split(pat=\" /\",expand=True )\n",
    "address_test.columns=['Address']\n",
    "\n",
    "string_test=address_test.iloc[:,0]\n",
    "string_test=string_test.str.strip()\n",
    "\n",
    "address_fram_test=string_test.to_frame()\n",
    "temp_test=address_fram_test['Address'].astype(str).str[-2:]\n",
    "\n",
    "address_test=temp_test.to_frame()\n",
    "\n",
    "address_test['Address']=address_test['Address'].apply(lambda x :( x if x in (\"ST\",\"AV\",\"LN\",\"DR\",\"BL\",\"HY\",\"CT\",\"RD\",\"PL\",\"PZ\",\"TR\",\"AL\",\"CR\",\"WK\",\"EX\",\"RW\") else ((\"I-80\" if x in (\"80\") else (\"HWY\" if x in (\"WY\") else (\"WAY\" if x in (\"AY\") else (\"TER\" if x in (\"ER\") else (\"ALMS\" if x in (\"MS\") else (\"MAR\" if x in (\"AR\") else (\"PARK\" if x in (\"RK\") else (\"STWY\" if x in (\"WY\") else (\"VIA\" if x in (\"NO\") else (\"BLOCK\")))))))))))))\n",
    "df_test=df_test.drop(labels=['Address'],axis=1)\n",
    "df_test=pd.concat([address_test,df_test],axis=1)"
   ]
  },
  {
   "cell_type": "code",
   "execution_count": 79,
   "metadata": {
    "_uuid": "1f80d7a11e943b36bb7b5c2a5fe6eebcef01e0b2"
   },
   "outputs": [],
   "source": [
    "Id=df['Id']\n",
    "df=df.drop(['Descript','Resolution','Id'],axis=1)\n",
    "\n",
    "#----------test data---------\n",
    "\n",
    "Id_test=df_test['Id']\n",
    "df_test=df_test.drop(['Descript','Resolution','Id'],axis=1)"
   ]
  },
  {
   "cell_type": "code",
   "execution_count": 80,
   "metadata": {
    "_uuid": "2827786826b597839338dcfb58fc6ef368f83277"
   },
   "outputs": [
    {
     "data": {
      "text/plain": [
       "Index(['Address', 'DayOfWeek', 'PdDistrict', 'X', 'Y', 'Year', 'Month', 'Day',\n",
       "       'Hour', 'Minute', 'radial60', 'Intersection', 'Block'],\n",
       "      dtype='object')"
      ]
     },
     "execution_count": 80,
     "metadata": {},
     "output_type": "execute_result"
    }
   ],
   "source": [
    "df_test.columns"
   ]
  },
  {
   "cell_type": "code",
   "execution_count": 81,
   "metadata": {
    "_uuid": "a1d9b6b0e76cc906579c914eab2f9a87ca0abc87"
   },
   "outputs": [
    {
     "data": {
      "text/plain": [
       "array(['MISSION', 'SOUTHERN', 'BAYVIEW', 'CENTRAL', 'INGLESIDE',\n",
       "       'NORTHERN', 'RICHMOND', 'TARAVAL', 'TENDERLOIN', 'PARK'],\n",
       "      dtype=object)"
      ]
     },
     "execution_count": 81,
     "metadata": {},
     "output_type": "execute_result"
    }
   ],
   "source": [
    "data['PdDistrict'].unique()"
   ]
  },
  {
   "cell_type": "markdown",
   "metadata": {
    "_uuid": "4392515fe4ff16700e49aa9fad6c874e40e83b61"
   },
   "source": [
    "# Label Encoding"
   ]
  },
  {
   "cell_type": "code",
   "execution_count": 82,
   "metadata": {
    "_uuid": "7973f40eec949ee843fdb7dea76f9a9238c61840"
   },
   "outputs": [
    {
     "data": {
      "text/plain": [
       "Index(['Address', 'Category', 'DayOfWeek', 'PdDistrict', 'X', 'Y', 'Year',\n",
       "       'Month', 'Day', 'Hour', 'Minute', 'radial60', 'Intersection', 'Block'],\n",
       "      dtype='object')"
      ]
     },
     "execution_count": 82,
     "metadata": {},
     "output_type": "execute_result"
    }
   ],
   "source": [
    "\n",
    "df.columns"
   ]
  },
  {
   "cell_type": "code",
   "execution_count": 83,
   "metadata": {
    "_uuid": "4a51a461ee1657261f1ecec3679173375d427eb1"
   },
   "outputs": [
    {
     "data": {
      "text/plain": [
       "Index(['Address', 'DayOfWeek', 'PdDistrict', 'X', 'Y', 'Year', 'Month', 'Day',\n",
       "       'Hour', 'Minute', 'radial60', 'Intersection', 'Block'],\n",
       "      dtype='object')"
      ]
     },
     "execution_count": 83,
     "metadata": {},
     "output_type": "execute_result"
    }
   ],
   "source": [
    "df_test.columns"
   ]
  },
  {
   "cell_type": "code",
   "execution_count": 84,
   "metadata": {
    "_uuid": "d4af891d320b018120012595e138a4007accb0c7"
   },
   "outputs": [],
   "source": [
    "le = preprocessing.LabelEncoder()"
   ]
  },
  {
   "cell_type": "markdown",
   "metadata": {
    "_uuid": "3bb2ad3a7a57df246cba5d4a15c7f425a076d6de"
   },
   "source": [
    "Label Encoding :DayOfWeek"
   ]
  },
  {
   "cell_type": "code",
   "execution_count": 85,
   "metadata": {
    "_uuid": "3182afc198b35e8836c99b31ab38af23e7748ad8"
   },
   "outputs": [],
   "source": [
    "\n",
    "#le = preprocessing.LabelEncoder()\n",
    "le_res=le.fit_transform(df['DayOfWeek'])\n",
    "Day=pd.DataFrame(le_res)\n",
    "Day.columns=['DayOfWeek']\n",
    "df=df.drop(labels=['DayOfWeek'],axis=1)\n",
    "df=pd.concat([Day,df],axis=1)\n",
    "\n",
    "#----------test data----------\n",
    "\n",
    "le_res_test=le.fit_transform(df_test['DayOfWeek'])\n",
    "Day_test=pd.DataFrame(le_res_test)\n",
    "Day_test.columns=['DayOfWeek']\n",
    "df_test=df_test.drop(labels=['DayOfWeek'],axis=1)\n",
    "df_test=pd.concat([Day_test,df_test],axis=1)"
   ]
  },
  {
   "cell_type": "markdown",
   "metadata": {
    "_uuid": "496f542c17c3c01ff5391c4e916ede3164fa92c2"
   },
   "source": [
    "Label Encoding: PdDistrict"
   ]
  },
  {
   "cell_type": "code",
   "execution_count": 86,
   "metadata": {
    "_uuid": "56ad936fd7c6c841d8f9d8ecd9e153f76296720e"
   },
   "outputs": [],
   "source": [
    "\n",
    "le_res=le.fit_transform(df['PdDistrict'])\n",
    "District=pd.DataFrame(le_res)\n",
    "\n",
    "#District=pd.get_dummies(df['PdDistrict'],drop_first=True)\n",
    "District.columns=['District']\n",
    "df=df.drop(labels=['PdDistrict'],axis=1)\n",
    "df=pd.concat([District,df],axis=1)\n",
    "\n",
    "\n",
    "le_res_test=le.fit_transform(df_test['PdDistrict'])\n",
    "District_test=pd.DataFrame(le_res_test)\n",
    "\n",
    "#District=pd.get_dummies(df['PdDistrict'],drop_first=True)\n",
    "District_test.columns=['District']\n",
    "df_test=df_test.drop(labels=['PdDistrict'],axis=1)\n",
    "df_test=pd.concat([District_test,df_test],axis=1)\n"
   ]
  },
  {
   "cell_type": "markdown",
   "metadata": {
    "_uuid": "e95f79db8d910ad366cba9224138bd9384942def"
   },
   "source": [
    "Label encoding: Year"
   ]
  },
  {
   "cell_type": "code",
   "execution_count": 87,
   "metadata": {
    "_uuid": "b346ac9713337dae84c8f02a1430b5db8d144eb0"
   },
   "outputs": [],
   "source": [
    "\n",
    "#le = preprocessing.LabelEncoder()\n",
    "le_res=le.fit_transform(df['Year'])\n",
    "Year=pd.DataFrame(le_res)\n",
    "\n",
    "#District=pd.get_dummies(df['PdDistrict'],drop_first=True)\n",
    "Year.columns=['Year']\n",
    "df=df.drop(labels=['Year'],axis=1)\n",
    "df=pd.concat([Year,df],axis=1)\n",
    "\n",
    "\n",
    "#le = preprocessing.LabelEncoder()\n",
    "le_res_test=le.fit_transform(df_test['Year'])\n",
    "Year_test=pd.DataFrame(le_res_test)\n",
    "\n",
    "#District=pd.get_dummies(df['PdDistrict'],drop_first=True)\n",
    "Year_test.columns=['Year']\n",
    "df_test=df_test.drop(labels=['Year'],axis=1)\n",
    "df_test=pd.concat([Year_test,df_test],axis=1)\n"
   ]
  },
  {
   "cell_type": "markdown",
   "metadata": {
    "_uuid": "0d2233877adbc0df38f434991be882ae7c30022a"
   },
   "source": [
    "Label encoding: Month"
   ]
  },
  {
   "cell_type": "code",
   "execution_count": 88,
   "metadata": {
    "_uuid": "5aca80e6f54555377348534ec5b5319976f39b7e"
   },
   "outputs": [],
   "source": [
    "\n",
    "#le = preprocessing.LabelEncoder()\n",
    "le_res=le.fit_transform(df['Month'])\n",
    "Month=pd.DataFrame(le_res)\n",
    "\n",
    "#District=pd.get_dummies(df['PdDistrict'],drop_first=True)\n",
    "Month.columns=['Month']\n",
    "df=df.drop(labels=['Month'],axis=1)\n",
    "df=pd.concat([Month,df],axis=1)\n",
    "\n",
    "\n",
    "#le = preprocessing.LabelEncoder()\n",
    "le_res_test=le.fit_transform(df_test['Month'])\n",
    "Month_test=pd.DataFrame(le_res_test)\n",
    "\n",
    "#District=pd.get_dummies(df['PdDistrict'],drop_first=True)\n",
    "Month_test.columns=['Month']\n",
    "df_test=df_test.drop(labels=['Month'],axis=1)\n",
    "df_test=pd.concat([Month_test,df_test],axis=1)\n"
   ]
  },
  {
   "cell_type": "markdown",
   "metadata": {
    "_uuid": "a774f5f25c5182d09e9865488a051e6665f06c95"
   },
   "source": [
    "Label encoding: Day"
   ]
  },
  {
   "cell_type": "code",
   "execution_count": 89,
   "metadata": {
    "_uuid": "aef2a2ec42b5e9ad942587ce0d2500f9b18df475"
   },
   "outputs": [],
   "source": [
    "\n",
    "#le = preprocessing.LabelEncoder()\n",
    "le_res=le.fit_transform(df['Day'])\n",
    "Day=pd.DataFrame(le_res)\n",
    "\n",
    "#District=pd.get_dummies(df['PdDistrict'],drop_first=True)\n",
    "Day.columns=['Day']\n",
    "df=df.drop(labels=['Day'],axis=1)\n",
    "df=pd.concat([Day,df],axis=1)\n",
    "\n",
    "\n",
    "#le = preprocessing.LabelEncoder()\n",
    "le_res_test=le.fit_transform(df_test['Day'])\n",
    "Day_test=pd.DataFrame(le_res_test)\n",
    "\n",
    "#District=pd.get_dummies(df['PdDistrict'],drop_first=True)\n",
    "Day_test.columns=['Day']\n",
    "df_test=df_test.drop(labels=['Day'],axis=1)\n",
    "df_test=pd.concat([Day_test,df_test],axis=1)\n"
   ]
  },
  {
   "cell_type": "markdown",
   "metadata": {
    "_uuid": "7376032cd6db751d15d1aed352495ad8655da635"
   },
   "source": [
    "Label encoding: Hour"
   ]
  },
  {
   "cell_type": "code",
   "execution_count": 90,
   "metadata": {
    "_uuid": "a4d8891e57a07936f1d5944ee9af75b95280effc"
   },
   "outputs": [],
   "source": [
    "\n",
    "#le = preprocessing.LabelEncoder()\n",
    "le_res=le.fit_transform(df['Hour'])\n",
    "Hour=pd.DataFrame(le_res)\n",
    "\n",
    "#District=pd.get_dummies(df['PdDistrict'],drop_first=True)\n",
    "Hour.columns=['Hour']\n",
    "df=df.drop(labels=['Hour'],axis=1)\n",
    "df=pd.concat([Hour,df],axis=1)\n",
    "\n",
    "\n",
    "#le = preprocessing.LabelEncoder()\n",
    "le_res_test=le.fit_transform(df_test['Hour'])\n",
    "Hour_test=pd.DataFrame(le_res_test)\n",
    "\n",
    "#District=pd.get_dummies(df['PdDistrict'],drop_first=True)\n",
    "Hour_test.columns=['Hour']\n",
    "df_test=df_test.drop(labels=['Hour'],axis=1)\n",
    "df_test=pd.concat([Hour_test,df_test],axis=1)\n"
   ]
  },
  {
   "cell_type": "markdown",
   "metadata": {
    "_uuid": "8497d8bc86d795c3cbea56246d1f196f147cf7b2"
   },
   "source": [
    "Label encoding: Minute"
   ]
  },
  {
   "cell_type": "code",
   "execution_count": 91,
   "metadata": {
    "_uuid": "61386a4969316f051ef0967bd719bc6764fb4a85"
   },
   "outputs": [],
   "source": [
    "\n",
    "le_res=le.fit_transform(df['Minute'])\n",
    "Minute=pd.DataFrame(le_res)\n",
    "\n",
    "#District=pd.get_dummies(df['PdDistrict'],drop_first=True)\n",
    "Minute.columns=['Minute']\n",
    "df=df.drop(labels=['Minute'],axis=1)\n",
    "df=pd.concat([Minute,df],axis=1)\n",
    "\n",
    "\n",
    "le_res_test=le.fit_transform(df_test['Minute'])\n",
    "Minute_test=pd.DataFrame(le_res_test)\n",
    "\n",
    "#District=pd.get_dummies(df['PdDistrict'],drop_first=True)\n",
    "Minute_test.columns=['Minute']\n",
    "df_test=df_test.drop(labels=['Minute'],axis=1)\n",
    "df_test=pd.concat([Minute_test,df_test],axis=1)\n",
    "\n"
   ]
  },
  {
   "cell_type": "markdown",
   "metadata": {
    "_uuid": "d74ee1cf95f38f72b125e92fc91eeb786e3c1096"
   },
   "source": [
    "#label encode street suffix"
   ]
  },
  {
   "cell_type": "code",
   "execution_count": 92,
   "metadata": {
    "_uuid": "3e00de91a48d687ebde6d20a869593de2662cfdd"
   },
   "outputs": [
    {
     "data": {
      "text/plain": [
       "Index(['Category', 'Minute', 'Hour', 'Day', 'Month', 'Year', 'District',\n",
       "       'DayOfWeek', 'Address', 'X', 'Y', 'radial60', 'Intersection', 'Block'],\n",
       "      dtype='object')"
      ]
     },
     "execution_count": 92,
     "metadata": {},
     "output_type": "execute_result"
    }
   ],
   "source": [
    "le_res=le.fit_transform(df['Category'])\n",
    "cat=pd.DataFrame(le_res)\n",
    "cat.columns=['Category']\n",
    "df=df.drop(labels=['Category'],axis=1)\n",
    "df=pd.concat([cat,df],axis=1)\n",
    "\n",
    "df.columns"
   ]
  },
  {
   "cell_type": "code",
   "execution_count": 93,
   "metadata": {
    "_uuid": "f638d5b23cae5e93963e36b7e27943ea3b702a71"
   },
   "outputs": [],
   "source": [
    "\n",
    "le_res=le.fit_transform(df['Address'])\n",
    "Address=pd.DataFrame(le_res)\n",
    "Address.columns=['Address']\n",
    "df=df.drop(labels=['Address'],axis=1)\n",
    "df=pd.concat([Address,df],axis=1)\n",
    "le_res=le.fit_transform(df_test['Address'])\n",
    "Address_test=pd.DataFrame(le_res)\n",
    "Address_test.columns=['Address']\n",
    "df_test=df_test.drop(labels=['Address'],axis=1)\n",
    "df_test=pd.concat([Address_test,df_test],axis=1)"
   ]
  },
  {
   "cell_type": "code",
   "execution_count": 94,
   "metadata": {},
   "outputs": [
    {
     "data": {
      "text/html": [
       "<div>\n",
       "<style scoped>\n",
       "    .dataframe tbody tr th:only-of-type {\n",
       "        vertical-align: middle;\n",
       "    }\n",
       "\n",
       "    .dataframe tbody tr th {\n",
       "        vertical-align: top;\n",
       "    }\n",
       "\n",
       "    .dataframe thead th {\n",
       "        text-align: right;\n",
       "    }\n",
       "</style>\n",
       "<table border=\"1\" class=\"dataframe\">\n",
       "  <thead>\n",
       "    <tr style=\"text-align: right;\">\n",
       "      <th></th>\n",
       "      <th>Address</th>\n",
       "      <th>Category</th>\n",
       "      <th>Minute</th>\n",
       "      <th>Hour</th>\n",
       "      <th>Day</th>\n",
       "      <th>Month</th>\n",
       "      <th>Year</th>\n",
       "      <th>District</th>\n",
       "      <th>DayOfWeek</th>\n",
       "      <th>X</th>\n",
       "      <th>Y</th>\n",
       "      <th>radial60</th>\n",
       "      <th>Intersection</th>\n",
       "      <th>Block</th>\n",
       "    </tr>\n",
       "  </thead>\n",
       "  <tbody>\n",
       "    <tr>\n",
       "      <th>0</th>\n",
       "      <td>19</td>\n",
       "      <td>27</td>\n",
       "      <td>0</td>\n",
       "      <td>17</td>\n",
       "      <td>27</td>\n",
       "      <td>5</td>\n",
       "      <td>10</td>\n",
       "      <td>3</td>\n",
       "      <td>0</td>\n",
       "      <td>-122.419331</td>\n",
       "      <td>37.762264</td>\n",
       "      <td>152.287276</td>\n",
       "      <td>0</td>\n",
       "      <td>1</td>\n",
       "    </tr>\n",
       "    <tr>\n",
       "      <th>1</th>\n",
       "      <td>19</td>\n",
       "      <td>17</td>\n",
       "      <td>0</td>\n",
       "      <td>2</td>\n",
       "      <td>18</td>\n",
       "      <td>1</td>\n",
       "      <td>1</td>\n",
       "      <td>7</td>\n",
       "      <td>2</td>\n",
       "      <td>-122.411340</td>\n",
       "      <td>37.781271</td>\n",
       "      <td>152.279998</td>\n",
       "      <td>0</td>\n",
       "      <td>1</td>\n",
       "    </tr>\n",
       "    <tr>\n",
       "      <th>2</th>\n",
       "      <td>19</td>\n",
       "      <td>13</td>\n",
       "      <td>1</td>\n",
       "      <td>0</td>\n",
       "      <td>13</td>\n",
       "      <td>10</td>\n",
       "      <td>4</td>\n",
       "      <td>7</td>\n",
       "      <td>0</td>\n",
       "      <td>-122.403405</td>\n",
       "      <td>37.775421</td>\n",
       "      <td>152.269705</td>\n",
       "      <td>0</td>\n",
       "      <td>1</td>\n",
       "    </tr>\n",
       "    <tr>\n",
       "      <th>3</th>\n",
       "      <td>2</td>\n",
       "      <td>24</td>\n",
       "      <td>1</td>\n",
       "      <td>18</td>\n",
       "      <td>26</td>\n",
       "      <td>11</td>\n",
       "      <td>4</td>\n",
       "      <td>0</td>\n",
       "      <td>2</td>\n",
       "      <td>-122.404715</td>\n",
       "      <td>37.730161</td>\n",
       "      <td>152.265674</td>\n",
       "      <td>0</td>\n",
       "      <td>1</td>\n",
       "    </tr>\n",
       "    <tr>\n",
       "      <th>4</th>\n",
       "      <td>19</td>\n",
       "      <td>21</td>\n",
       "      <td>1</td>\n",
       "      <td>17</td>\n",
       "      <td>8</td>\n",
       "      <td>8</td>\n",
       "      <td>9</td>\n",
       "      <td>7</td>\n",
       "      <td>1</td>\n",
       "      <td>-122.405239</td>\n",
       "      <td>37.785265</td>\n",
       "      <td>152.273137</td>\n",
       "      <td>1</td>\n",
       "      <td>0</td>\n",
       "    </tr>\n",
       "  </tbody>\n",
       "</table>\n",
       "</div>"
      ],
      "text/plain": [
       "   Address  Category  Minute  Hour  Day  Month  Year  District  DayOfWeek  \\\n",
       "0       19        27       0    17   27      5    10         3          0   \n",
       "1       19        17       0     2   18      1     1         7          2   \n",
       "2       19        13       1     0   13     10     4         7          0   \n",
       "3        2        24       1    18   26     11     4         0          2   \n",
       "4       19        21       1    17    8      8     9         7          1   \n",
       "\n",
       "            X          Y    radial60  Intersection  Block  \n",
       "0 -122.419331  37.762264  152.287276             0      1  \n",
       "1 -122.411340  37.781271  152.279998             0      1  \n",
       "2 -122.403405  37.775421  152.269705             0      1  \n",
       "3 -122.404715  37.730161  152.265674             0      1  \n",
       "4 -122.405239  37.785265  152.273137             1      0  "
      ]
     },
     "execution_count": 94,
     "metadata": {},
     "output_type": "execute_result"
    }
   ],
   "source": [
    "df.head()"
   ]
  },
  {
   "cell_type": "code",
   "execution_count": 95,
   "metadata": {},
   "outputs": [
    {
     "data": {
      "text/plain": [
       "KMeans(algorithm='auto', copy_x=True, init='k-means++', max_iter=300,\n",
       "    n_clusters=36, n_init=10, n_jobs=None, precompute_distances='auto',\n",
       "    random_state=0, tol=0.0001, verbose=0)"
      ]
     },
     "execution_count": 95,
     "metadata": {},
     "output_type": "execute_result"
    }
   ],
   "source": [
    "from sklearn.cluster import KMeans\n",
    "v1=np.array(df.iloc[:,1:3])\n",
    "kk=KMeans(n_clusters=36, random_state=0)\n",
    "kk.fit(v1)"
   ]
  },
  {
   "cell_type": "code",
   "execution_count": 96,
   "metadata": {},
   "outputs": [],
   "source": [
    "#'A','B','C','D','E','F','G','H','I','J','K','L','M','N','O','P','Q','R','S','T','U','V','W','X','Y','Z','A1','A2','A3'','A4'','A5'','A6'','A7'','A8'','A9'','A10'\n",
    "kmean= pd.DataFrame(kk.transform(v1))\n",
    "kmean.columns=['A','B','C','D','E','F','G','H','I','J','K','L','M','N','O','P','Q','R','S','T','U','V','W','X','Y','Z','A1','A2','A3','A4','A5','A6','A7','A8','A9','A10']\n",
    "df=df.drop(labels=['X','Y'],axis=1)\n",
    "df=pd.concat([kmean,df],axis=1)"
   ]
  },
  {
   "cell_type": "code",
   "execution_count": 97,
   "metadata": {},
   "outputs": [],
   "source": [
    "v1_test=np.array(df_test.iloc[:,1:3])\n",
    "kmean_test= pd.DataFrame(kk.transform(v1_test))\n",
    "kmean_test.columns=['A','B','C','D','E','F','G','H','I','J','K','L','M','N','O','P','Q','R','S','T','U','V','W','X','Y','Z','A1','A2','A3','A4','A5','A6','A7','A8','A9','A10']\n",
    "df_test=df_test.drop(labels=['X','Y'],axis=1)\n",
    "df_test=pd.concat([kmean_test,df_test],axis=1)"
   ]
  },
  {
   "cell_type": "code",
   "execution_count": 98,
   "metadata": {},
   "outputs": [
    {
     "data": {
      "text/html": [
       "<div>\n",
       "<style scoped>\n",
       "    .dataframe tbody tr th:only-of-type {\n",
       "        vertical-align: middle;\n",
       "    }\n",
       "\n",
       "    .dataframe tbody tr th {\n",
       "        vertical-align: top;\n",
       "    }\n",
       "\n",
       "    .dataframe thead th {\n",
       "        text-align: right;\n",
       "    }\n",
       "</style>\n",
       "<table border=\"1\" class=\"dataframe\">\n",
       "  <thead>\n",
       "    <tr style=\"text-align: right;\">\n",
       "      <th></th>\n",
       "      <th>A</th>\n",
       "      <th>B</th>\n",
       "      <th>C</th>\n",
       "      <th>D</th>\n",
       "      <th>E</th>\n",
       "      <th>F</th>\n",
       "      <th>G</th>\n",
       "      <th>H</th>\n",
       "      <th>I</th>\n",
       "      <th>J</th>\n",
       "      <th>K</th>\n",
       "      <th>L</th>\n",
       "      <th>M</th>\n",
       "      <th>N</th>\n",
       "      <th>O</th>\n",
       "      <th>P</th>\n",
       "      <th>Q</th>\n",
       "      <th>R</th>\n",
       "      <th>S</th>\n",
       "      <th>T</th>\n",
       "      <th>U</th>\n",
       "      <th>V</th>\n",
       "      <th>W</th>\n",
       "      <th>X</th>\n",
       "      <th>Y</th>\n",
       "      <th>Z</th>\n",
       "      <th>A1</th>\n",
       "      <th>A2</th>\n",
       "      <th>A3</th>\n",
       "      <th>A4</th>\n",
       "      <th>A5</th>\n",
       "      <th>A6</th>\n",
       "      <th>A7</th>\n",
       "      <th>A8</th>\n",
       "      <th>A9</th>\n",
       "      <th>A10</th>\n",
       "      <th>Address</th>\n",
       "      <th>Minute</th>\n",
       "      <th>Hour</th>\n",
       "      <th>Day</th>\n",
       "      <th>Month</th>\n",
       "      <th>Year</th>\n",
       "      <th>District</th>\n",
       "      <th>DayOfWeek</th>\n",
       "      <th>radial60</th>\n",
       "      <th>Intersection</th>\n",
       "      <th>Block</th>\n",
       "    </tr>\n",
       "  </thead>\n",
       "  <tbody>\n",
       "    <tr>\n",
       "      <th>0</th>\n",
       "      <td>26.624356</td>\n",
       "      <td>38.013156</td>\n",
       "      <td>22.649826</td>\n",
       "      <td>29.732137</td>\n",
       "      <td>22.000003</td>\n",
       "      <td>33.359773</td>\n",
       "      <td>25.196183</td>\n",
       "      <td>40.358290</td>\n",
       "      <td>22.202687</td>\n",
       "      <td>29.832868</td>\n",
       "      <td>29.068884</td>\n",
       "      <td>31.284070</td>\n",
       "      <td>23.496937</td>\n",
       "      <td>38.832976</td>\n",
       "      <td>36.389180</td>\n",
       "      <td>22.803509</td>\n",
       "      <td>27.464014</td>\n",
       "      <td>23.769729</td>\n",
       "      <td>30.479501</td>\n",
       "      <td>31.827661</td>\n",
       "      <td>39.661064</td>\n",
       "      <td>35.058827</td>\n",
       "      <td>23.000008</td>\n",
       "      <td>38.412006</td>\n",
       "      <td>28.404292</td>\n",
       "      <td>24.741063</td>\n",
       "      <td>32.560638</td>\n",
       "      <td>23.222845</td>\n",
       "      <td>37.202150</td>\n",
       "      <td>39.408121</td>\n",
       "      <td>40.496913</td>\n",
       "      <td>36.997583</td>\n",
       "      <td>34.161260</td>\n",
       "      <td>29.144469</td>\n",
       "      <td>30.413813</td>\n",
       "      <td>23.590477</td>\n",
       "      <td>14</td>\n",
       "      <td>1</td>\n",
       "      <td>23</td>\n",
       "      <td>3</td>\n",
       "      <td>6</td>\n",
       "      <td>7</td>\n",
       "      <td>9</td>\n",
       "      <td>1</td>\n",
       "      <td>152.276406</td>\n",
       "      <td>0</td>\n",
       "      <td>1</td>\n",
       "    </tr>\n",
       "    <tr>\n",
       "      <th>1</th>\n",
       "      <td>26.397855</td>\n",
       "      <td>38.275318</td>\n",
       "      <td>21.898239</td>\n",
       "      <td>29.698485</td>\n",
       "      <td>21.023232</td>\n",
       "      <td>33.468325</td>\n",
       "      <td>24.830702</td>\n",
       "      <td>40.633949</td>\n",
       "      <td>21.376289</td>\n",
       "      <td>29.732137</td>\n",
       "      <td>29.000000</td>\n",
       "      <td>31.278519</td>\n",
       "      <td>22.874571</td>\n",
       "      <td>39.115214</td>\n",
       "      <td>36.607976</td>\n",
       "      <td>22.135944</td>\n",
       "      <td>27.208275</td>\n",
       "      <td>23.086793</td>\n",
       "      <td>30.413813</td>\n",
       "      <td>31.890437</td>\n",
       "      <td>39.962482</td>\n",
       "      <td>35.219236</td>\n",
       "      <td>22.021863</td>\n",
       "      <td>38.639515</td>\n",
       "      <td>28.297302</td>\n",
       "      <td>24.324165</td>\n",
       "      <td>32.592799</td>\n",
       "      <td>22.399094</td>\n",
       "      <td>37.443290</td>\n",
       "      <td>39.661064</td>\n",
       "      <td>40.816663</td>\n",
       "      <td>37.185757</td>\n",
       "      <td>34.302697</td>\n",
       "      <td>29.003439</td>\n",
       "      <td>30.413813</td>\n",
       "      <td>23.035123</td>\n",
       "      <td>3</td>\n",
       "      <td>0</td>\n",
       "      <td>22</td>\n",
       "      <td>25</td>\n",
       "      <td>5</td>\n",
       "      <td>1</td>\n",
       "      <td>5</td>\n",
       "      <td>2</td>\n",
       "      <td>152.319061</td>\n",
       "      <td>0</td>\n",
       "      <td>1</td>\n",
       "    </tr>\n",
       "    <tr>\n",
       "      <th>2</th>\n",
       "      <td>24.997126</td>\n",
       "      <td>36.891733</td>\n",
       "      <td>20.692820</td>\n",
       "      <td>28.284271</td>\n",
       "      <td>20.000004</td>\n",
       "      <td>32.061183</td>\n",
       "      <td>23.457318</td>\n",
       "      <td>39.252918</td>\n",
       "      <td>20.222742</td>\n",
       "      <td>28.319605</td>\n",
       "      <td>27.586228</td>\n",
       "      <td>29.864564</td>\n",
       "      <td>21.595971</td>\n",
       "      <td>37.735925</td>\n",
       "      <td>35.216082</td>\n",
       "      <td>20.880613</td>\n",
       "      <td>25.812247</td>\n",
       "      <td>21.840330</td>\n",
       "      <td>29.000000</td>\n",
       "      <td>30.479501</td>\n",
       "      <td>38.587563</td>\n",
       "      <td>33.818158</td>\n",
       "      <td>21.000009</td>\n",
       "      <td>37.248922</td>\n",
       "      <td>26.885011</td>\n",
       "      <td>22.964916</td>\n",
       "      <td>31.180045</td>\n",
       "      <td>21.243835</td>\n",
       "      <td>36.055513</td>\n",
       "      <td>38.275318</td>\n",
       "      <td>39.446166</td>\n",
       "      <td>35.788562</td>\n",
       "      <td>32.899215</td>\n",
       "      <td>27.593478</td>\n",
       "      <td>29.000000</td>\n",
       "      <td>21.725633</td>\n",
       "      <td>14</td>\n",
       "      <td>1</td>\n",
       "      <td>21</td>\n",
       "      <td>8</td>\n",
       "      <td>1</td>\n",
       "      <td>10</td>\n",
       "      <td>7</td>\n",
       "      <td>2</td>\n",
       "      <td>152.267363</td>\n",
       "      <td>1</td>\n",
       "      <td>0</td>\n",
       "    </tr>\n",
       "    <tr>\n",
       "      <th>3</th>\n",
       "      <td>25.804192</td>\n",
       "      <td>37.443290</td>\n",
       "      <td>21.670342</td>\n",
       "      <td>29.000000</td>\n",
       "      <td>21.000003</td>\n",
       "      <td>32.701636</td>\n",
       "      <td>24.321733</td>\n",
       "      <td>39.796879</td>\n",
       "      <td>21.212244</td>\n",
       "      <td>29.068884</td>\n",
       "      <td>28.319605</td>\n",
       "      <td>30.566201</td>\n",
       "      <td>22.544312</td>\n",
       "      <td>38.275318</td>\n",
       "      <td>35.793469</td>\n",
       "      <td>21.840330</td>\n",
       "      <td>26.632163</td>\n",
       "      <td>22.803509</td>\n",
       "      <td>29.732137</td>\n",
       "      <td>31.144823</td>\n",
       "      <td>39.115214</td>\n",
       "      <td>34.429560</td>\n",
       "      <td>22.000008</td>\n",
       "      <td>37.821716</td>\n",
       "      <td>27.637001</td>\n",
       "      <td>23.848560</td>\n",
       "      <td>31.862128</td>\n",
       "      <td>22.232870</td>\n",
       "      <td>36.619667</td>\n",
       "      <td>38.832976</td>\n",
       "      <td>39.962482</td>\n",
       "      <td>36.384353</td>\n",
       "      <td>33.521262</td>\n",
       "      <td>28.361947</td>\n",
       "      <td>29.698485</td>\n",
       "      <td>22.655173</td>\n",
       "      <td>2</td>\n",
       "      <td>1</td>\n",
       "      <td>22</td>\n",
       "      <td>2</td>\n",
       "      <td>11</td>\n",
       "      <td>3</td>\n",
       "      <td>4</td>\n",
       "      <td>1</td>\n",
       "      <td>152.289583</td>\n",
       "      <td>1</td>\n",
       "      <td>0</td>\n",
       "    </tr>\n",
       "    <tr>\n",
       "      <th>4</th>\n",
       "      <td>17.459860</td>\n",
       "      <td>32.756679</td>\n",
       "      <td>9.043243</td>\n",
       "      <td>22.135944</td>\n",
       "      <td>7.069390</td>\n",
       "      <td>26.859705</td>\n",
       "      <td>14.844221</td>\n",
       "      <td>35.087288</td>\n",
       "      <td>8.058891</td>\n",
       "      <td>21.540659</td>\n",
       "      <td>21.189620</td>\n",
       "      <td>23.806293</td>\n",
       "      <td>10.918117</td>\n",
       "      <td>33.734256</td>\n",
       "      <td>30.791945</td>\n",
       "      <td>9.899495</td>\n",
       "      <td>17.896654</td>\n",
       "      <td>10.630146</td>\n",
       "      <td>22.472205</td>\n",
       "      <td>25.000000</td>\n",
       "      <td>34.713110</td>\n",
       "      <td>28.952022</td>\n",
       "      <td>8.059928</td>\n",
       "      <td>32.756864</td>\n",
       "      <td>20.217252</td>\n",
       "      <td>13.947585</td>\n",
       "      <td>25.343451</td>\n",
       "      <td>9.039878</td>\n",
       "      <td>31.780497</td>\n",
       "      <td>33.955854</td>\n",
       "      <td>35.693137</td>\n",
       "      <td>31.028704</td>\n",
       "      <td>27.932807</td>\n",
       "      <td>20.523145</td>\n",
       "      <td>23.086793</td>\n",
       "      <td>11.621738</td>\n",
       "      <td>14</td>\n",
       "      <td>0</td>\n",
       "      <td>8</td>\n",
       "      <td>20</td>\n",
       "      <td>8</td>\n",
       "      <td>11</td>\n",
       "      <td>5</td>\n",
       "      <td>1</td>\n",
       "      <td>152.326699</td>\n",
       "      <td>1</td>\n",
       "      <td>0</td>\n",
       "    </tr>\n",
       "  </tbody>\n",
       "</table>\n",
       "</div>"
      ],
      "text/plain": [
       "           A          B          C          D          E          F  \\\n",
       "0  26.624356  38.013156  22.649826  29.732137  22.000003  33.359773   \n",
       "1  26.397855  38.275318  21.898239  29.698485  21.023232  33.468325   \n",
       "2  24.997126  36.891733  20.692820  28.284271  20.000004  32.061183   \n",
       "3  25.804192  37.443290  21.670342  29.000000  21.000003  32.701636   \n",
       "4  17.459860  32.756679   9.043243  22.135944   7.069390  26.859705   \n",
       "\n",
       "           G          H          I          J          K          L  \\\n",
       "0  25.196183  40.358290  22.202687  29.832868  29.068884  31.284070   \n",
       "1  24.830702  40.633949  21.376289  29.732137  29.000000  31.278519   \n",
       "2  23.457318  39.252918  20.222742  28.319605  27.586228  29.864564   \n",
       "3  24.321733  39.796879  21.212244  29.068884  28.319605  30.566201   \n",
       "4  14.844221  35.087288   8.058891  21.540659  21.189620  23.806293   \n",
       "\n",
       "           M          N          O          P          Q          R  \\\n",
       "0  23.496937  38.832976  36.389180  22.803509  27.464014  23.769729   \n",
       "1  22.874571  39.115214  36.607976  22.135944  27.208275  23.086793   \n",
       "2  21.595971  37.735925  35.216082  20.880613  25.812247  21.840330   \n",
       "3  22.544312  38.275318  35.793469  21.840330  26.632163  22.803509   \n",
       "4  10.918117  33.734256  30.791945   9.899495  17.896654  10.630146   \n",
       "\n",
       "           S          T          U          V          W          X  \\\n",
       "0  30.479501  31.827661  39.661064  35.058827  23.000008  38.412006   \n",
       "1  30.413813  31.890437  39.962482  35.219236  22.021863  38.639515   \n",
       "2  29.000000  30.479501  38.587563  33.818158  21.000009  37.248922   \n",
       "3  29.732137  31.144823  39.115214  34.429560  22.000008  37.821716   \n",
       "4  22.472205  25.000000  34.713110  28.952022   8.059928  32.756864   \n",
       "\n",
       "           Y          Z         A1         A2         A3         A4  \\\n",
       "0  28.404292  24.741063  32.560638  23.222845  37.202150  39.408121   \n",
       "1  28.297302  24.324165  32.592799  22.399094  37.443290  39.661064   \n",
       "2  26.885011  22.964916  31.180045  21.243835  36.055513  38.275318   \n",
       "3  27.637001  23.848560  31.862128  22.232870  36.619667  38.832976   \n",
       "4  20.217252  13.947585  25.343451   9.039878  31.780497  33.955854   \n",
       "\n",
       "          A5         A6         A7         A8         A9        A10  Address  \\\n",
       "0  40.496913  36.997583  34.161260  29.144469  30.413813  23.590477       14   \n",
       "1  40.816663  37.185757  34.302697  29.003439  30.413813  23.035123        3   \n",
       "2  39.446166  35.788562  32.899215  27.593478  29.000000  21.725633       14   \n",
       "3  39.962482  36.384353  33.521262  28.361947  29.698485  22.655173        2   \n",
       "4  35.693137  31.028704  27.932807  20.523145  23.086793  11.621738       14   \n",
       "\n",
       "   Minute  Hour  Day  Month  Year  District  DayOfWeek    radial60  \\\n",
       "0       1    23    3      6     7         9          1  152.276406   \n",
       "1       0    22   25      5     1         5          2  152.319061   \n",
       "2       1    21    8      1    10         7          2  152.267363   \n",
       "3       1    22    2     11     3         4          1  152.289583   \n",
       "4       0     8   20      8    11         5          1  152.326699   \n",
       "\n",
       "   Intersection  Block  \n",
       "0             0      1  \n",
       "1             0      1  \n",
       "2             1      0  \n",
       "3             1      0  \n",
       "4             1      0  "
      ]
     },
     "execution_count": 98,
     "metadata": {},
     "output_type": "execute_result"
    }
   ],
   "source": [
    "df_test.head()"
   ]
  },
  {
   "cell_type": "code",
   "execution_count": 99,
   "metadata": {},
   "outputs": [
    {
     "data": {
      "text/plain": [
       "<matplotlib.collections.PathCollection at 0x20403c262b0>"
      ]
     },
     "execution_count": 99,
     "metadata": {},
     "output_type": "execute_result"
    },
    {
     "data": {
      "image/png": "[encoded data removed]",
      "text/plain": [
       "<Figure size 432x288 with 1 Axes>"
      ]
     },
     "metadata": {
      "needs_background": "light"
     },
     "output_type": "display_data"
    }
   ],
   "source": [
    "#points = df[]\n",
    "# create scatter plot\n",
    "plt.scatter(kmean['X'], kmean['Y'], cmap='viridis')\n",
    "#plt.xlim(-15,15)\n",
    "#plt.ylim(-15,15)"
   ]
  },
  {
   "cell_type": "code",
   "execution_count": 100,
   "metadata": {
    "_uuid": "1729737f63e3a57b5a53380a7b548883d944f88a"
   },
   "outputs": [],
   "source": [
    "df=df[['A','B','C','D','E','F','G','H','I','J','K','L','M','N','O','P','Q','R','S','T','U','V','W','X','Y','Z','A1','A2','A3','A4','A5','A6','A7','A8','A9','A10', 'Year','Hour','Minute','Address', 'Intersection','Block']]\n",
    "\n",
    "\n",
    "df_test=df_test[['A','B','C','D','E','F','G','H','I','J','K','L','M','N','O','P','Q','R','S','T','U','V','W','X','Y','Z','A1','A2','A3','A4','A5','A6','A7','A8','A9','A10', 'Year','Hour','Minute','Address', 'Intersection','Block']]\n",
    "#'radial60'"
   ]
  },
  {
   "cell_type": "code",
   "execution_count": 46,
   "metadata": {
    "_uuid": "6f4d6cf91657d5b77d5ff9530c6614b3faae090e"
   },
   "outputs": [
    {
     "data": {
      "text/plain": [
       "25"
      ]
     },
     "execution_count": 46,
     "metadata": {},
     "output_type": "execute_result"
    }
   ],
   "source": [
    "df['Address'].nunique()"
   ]
  },
  {
   "cell_type": "code",
   "execution_count": 47,
   "metadata": {
    "_uuid": "85ee9fccafc2fd42651fc2b56b366aed3ce65a1b"
   },
   "outputs": [
    {
     "data": {
      "text/plain": [
       "18"
      ]
     },
     "execution_count": 47,
     "metadata": {},
     "output_type": "execute_result"
    }
   ],
   "source": [
    "df_test['Address'].nunique()"
   ]
  },
  {
   "cell_type": "code",
   "execution_count": 48,
   "metadata": {
    "_uuid": "532df506c94cc3db4d2e66ca7030fde9df9b8f8e"
   },
   "outputs": [
    {
     "data": {
      "text/plain": [
       "Index(['X', 'Y', 'Year', 'Hour', 'Minute', 'Address', 'Intersection', 'Block'], dtype='object')"
      ]
     },
     "execution_count": 48,
     "metadata": {},
     "output_type": "execute_result"
    }
   ],
   "source": [
    "df_test.columns"
   ]
  },
  {
   "cell_type": "code",
   "execution_count": 49,
   "metadata": {
    "_uuid": "7f35fd601bfee7f4bdcf2d51094ee556a019b125"
   },
   "outputs": [
    {
     "data": {
      "text/html": [
       "<div>\n",
       "<style scoped>\n",
       "    .dataframe tbody tr th:only-of-type {\n",
       "        vertical-align: middle;\n",
       "    }\n",
       "\n",
       "    .dataframe tbody tr th {\n",
       "        vertical-align: top;\n",
       "    }\n",
       "\n",
       "    .dataframe thead th {\n",
       "        text-align: right;\n",
       "    }\n",
       "</style>\n",
       "<table border=\"1\" class=\"dataframe\">\n",
       "  <thead>\n",
       "    <tr style=\"text-align: right;\">\n",
       "      <th></th>\n",
       "      <th>X</th>\n",
       "      <th>Y</th>\n",
       "      <th>Year</th>\n",
       "      <th>Hour</th>\n",
       "      <th>Minute</th>\n",
       "      <th>Address</th>\n",
       "      <th>Intersection</th>\n",
       "      <th>Block</th>\n",
       "    </tr>\n",
       "  </thead>\n",
       "  <tbody>\n",
       "    <tr>\n",
       "      <th>X</th>\n",
       "      <td>1.000000</td>\n",
       "      <td>-0.424941</td>\n",
       "      <td>-0.028415</td>\n",
       "      <td>-0.015375</td>\n",
       "      <td>-0.015765</td>\n",
       "      <td>0.017870</td>\n",
       "      <td>-0.110093</td>\n",
       "      <td>0.110093</td>\n",
       "    </tr>\n",
       "    <tr>\n",
       "      <th>Y</th>\n",
       "      <td>-0.424941</td>\n",
       "      <td>1.000000</td>\n",
       "      <td>-0.041513</td>\n",
       "      <td>0.003724</td>\n",
       "      <td>-0.013377</td>\n",
       "      <td>-0.047896</td>\n",
       "      <td>0.013730</td>\n",
       "      <td>-0.013730</td>\n",
       "    </tr>\n",
       "    <tr>\n",
       "      <th>Year</th>\n",
       "      <td>-0.028415</td>\n",
       "      <td>-0.041513</td>\n",
       "      <td>1.000000</td>\n",
       "      <td>-0.006327</td>\n",
       "      <td>-0.019751</td>\n",
       "      <td>0.007029</td>\n",
       "      <td>-0.027507</td>\n",
       "      <td>0.027507</td>\n",
       "    </tr>\n",
       "    <tr>\n",
       "      <th>Hour</th>\n",
       "      <td>-0.015375</td>\n",
       "      <td>0.003724</td>\n",
       "      <td>-0.006327</td>\n",
       "      <td>1.000000</td>\n",
       "      <td>0.002779</td>\n",
       "      <td>0.002345</td>\n",
       "      <td>0.043905</td>\n",
       "      <td>-0.043905</td>\n",
       "    </tr>\n",
       "    <tr>\n",
       "      <th>Minute</th>\n",
       "      <td>-0.015765</td>\n",
       "      <td>-0.013377</td>\n",
       "      <td>-0.019751</td>\n",
       "      <td>0.002779</td>\n",
       "      <td>1.000000</td>\n",
       "      <td>-0.022238</td>\n",
       "      <td>-0.037279</td>\n",
       "      <td>0.037279</td>\n",
       "    </tr>\n",
       "    <tr>\n",
       "      <th>Address</th>\n",
       "      <td>0.017870</td>\n",
       "      <td>-0.047896</td>\n",
       "      <td>0.007029</td>\n",
       "      <td>0.002345</td>\n",
       "      <td>-0.022238</td>\n",
       "      <td>1.000000</td>\n",
       "      <td>0.055232</td>\n",
       "      <td>-0.055232</td>\n",
       "    </tr>\n",
       "    <tr>\n",
       "      <th>Intersection</th>\n",
       "      <td>-0.110093</td>\n",
       "      <td>0.013730</td>\n",
       "      <td>-0.027507</td>\n",
       "      <td>0.043905</td>\n",
       "      <td>-0.037279</td>\n",
       "      <td>0.055232</td>\n",
       "      <td>1.000000</td>\n",
       "      <td>-1.000000</td>\n",
       "    </tr>\n",
       "    <tr>\n",
       "      <th>Block</th>\n",
       "      <td>0.110093</td>\n",
       "      <td>-0.013730</td>\n",
       "      <td>0.027507</td>\n",
       "      <td>-0.043905</td>\n",
       "      <td>0.037279</td>\n",
       "      <td>-0.055232</td>\n",
       "      <td>-1.000000</td>\n",
       "      <td>1.000000</td>\n",
       "    </tr>\n",
       "  </tbody>\n",
       "</table>\n",
       "</div>"
      ],
      "text/plain": [
       "                     X         Y      Year      Hour    Minute   Address  \\\n",
       "X             1.000000 -0.424941 -0.028415 -0.015375 -0.015765  0.017870   \n",
       "Y            -0.424941  1.000000 -0.041513  0.003724 -0.013377 -0.047896   \n",
       "Year         -0.028415 -0.041513  1.000000 -0.006327 -0.019751  0.007029   \n",
       "Hour         -0.015375  0.003724 -0.006327  1.000000  0.002779  0.002345   \n",
       "Minute       -0.015765 -0.013377 -0.019751  0.002779  1.000000 -0.022238   \n",
       "Address       0.017870 -0.047896  0.007029  0.002345 -0.022238  1.000000   \n",
       "Intersection -0.110093  0.013730 -0.027507  0.043905 -0.037279  0.055232   \n",
       "Block         0.110093 -0.013730  0.027507 -0.043905  0.037279 -0.055232   \n",
       "\n",
       "              Intersection     Block  \n",
       "X                -0.110093  0.110093  \n",
       "Y                 0.013730 -0.013730  \n",
       "Year             -0.027507  0.027507  \n",
       "Hour              0.043905 -0.043905  \n",
       "Minute           -0.037279  0.037279  \n",
       "Address           0.055232 -0.055232  \n",
       "Intersection      1.000000 -1.000000  \n",
       "Block            -1.000000  1.000000  "
      ]
     },
     "execution_count": 49,
     "metadata": {},
     "output_type": "execute_result"
    }
   ],
   "source": [
    "A=df.corr()\n",
    "A"
   ]
  },
  {
   "cell_type": "markdown",
   "metadata": {
    "_uuid": "d150d962aeac49523127b67caa07b9cd8d66cf7f"
   },
   "source": [
    "# Splitting into test and train\n"
   ]
  },
  {
   "cell_type": "code",
   "execution_count": 101,
   "metadata": {},
   "outputs": [],
   "source": [
    "X=df"
   ]
  },
  {
   "cell_type": "code",
   "execution_count": 102,
   "metadata": {},
   "outputs": [],
   "source": [
    "#splitting the dataset into the training set and test set\n",
    "#from sklearn import model_selection as ms\n",
    "\n",
    "X_train,X_test,y_train,y_test=train_test_split(X,y,test_size=0.33,random_state=0)"
   ]
  },
  {
   "cell_type": "code",
   "execution_count": 103,
   "metadata": {
    "_uuid": "2b03c4b581fb06d0e470ffbf1aaead90cde8e7c7"
   },
   "outputs": [
    {
     "data": {
      "text/html": [
       "<div>\n",
       "<style scoped>\n",
       "    .dataframe tbody tr th:only-of-type {\n",
       "        vertical-align: middle;\n",
       "    }\n",
       "\n",
       "    .dataframe tbody tr th {\n",
       "        vertical-align: top;\n",
       "    }\n",
       "\n",
       "    .dataframe thead th {\n",
       "        text-align: right;\n",
       "    }\n",
       "</style>\n",
       "<table border=\"1\" class=\"dataframe\">\n",
       "  <thead>\n",
       "    <tr style=\"text-align: right;\">\n",
       "      <th></th>\n",
       "      <th>A</th>\n",
       "      <th>B</th>\n",
       "      <th>C</th>\n",
       "      <th>D</th>\n",
       "      <th>E</th>\n",
       "      <th>F</th>\n",
       "      <th>G</th>\n",
       "      <th>H</th>\n",
       "      <th>I</th>\n",
       "      <th>J</th>\n",
       "      <th>K</th>\n",
       "      <th>L</th>\n",
       "      <th>M</th>\n",
       "      <th>N</th>\n",
       "      <th>O</th>\n",
       "      <th>P</th>\n",
       "      <th>Q</th>\n",
       "      <th>R</th>\n",
       "      <th>S</th>\n",
       "      <th>T</th>\n",
       "      <th>U</th>\n",
       "      <th>V</th>\n",
       "      <th>W</th>\n",
       "      <th>X</th>\n",
       "      <th>Y</th>\n",
       "      <th>Z</th>\n",
       "      <th>A1</th>\n",
       "      <th>A2</th>\n",
       "      <th>A3</th>\n",
       "      <th>A4</th>\n",
       "      <th>A5</th>\n",
       "      <th>A6</th>\n",
       "      <th>A7</th>\n",
       "      <th>A8</th>\n",
       "      <th>A9</th>\n",
       "      <th>A10</th>\n",
       "      <th>Year</th>\n",
       "      <th>Hour</th>\n",
       "      <th>Minute</th>\n",
       "      <th>Address</th>\n",
       "      <th>Intersection</th>\n",
       "      <th>Block</th>\n",
       "    </tr>\n",
       "  </thead>\n",
       "  <tbody>\n",
       "    <tr>\n",
       "      <th>91620</th>\n",
       "      <td>17.004791</td>\n",
       "      <td>1.000000</td>\n",
       "      <td>27.536178</td>\n",
       "      <td>12.000000</td>\n",
       "      <td>32.011935</td>\n",
       "      <td>7.138105</td>\n",
       "      <td>19.992037</td>\n",
       "      <td>1.533889</td>\n",
       "      <td>29.006790</td>\n",
       "      <td>13.038405</td>\n",
       "      <td>1.300000e+01</td>\n",
       "      <td>10.496815</td>\n",
       "      <td>25.003698</td>\n",
       "      <td>6.743496e-07</td>\n",
       "      <td>3.014272</td>\n",
       "      <td>26.000000</td>\n",
       "      <td>17.020335</td>\n",
       "      <td>26.019224</td>\n",
       "      <td>12.041595</td>\n",
       "      <td>9.000000</td>\n",
       "      <td>1.000000</td>\n",
       "      <td>5.013188</td>\n",
       "      <td>32.034568</td>\n",
       "      <td>1.589134</td>\n",
       "      <td>14.033258</td>\n",
       "      <td>21.045187</td>\n",
       "      <td>9.008006</td>\n",
       "      <td>28.807920</td>\n",
       "      <td>2.000000</td>\n",
       "      <td>1.000000</td>\n",
       "      <td>2.000000</td>\n",
       "      <td>3.181573</td>\n",
       "      <td>6.002089</td>\n",
       "      <td>14.135694</td>\n",
       "      <td>11.00000</td>\n",
       "      <td>23.820324</td>\n",
       "      <td>10</td>\n",
       "      <td>19</td>\n",
       "      <td>1</td>\n",
       "      <td>19</td>\n",
       "      <td>1</td>\n",
       "      <td>0</td>\n",
       "    </tr>\n",
       "    <tr>\n",
       "      <th>465524</th>\n",
       "      <td>4.004791</td>\n",
       "      <td>12.000000</td>\n",
       "      <td>14.536864</td>\n",
       "      <td>1.000000</td>\n",
       "      <td>19.011935</td>\n",
       "      <td>5.870746</td>\n",
       "      <td>6.993090</td>\n",
       "      <td>14.198365</td>\n",
       "      <td>16.006790</td>\n",
       "      <td>1.000000</td>\n",
       "      <td>2.384186e-07</td>\n",
       "      <td>2.621802</td>\n",
       "      <td>12.007703</td>\n",
       "      <td>1.300000e+01</td>\n",
       "      <td>9.985728</td>\n",
       "      <td>13.000000</td>\n",
       "      <td>4.114310</td>\n",
       "      <td>13.038405</td>\n",
       "      <td>1.414214</td>\n",
       "      <td>4.000000</td>\n",
       "      <td>14.000000</td>\n",
       "      <td>8.008249</td>\n",
       "      <td>19.045228</td>\n",
       "      <td>11.807374</td>\n",
       "      <td>1.033258</td>\n",
       "      <td>8.046476</td>\n",
       "      <td>4.169370</td>\n",
       "      <td>15.822191</td>\n",
       "      <td>11.000000</td>\n",
       "      <td>13.038405</td>\n",
       "      <td>15.000000</td>\n",
       "      <td>10.029645</td>\n",
       "      <td>7.001790</td>\n",
       "      <td>1.486813</td>\n",
       "      <td>2.00000</td>\n",
       "      <td>10.820729</td>\n",
       "      <td>2</td>\n",
       "      <td>23</td>\n",
       "      <td>1</td>\n",
       "      <td>19</td>\n",
       "      <td>0</td>\n",
       "      <td>1</td>\n",
       "    </tr>\n",
       "    <tr>\n",
       "      <th>791676</th>\n",
       "      <td>3.004791</td>\n",
       "      <td>13.000000</td>\n",
       "      <td>13.536971</td>\n",
       "      <td>2.000000</td>\n",
       "      <td>18.011935</td>\n",
       "      <td>6.870039</td>\n",
       "      <td>5.993360</td>\n",
       "      <td>15.196045</td>\n",
       "      <td>15.006790</td>\n",
       "      <td>1.414214</td>\n",
       "      <td>1.000000e+00</td>\n",
       "      <td>3.595410</td>\n",
       "      <td>11.008402</td>\n",
       "      <td>1.400000e+01</td>\n",
       "      <td>10.985728</td>\n",
       "      <td>12.000000</td>\n",
       "      <td>3.153677</td>\n",
       "      <td>12.041595</td>\n",
       "      <td>2.236068</td>\n",
       "      <td>5.000000</td>\n",
       "      <td>15.000000</td>\n",
       "      <td>9.007333</td>\n",
       "      <td>18.046684</td>\n",
       "      <td>12.804061</td>\n",
       "      <td>0.033258</td>\n",
       "      <td>7.046772</td>\n",
       "      <td>5.145774</td>\n",
       "      <td>14.824325</td>\n",
       "      <td>12.000000</td>\n",
       "      <td>14.035669</td>\n",
       "      <td>16.000000</td>\n",
       "      <td>11.025113</td>\n",
       "      <td>8.001567</td>\n",
       "      <td>1.005015</td>\n",
       "      <td>3.00000</td>\n",
       "      <td>9.820805</td>\n",
       "      <td>5</td>\n",
       "      <td>22</td>\n",
       "      <td>1</td>\n",
       "      <td>19</td>\n",
       "      <td>0</td>\n",
       "      <td>1</td>\n",
       "    </tr>\n",
       "    <tr>\n",
       "      <th>24679</th>\n",
       "      <td>1.417605</td>\n",
       "      <td>15.033296</td>\n",
       "      <td>11.562743</td>\n",
       "      <td>4.123106</td>\n",
       "      <td>16.043131</td>\n",
       "      <td>8.898510</td>\n",
       "      <td>4.080877</td>\n",
       "      <td>17.163106</td>\n",
       "      <td>13.045175</td>\n",
       "      <td>3.000000</td>\n",
       "      <td>3.162278e+00</td>\n",
       "      <td>5.534690</td>\n",
       "      <td>9.018030</td>\n",
       "      <td>1.603122e+01</td>\n",
       "      <td>13.024175</td>\n",
       "      <td>10.049876</td>\n",
       "      <td>0.990933</td>\n",
       "      <td>10.000000</td>\n",
       "      <td>4.000000</td>\n",
       "      <td>7.071068</td>\n",
       "      <td>17.029386</td>\n",
       "      <td>11.018406</td>\n",
       "      <td>16.018957</td>\n",
       "      <td>14.764951</td>\n",
       "      <td>2.206371</td>\n",
       "      <td>5.110089</td>\n",
       "      <td>7.047672</td>\n",
       "      <td>12.790558</td>\n",
       "      <td>14.035669</td>\n",
       "      <td>16.000000</td>\n",
       "      <td>18.027756</td>\n",
       "      <td>12.979668</td>\n",
       "      <td>10.035358</td>\n",
       "      <td>1.899722</td>\n",
       "      <td>5.09902</td>\n",
       "      <td>7.868580</td>\n",
       "      <td>2</td>\n",
       "      <td>15</td>\n",
       "      <td>0</td>\n",
       "      <td>19</td>\n",
       "      <td>1</td>\n",
       "      <td>0</td>\n",
       "    </tr>\n",
       "    <tr>\n",
       "      <th>129707</th>\n",
       "      <td>0.004791</td>\n",
       "      <td>16.000000</td>\n",
       "      <td>10.537415</td>\n",
       "      <td>5.000000</td>\n",
       "      <td>15.011935</td>\n",
       "      <td>9.868777</td>\n",
       "      <td>2.995252</td>\n",
       "      <td>18.190613</td>\n",
       "      <td>12.006790</td>\n",
       "      <td>4.123106</td>\n",
       "      <td>4.000000e+00</td>\n",
       "      <td>6.564021</td>\n",
       "      <td>8.011549</td>\n",
       "      <td>1.700000e+01</td>\n",
       "      <td>13.985728</td>\n",
       "      <td>9.000000</td>\n",
       "      <td>1.000041</td>\n",
       "      <td>9.055385</td>\n",
       "      <td>5.099020</td>\n",
       "      <td>8.000000</td>\n",
       "      <td>18.000000</td>\n",
       "      <td>12.005501</td>\n",
       "      <td>15.052211</td>\n",
       "      <td>15.796635</td>\n",
       "      <td>2.966742</td>\n",
       "      <td>4.048537</td>\n",
       "      <td>8.109564</td>\n",
       "      <td>11.832889</td>\n",
       "      <td>15.000000</td>\n",
       "      <td>17.029386</td>\n",
       "      <td>19.000000</td>\n",
       "      <td>14.015389</td>\n",
       "      <td>11.001139</td>\n",
       "      <td>3.067310</td>\n",
       "      <td>6.00000</td>\n",
       "      <td>6.821166</td>\n",
       "      <td>3</td>\n",
       "      <td>20</td>\n",
       "      <td>1</td>\n",
       "      <td>19</td>\n",
       "      <td>1</td>\n",
       "      <td>0</td>\n",
       "    </tr>\n",
       "  </tbody>\n",
       "</table>\n",
       "</div>"
      ],
      "text/plain": [
       "                A          B          C          D          E         F  \\\n",
       "91620   17.004791   1.000000  27.536178  12.000000  32.011935  7.138105   \n",
       "465524   4.004791  12.000000  14.536864   1.000000  19.011935  5.870746   \n",
       "791676   3.004791  13.000000  13.536971   2.000000  18.011935  6.870039   \n",
       "24679    1.417605  15.033296  11.562743   4.123106  16.043131  8.898510   \n",
       "129707   0.004791  16.000000  10.537415   5.000000  15.011935  9.868777   \n",
       "\n",
       "                G          H          I          J             K          L  \\\n",
       "91620   19.992037   1.533889  29.006790  13.038405  1.300000e+01  10.496815   \n",
       "465524   6.993090  14.198365  16.006790   1.000000  2.384186e-07   2.621802   \n",
       "791676   5.993360  15.196045  15.006790   1.414214  1.000000e+00   3.595410   \n",
       "24679    4.080877  17.163106  13.045175   3.000000  3.162278e+00   5.534690   \n",
       "129707   2.995252  18.190613  12.006790   4.123106  4.000000e+00   6.564021   \n",
       "\n",
       "                M             N          O          P          Q          R  \\\n",
       "91620   25.003698  6.743496e-07   3.014272  26.000000  17.020335  26.019224   \n",
       "465524  12.007703  1.300000e+01   9.985728  13.000000   4.114310  13.038405   \n",
       "791676  11.008402  1.400000e+01  10.985728  12.000000   3.153677  12.041595   \n",
       "24679    9.018030  1.603122e+01  13.024175  10.049876   0.990933  10.000000   \n",
       "129707   8.011549  1.700000e+01  13.985728   9.000000   1.000041   9.055385   \n",
       "\n",
       "                S         T          U          V          W          X  \\\n",
       "91620   12.041595  9.000000   1.000000   5.013188  32.034568   1.589134   \n",
       "465524   1.414214  4.000000  14.000000   8.008249  19.045228  11.807374   \n",
       "791676   2.236068  5.000000  15.000000   9.007333  18.046684  12.804061   \n",
       "24679    4.000000  7.071068  17.029386  11.018406  16.018957  14.764951   \n",
       "129707   5.099020  8.000000  18.000000  12.005501  15.052211  15.796635   \n",
       "\n",
       "                Y          Z        A1         A2         A3         A4  \\\n",
       "91620   14.033258  21.045187  9.008006  28.807920   2.000000   1.000000   \n",
       "465524   1.033258   8.046476  4.169370  15.822191  11.000000  13.038405   \n",
       "791676   0.033258   7.046772  5.145774  14.824325  12.000000  14.035669   \n",
       "24679    2.206371   5.110089  7.047672  12.790558  14.035669  16.000000   \n",
       "129707   2.966742   4.048537  8.109564  11.832889  15.000000  17.029386   \n",
       "\n",
       "               A5         A6         A7         A8        A9        A10  Year  \\\n",
       "91620    2.000000   3.181573   6.002089  14.135694  11.00000  23.820324    10   \n",
       "465524  15.000000  10.029645   7.001790   1.486813   2.00000  10.820729     2   \n",
       "791676  16.000000  11.025113   8.001567   1.005015   3.00000   9.820805     5   \n",
       "24679   18.027756  12.979668  10.035358   1.899722   5.09902   7.868580     2   \n",
       "129707  19.000000  14.015389  11.001139   3.067310   6.00000   6.821166     3   \n",
       "\n",
       "        Hour  Minute  Address  Intersection  Block  \n",
       "91620     19       1       19             1      0  \n",
       "465524    23       1       19             0      1  \n",
       "791676    22       1       19             0      1  \n",
       "24679     15       0       19             1      0  \n",
       "129707    20       1       19             1      0  "
      ]
     },
     "execution_count": 103,
     "metadata": {},
     "output_type": "execute_result"
    }
   ],
   "source": [
    "X_train.head()"
   ]
  },
  {
   "cell_type": "markdown",
   "metadata": {
    "_uuid": "959aa7f22849e049dffba3d83b85f92886cb66a0"
   },
   "source": [
    "# XGBoost "
   ]
  },
  {
   "cell_type": "code",
   "execution_count": 53,
   "metadata": {},
   "outputs": [],
   "source": [
    "model = xgb.XGBClassifier(objective='multi:softprob')\n"
   ]
  },
  {
   "cell_type": "markdown",
   "metadata": {},
   "source": [
    "# LightGBM"
   ]
  },
  {
   "cell_type": "code",
   "execution_count": 104,
   "metadata": {},
   "outputs": [],
   "source": [
    "import lightgbm as lgb\n",
    "\n",
    "model= lgb.LGBMClassifier(objective='multiclass')"
   ]
  },
  {
   "cell_type": "code",
   "execution_count": 209,
   "metadata": {},
   "outputs": [],
   "source": [
    "from sklearn.neighbors import KNeighborsClassifier\n",
    "model = KNeighborsClassifier(n_neighbors =36,weights='distance',algorithm='ball_tree',n_jobs=-1,p=1, metric = 'minkowski',leaf_size=60)"
   ]
  },
  {
   "cell_type": "code",
   "execution_count": 210,
   "metadata": {},
   "outputs": [],
   "source": [
    "from sklearn.ensemble import RandomForestClassifier\n",
    "model= RandomForestClassifier(n_estimators =20,criterion = 'entropy',random_state = 0)"
   ]
  },
  {
   "cell_type": "code",
   "execution_count": 100,
   "metadata": {},
   "outputs": [],
   "source": [
    "from sklearn.naive_bayes import GaussianNB\n",
    "nv = GaussianNB()"
   ]
  },
  {
   "cell_type": "markdown",
   "metadata": {},
   "source": [
    "# LogLoss\n"
   ]
  },
  {
   "cell_type": "code",
   "execution_count": 105,
   "metadata": {},
   "outputs": [
    {
     "name": "stderr",
     "output_type": "stream",
     "text": [
      "C:\\anaconda\\lib\\site-packages\\sklearn\\preprocessing\\label.py:219: DataConversionWarning: A column-vector y was passed when a 1d array was expected. Please change the shape of y to (n_samples, ), for example using ravel().\n",
      "  y = column_or_1d(y, warn=True)\n",
      "C:\\anaconda\\lib\\site-packages\\sklearn\\preprocessing\\label.py:252: DataConversionWarning: A column-vector y was passed when a 1d array was expected. Please change the shape of y to (n_samples, ), for example using ravel().\n",
      "  y = column_or_1d(y, warn=True)\n"
     ]
    }
   ],
   "source": [
    "model.fit(X_train, y_train)\n",
    "y_pred=model.predict_proba(df_test)\n",
    "#print (log_loss(y_test,y_pred));"
   ]
  },
  {
   "cell_type": "code",
   "execution_count": 106,
   "metadata": {},
   "outputs": [],
   "source": [
    "temp = data['Category']\n",
    "\n",
    "le.fit_transform(temp)\n",
    "le.classes_\n",
    "y_pred= pd.DataFrame(y_pred, index=Id_test,columns  = le.classes_)\n",
    "y_pred.to_csv(\"submit.csv\", float_format = '%.5F')\n"
   ]
  },
  {
   "cell_type": "code",
   "execution_count": 107,
   "metadata": {},
   "outputs": [],
   "source": [
    "# import statements\n",
    "from sklearn.datasets import make_blobs\n",
    "\n",
    "# create blobs\n",
    "data = make_blobs(n_samples=200, n_features=2, centers=4, cluster_std=1.6, random_state=50)\n",
    "# create np array for data points\n"
   ]
  },
  {
   "cell_type": "code",
   "execution_count": 60,
   "metadata": {},
   "outputs": [
    {
     "data": {
      "text/plain": [
       "<matplotlib.collections.PathCollection at 0x260496d8080>"
      ]
     },
     "execution_count": 60,
     "metadata": {},
     "output_type": "execute_result"
    },
    {
     "data": {
      "image/png": "[encoded data removed]",
      "text/plain": [
       "<Figure size 432x288 with 1 Axes>"
      ]
     },
     "metadata": {
      "needs_background": "light"
     },
     "output_type": "display_data"
    }
   ],
   "source": [
    "#points = df[]\n",
    "# create scatter plot\n",
    "plt.scatter(df['X'], df['Y'], cmap='viridis')\n",
    "#plt.xlim(-15,15)\n",
    "x#plt.ylim(-15,15)"
   ]
  }
 ],
 "metadata": {
  "kernelspec": {
   "display_name": "Python 3",
   "language": "python",
   "name": "python3"
  },
  "language_info": {
   "codemirror_mode": {
    "name": "ipython",
    "version": 3
   },
   "file_extension": ".py",
   "mimetype": "text/x-python",
   "name": "python",
   "nbconvert_exporter": "python",
   "pygments_lexer": "ipython3",
   "version": "3.6.6"
  }
 },
 "nbformat": 4,
 "nbformat_minor": 1
}
