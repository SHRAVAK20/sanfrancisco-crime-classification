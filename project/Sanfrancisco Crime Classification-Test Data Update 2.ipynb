{
 "cells": [
  {
   "cell_type": "code",
   "execution_count": 1,
   "metadata": {},
   "outputs": [],
   "source": [
    "%matplotlib inline\n",
    "\n",
    "import warnings\n",
    "warnings.filterwarnings('ignore')\n",
    "warnings.filterwarnings('ignore', category=DeprecationWarning)\n",
    "\n",
    "import pandas as pd\n",
    "pd.options.display.max_columns = 100\n",
    "\n",
    "from matplotlib import pyplot as plt\n",
    "import numpy as np\n",
    "\n",
    "import seaborn as sns\n",
    "sns.set(rc={'figure.figsize':(12,9)})\n",
    "import pylab as plot\n",
    "from sklearn import preprocessing\n",
    "from sklearn.model_selection import train_test_split\n",
    "from sklearn.metrics import log_loss,accuracy_score"
   ]
  },
  {
   "cell_type": "code",
   "execution_count": 2,
   "metadata": {},
   "outputs": [],
   "source": [
    "from xgboost import XGBClassifier\n",
    "import xgboost as xgb"
   ]
  },
  {
   "cell_type": "code",
   "execution_count": 3,
   "metadata": {},
   "outputs": [],
   "source": [
    "#for scaling\n",
    "from sklearn.preprocessing import StandardScaler"
   ]
  },
  {
   "cell_type": "markdown",
   "metadata": {},
   "source": [
    "Importing training dataset"
   ]
  },
  {
   "cell_type": "code",
   "execution_count": 4,
   "metadata": {},
   "outputs": [],
   "source": [
    "data = pd.read_csv('./train.csv')\n",
    "test = pd.read_csv('./test.csv')"
   ]
  },
  {
   "cell_type": "code",
   "execution_count": 5,
   "metadata": {},
   "outputs": [
    {
     "name": "stdout",
     "output_type": "stream",
     "text": [
      "(867873, 10)\n"
     ]
    }
   ],
   "source": [
    "print(data.shape)"
   ]
  },
  {
   "cell_type": "code",
   "execution_count": 6,
   "metadata": {},
   "outputs": [
    {
     "data": {
      "text/plain": [
       "Index(['Dates', 'Category', 'Descript', 'DayOfWeek', 'PdDistrict',\n",
       "       'Resolution', 'Address', 'X', 'Y', 'Id'],\n",
       "      dtype='object')"
      ]
     },
     "execution_count": 6,
     "metadata": {},
     "output_type": "execute_result"
    }
   ],
   "source": [
    "data.columns"
   ]
  },
  {
   "cell_type": "markdown",
   "metadata": {},
   "source": [
    "Splitting the \"Dates\" into date and time"
   ]
  },
  {
   "cell_type": "code",
   "execution_count": 7,
   "metadata": {},
   "outputs": [],
   "source": [
    "df=data\n",
    "datetime=df.Dates.str.split(pat=\" \",expand=True)\n",
    "datetime.columns=['Date','Time']\n",
    "#datetime\n",
    "\n",
    "#------------test data-------------\n",
    "\n",
    "df_test=test\n",
    "datetime_test=df_test.Dates.str.split(pat=\" \",expand=True)\n",
    "datetime_test.columns=['Date','Time']"
   ]
  },
  {
   "cell_type": "code",
   "execution_count": 8,
   "metadata": {},
   "outputs": [],
   "source": [
    "Date=datetime.Date.str.split(pat=\"-\",expand=True)\n",
    "Date.columns=['Year','Month','Day']\n",
    "\n",
    "Time=datetime.Time.str.split(pat=\":\",expand=True)\n",
    "Time.columns=['Hour','Minute','Second']\n",
    "\n",
    "#------------test data-------------\n",
    "\n",
    "Date_test=datetime_test.Date.str.split(pat=\"-\",expand=True)\n",
    "Date_test.columns=['Year','Month','Day']\n",
    "\n",
    "Time_test=datetime_test.Time.str.split(pat=\":\",expand=True)\n",
    "Time_test.columns=['Hour','Minute','Second']"
   ]
  },
  {
   "cell_type": "markdown",
   "metadata": {},
   "source": [
    "Dropping the column of \"Dates\" and appending the dataframe \"datetime\""
   ]
  },
  {
   "cell_type": "code",
   "execution_count": 9,
   "metadata": {},
   "outputs": [],
   "source": [
    "df=pd.concat([df,Date,Time],axis=1)\n",
    "#df\n",
    "\n",
    "#-----------test data------------------\n",
    "\n",
    "df_test=pd.concat([df_test,Date_test,Time_test],axis=1)\n"
   ]
  },
  {
   "cell_type": "code",
   "execution_count": 10,
   "metadata": {},
   "outputs": [],
   "source": [
    "df=df.drop(labels=['Dates'],axis=1)\n",
    "\n",
    "#-----------test data------------------\n",
    "\n",
    "df_test=df_test.drop(labels=['Dates'],axis=1)\n"
   ]
  },
  {
   "cell_type": "markdown",
   "metadata": {},
   "source": [
    "# #Encoding"
   ]
  },
  {
   "cell_type": "code",
   "execution_count": 11,
   "metadata": {},
   "outputs": [
    {
     "data": {
      "text/plain": [
       "Index(['Category', 'Descript', 'DayOfWeek', 'PdDistrict', 'Resolution',\n",
       "       'Address', 'X', 'Y', 'Id', 'Year', 'Month', 'Day', 'Hour', 'Minute',\n",
       "       'Second'],\n",
       "      dtype='object')"
      ]
     },
     "execution_count": 11,
     "metadata": {},
     "output_type": "execute_result"
    }
   ],
   "source": [
    "df.columns"
   ]
  },
  {
   "cell_type": "markdown",
   "metadata": {},
   "source": [
    "LabelEncoding of \"DayOfWeek\" and \"PdDistrict\""
   ]
  },
  {
   "cell_type": "code",
   "execution_count": 12,
   "metadata": {},
   "outputs": [],
   "source": [
    "le = preprocessing.LabelEncoder()"
   ]
  },
  {
   "cell_type": "code",
   "execution_count": 13,
   "metadata": {},
   "outputs": [],
   "source": [
    "#y=pd.get_dummies(df.Category,columns=['Category'],prefix=\" \",prefix_sep=\" \",drop_first=True,)\n",
    "\n",
    "le_res=le.fit_transform(df['Category'])\n",
    "y=pd.DataFrame(le_res)\n",
    "y.columns=['Category']\n",
    "#y"
   ]
  },
  {
   "cell_type": "markdown",
   "metadata": {},
   "source": [
    "# Rotation 45 degree "
   ]
  },
  {
   "cell_type": "code",
   "execution_count": 14,
   "metadata": {},
   "outputs": [],
   "source": [
    "df['Y']=df['Y'].apply(lambda x : x if 37.82 > x else 37.82)\n",
    "df['X']=df['X'].apply(lambda x : x if -122.3 > x else 122.3)\n",
    "\n",
    "#--------test data--------------\n",
    "\n",
    "df_test['Y']=df_test['Y'].apply(lambda x : x if 37.82 > x else 37.82)\n",
    "df_test['X']=df_test['X'].apply(lambda x : x if -122.3 > x else 122.3)"
   ]
  },
  {
   "cell_type": "code",
   "execution_count": 15,
   "metadata": {},
   "outputs": [],
   "source": [
    "df[\"rot45_X\"]=0.707 * df[\"Y\"] + 0.707 * df[\"X\"]\n",
    "df[\"rot45_Y\"]=0.707 * df[\"Y\"] - 0.707 * df[\"X\"]\n",
    "\n",
    "#----------test data------------\n",
    "\n",
    "df_test[\"rot45_X\"]=0.707 * df_test[\"Y\"] + 0.707 * df_test[\"X\"]\n",
    "df_test[\"rot45_Y\"]=0.707 * df_test[\"Y\"] - 0.707 * df_test[\"X\"]"
   ]
  },
  {
   "cell_type": "code",
   "execution_count": 16,
   "metadata": {},
   "outputs": [],
   "source": [
    "df[\"radial45\"]=np.sqrt(np.power(df['rot45_X'],2) + np.power(df['rot45_Y'],2))\n",
    "\n",
    "#-----------test data------------\n",
    "\n",
    "df_test[\"radial45\"]=np.sqrt(np.power(df_test['rot45_X'],2) + np.power(df_test['rot45_Y'],2))"
   ]
  },
  {
   "cell_type": "markdown",
   "metadata": {},
   "source": [
    "# Rotation 30 degree"
   ]
  },
  {
   "cell_type": "code",
   "execution_count": 17,
   "metadata": {},
   "outputs": [],
   "source": [
    "df[\"rot30_X\"]=(1.732/2) * df[\"Y\"] + 0.5 * df[\"X\"]\n",
    "df[\"rot30_Y\"]=(1.732/2) * df[\"Y\"] - 0.5 * df[\"X\"]\n",
    "\n",
    "df_test[\"rot30_X\"]=(1.732/2) * df_test[\"Y\"] + 0.5 * df_test[\"X\"]\n",
    "df_test[\"rot30_Y\"]=(1.732/2) * df_test[\"Y\"] - 0.5 * df_test[\"X\"]"
   ]
  },
  {
   "cell_type": "code",
   "execution_count": 18,
   "metadata": {},
   "outputs": [],
   "source": [
    "df[\"radial30\"]=np.sqrt(np.power(df['rot30_X'],2) + np.power(df['rot30_Y'],2))\n",
    "\n",
    "df_test[\"radial30\"]=np.sqrt(np.power(df_test['rot30_X'],2) + np.power(df_test['rot30_Y'],2))"
   ]
  },
  {
   "cell_type": "markdown",
   "metadata": {},
   "source": [
    "# Rotation 60 degree"
   ]
  },
  {
   "cell_type": "code",
   "execution_count": 19,
   "metadata": {},
   "outputs": [],
   "source": [
    "df[\"rot60_X\"]=(0.5) * df[\"Y\"] + (1.732/2) * df[\"X\"]\n",
    "df[\"rot60_Y\"]=0.5 * df[\"Y\"] - (1.732/2) * df[\"X\"]\n",
    "\n",
    "df_test[\"rot60_X\"]=(0.5) * df_test[\"Y\"] + (1.732/2) * df_test[\"X\"]\n",
    "df_test[\"rot60_Y\"]=0.5 * df_test[\"Y\"] - (1.732/2) * df_test[\"X\"]"
   ]
  },
  {
   "cell_type": "code",
   "execution_count": 20,
   "metadata": {},
   "outputs": [],
   "source": [
    "df[\"radial60\"]=np.sqrt(np.power(df['rot60_X'],2) + np.power(df['rot60_Y'],2))\n",
    "\n",
    "df_test[\"radial60\"]=np.sqrt(np.power(df_test['rot60_X'],2) + np.power(df_test['rot60_Y'],2))"
   ]
  },
  {
   "cell_type": "markdown",
   "metadata": {},
   "source": [
    "# Hours clubbing"
   ]
  },
  {
   "cell_type": "code",
   "execution_count": 21,
   "metadata": {},
   "outputs": [],
   "source": [
    "df['Hour']=df['Hour'].apply(lambda x:int(x))\n",
    "#df['Hour']=df['Hour'].apply(lambda x : 'EARLY_Morning' if (x >= 1) and (x <=5) else ('MORNING' if x >= 6 and x <=11 else ('DAY' if x>=12 and x<=18 else 'Night')))\n",
    "df['Hour']=df['Hour'].apply(lambda x : 'EARLY_MORNING' if x in (1,2,3,4,5) else ('MORNING' if x in (6,7,8,9,10,11) else ('DAY' if x in (12,13,14,15,16,17,18) else 'NIGHT')))\n",
    "\n",
    "df_test['Hour']=df_test['Hour'].apply(lambda x:int(x))\n",
    "#df['Hour']=df['Hour'].apply(lambda x : 'EARLY_Morning' if (x >= 1) and (x <=5) else ('MORNING' if x >= 6 and x <=11 else ('DAY' if x>=12 and x<=18 else 'Night')))\n",
    "df_test['Hour']=df_test['Hour'].apply(lambda x : 'EARLY_MORNING' if x in (1,2,3,4,5) else ('MORNING' if x in (6,7,8,9,10,11) else ('DAY' if x in (12,13,14,15,16,17,18) else 'NIGHT')))"
   ]
  },
  {
   "cell_type": "markdown",
   "metadata": {},
   "source": [
    "# Month Clubbing"
   ]
  },
  {
   "cell_type": "code",
   "execution_count": 22,
   "metadata": {},
   "outputs": [],
   "source": [
    "df['Month']=df['Month'].apply(lambda x:int(x))\n",
    "#df['Month']=df['Month'].apply(lambda x : 'MonthLow' if x== 12 else ('MonthMed' if x in (2,6,7,8,9,11) else 'MonthHigh'))\n",
    "df['Month']=df['Month'].apply(lambda x : 'Winter' if x in (11,12,1,2) else ('Spring' if x in (3,4,5) else('Summer' if x in (6,7,8) else('Fall'))))\n",
    "\n",
    "df_test['Month']=df_test['Month'].apply(lambda x:int(x))\n",
    "#df['Month']=df['Month'].apply(lambda x : 'MonthLow' if x== 12 else ('MonthMed' if x in (2,6,7,8,9,11) else 'MonthHigh'))\n",
    "df_test['Month']=df_test['Month'].apply(lambda x : 'Winter' if x in (11,12,1,2) else ('Spring' if x in (3,4,5) else('Summer' if x in (6,7,8) else('Fall'))))"
   ]
  },
  {
   "cell_type": "markdown",
   "metadata": {},
   "source": [
    "# Minute Clubbing"
   ]
  },
  {
   "cell_type": "code",
   "execution_count": 23,
   "metadata": {},
   "outputs": [],
   "source": [
    "df['Minute']=df['Minute'].apply(lambda x:int(x))\n",
    "df['Minute']=df['Minute'].apply(lambda x : 'low' if x <31 else 'high')\n",
    "\n",
    "df_test['Minute']=df_test['Minute'].apply(lambda x:int(x))\n",
    "df_test['Minute']=df_test['Minute'].apply(lambda x : 'low' if x <31 else 'high')"
   ]
  },
  {
   "cell_type": "markdown",
   "metadata": {},
   "source": [
    "# DayOfWeek"
   ]
  },
  {
   "cell_type": "code",
   "execution_count": 24,
   "metadata": {},
   "outputs": [],
   "source": [
    "df['DayOfWeek']= df['DayOfWeek'].apply(lambda x : 'WeekHigh' if x in (3,5) else ('WeekMed' if x in (2,4,6) else 'WeekLow'))\n",
    "\n",
    "df_test['DayOfWeek']= df_test['DayOfWeek'].apply(lambda x : 'WeekHigh' if x in (3,5) else ('WeekMed' if x in (2,4,6) else 'WeekLow'))\n"
   ]
  },
  {
   "cell_type": "markdown",
   "metadata": {},
   "source": [
    "# Address Update"
   ]
  },
  {
   "cell_type": "code",
   "execution_count": 25,
   "metadata": {},
   "outputs": [],
   "source": [
    "df['Intersection']=df['Address'].apply(lambda x : 1 if '/' in x else 0)\n",
    "df['Block']=df['Address'].apply(lambda x : 1 if 'Block' in x else 0)\n",
    "#df['StreetSuffix']=df['Address'].apply(lambda x : x.split(' ')[-1] if len(x.split(' ')[-1])==2 else 0) \n",
    "\n",
    "df_test['Intersection']=df_test['Address'].apply(lambda x : 1 if '/' in x else 0)\n",
    "df_test['Block']=df_test['Address'].apply(lambda x : 1 if 'Block' in x else 0)\n",
    "#df['StreetSuffix']=df['Address'].apply(lambda x : x.split(' ')[-1] if len(x.split(' ')[-1])==2 else 0) "
   ]
  },
  {
   "cell_type": "markdown",
   "metadata": {},
   "source": [
    "# Address splitting"
   ]
  },
  {
   "cell_type": "code",
   "execution_count": 26,
   "metadata": {},
   "outputs": [],
   "source": [
    "address=pd.DataFrame(df['Address'],columns=['Address'])\n",
    "address=address.Address.str.split(pat=\" /\",expand=True )\n",
    "\n",
    "address.columns=['Address','Intr2']\n",
    "\n",
    "address=address.Address.str.split(pat=\" /\",expand=True )\n",
    "address.columns=['Address']\n",
    "\n",
    "#----------test data----------\n",
    "\n",
    "address_test=pd.DataFrame(df_test['Address'],columns=['Address'])\n",
    "address_test=address_test.Address.str.split(pat=\" /\",expand=True )\n",
    "\n",
    "address_test.columns=['Address','Intr2']\n",
    "\n",
    "address_test=address_test.Address.str.split(pat=\" /\",expand=True )\n",
    "address_test.columns=['Address']\n"
   ]
  },
  {
   "cell_type": "code",
   "execution_count": 27,
   "metadata": {},
   "outputs": [],
   "source": [
    "string=address.iloc[:,0]\n",
    "string=string.str.strip()\n",
    "\n",
    "#----------test data----------\n",
    "\n",
    "string_test=address_test.iloc[:,0]\n",
    "string_test=string_test.str.strip()"
   ]
  },
  {
   "cell_type": "code",
   "execution_count": 28,
   "metadata": {},
   "outputs": [],
   "source": [
    "address_fram=string.to_frame()\n",
    "temp=address_fram['Address'].astype(str).str[-2:]\n",
    "\n",
    "#----------test data----------\n",
    "address_fram_test=string_test.to_frame()\n",
    "temp_test=address_fram_test['Address'].astype(str).str[-2:]"
   ]
  },
  {
   "cell_type": "code",
   "execution_count": 29,
   "metadata": {},
   "outputs": [],
   "source": [
    "address=temp.to_frame()\n",
    "\n",
    "#----------test data----------\n",
    "\n",
    "address_test=temp_test.to_frame()"
   ]
  },
  {
   "cell_type": "code",
   "execution_count": 30,
   "metadata": {},
   "outputs": [],
   "source": [
    "address['Address']=address['Address'].apply(lambda x :( x if x in (\"ST\",\"AV\",\"LN\",\"DR\",\"BL\",\"HY\",\"CT\",\"RD\",\"PL\",\"PZ\",\"TR\",\"AL\",\"CR\",\"WK\",\"EX\",\"RW\") else ((\"I-80\" if x in (\"80\") else (\"HWY\" if x in (\"WY\") else (\"WAY\" if x in (\"AY\") else (\"TER\" if x in (\"ER\") else (\"ALMS\" if x in (\"MS\") else (\"MAR\" if x in (\"AR\") else (\"PARK\" if x in (\"RK\") else (\"STWY\" if x in (\"WY\") else (\"VIA\" if x in (\"NO\") else (\"BLOCK\")))))))))))))\n",
    "#----------test data----------\n",
    "address_test['Address']=address_test['Address'].apply(lambda x :( x if x in (\"ST\",\"AV\",\"LN\",\"DR\",\"BL\",\"HY\",\"CT\",\"RD\",\"PL\",\"PZ\",\"TR\",\"AL\",\"CR\",\"WK\",\"EX\",\"RW\") else ((\"I-80\" if x in (\"80\") else (\"HWY\" if x in (\"WY\") else (\"WAY\" if x in (\"AY\") else (\"TER\" if x in (\"ER\") else (\"ALMS\" if x in (\"MS\") else (\"MAR\" if x in (\"AR\") else (\"PARK\" if x in (\"RK\") else (\"STWY\" if x in (\"WY\") else (\"VIA\" if x in (\"NO\") else (\"BLOCK\")))))))))))))"
   ]
  },
  {
   "cell_type": "code",
   "execution_count": 31,
   "metadata": {},
   "outputs": [],
   "source": [
    "df=df.drop(labels=['Address'],axis=1)\n",
    "#----------test data----------\n",
    "df_test=df_test.drop(labels=['Address'],axis=1)"
   ]
  },
  {
   "cell_type": "code",
   "execution_count": 32,
   "metadata": {},
   "outputs": [],
   "source": [
    "df=pd.concat([address,df],axis=1)\n",
    "#----------test data----------\n",
    "df_test=pd.concat([address_test,df_test],axis=1)"
   ]
  },
  {
   "cell_type": "code",
   "execution_count": 33,
   "metadata": {},
   "outputs": [],
   "source": [
    "Id=df['Id']\n",
    "df=df.drop(['Descript','Category','Resolution','Id','Second'],axis=1)\n",
    "\n",
    "#----------test data---------\n",
    "\n",
    "Id_test=df_test['Id']\n",
    "df_test=df_test.drop(['Descript','Resolution','Id','Second'],axis=1)"
   ]
  },
  {
   "cell_type": "code",
   "execution_count": 34,
   "metadata": {},
   "outputs": [
    {
     "data": {
      "text/html": [
       "<div>\n",
       "<style scoped>\n",
       "    .dataframe tbody tr th:only-of-type {\n",
       "        vertical-align: middle;\n",
       "    }\n",
       "\n",
       "    .dataframe tbody tr th {\n",
       "        vertical-align: top;\n",
       "    }\n",
       "\n",
       "    .dataframe thead th {\n",
       "        text-align: right;\n",
       "    }\n",
       "</style>\n",
       "<table border=\"1\" class=\"dataframe\">\n",
       "  <thead>\n",
       "    <tr style=\"text-align: right;\">\n",
       "      <th></th>\n",
       "      <th>Address</th>\n",
       "      <th>DayOfWeek</th>\n",
       "      <th>PdDistrict</th>\n",
       "      <th>X</th>\n",
       "      <th>Y</th>\n",
       "      <th>Year</th>\n",
       "      <th>Month</th>\n",
       "      <th>Day</th>\n",
       "      <th>Hour</th>\n",
       "      <th>Minute</th>\n",
       "      <th>rot45_X</th>\n",
       "      <th>rot45_Y</th>\n",
       "      <th>radial45</th>\n",
       "      <th>rot30_X</th>\n",
       "      <th>rot30_Y</th>\n",
       "      <th>radial30</th>\n",
       "      <th>rot60_X</th>\n",
       "      <th>rot60_Y</th>\n",
       "      <th>radial60</th>\n",
       "      <th>Intersection</th>\n",
       "      <th>Block</th>\n",
       "    </tr>\n",
       "  </thead>\n",
       "  <tbody>\n",
       "    <tr>\n",
       "      <th>0</th>\n",
       "      <td>ST</td>\n",
       "      <td>WeekLow</td>\n",
       "      <td>TENDERLOIN</td>\n",
       "      <td>-122.407878</td>\n",
       "      <td>37.785968</td>\n",
       "      <td>2010</td>\n",
       "      <td>Summer</td>\n",
       "      <td>04</td>\n",
       "      <td>NIGHT</td>\n",
       "      <td>low</td>\n",
       "      <td>-59.827690</td>\n",
       "      <td>113.257049</td>\n",
       "      <td>128.087906</td>\n",
       "      <td>-28.481291</td>\n",
       "      <td>93.926587</td>\n",
       "      <td>98.149823</td>\n",
       "      <td>-87.112238</td>\n",
       "      <td>124.898206</td>\n",
       "      <td>152.276406</td>\n",
       "      <td>0</td>\n",
       "      <td>1</td>\n",
       "    </tr>\n",
       "    <tr>\n",
       "      <th>1</th>\n",
       "      <td>BL</td>\n",
       "      <td>WeekLow</td>\n",
       "      <td>PARK</td>\n",
       "      <td>-122.443597</td>\n",
       "      <td>37.782644</td>\n",
       "      <td>2004</td>\n",
       "      <td>Summer</td>\n",
       "      <td>26</td>\n",
       "      <td>NIGHT</td>\n",
       "      <td>high</td>\n",
       "      <td>-59.855294</td>\n",
       "      <td>113.279952</td>\n",
       "      <td>128.121051</td>\n",
       "      <td>-28.502029</td>\n",
       "      <td>93.941568</td>\n",
       "      <td>98.170178</td>\n",
       "      <td>-87.144833</td>\n",
       "      <td>124.927477</td>\n",
       "      <td>152.319061</td>\n",
       "      <td>0</td>\n",
       "      <td>1</td>\n",
       "    </tr>\n",
       "    <tr>\n",
       "      <th>2</th>\n",
       "      <td>ST</td>\n",
       "      <td>WeekLow</td>\n",
       "      <td>SOUTHERN</td>\n",
       "      <td>-122.400474</td>\n",
       "      <td>37.785029</td>\n",
       "      <td>2013</td>\n",
       "      <td>Winter</td>\n",
       "      <td>09</td>\n",
       "      <td>NIGHT</td>\n",
       "      <td>low</td>\n",
       "      <td>-59.823119</td>\n",
       "      <td>113.251150</td>\n",
       "      <td>128.080555</td>\n",
       "      <td>-28.478402</td>\n",
       "      <td>93.922072</td>\n",
       "      <td>98.144663</td>\n",
       "      <td>-87.106296</td>\n",
       "      <td>124.891325</td>\n",
       "      <td>152.267363</td>\n",
       "      <td>1</td>\n",
       "      <td>0</td>\n",
       "    </tr>\n",
       "    <tr>\n",
       "      <th>3</th>\n",
       "      <td>AV</td>\n",
       "      <td>WeekLow</td>\n",
       "      <td>NORTHERN</td>\n",
       "      <td>-122.419698</td>\n",
       "      <td>37.777301</td>\n",
       "      <td>2006</td>\n",
       "      <td>Winter</td>\n",
       "      <td>03</td>\n",
       "      <td>NIGHT</td>\n",
       "      <td>low</td>\n",
       "      <td>-59.842175</td>\n",
       "      <td>113.259278</td>\n",
       "      <td>128.096643</td>\n",
       "      <td>-28.494706</td>\n",
       "      <td>93.924991</td>\n",
       "      <td>98.152190</td>\n",
       "      <td>-87.126808</td>\n",
       "      <td>124.904109</td>\n",
       "      <td>152.289583</td>\n",
       "      <td>1</td>\n",
       "      <td>0</td>\n",
       "    </tr>\n",
       "    <tr>\n",
       "      <th>4</th>\n",
       "      <td>ST</td>\n",
       "      <td>WeekLow</td>\n",
       "      <td>PARK</td>\n",
       "      <td>-122.451488</td>\n",
       "      <td>37.767516</td>\n",
       "      <td>2014</td>\n",
       "      <td>Fall</td>\n",
       "      <td>21</td>\n",
       "      <td>MORNING</td>\n",
       "      <td>high</td>\n",
       "      <td>-59.871568</td>\n",
       "      <td>113.274836</td>\n",
       "      <td>128.124131</td>\n",
       "      <td>-28.519075</td>\n",
       "      <td>93.932413</td>\n",
       "      <td>98.166368</td>\n",
       "      <td>-87.159230</td>\n",
       "      <td>124.926746</td>\n",
       "      <td>152.326699</td>\n",
       "      <td>1</td>\n",
       "      <td>0</td>\n",
       "    </tr>\n",
       "  </tbody>\n",
       "</table>\n",
       "</div>"
      ],
      "text/plain": [
       "  Address DayOfWeek  PdDistrict           X          Y  Year   Month Day  \\\n",
       "0      ST   WeekLow  TENDERLOIN -122.407878  37.785968  2010  Summer  04   \n",
       "1      BL   WeekLow        PARK -122.443597  37.782644  2004  Summer  26   \n",
       "2      ST   WeekLow    SOUTHERN -122.400474  37.785029  2013  Winter  09   \n",
       "3      AV   WeekLow    NORTHERN -122.419698  37.777301  2006  Winter  03   \n",
       "4      ST   WeekLow        PARK -122.451488  37.767516  2014    Fall  21   \n",
       "\n",
       "      Hour Minute    rot45_X     rot45_Y    radial45    rot30_X    rot30_Y  \\\n",
       "0    NIGHT    low -59.827690  113.257049  128.087906 -28.481291  93.926587   \n",
       "1    NIGHT   high -59.855294  113.279952  128.121051 -28.502029  93.941568   \n",
       "2    NIGHT    low -59.823119  113.251150  128.080555 -28.478402  93.922072   \n",
       "3    NIGHT    low -59.842175  113.259278  128.096643 -28.494706  93.924991   \n",
       "4  MORNING   high -59.871568  113.274836  128.124131 -28.519075  93.932413   \n",
       "\n",
       "    radial30    rot60_X     rot60_Y    radial60  Intersection  Block  \n",
       "0  98.149823 -87.112238  124.898206  152.276406             0      1  \n",
       "1  98.170178 -87.144833  124.927477  152.319061             0      1  \n",
       "2  98.144663 -87.106296  124.891325  152.267363             1      0  \n",
       "3  98.152190 -87.126808  124.904109  152.289583             1      0  \n",
       "4  98.166368 -87.159230  124.926746  152.326699             1      0  "
      ]
     },
     "execution_count": 34,
     "metadata": {},
     "output_type": "execute_result"
    }
   ],
   "source": [
    "df_test.head()"
   ]
  },
  {
   "cell_type": "code",
   "execution_count": 35,
   "metadata": {},
   "outputs": [
    {
     "data": {
      "text/plain": [
       "array(['MISSION', 'SOUTHERN', 'BAYVIEW', 'CENTRAL', 'INGLESIDE',\n",
       "       'NORTHERN', 'RICHMOND', 'TARAVAL', 'TENDERLOIN', 'PARK'],\n",
       "      dtype=object)"
      ]
     },
     "execution_count": 35,
     "metadata": {},
     "output_type": "execute_result"
    }
   ],
   "source": [
    "data['PdDistrict'].unique()"
   ]
  },
  {
   "cell_type": "markdown",
   "metadata": {},
   "source": [
    "# Label Encoding"
   ]
  },
  {
   "cell_type": "code",
   "execution_count": 36,
   "metadata": {},
   "outputs": [],
   "source": [
    "le = preprocessing.LabelEncoder()"
   ]
  },
  {
   "cell_type": "markdown",
   "metadata": {},
   "source": [
    "Label Encoding :DayOfWeek"
   ]
  },
  {
   "cell_type": "code",
   "execution_count": 37,
   "metadata": {},
   "outputs": [
    {
     "data": {
      "text/plain": [
       "\"\\n#le = preprocessing.LabelEncoder()\\nle_res=le.fit_transform(df['DayOfWeek'])\\nDay=pd.DataFrame(le_res)\\nDay.columns=['DayOfWeek']\\ndf=df.drop(labels=['DayOfWeek'],axis=1)\\ndf=pd.concat([Day,df],axis=1)\\n\\n#----------test data----------\\n\\nle_res_test=le.fit_transform(df_test['DayOfWeek'])\\nDay_test=pd.DataFrame(le_res_test)\\nDay_test.columns=['DayOfWeek']\\ndf_test=df_test.drop(labels=['DayOfWeek'],axis=1)\\ndf_test=pd.concat([Day_test,df_test],axis=1)\""
      ]
     },
     "execution_count": 37,
     "metadata": {},
     "output_type": "execute_result"
    }
   ],
   "source": [
    "\"\"\"\n",
    "#le = preprocessing.LabelEncoder()\n",
    "le_res=le.fit_transform(df['DayOfWeek'])\n",
    "Day=pd.DataFrame(le_res)\n",
    "Day.columns=['DayOfWeek']\n",
    "df=df.drop(labels=['DayOfWeek'],axis=1)\n",
    "df=pd.concat([Day,df],axis=1)\n",
    "\n",
    "#----------test data----------\n",
    "\n",
    "le_res_test=le.fit_transform(df_test['DayOfWeek'])\n",
    "Day_test=pd.DataFrame(le_res_test)\n",
    "Day_test.columns=['DayOfWeek']\n",
    "df_test=df_test.drop(labels=['DayOfWeek'],axis=1)\n",
    "df_test=pd.concat([Day_test,df_test],axis=1)\"\"\""
   ]
  },
  {
   "cell_type": "markdown",
   "metadata": {},
   "source": [
    "Label Encoding: PdDistrict"
   ]
  },
  {
   "cell_type": "code",
   "execution_count": 38,
   "metadata": {},
   "outputs": [
    {
     "data": {
      "text/plain": [
       "\"\\nle_res=le.fit_transform(df['PdDistrict'])\\nDistrict=pd.DataFrame(le_res)\\n\\n#District=pd.get_dummies(df['PdDistrict'],drop_first=True)\\nDistrict.columns=['District']\\ndf=df.drop(labels=['PdDistrict'],axis=1)\\ndf=pd.concat([District,df],axis=1)\\n\\n\\nle_res_test=le.fit_transform(df_test['PdDistrict'])\\nDistrict_test=pd.DataFrame(le_res_test)\\n\\n#District=pd.get_dummies(df['PdDistrict'],drop_first=True)\\nDistrict_test.columns=['District']\\ndf_test=df_test.drop(labels=['PdDistrict'],axis=1)\\ndf_test=pd.concat([District_test,df_test],axis=1)\\n\""
      ]
     },
     "execution_count": 38,
     "metadata": {},
     "output_type": "execute_result"
    }
   ],
   "source": [
    "\"\"\"\n",
    "le_res=le.fit_transform(df['PdDistrict'])\n",
    "District=pd.DataFrame(le_res)\n",
    "\n",
    "#District=pd.get_dummies(df['PdDistrict'],drop_first=True)\n",
    "District.columns=['District']\n",
    "df=df.drop(labels=['PdDistrict'],axis=1)\n",
    "df=pd.concat([District,df],axis=1)\n",
    "\n",
    "\n",
    "le_res_test=le.fit_transform(df_test['PdDistrict'])\n",
    "District_test=pd.DataFrame(le_res_test)\n",
    "\n",
    "#District=pd.get_dummies(df['PdDistrict'],drop_first=True)\n",
    "District_test.columns=['District']\n",
    "df_test=df_test.drop(labels=['PdDistrict'],axis=1)\n",
    "df_test=pd.concat([District_test,df_test],axis=1)\n",
    "\"\"\""
   ]
  },
  {
   "cell_type": "markdown",
   "metadata": {},
   "source": [
    "Label encoding : Address"
   ]
  },
  {
   "cell_type": "code",
   "execution_count": 39,
   "metadata": {},
   "outputs": [
    {
     "data": {
      "text/plain": [
       "\"\\nle_res=le.fit_transform(df['Address'])\\nAddress=pd.DataFrame(le_res)\\nAddress.columns=['Address']\\ndf=df.drop(labels=['Address'],axis=1)\\ndf=pd.concat([Address,df],axis=1)\\n\\nle_res_test=le.fit_transform(df_test['Address'])\\nAddress_test=pd.DataFrame(le_res_test)\\nAddress_test.columns=['Address']\\ndf_test=df_test.drop(labels=['Address'],axis=1)\\ndf_test=pd.concat([Address_test,df_test],axis=1)\\n\""
      ]
     },
     "execution_count": 39,
     "metadata": {},
     "output_type": "execute_result"
    }
   ],
   "source": [
    "\"\"\"\n",
    "le_res=le.fit_transform(df['Address'])\n",
    "Address=pd.DataFrame(le_res)\n",
    "Address.columns=['Address']\n",
    "df=df.drop(labels=['Address'],axis=1)\n",
    "df=pd.concat([Address,df],axis=1)\n",
    "\n",
    "le_res_test=le.fit_transform(df_test['Address'])\n",
    "Address_test=pd.DataFrame(le_res_test)\n",
    "Address_test.columns=['Address']\n",
    "df_test=df_test.drop(labels=['Address'],axis=1)\n",
    "df_test=pd.concat([Address_test,df_test],axis=1)\n",
    "\"\"\""
   ]
  },
  {
   "cell_type": "markdown",
   "metadata": {},
   "source": [
    "Label encoding: Year"
   ]
  },
  {
   "cell_type": "code",
   "execution_count": 40,
   "metadata": {},
   "outputs": [
    {
     "data": {
      "text/plain": [
       "\"\\n#le = preprocessing.LabelEncoder()\\nle_res=le.fit_transform(df['Year'])\\nYear=pd.DataFrame(le_res)\\n\\n#District=pd.get_dummies(df['PdDistrict'],drop_first=True)\\nYear.columns=['Year']\\ndf=df.drop(labels=['Year'],axis=1)\\ndf=pd.concat([Year,df],axis=1)\\n\\n\\n#le = preprocessing.LabelEncoder()\\nle_res_test=le.fit_transform(df_test['Year'])\\nYear_test=pd.DataFrame(le_res_test)\\n\\n#District=pd.get_dummies(df['PdDistrict'],drop_first=True)\\nYear_test.columns=['Year']\\ndf_test=df_test.drop(labels=['Year'],axis=1)\\ndf_test=pd.concat([Year_test,df_test],axis=1)\\n\\n\""
      ]
     },
     "execution_count": 40,
     "metadata": {},
     "output_type": "execute_result"
    }
   ],
   "source": [
    "\"\"\"\n",
    "#le = preprocessing.LabelEncoder()\n",
    "le_res=le.fit_transform(df['Year'])\n",
    "Year=pd.DataFrame(le_res)\n",
    "\n",
    "#District=pd.get_dummies(df['PdDistrict'],drop_first=True)\n",
    "Year.columns=['Year']\n",
    "df=df.drop(labels=['Year'],axis=1)\n",
    "df=pd.concat([Year,df],axis=1)\n",
    "\n",
    "\n",
    "#le = preprocessing.LabelEncoder()\n",
    "le_res_test=le.fit_transform(df_test['Year'])\n",
    "Year_test=pd.DataFrame(le_res_test)\n",
    "\n",
    "#District=pd.get_dummies(df['PdDistrict'],drop_first=True)\n",
    "Year_test.columns=['Year']\n",
    "df_test=df_test.drop(labels=['Year'],axis=1)\n",
    "df_test=pd.concat([Year_test,df_test],axis=1)\n",
    "\n",
    "\"\"\""
   ]
  },
  {
   "cell_type": "markdown",
   "metadata": {},
   "source": [
    "Label encoding: Month"
   ]
  },
  {
   "cell_type": "code",
   "execution_count": 41,
   "metadata": {},
   "outputs": [
    {
     "data": {
      "text/plain": [
       "\"\\n#le = preprocessing.LabelEncoder()\\nle_res=le.fit_transform(df['Month'])\\nMonth=pd.DataFrame(le_res)\\n\\n#District=pd.get_dummies(df['PdDistrict'],drop_first=True)\\nMonth.columns=['Month']\\ndf=df.drop(labels=['Month'],axis=1)\\ndf=pd.concat([Month,df],axis=1)\\n\\n\\n#le = preprocessing.LabelEncoder()\\nle_res_test=le.fit_transform(df_test['Month'])\\nMonth_test=pd.DataFrame(le_res_test)\\n\\n#District=pd.get_dummies(df['PdDistrict'],drop_first=True)\\nMonth_test.columns=['Month']\\ndf_test=df_test.drop(labels=['Month'],axis=1)\\ndf_test=pd.concat([Month_test,df_test],axis=1)\\n\""
      ]
     },
     "execution_count": 41,
     "metadata": {},
     "output_type": "execute_result"
    }
   ],
   "source": [
    "\"\"\"\n",
    "#le = preprocessing.LabelEncoder()\n",
    "le_res=le.fit_transform(df['Month'])\n",
    "Month=pd.DataFrame(le_res)\n",
    "\n",
    "#District=pd.get_dummies(df['PdDistrict'],drop_first=True)\n",
    "Month.columns=['Month']\n",
    "df=df.drop(labels=['Month'],axis=1)\n",
    "df=pd.concat([Month,df],axis=1)\n",
    "\n",
    "\n",
    "#le = preprocessing.LabelEncoder()\n",
    "le_res_test=le.fit_transform(df_test['Month'])\n",
    "Month_test=pd.DataFrame(le_res_test)\n",
    "\n",
    "#District=pd.get_dummies(df['PdDistrict'],drop_first=True)\n",
    "Month_test.columns=['Month']\n",
    "df_test=df_test.drop(labels=['Month'],axis=1)\n",
    "df_test=pd.concat([Month_test,df_test],axis=1)\n",
    "\"\"\""
   ]
  },
  {
   "cell_type": "markdown",
   "metadata": {},
   "source": [
    "Label encoding: Day"
   ]
  },
  {
   "cell_type": "code",
   "execution_count": 42,
   "metadata": {},
   "outputs": [
    {
     "data": {
      "text/plain": [
       "\"\\n#le = preprocessing.LabelEncoder()\\nle_res=le.fit_transform(df['Day'])\\nDay=pd.DataFrame(le_res)\\n\\n#District=pd.get_dummies(df['PdDistrict'],drop_first=True)\\nDay.columns=['Day']\\ndf=df.drop(labels=['Day'],axis=1)\\ndf=pd.concat([Day,df],axis=1)\\n\\n\\n#le = preprocessing.LabelEncoder()\\nle_res_test=le.fit_transform(df_test['Day'])\\nDay_test=pd.DataFrame(le_res_test)\\n\\n#District=pd.get_dummies(df['PdDistrict'],drop_first=True)\\nDay_test.columns=['Day']\\ndf_test=df_test.drop(labels=['Day'],axis=1)\\ndf_test=pd.concat([Day_test,df_test],axis=1)\\n\""
      ]
     },
     "execution_count": 42,
     "metadata": {},
     "output_type": "execute_result"
    }
   ],
   "source": [
    "\"\"\"\n",
    "#le = preprocessing.LabelEncoder()\n",
    "le_res=le.fit_transform(df['Day'])\n",
    "Day=pd.DataFrame(le_res)\n",
    "\n",
    "#District=pd.get_dummies(df['PdDistrict'],drop_first=True)\n",
    "Day.columns=['Day']\n",
    "df=df.drop(labels=['Day'],axis=1)\n",
    "df=pd.concat([Day,df],axis=1)\n",
    "\n",
    "\n",
    "#le = preprocessing.LabelEncoder()\n",
    "le_res_test=le.fit_transform(df_test['Day'])\n",
    "Day_test=pd.DataFrame(le_res_test)\n",
    "\n",
    "#District=pd.get_dummies(df['PdDistrict'],drop_first=True)\n",
    "Day_test.columns=['Day']\n",
    "df_test=df_test.drop(labels=['Day'],axis=1)\n",
    "df_test=pd.concat([Day_test,df_test],axis=1)\n",
    "\"\"\""
   ]
  },
  {
   "cell_type": "markdown",
   "metadata": {},
   "source": [
    "Label encoding: Hour"
   ]
  },
  {
   "cell_type": "code",
   "execution_count": 43,
   "metadata": {},
   "outputs": [
    {
     "data": {
      "text/plain": [
       "\"\\n#le = preprocessing.LabelEncoder()\\nle_res=le.fit_transform(df['Hour'])\\nHour=pd.DataFrame(le_res)\\n\\n#District=pd.get_dummies(df['PdDistrict'],drop_first=True)\\nHour.columns=['Hour']\\ndf=df.drop(labels=['Hour'],axis=1)\\ndf=pd.concat([Hour,df],axis=1)\\n\\n\\n#le = preprocessing.LabelEncoder()\\nle_res_test=le.fit_transform(df_test['Hour'])\\nHour_test=pd.DataFrame(le_res_test)\\n\\n#District=pd.get_dummies(df['PdDistrict'],drop_first=True)\\nHour_test.columns=['Hour']\\ndf_test=df_test.drop(labels=['Hour'],axis=1)\\ndf_test=pd.concat([Hour_test,df_test],axis=1)\\n\""
      ]
     },
     "execution_count": 43,
     "metadata": {},
     "output_type": "execute_result"
    }
   ],
   "source": [
    "\"\"\"\n",
    "#le = preprocessing.LabelEncoder()\n",
    "le_res=le.fit_transform(df['Hour'])\n",
    "Hour=pd.DataFrame(le_res)\n",
    "\n",
    "#District=pd.get_dummies(df['PdDistrict'],drop_first=True)\n",
    "Hour.columns=['Hour']\n",
    "df=df.drop(labels=['Hour'],axis=1)\n",
    "df=pd.concat([Hour,df],axis=1)\n",
    "\n",
    "\n",
    "#le = preprocessing.LabelEncoder()\n",
    "le_res_test=le.fit_transform(df_test['Hour'])\n",
    "Hour_test=pd.DataFrame(le_res_test)\n",
    "\n",
    "#District=pd.get_dummies(df['PdDistrict'],drop_first=True)\n",
    "Hour_test.columns=['Hour']\n",
    "df_test=df_test.drop(labels=['Hour'],axis=1)\n",
    "df_test=pd.concat([Hour_test,df_test],axis=1)\n",
    "\"\"\""
   ]
  },
  {
   "cell_type": "markdown",
   "metadata": {},
   "source": [
    "Label encoding: Minute"
   ]
  },
  {
   "cell_type": "code",
   "execution_count": 44,
   "metadata": {},
   "outputs": [
    {
     "data": {
      "text/plain": [
       "\"\\nle_res=le.fit_transform(df['Minute'])\\nMinute=pd.DataFrame(le_res)\\n\\n#District=pd.get_dummies(df['PdDistrict'],drop_first=True)\\nMinute.columns=['Minute']\\ndf=df.drop(labels=['Minute'],axis=1)\\ndf=pd.concat([Minute,df],axis=1)\\n\\n\\nle_res_test=le.fit_transform(df_test['Minute'])\\nMinute_test=pd.DataFrame(le_res_test)\\n\\n#District=pd.get_dummies(df['PdDistrict'],drop_first=True)\\nMinute_test.columns=['Minute']\\ndf_test=df_test.drop(labels=['Minute'],axis=1)\\ndf_test=pd.concat([Minute_test,df_test],axis=1)\\n\\n\""
      ]
     },
     "execution_count": 44,
     "metadata": {},
     "output_type": "execute_result"
    }
   ],
   "source": [
    "\"\"\"\n",
    "le_res=le.fit_transform(df['Minute'])\n",
    "Minute=pd.DataFrame(le_res)\n",
    "\n",
    "#District=pd.get_dummies(df['PdDistrict'],drop_first=True)\n",
    "Minute.columns=['Minute']\n",
    "df=df.drop(labels=['Minute'],axis=1)\n",
    "df=pd.concat([Minute,df],axis=1)\n",
    "\n",
    "\n",
    "le_res_test=le.fit_transform(df_test['Minute'])\n",
    "Minute_test=pd.DataFrame(le_res_test)\n",
    "\n",
    "#District=pd.get_dummies(df['PdDistrict'],drop_first=True)\n",
    "Minute_test.columns=['Minute']\n",
    "df_test=df_test.drop(labels=['Minute'],axis=1)\n",
    "df_test=pd.concat([Minute_test,df_test],axis=1)\n",
    "\n",
    "\"\"\""
   ]
  },
  {
   "cell_type": "markdown",
   "metadata": {},
   "source": [
    "# One Hot Encoding"
   ]
  },
  {
   "cell_type": "code",
   "execution_count": 45,
   "metadata": {},
   "outputs": [],
   "source": [
    "df=pd.get_dummies(df,columns=['DayOfWeek','PdDistrict','Year','Month','Day','Hour','Minute','Address'],drop_first=True)\n",
    "\n",
    "df_test=pd.get_dummies(df_test,columns=['DayOfWeek','PdDistrict','Year','Month','Day','Hour','Minute','Address'],drop_first=True)"
   ]
  },
  {
   "cell_type": "markdown",
   "metadata": {},
   "source": [
    "36 Crime Category are there "
   ]
  },
  {
   "cell_type": "markdown",
   "metadata": {},
   "source": [
    "# Applying different Models"
   ]
  },
  {
   "cell_type": "code",
   "execution_count": 48,
   "metadata": {},
   "outputs": [
    {
     "data": {
      "text/plain": [
       "(867873, 95)"
      ]
     },
     "execution_count": 48,
     "metadata": {},
     "output_type": "execute_result"
    }
   ],
   "source": [
    "#Independent Column\n",
    "X=df\n",
    "X.shape"
   ]
  },
  {
   "cell_type": "code",
   "execution_count": 49,
   "metadata": {},
   "outputs": [
    {
     "data": {
      "text/plain": [
       "(867873, 1)"
      ]
     },
     "execution_count": 49,
     "metadata": {},
     "output_type": "execute_result"
    }
   ],
   "source": [
    "#Dependent column\n",
    "y.shape"
   ]
  },
  {
   "cell_type": "code",
   "execution_count": 50,
   "metadata": {},
   "outputs": [],
   "source": [
    "#splitting the dataset into the training set and test set\n",
    "#from sklearn import model_selection as ms\n",
    "\n",
    "X_train,X_test,y_train,y_test=train_test_split(X,y,test_size=0.3,random_state=0)"
   ]
  },
  {
   "cell_type": "code",
   "execution_count": 51,
   "metadata": {},
   "outputs": [
    {
     "data": {
      "text/plain": [
       "'from sklearn.preprocessing import StandardScaler\\nsc_X=StandardScaler()\\nX_train=sc_X.fit_tranform(X_train)\\nX_test=sc_X.transform(X_test)'"
      ]
     },
     "execution_count": 51,
     "metadata": {},
     "output_type": "execute_result"
    }
   ],
   "source": [
    "\"\"\"from sklearn.preprocessing import StandardScaler\n",
    "sc_X=StandardScaler()\n",
    "X_train=sc_X.fit_tranform(X_train)\n",
    "X_test=sc_X.transform(X_test)\"\"\""
   ]
  },
  {
   "cell_type": "markdown",
   "metadata": {},
   "source": [
    "# XGBoost Model"
   ]
  },
  {
   "cell_type": "code",
   "execution_count": 52,
   "metadata": {},
   "outputs": [
    {
     "data": {
      "text/html": [
       "<div>\n",
       "<style scoped>\n",
       "    .dataframe tbody tr th:only-of-type {\n",
       "        vertical-align: middle;\n",
       "    }\n",
       "\n",
       "    .dataframe tbody tr th {\n",
       "        vertical-align: top;\n",
       "    }\n",
       "\n",
       "    .dataframe thead th {\n",
       "        text-align: right;\n",
       "    }\n",
       "</style>\n",
       "<table border=\"1\" class=\"dataframe\">\n",
       "  <thead>\n",
       "    <tr style=\"text-align: right;\">\n",
       "      <th></th>\n",
       "      <th>X</th>\n",
       "      <th>Y</th>\n",
       "      <th>rot45_X</th>\n",
       "      <th>rot45_Y</th>\n",
       "      <th>radial45</th>\n",
       "      <th>rot30_X</th>\n",
       "      <th>rot30_Y</th>\n",
       "      <th>radial30</th>\n",
       "      <th>rot60_X</th>\n",
       "      <th>rot60_Y</th>\n",
       "      <th>radial60</th>\n",
       "      <th>Intersection</th>\n",
       "      <th>Block</th>\n",
       "      <th>PdDistrict_CENTRAL</th>\n",
       "      <th>PdDistrict_INGLESIDE</th>\n",
       "      <th>PdDistrict_MISSION</th>\n",
       "      <th>PdDistrict_NORTHERN</th>\n",
       "      <th>PdDistrict_PARK</th>\n",
       "      <th>PdDistrict_RICHMOND</th>\n",
       "      <th>PdDistrict_SOUTHERN</th>\n",
       "      <th>PdDistrict_TARAVAL</th>\n",
       "      <th>PdDistrict_TENDERLOIN</th>\n",
       "      <th>Year_2004</th>\n",
       "      <th>Year_2005</th>\n",
       "      <th>Year_2006</th>\n",
       "      <th>Year_2007</th>\n",
       "      <th>Year_2008</th>\n",
       "      <th>Year_2009</th>\n",
       "      <th>Year_2010</th>\n",
       "      <th>Year_2011</th>\n",
       "      <th>Year_2012</th>\n",
       "      <th>Year_2013</th>\n",
       "      <th>Year_2014</th>\n",
       "      <th>Year_2015</th>\n",
       "      <th>Month_Spring</th>\n",
       "      <th>Month_Summer</th>\n",
       "      <th>Month_Winter</th>\n",
       "      <th>Day_02</th>\n",
       "      <th>Day_03</th>\n",
       "      <th>Day_04</th>\n",
       "      <th>Day_05</th>\n",
       "      <th>Day_06</th>\n",
       "      <th>Day_07</th>\n",
       "      <th>Day_08</th>\n",
       "      <th>Day_09</th>\n",
       "      <th>Day_10</th>\n",
       "      <th>Day_11</th>\n",
       "      <th>Day_12</th>\n",
       "      <th>Day_13</th>\n",
       "      <th>Day_14</th>\n",
       "      <th>Day_15</th>\n",
       "      <th>Day_16</th>\n",
       "      <th>Day_17</th>\n",
       "      <th>Day_18</th>\n",
       "      <th>Day_19</th>\n",
       "      <th>Day_20</th>\n",
       "      <th>Day_21</th>\n",
       "      <th>Day_22</th>\n",
       "      <th>Day_23</th>\n",
       "      <th>Day_24</th>\n",
       "      <th>Day_25</th>\n",
       "      <th>Day_26</th>\n",
       "      <th>Day_27</th>\n",
       "      <th>Day_28</th>\n",
       "      <th>Day_29</th>\n",
       "      <th>Day_30</th>\n",
       "      <th>Day_31</th>\n",
       "      <th>Hour_EARLY_MORNING</th>\n",
       "      <th>Hour_MORNING</th>\n",
       "      <th>Hour_NIGHT</th>\n",
       "      <th>Minute_low</th>\n",
       "      <th>Address_ALMS</th>\n",
       "      <th>Address_AV</th>\n",
       "      <th>Address_BL</th>\n",
       "      <th>Address_BLOCK</th>\n",
       "      <th>Address_CR</th>\n",
       "      <th>Address_CT</th>\n",
       "      <th>Address_DR</th>\n",
       "      <th>Address_EX</th>\n",
       "      <th>Address_HWY</th>\n",
       "      <th>Address_HY</th>\n",
       "      <th>Address_I-80</th>\n",
       "      <th>Address_LN</th>\n",
       "      <th>Address_MAR</th>\n",
       "      <th>Address_PARK</th>\n",
       "      <th>Address_PL</th>\n",
       "      <th>Address_PZ</th>\n",
       "      <th>Address_RD</th>\n",
       "      <th>Address_RW</th>\n",
       "      <th>Address_ST</th>\n",
       "      <th>Address_TER</th>\n",
       "      <th>Address_TR</th>\n",
       "      <th>Address_VIA</th>\n",
       "      <th>Address_WAY</th>\n",
       "      <th>Address_WK</th>\n",
       "    </tr>\n",
       "  </thead>\n",
       "  <tbody>\n",
       "    <tr>\n",
       "      <th>0</th>\n",
       "      <td>-122.419331</td>\n",
       "      <td>37.762264</td>\n",
       "      <td>-59.852546</td>\n",
       "      <td>113.248388</td>\n",
       "      <td>128.091860</td>\n",
       "      <td>-28.507545</td>\n",
       "      <td>93.911786</td>\n",
       "      <td>98.143282</td>\n",
       "      <td>-87.134009</td>\n",
       "      <td>124.896273</td>\n",
       "      <td>152.287276</td>\n",
       "      <td>0</td>\n",
       "      <td>1</td>\n",
       "      <td>0</td>\n",
       "      <td>0</td>\n",
       "      <td>1</td>\n",
       "      <td>0</td>\n",
       "      <td>0</td>\n",
       "      <td>0</td>\n",
       "      <td>0</td>\n",
       "      <td>0</td>\n",
       "      <td>0</td>\n",
       "      <td>0</td>\n",
       "      <td>0</td>\n",
       "      <td>0</td>\n",
       "      <td>0</td>\n",
       "      <td>0</td>\n",
       "      <td>0</td>\n",
       "      <td>0</td>\n",
       "      <td>0</td>\n",
       "      <td>0</td>\n",
       "      <td>1</td>\n",
       "      <td>0</td>\n",
       "      <td>0</td>\n",
       "      <td>0</td>\n",
       "      <td>1</td>\n",
       "      <td>0</td>\n",
       "      <td>0</td>\n",
       "      <td>0</td>\n",
       "      <td>0</td>\n",
       "      <td>0</td>\n",
       "      <td>0</td>\n",
       "      <td>0</td>\n",
       "      <td>0</td>\n",
       "      <td>0</td>\n",
       "      <td>0</td>\n",
       "      <td>0</td>\n",
       "      <td>0</td>\n",
       "      <td>0</td>\n",
       "      <td>0</td>\n",
       "      <td>0</td>\n",
       "      <td>0</td>\n",
       "      <td>0</td>\n",
       "      <td>0</td>\n",
       "      <td>0</td>\n",
       "      <td>0</td>\n",
       "      <td>0</td>\n",
       "      <td>0</td>\n",
       "      <td>0</td>\n",
       "      <td>0</td>\n",
       "      <td>0</td>\n",
       "      <td>0</td>\n",
       "      <td>0</td>\n",
       "      <td>1</td>\n",
       "      <td>0</td>\n",
       "      <td>0</td>\n",
       "      <td>0</td>\n",
       "      <td>0</td>\n",
       "      <td>0</td>\n",
       "      <td>0</td>\n",
       "      <td>0</td>\n",
       "      <td>0</td>\n",
       "      <td>0</td>\n",
       "      <td>0</td>\n",
       "      <td>0</td>\n",
       "      <td>0</td>\n",
       "      <td>0</td>\n",
       "      <td>0</td>\n",
       "      <td>0</td>\n",
       "      <td>0</td>\n",
       "      <td>0</td>\n",
       "      <td>0</td>\n",
       "      <td>0</td>\n",
       "      <td>0</td>\n",
       "      <td>0</td>\n",
       "      <td>0</td>\n",
       "      <td>0</td>\n",
       "      <td>0</td>\n",
       "      <td>0</td>\n",
       "      <td>1</td>\n",
       "      <td>0</td>\n",
       "      <td>0</td>\n",
       "      <td>0</td>\n",
       "      <td>0</td>\n",
       "      <td>0</td>\n",
       "    </tr>\n",
       "    <tr>\n",
       "      <th>1</th>\n",
       "      <td>-122.411340</td>\n",
       "      <td>37.781271</td>\n",
       "      <td>-59.833459</td>\n",
       "      <td>113.256175</td>\n",
       "      <td>128.089828</td>\n",
       "      <td>-28.487089</td>\n",
       "      <td>93.924250</td>\n",
       "      <td>98.149269</td>\n",
       "      <td>-87.117585</td>\n",
       "      <td>124.898855</td>\n",
       "      <td>152.279998</td>\n",
       "      <td>0</td>\n",
       "      <td>1</td>\n",
       "      <td>0</td>\n",
       "      <td>0</td>\n",
       "      <td>0</td>\n",
       "      <td>0</td>\n",
       "      <td>0</td>\n",
       "      <td>0</td>\n",
       "      <td>1</td>\n",
       "      <td>0</td>\n",
       "      <td>0</td>\n",
       "      <td>1</td>\n",
       "      <td>0</td>\n",
       "      <td>0</td>\n",
       "      <td>0</td>\n",
       "      <td>0</td>\n",
       "      <td>0</td>\n",
       "      <td>0</td>\n",
       "      <td>0</td>\n",
       "      <td>0</td>\n",
       "      <td>0</td>\n",
       "      <td>0</td>\n",
       "      <td>0</td>\n",
       "      <td>0</td>\n",
       "      <td>0</td>\n",
       "      <td>1</td>\n",
       "      <td>0</td>\n",
       "      <td>0</td>\n",
       "      <td>0</td>\n",
       "      <td>0</td>\n",
       "      <td>0</td>\n",
       "      <td>0</td>\n",
       "      <td>0</td>\n",
       "      <td>0</td>\n",
       "      <td>0</td>\n",
       "      <td>0</td>\n",
       "      <td>0</td>\n",
       "      <td>0</td>\n",
       "      <td>0</td>\n",
       "      <td>0</td>\n",
       "      <td>0</td>\n",
       "      <td>0</td>\n",
       "      <td>0</td>\n",
       "      <td>1</td>\n",
       "      <td>0</td>\n",
       "      <td>0</td>\n",
       "      <td>0</td>\n",
       "      <td>0</td>\n",
       "      <td>0</td>\n",
       "      <td>0</td>\n",
       "      <td>0</td>\n",
       "      <td>0</td>\n",
       "      <td>0</td>\n",
       "      <td>0</td>\n",
       "      <td>0</td>\n",
       "      <td>0</td>\n",
       "      <td>1</td>\n",
       "      <td>0</td>\n",
       "      <td>0</td>\n",
       "      <td>0</td>\n",
       "      <td>0</td>\n",
       "      <td>0</td>\n",
       "      <td>0</td>\n",
       "      <td>0</td>\n",
       "      <td>0</td>\n",
       "      <td>0</td>\n",
       "      <td>0</td>\n",
       "      <td>0</td>\n",
       "      <td>0</td>\n",
       "      <td>0</td>\n",
       "      <td>0</td>\n",
       "      <td>0</td>\n",
       "      <td>0</td>\n",
       "      <td>0</td>\n",
       "      <td>0</td>\n",
       "      <td>0</td>\n",
       "      <td>0</td>\n",
       "      <td>0</td>\n",
       "      <td>1</td>\n",
       "      <td>0</td>\n",
       "      <td>0</td>\n",
       "      <td>0</td>\n",
       "      <td>0</td>\n",
       "      <td>0</td>\n",
       "    </tr>\n",
       "    <tr>\n",
       "      <th>2</th>\n",
       "      <td>-122.403405</td>\n",
       "      <td>37.775421</td>\n",
       "      <td>-59.831985</td>\n",
       "      <td>113.246430</td>\n",
       "      <td>128.080522</td>\n",
       "      <td>-28.488188</td>\n",
       "      <td>93.915217</td>\n",
       "      <td>98.140944</td>\n",
       "      <td>-87.113638</td>\n",
       "      <td>124.889059</td>\n",
       "      <td>152.269705</td>\n",
       "      <td>0</td>\n",
       "      <td>1</td>\n",
       "      <td>0</td>\n",
       "      <td>0</td>\n",
       "      <td>0</td>\n",
       "      <td>0</td>\n",
       "      <td>0</td>\n",
       "      <td>0</td>\n",
       "      <td>1</td>\n",
       "      <td>0</td>\n",
       "      <td>0</td>\n",
       "      <td>0</td>\n",
       "      <td>0</td>\n",
       "      <td>0</td>\n",
       "      <td>1</td>\n",
       "      <td>0</td>\n",
       "      <td>0</td>\n",
       "      <td>0</td>\n",
       "      <td>0</td>\n",
       "      <td>0</td>\n",
       "      <td>0</td>\n",
       "      <td>0</td>\n",
       "      <td>0</td>\n",
       "      <td>0</td>\n",
       "      <td>0</td>\n",
       "      <td>1</td>\n",
       "      <td>0</td>\n",
       "      <td>0</td>\n",
       "      <td>0</td>\n",
       "      <td>0</td>\n",
       "      <td>0</td>\n",
       "      <td>0</td>\n",
       "      <td>0</td>\n",
       "      <td>0</td>\n",
       "      <td>0</td>\n",
       "      <td>0</td>\n",
       "      <td>0</td>\n",
       "      <td>0</td>\n",
       "      <td>1</td>\n",
       "      <td>0</td>\n",
       "      <td>0</td>\n",
       "      <td>0</td>\n",
       "      <td>0</td>\n",
       "      <td>0</td>\n",
       "      <td>0</td>\n",
       "      <td>0</td>\n",
       "      <td>0</td>\n",
       "      <td>0</td>\n",
       "      <td>0</td>\n",
       "      <td>0</td>\n",
       "      <td>0</td>\n",
       "      <td>0</td>\n",
       "      <td>0</td>\n",
       "      <td>0</td>\n",
       "      <td>0</td>\n",
       "      <td>0</td>\n",
       "      <td>0</td>\n",
       "      <td>0</td>\n",
       "      <td>1</td>\n",
       "      <td>1</td>\n",
       "      <td>0</td>\n",
       "      <td>0</td>\n",
       "      <td>0</td>\n",
       "      <td>0</td>\n",
       "      <td>0</td>\n",
       "      <td>0</td>\n",
       "      <td>0</td>\n",
       "      <td>0</td>\n",
       "      <td>0</td>\n",
       "      <td>0</td>\n",
       "      <td>0</td>\n",
       "      <td>0</td>\n",
       "      <td>0</td>\n",
       "      <td>0</td>\n",
       "      <td>0</td>\n",
       "      <td>0</td>\n",
       "      <td>0</td>\n",
       "      <td>0</td>\n",
       "      <td>1</td>\n",
       "      <td>0</td>\n",
       "      <td>0</td>\n",
       "      <td>0</td>\n",
       "      <td>0</td>\n",
       "      <td>0</td>\n",
       "    </tr>\n",
       "    <tr>\n",
       "      <th>3</th>\n",
       "      <td>-122.404715</td>\n",
       "      <td>37.730161</td>\n",
       "      <td>-59.864910</td>\n",
       "      <td>113.215357</td>\n",
       "      <td>128.068437</td>\n",
       "      <td>-28.528038</td>\n",
       "      <td>93.876677</td>\n",
       "      <td>98.115643</td>\n",
       "      <td>-87.137403</td>\n",
       "      <td>124.867564</td>\n",
       "      <td>152.265674</td>\n",
       "      <td>0</td>\n",
       "      <td>1</td>\n",
       "      <td>0</td>\n",
       "      <td>0</td>\n",
       "      <td>0</td>\n",
       "      <td>0</td>\n",
       "      <td>0</td>\n",
       "      <td>0</td>\n",
       "      <td>0</td>\n",
       "      <td>0</td>\n",
       "      <td>0</td>\n",
       "      <td>0</td>\n",
       "      <td>0</td>\n",
       "      <td>0</td>\n",
       "      <td>1</td>\n",
       "      <td>0</td>\n",
       "      <td>0</td>\n",
       "      <td>0</td>\n",
       "      <td>0</td>\n",
       "      <td>0</td>\n",
       "      <td>0</td>\n",
       "      <td>0</td>\n",
       "      <td>0</td>\n",
       "      <td>0</td>\n",
       "      <td>0</td>\n",
       "      <td>1</td>\n",
       "      <td>0</td>\n",
       "      <td>0</td>\n",
       "      <td>0</td>\n",
       "      <td>0</td>\n",
       "      <td>0</td>\n",
       "      <td>0</td>\n",
       "      <td>0</td>\n",
       "      <td>0</td>\n",
       "      <td>0</td>\n",
       "      <td>0</td>\n",
       "      <td>0</td>\n",
       "      <td>0</td>\n",
       "      <td>0</td>\n",
       "      <td>0</td>\n",
       "      <td>0</td>\n",
       "      <td>0</td>\n",
       "      <td>0</td>\n",
       "      <td>0</td>\n",
       "      <td>0</td>\n",
       "      <td>0</td>\n",
       "      <td>0</td>\n",
       "      <td>0</td>\n",
       "      <td>0</td>\n",
       "      <td>0</td>\n",
       "      <td>0</td>\n",
       "      <td>1</td>\n",
       "      <td>0</td>\n",
       "      <td>0</td>\n",
       "      <td>0</td>\n",
       "      <td>0</td>\n",
       "      <td>0</td>\n",
       "      <td>0</td>\n",
       "      <td>0</td>\n",
       "      <td>1</td>\n",
       "      <td>0</td>\n",
       "      <td>1</td>\n",
       "      <td>0</td>\n",
       "      <td>0</td>\n",
       "      <td>0</td>\n",
       "      <td>0</td>\n",
       "      <td>0</td>\n",
       "      <td>0</td>\n",
       "      <td>0</td>\n",
       "      <td>0</td>\n",
       "      <td>0</td>\n",
       "      <td>0</td>\n",
       "      <td>0</td>\n",
       "      <td>0</td>\n",
       "      <td>0</td>\n",
       "      <td>0</td>\n",
       "      <td>0</td>\n",
       "      <td>0</td>\n",
       "      <td>0</td>\n",
       "      <td>0</td>\n",
       "      <td>0</td>\n",
       "      <td>0</td>\n",
       "      <td>0</td>\n",
       "      <td>0</td>\n",
       "    </tr>\n",
       "    <tr>\n",
       "      <th>4</th>\n",
       "      <td>-122.405239</td>\n",
       "      <td>37.785265</td>\n",
       "      <td>-59.826321</td>\n",
       "      <td>113.254686</td>\n",
       "      <td>128.085177</td>\n",
       "      <td>-28.480580</td>\n",
       "      <td>93.924659</td>\n",
       "      <td>98.147771</td>\n",
       "      <td>-87.110304</td>\n",
       "      <td>124.895569</td>\n",
       "      <td>152.273137</td>\n",
       "      <td>1</td>\n",
       "      <td>0</td>\n",
       "      <td>0</td>\n",
       "      <td>0</td>\n",
       "      <td>0</td>\n",
       "      <td>0</td>\n",
       "      <td>0</td>\n",
       "      <td>0</td>\n",
       "      <td>1</td>\n",
       "      <td>0</td>\n",
       "      <td>0</td>\n",
       "      <td>0</td>\n",
       "      <td>0</td>\n",
       "      <td>0</td>\n",
       "      <td>0</td>\n",
       "      <td>0</td>\n",
       "      <td>0</td>\n",
       "      <td>0</td>\n",
       "      <td>0</td>\n",
       "      <td>1</td>\n",
       "      <td>0</td>\n",
       "      <td>0</td>\n",
       "      <td>0</td>\n",
       "      <td>0</td>\n",
       "      <td>0</td>\n",
       "      <td>0</td>\n",
       "      <td>0</td>\n",
       "      <td>0</td>\n",
       "      <td>0</td>\n",
       "      <td>0</td>\n",
       "      <td>0</td>\n",
       "      <td>0</td>\n",
       "      <td>0</td>\n",
       "      <td>1</td>\n",
       "      <td>0</td>\n",
       "      <td>0</td>\n",
       "      <td>0</td>\n",
       "      <td>0</td>\n",
       "      <td>0</td>\n",
       "      <td>0</td>\n",
       "      <td>0</td>\n",
       "      <td>0</td>\n",
       "      <td>0</td>\n",
       "      <td>0</td>\n",
       "      <td>0</td>\n",
       "      <td>0</td>\n",
       "      <td>0</td>\n",
       "      <td>0</td>\n",
       "      <td>0</td>\n",
       "      <td>0</td>\n",
       "      <td>0</td>\n",
       "      <td>0</td>\n",
       "      <td>0</td>\n",
       "      <td>0</td>\n",
       "      <td>0</td>\n",
       "      <td>0</td>\n",
       "      <td>0</td>\n",
       "      <td>0</td>\n",
       "      <td>0</td>\n",
       "      <td>1</td>\n",
       "      <td>0</td>\n",
       "      <td>0</td>\n",
       "      <td>0</td>\n",
       "      <td>0</td>\n",
       "      <td>0</td>\n",
       "      <td>0</td>\n",
       "      <td>0</td>\n",
       "      <td>0</td>\n",
       "      <td>0</td>\n",
       "      <td>0</td>\n",
       "      <td>0</td>\n",
       "      <td>0</td>\n",
       "      <td>0</td>\n",
       "      <td>0</td>\n",
       "      <td>0</td>\n",
       "      <td>0</td>\n",
       "      <td>0</td>\n",
       "      <td>0</td>\n",
       "      <td>1</td>\n",
       "      <td>0</td>\n",
       "      <td>0</td>\n",
       "      <td>0</td>\n",
       "      <td>0</td>\n",
       "      <td>0</td>\n",
       "    </tr>\n",
       "  </tbody>\n",
       "</table>\n",
       "</div>"
      ],
      "text/plain": [
       "            X          Y    rot45_X     rot45_Y    radial45    rot30_X  \\\n",
       "0 -122.419331  37.762264 -59.852546  113.248388  128.091860 -28.507545   \n",
       "1 -122.411340  37.781271 -59.833459  113.256175  128.089828 -28.487089   \n",
       "2 -122.403405  37.775421 -59.831985  113.246430  128.080522 -28.488188   \n",
       "3 -122.404715  37.730161 -59.864910  113.215357  128.068437 -28.528038   \n",
       "4 -122.405239  37.785265 -59.826321  113.254686  128.085177 -28.480580   \n",
       "\n",
       "     rot30_Y   radial30    rot60_X     rot60_Y    radial60  Intersection  \\\n",
       "0  93.911786  98.143282 -87.134009  124.896273  152.287276             0   \n",
       "1  93.924250  98.149269 -87.117585  124.898855  152.279998             0   \n",
       "2  93.915217  98.140944 -87.113638  124.889059  152.269705             0   \n",
       "3  93.876677  98.115643 -87.137403  124.867564  152.265674             0   \n",
       "4  93.924659  98.147771 -87.110304  124.895569  152.273137             1   \n",
       "\n",
       "   Block  PdDistrict_CENTRAL  PdDistrict_INGLESIDE  PdDistrict_MISSION  \\\n",
       "0      1                   0                     0                   1   \n",
       "1      1                   0                     0                   0   \n",
       "2      1                   0                     0                   0   \n",
       "3      1                   0                     0                   0   \n",
       "4      0                   0                     0                   0   \n",
       "\n",
       "   PdDistrict_NORTHERN  PdDistrict_PARK  PdDistrict_RICHMOND  \\\n",
       "0                    0                0                    0   \n",
       "1                    0                0                    0   \n",
       "2                    0                0                    0   \n",
       "3                    0                0                    0   \n",
       "4                    0                0                    0   \n",
       "\n",
       "   PdDistrict_SOUTHERN  PdDistrict_TARAVAL  PdDistrict_TENDERLOIN  Year_2004  \\\n",
       "0                    0                   0                      0          0   \n",
       "1                    1                   0                      0          1   \n",
       "2                    1                   0                      0          0   \n",
       "3                    0                   0                      0          0   \n",
       "4                    1                   0                      0          0   \n",
       "\n",
       "   Year_2005  Year_2006  Year_2007  Year_2008  Year_2009  Year_2010  \\\n",
       "0          0          0          0          0          0          0   \n",
       "1          0          0          0          0          0          0   \n",
       "2          0          0          1          0          0          0   \n",
       "3          0          0          1          0          0          0   \n",
       "4          0          0          0          0          0          0   \n",
       "\n",
       "   Year_2011  Year_2012  Year_2013  Year_2014  Year_2015  Month_Spring  \\\n",
       "0          0          0          1          0          0             0   \n",
       "1          0          0          0          0          0             0   \n",
       "2          0          0          0          0          0             0   \n",
       "3          0          0          0          0          0             0   \n",
       "4          0          1          0          0          0             0   \n",
       "\n",
       "   Month_Summer  Month_Winter  Day_02  Day_03  Day_04  Day_05  Day_06  Day_07  \\\n",
       "0             1             0       0       0       0       0       0       0   \n",
       "1             0             1       0       0       0       0       0       0   \n",
       "2             0             1       0       0       0       0       0       0   \n",
       "3             0             1       0       0       0       0       0       0   \n",
       "4             0             0       0       0       0       0       0       0   \n",
       "\n",
       "   Day_08  Day_09  Day_10  Day_11  Day_12  Day_13  Day_14  Day_15  Day_16  \\\n",
       "0       0       0       0       0       0       0       0       0       0   \n",
       "1       0       0       0       0       0       0       0       0       0   \n",
       "2       0       0       0       0       0       0       1       0       0   \n",
       "3       0       0       0       0       0       0       0       0       0   \n",
       "4       0       1       0       0       0       0       0       0       0   \n",
       "\n",
       "   Day_17  Day_18  Day_19  Day_20  Day_21  Day_22  Day_23  Day_24  Day_25  \\\n",
       "0       0       0       0       0       0       0       0       0       0   \n",
       "1       0       0       1       0       0       0       0       0       0   \n",
       "2       0       0       0       0       0       0       0       0       0   \n",
       "3       0       0       0       0       0       0       0       0       0   \n",
       "4       0       0       0       0       0       0       0       0       0   \n",
       "\n",
       "   Day_26  Day_27  Day_28  Day_29  Day_30  Day_31  Hour_EARLY_MORNING  \\\n",
       "0       0       0       1       0       0       0                   0   \n",
       "1       0       0       0       0       0       0                   1   \n",
       "2       0       0       0       0       0       0                   0   \n",
       "3       0       1       0       0       0       0                   0   \n",
       "4       0       0       0       0       0       0                   0   \n",
       "\n",
       "   Hour_MORNING  Hour_NIGHT  Minute_low  Address_ALMS  Address_AV  Address_BL  \\\n",
       "0             0           0           0             0           0           0   \n",
       "1             0           0           0             0           0           0   \n",
       "2             0           1           1             0           0           0   \n",
       "3             0           0           1             0           1           0   \n",
       "4             0           0           1             0           0           0   \n",
       "\n",
       "   Address_BLOCK  Address_CR  Address_CT  Address_DR  Address_EX  Address_HWY  \\\n",
       "0              0           0           0           0           0            0   \n",
       "1              0           0           0           0           0            0   \n",
       "2              0           0           0           0           0            0   \n",
       "3              0           0           0           0           0            0   \n",
       "4              0           0           0           0           0            0   \n",
       "\n",
       "   Address_HY  Address_I-80  Address_LN  Address_MAR  Address_PARK  \\\n",
       "0           0             0           0            0             0   \n",
       "1           0             0           0            0             0   \n",
       "2           0             0           0            0             0   \n",
       "3           0             0           0            0             0   \n",
       "4           0             0           0            0             0   \n",
       "\n",
       "   Address_PL  Address_PZ  Address_RD  Address_RW  Address_ST  Address_TER  \\\n",
       "0           0           0           0           0           1            0   \n",
       "1           0           0           0           0           1            0   \n",
       "2           0           0           0           0           1            0   \n",
       "3           0           0           0           0           0            0   \n",
       "4           0           0           0           0           1            0   \n",
       "\n",
       "   Address_TR  Address_VIA  Address_WAY  Address_WK  \n",
       "0           0            0            0           0  \n",
       "1           0            0            0           0  \n",
       "2           0            0            0           0  \n",
       "3           0            0            0           0  \n",
       "4           0            0            0           0  "
      ]
     },
     "execution_count": 52,
     "metadata": {},
     "output_type": "execute_result"
    }
   ],
   "source": [
    "X.head()"
   ]
  },
  {
   "cell_type": "code",
   "execution_count": null,
   "metadata": {},
   "outputs": [
    {
     "name": "stderr",
     "output_type": "stream",
     "text": [
      "C:\\anaconda\\lib\\site-packages\\sklearn\\preprocessing\\label.py:219: DataConversionWarning: A column-vector y was passed when a 1d array was expected. Please change the shape of y to (n_samples, ), for example using ravel().\n",
      "  y = column_or_1d(y, warn=True)\n",
      "C:\\anaconda\\lib\\site-packages\\sklearn\\preprocessing\\label.py:252: DataConversionWarning: A column-vector y was passed when a 1d array was expected. Please change the shape of y to (n_samples, ), for example using ravel().\n",
      "  y = column_or_1d(y, warn=True)\n"
     ]
    }
   ],
   "source": [
    "model = xgb.XGBClassifier(objective='multi:softprob',max_depth=9,n_estimators=100,learning_rate=0.35)\n",
    "model.fit(X,y)"
   ]
  },
  {
   "cell_type": "code",
   "execution_count": 50,
   "metadata": {},
   "outputs": [],
   "source": [
    "y_pred=model.predict_proba(df_test)"
   ]
  },
  {
   "cell_type": "code",
   "execution_count": 49,
   "metadata": {},
   "outputs": [
    {
     "data": {
      "text/plain": [
       "array(['ARSON', 'ASSAULT', 'BAD CHECKS', 'BRIBERY', 'BURGLARY',\n",
       "       'DISORDERLY CONDUCT', 'DRIVING UNDER THE INFLUENCE',\n",
       "       'DRUG/NARCOTIC', 'DRUNKENNESS', 'EMBEZZLEMENT', 'EXTORTION',\n",
       "       'FAMILY OFFENSES', 'FORGERY/COUNTERFEITING', 'FRAUD', 'GAMBLING',\n",
       "       'KIDNAPPING', 'LARCENY/THEFT', 'LIQUOR LAWS', 'LOITERING',\n",
       "       'MISSING PERSON', 'NON-CRIMINAL', 'OTHER OFFENSES', 'PROSTITUTION',\n",
       "       'RECOVERED VEHICLE', 'ROBBERY', 'RUNAWAY', 'SECONDARY CODES',\n",
       "       'SEX OFFENSES FORCIBLE', 'STOLEN PROPERTY', 'SUICIDE',\n",
       "       'SUSPICIOUS OCC', 'TRESPASS', 'VANDALISM', 'VEHICLE THEFT',\n",
       "       'WARRANTS', 'WEAPON LAWS'], dtype=object)"
      ]
     },
     "execution_count": 49,
     "metadata": {},
     "output_type": "execute_result"
    }
   ],
   "source": [
    "temp = data['Category']\n",
    "\n",
    "le.fit_transform(temp)\n",
    "le.classes_\n"
   ]
  },
  {
   "cell_type": "code",
   "execution_count": 60,
   "metadata": {},
   "outputs": [],
   "source": [
    " y_pred= pd.DataFrame(y_pred, index=Id_test,columns  = le.classes_)\n",
    "y_pred.to_csv(\"submit.csv\", float_format = '%.5F')\n"
   ]
  }
 ],
 "metadata": {
  "kernelspec": {
   "display_name": "Python 3",
   "language": "python",
   "name": "python3"
  },
  "language_info": {
   "codemirror_mode": {
    "name": "ipython",
    "version": 3
   },
   "file_extension": ".py",
   "mimetype": "text/x-python",
   "name": "python",
   "nbconvert_exporter": "python",
   "pygments_lexer": "ipython3",
   "version": "3.6.6"
  }
 },
 "nbformat": 4,
 "nbformat_minor": 2
}
